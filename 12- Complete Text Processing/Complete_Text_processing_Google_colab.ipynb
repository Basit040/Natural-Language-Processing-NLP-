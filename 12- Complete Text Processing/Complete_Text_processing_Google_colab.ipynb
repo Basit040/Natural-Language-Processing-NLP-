{
  "cells": [
    {
      "cell_type": "code",
      "execution_count": 5,
      "id": "2cfbda21",
      "metadata": {
        "id": "2cfbda21"
      },
      "outputs": [],
      "source": [
        "import pandas as pd"
      ]
    },
    {
      "cell_type": "code",
      "execution_count": 6,
      "id": "60bd1880",
      "metadata": {
        "id": "60bd1880"
      },
      "outputs": [],
      "source": [
        "import spacy\n",
        "from spacy.lang.en.stop_words import STOP_WORDS"
      ]
    },
    {
      "cell_type": "code",
      "source": [
        "from google.colab import files\n",
        "files.upload()"
      ],
      "metadata": {
        "colab": {
          "resources": {
            "http://localhost:8080/nbextensions/google.colab/files.js": {
              "data": "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",
              "ok": true,
              "headers": [
                [
                  "content-type",
                  "application/javascript"
                ]
              ],
              "status": 200,
              "status_text": ""
            }
          },
          "base_uri": "https://localhost:8080/",
          "height": 73
        },
        "id": "lyOL9RPS_der",
        "outputId": "674c74c7-18fc-4fc5-8299-3a591c8a94b8"
      },
      "id": "lyOL9RPS_der",
      "execution_count": 12,
      "outputs": [
        {
          "output_type": "display_data",
          "data": {
            "text/plain": [
              "<IPython.core.display.HTML object>"
            ],
            "text/html": [
              "\n",
              "     <input type=\"file\" id=\"files-fcbe5bb9-ec11-48fa-9e23-4e90567eba6b\" name=\"files[]\" multiple disabled\n",
              "        style=\"border:none\" />\n",
              "     <output id=\"result-fcbe5bb9-ec11-48fa-9e23-4e90567eba6b\">\n",
              "      Upload widget is only available when the cell has been executed in the\n",
              "      current browser session. Please rerun this cell to enable.\n",
              "      </output>\n",
              "      <script src=\"/nbextensions/google.colab/files.js\"></script> "
            ]
          },
          "metadata": {}
        },
        {
          "output_type": "stream",
          "name": "stdout",
          "text": [
            "Saving twitter16m.csv to twitter16m.csv\n"
          ]
        }
      ]
    },
    {
      "cell_type": "code",
      "execution_count": 13,
      "id": "3b0e0703",
      "metadata": {
        "id": "3b0e0703"
      },
      "outputs": [],
      "source": [
        "\n",
        "df= pd.read_csv(\"twitter16m.csv\", encoding='latin1', header=None)"
      ]
    },
    {
      "cell_type": "code",
      "execution_count": 14,
      "id": "91f77735",
      "metadata": {
        "id": "91f77735",
        "outputId": "e76ffb38-5bb9-4e6b-d0ad-0493636759f5",
        "colab": {
          "base_uri": "https://localhost:8080/",
          "height": 206
        }
      },
      "outputs": [
        {
          "output_type": "execute_result",
          "data": {
            "text/plain": [
              "   0           1                             2         3                4  \\\n",
              "0  0  1467810369  Mon Apr 06 22:19:45 PDT 2009  NO_QUERY  _TheSpecialOne_   \n",
              "1  0  1467810672  Mon Apr 06 22:19:49 PDT 2009  NO_QUERY    scotthamilton   \n",
              "2  0  1467810917  Mon Apr 06 22:19:53 PDT 2009  NO_QUERY         mattycus   \n",
              "3  0  1467811184  Mon Apr 06 22:19:57 PDT 2009  NO_QUERY          ElleCTF   \n",
              "4  0  1467811193  Mon Apr 06 22:19:57 PDT 2009  NO_QUERY           Karoli   \n",
              "\n",
              "                                                   5  \n",
              "0  @switchfoot http://twitpic.com/2y1zl - Awww, t...  \n",
              "1  is upset that he can't update his Facebook by ...  \n",
              "2  @Kenichan I dived many times for the ball. Man...  \n",
              "3    my whole body feels itchy and like its on fire   \n",
              "4  @nationwideclass no, it's not behaving at all....  "
            ],
            "text/html": [
              "\n",
              "  <div id=\"df-67fd93d1-98ef-4891-96e5-db966a287cf1\">\n",
              "    <div class=\"colab-df-container\">\n",
              "      <div>\n",
              "<style scoped>\n",
              "    .dataframe tbody tr th:only-of-type {\n",
              "        vertical-align: middle;\n",
              "    }\n",
              "\n",
              "    .dataframe tbody tr th {\n",
              "        vertical-align: top;\n",
              "    }\n",
              "\n",
              "    .dataframe thead th {\n",
              "        text-align: right;\n",
              "    }\n",
              "</style>\n",
              "<table border=\"1\" class=\"dataframe\">\n",
              "  <thead>\n",
              "    <tr style=\"text-align: right;\">\n",
              "      <th></th>\n",
              "      <th>0</th>\n",
              "      <th>1</th>\n",
              "      <th>2</th>\n",
              "      <th>3</th>\n",
              "      <th>4</th>\n",
              "      <th>5</th>\n",
              "    </tr>\n",
              "  </thead>\n",
              "  <tbody>\n",
              "    <tr>\n",
              "      <th>0</th>\n",
              "      <td>0</td>\n",
              "      <td>1467810369</td>\n",
              "      <td>Mon Apr 06 22:19:45 PDT 2009</td>\n",
              "      <td>NO_QUERY</td>\n",
              "      <td>_TheSpecialOne_</td>\n",
              "      <td>@switchfoot http://twitpic.com/2y1zl - Awww, t...</td>\n",
              "    </tr>\n",
              "    <tr>\n",
              "      <th>1</th>\n",
              "      <td>0</td>\n",
              "      <td>1467810672</td>\n",
              "      <td>Mon Apr 06 22:19:49 PDT 2009</td>\n",
              "      <td>NO_QUERY</td>\n",
              "      <td>scotthamilton</td>\n",
              "      <td>is upset that he can't update his Facebook by ...</td>\n",
              "    </tr>\n",
              "    <tr>\n",
              "      <th>2</th>\n",
              "      <td>0</td>\n",
              "      <td>1467810917</td>\n",
              "      <td>Mon Apr 06 22:19:53 PDT 2009</td>\n",
              "      <td>NO_QUERY</td>\n",
              "      <td>mattycus</td>\n",
              "      <td>@Kenichan I dived many times for the ball. Man...</td>\n",
              "    </tr>\n",
              "    <tr>\n",
              "      <th>3</th>\n",
              "      <td>0</td>\n",
              "      <td>1467811184</td>\n",
              "      <td>Mon Apr 06 22:19:57 PDT 2009</td>\n",
              "      <td>NO_QUERY</td>\n",
              "      <td>ElleCTF</td>\n",
              "      <td>my whole body feels itchy and like its on fire</td>\n",
              "    </tr>\n",
              "    <tr>\n",
              "      <th>4</th>\n",
              "      <td>0</td>\n",
              "      <td>1467811193</td>\n",
              "      <td>Mon Apr 06 22:19:57 PDT 2009</td>\n",
              "      <td>NO_QUERY</td>\n",
              "      <td>Karoli</td>\n",
              "      <td>@nationwideclass no, it's not behaving at all....</td>\n",
              "    </tr>\n",
              "  </tbody>\n",
              "</table>\n",
              "</div>\n",
              "      <button class=\"colab-df-convert\" onclick=\"convertToInteractive('df-67fd93d1-98ef-4891-96e5-db966a287cf1')\"\n",
              "              title=\"Convert this dataframe to an interactive table.\"\n",
              "              style=\"display:none;\">\n",
              "        \n",
              "  <svg xmlns=\"http://www.w3.org/2000/svg\" height=\"24px\"viewBox=\"0 0 24 24\"\n",
              "       width=\"24px\">\n",
              "    <path d=\"M0 0h24v24H0V0z\" fill=\"none\"/>\n",
              "    <path d=\"M18.56 5.44l.94 2.06.94-2.06 2.06-.94-2.06-.94-.94-2.06-.94 2.06-2.06.94zm-11 1L8.5 8.5l.94-2.06 2.06-.94-2.06-.94L8.5 2.5l-.94 2.06-2.06.94zm10 10l.94 2.06.94-2.06 2.06-.94-2.06-.94-.94-2.06-.94 2.06-2.06.94z\"/><path d=\"M17.41 7.96l-1.37-1.37c-.4-.4-.92-.59-1.43-.59-.52 0-1.04.2-1.43.59L10.3 9.45l-7.72 7.72c-.78.78-.78 2.05 0 2.83L4 21.41c.39.39.9.59 1.41.59.51 0 1.02-.2 1.41-.59l7.78-7.78 2.81-2.81c.8-.78.8-2.07 0-2.86zM5.41 20L4 18.59l7.72-7.72 1.47 1.35L5.41 20z\"/>\n",
              "  </svg>\n",
              "      </button>\n",
              "      \n",
              "  <style>\n",
              "    .colab-df-container {\n",
              "      display:flex;\n",
              "      flex-wrap:wrap;\n",
              "      gap: 12px;\n",
              "    }\n",
              "\n",
              "    .colab-df-convert {\n",
              "      background-color: #E8F0FE;\n",
              "      border: none;\n",
              "      border-radius: 50%;\n",
              "      cursor: pointer;\n",
              "      display: none;\n",
              "      fill: #1967D2;\n",
              "      height: 32px;\n",
              "      padding: 0 0 0 0;\n",
              "      width: 32px;\n",
              "    }\n",
              "\n",
              "    .colab-df-convert:hover {\n",
              "      background-color: #E2EBFA;\n",
              "      box-shadow: 0px 1px 2px rgba(60, 64, 67, 0.3), 0px 1px 3px 1px rgba(60, 64, 67, 0.15);\n",
              "      fill: #174EA6;\n",
              "    }\n",
              "\n",
              "    [theme=dark] .colab-df-convert {\n",
              "      background-color: #3B4455;\n",
              "      fill: #D2E3FC;\n",
              "    }\n",
              "\n",
              "    [theme=dark] .colab-df-convert:hover {\n",
              "      background-color: #434B5C;\n",
              "      box-shadow: 0px 1px 3px 1px rgba(0, 0, 0, 0.15);\n",
              "      filter: drop-shadow(0px 1px 2px rgba(0, 0, 0, 0.3));\n",
              "      fill: #FFFFFF;\n",
              "    }\n",
              "  </style>\n",
              "\n",
              "      <script>\n",
              "        const buttonEl =\n",
              "          document.querySelector('#df-67fd93d1-98ef-4891-96e5-db966a287cf1 button.colab-df-convert');\n",
              "        buttonEl.style.display =\n",
              "          google.colab.kernel.accessAllowed ? 'block' : 'none';\n",
              "\n",
              "        async function convertToInteractive(key) {\n",
              "          const element = document.querySelector('#df-67fd93d1-98ef-4891-96e5-db966a287cf1');\n",
              "          const dataTable =\n",
              "            await google.colab.kernel.invokeFunction('convertToInteractive',\n",
              "                                                     [key], {});\n",
              "          if (!dataTable) return;\n",
              "\n",
              "          const docLinkHtml = 'Like what you see? Visit the ' +\n",
              "            '<a target=\"_blank\" href=https://colab.research.google.com/notebooks/data_table.ipynb>data table notebook</a>'\n",
              "            + ' to learn more about interactive tables.';\n",
              "          element.innerHTML = '';\n",
              "          dataTable['output_type'] = 'display_data';\n",
              "          await google.colab.output.renderOutput(dataTable, element);\n",
              "          const docLink = document.createElement('div');\n",
              "          docLink.innerHTML = docLinkHtml;\n",
              "          element.appendChild(docLink);\n",
              "        }\n",
              "      </script>\n",
              "    </div>\n",
              "  </div>\n",
              "  "
            ]
          },
          "metadata": {},
          "execution_count": 14
        }
      ],
      "source": [
        "df.head(5)"
      ]
    },
    {
      "cell_type": "code",
      "execution_count": 15,
      "id": "cbdd293e",
      "metadata": {
        "id": "cbdd293e"
      },
      "outputs": [],
      "source": [
        "# We concern only sentiment and tweets columns thai is column 0 & 5\n",
        "df= df[[5,0]]"
      ]
    },
    {
      "cell_type": "code",
      "execution_count": 16,
      "id": "51053169",
      "metadata": {
        "id": "51053169",
        "outputId": "e10eb200-24da-4bb1-8f2c-5f76d31826ed",
        "colab": {
          "base_uri": "https://localhost:8080/",
          "height": 143
        }
      },
      "outputs": [
        {
          "output_type": "execute_result",
          "data": {
            "text/plain": [
              "                                              tweets  sentiment\n",
              "0  @switchfoot http://twitpic.com/2y1zl - Awww, t...          0\n",
              "1  is upset that he can't update his Facebook by ...          0\n",
              "2  @Kenichan I dived many times for the ball. Man...          0"
            ],
            "text/html": [
              "\n",
              "  <div id=\"df-3cb0cc8a-216c-42cb-86cd-0448d1fd0262\">\n",
              "    <div class=\"colab-df-container\">\n",
              "      <div>\n",
              "<style scoped>\n",
              "    .dataframe tbody tr th:only-of-type {\n",
              "        vertical-align: middle;\n",
              "    }\n",
              "\n",
              "    .dataframe tbody tr th {\n",
              "        vertical-align: top;\n",
              "    }\n",
              "\n",
              "    .dataframe thead th {\n",
              "        text-align: right;\n",
              "    }\n",
              "</style>\n",
              "<table border=\"1\" class=\"dataframe\">\n",
              "  <thead>\n",
              "    <tr style=\"text-align: right;\">\n",
              "      <th></th>\n",
              "      <th>tweets</th>\n",
              "      <th>sentiment</th>\n",
              "    </tr>\n",
              "  </thead>\n",
              "  <tbody>\n",
              "    <tr>\n",
              "      <th>0</th>\n",
              "      <td>@switchfoot http://twitpic.com/2y1zl - Awww, t...</td>\n",
              "      <td>0</td>\n",
              "    </tr>\n",
              "    <tr>\n",
              "      <th>1</th>\n",
              "      <td>is upset that he can't update his Facebook by ...</td>\n",
              "      <td>0</td>\n",
              "    </tr>\n",
              "    <tr>\n",
              "      <th>2</th>\n",
              "      <td>@Kenichan I dived many times for the ball. Man...</td>\n",
              "      <td>0</td>\n",
              "    </tr>\n",
              "  </tbody>\n",
              "</table>\n",
              "</div>\n",
              "      <button class=\"colab-df-convert\" onclick=\"convertToInteractive('df-3cb0cc8a-216c-42cb-86cd-0448d1fd0262')\"\n",
              "              title=\"Convert this dataframe to an interactive table.\"\n",
              "              style=\"display:none;\">\n",
              "        \n",
              "  <svg xmlns=\"http://www.w3.org/2000/svg\" height=\"24px\"viewBox=\"0 0 24 24\"\n",
              "       width=\"24px\">\n",
              "    <path d=\"M0 0h24v24H0V0z\" fill=\"none\"/>\n",
              "    <path d=\"M18.56 5.44l.94 2.06.94-2.06 2.06-.94-2.06-.94-.94-2.06-.94 2.06-2.06.94zm-11 1L8.5 8.5l.94-2.06 2.06-.94-2.06-.94L8.5 2.5l-.94 2.06-2.06.94zm10 10l.94 2.06.94-2.06 2.06-.94-2.06-.94-.94-2.06-.94 2.06-2.06.94z\"/><path d=\"M17.41 7.96l-1.37-1.37c-.4-.4-.92-.59-1.43-.59-.52 0-1.04.2-1.43.59L10.3 9.45l-7.72 7.72c-.78.78-.78 2.05 0 2.83L4 21.41c.39.39.9.59 1.41.59.51 0 1.02-.2 1.41-.59l7.78-7.78 2.81-2.81c.8-.78.8-2.07 0-2.86zM5.41 20L4 18.59l7.72-7.72 1.47 1.35L5.41 20z\"/>\n",
              "  </svg>\n",
              "      </button>\n",
              "      \n",
              "  <style>\n",
              "    .colab-df-container {\n",
              "      display:flex;\n",
              "      flex-wrap:wrap;\n",
              "      gap: 12px;\n",
              "    }\n",
              "\n",
              "    .colab-df-convert {\n",
              "      background-color: #E8F0FE;\n",
              "      border: none;\n",
              "      border-radius: 50%;\n",
              "      cursor: pointer;\n",
              "      display: none;\n",
              "      fill: #1967D2;\n",
              "      height: 32px;\n",
              "      padding: 0 0 0 0;\n",
              "      width: 32px;\n",
              "    }\n",
              "\n",
              "    .colab-df-convert:hover {\n",
              "      background-color: #E2EBFA;\n",
              "      box-shadow: 0px 1px 2px rgba(60, 64, 67, 0.3), 0px 1px 3px 1px rgba(60, 64, 67, 0.15);\n",
              "      fill: #174EA6;\n",
              "    }\n",
              "\n",
              "    [theme=dark] .colab-df-convert {\n",
              "      background-color: #3B4455;\n",
              "      fill: #D2E3FC;\n",
              "    }\n",
              "\n",
              "    [theme=dark] .colab-df-convert:hover {\n",
              "      background-color: #434B5C;\n",
              "      box-shadow: 0px 1px 3px 1px rgba(0, 0, 0, 0.15);\n",
              "      filter: drop-shadow(0px 1px 2px rgba(0, 0, 0, 0.3));\n",
              "      fill: #FFFFFF;\n",
              "    }\n",
              "  </style>\n",
              "\n",
              "      <script>\n",
              "        const buttonEl =\n",
              "          document.querySelector('#df-3cb0cc8a-216c-42cb-86cd-0448d1fd0262 button.colab-df-convert');\n",
              "        buttonEl.style.display =\n",
              "          google.colab.kernel.accessAllowed ? 'block' : 'none';\n",
              "\n",
              "        async function convertToInteractive(key) {\n",
              "          const element = document.querySelector('#df-3cb0cc8a-216c-42cb-86cd-0448d1fd0262');\n",
              "          const dataTable =\n",
              "            await google.colab.kernel.invokeFunction('convertToInteractive',\n",
              "                                                     [key], {});\n",
              "          if (!dataTable) return;\n",
              "\n",
              "          const docLinkHtml = 'Like what you see? Visit the ' +\n",
              "            '<a target=\"_blank\" href=https://colab.research.google.com/notebooks/data_table.ipynb>data table notebook</a>'\n",
              "            + ' to learn more about interactive tables.';\n",
              "          element.innerHTML = '';\n",
              "          dataTable['output_type'] = 'display_data';\n",
              "          await google.colab.output.renderOutput(dataTable, element);\n",
              "          const docLink = document.createElement('div');\n",
              "          docLink.innerHTML = docLinkHtml;\n",
              "          element.appendChild(docLink);\n",
              "        }\n",
              "      </script>\n",
              "    </div>\n",
              "  </div>\n",
              "  "
            ]
          },
          "metadata": {},
          "execution_count": 16
        }
      ],
      "source": [
        "df.columns= ['tweets','sentiment']\n",
        "df.head(3)"
      ]
    },
    {
      "cell_type": "code",
      "execution_count": 17,
      "id": "f2812d46",
      "metadata": {
        "id": "f2812d46",
        "outputId": "56a23dbb-8ab5-4bb8-d04d-34f8735171cd",
        "colab": {
          "base_uri": "https://localhost:8080/"
        }
      },
      "outputs": [
        {
          "output_type": "execute_result",
          "data": {
            "text/plain": [
              "0    800000\n",
              "4    800000\n",
              "Name: sentiment, dtype: int64"
            ]
          },
          "metadata": {},
          "execution_count": 17
        }
      ],
      "source": [
        "df['sentiment'].value_counts()"
      ]
    },
    {
      "cell_type": "code",
      "execution_count": 18,
      "id": "2e340b14",
      "metadata": {
        "id": "2e340b14"
      },
      "outputs": [],
      "source": [
        "sent_map= {0: 'negative', 4:'positive'}"
      ]
    },
    {
      "cell_type": "markdown",
      "id": "6bdc3e64",
      "metadata": {
        "id": "6bdc3e64"
      },
      "source": [
        "## Word Counts"
      ]
    },
    {
      "cell_type": "code",
      "execution_count": 19,
      "id": "50ed0345",
      "metadata": {
        "id": "50ed0345"
      },
      "outputs": [],
      "source": [
        "# Creating a column for word counts\n",
        "df['word_counts']= df['tweets'].apply(lambda x: len(str(x).split()))"
      ]
    },
    {
      "cell_type": "code",
      "execution_count": 20,
      "id": "b1dd04c9",
      "metadata": {
        "id": "b1dd04c9",
        "outputId": "24244e94-172f-40c5-e89f-537402d621c3",
        "colab": {
          "base_uri": "https://localhost:8080/",
          "height": 206
        }
      },
      "outputs": [
        {
          "output_type": "execute_result",
          "data": {
            "text/plain": [
              "                                              tweets  sentiment  word_counts\n",
              "0  @switchfoot http://twitpic.com/2y1zl - Awww, t...          0           19\n",
              "1  is upset that he can't update his Facebook by ...          0           21\n",
              "2  @Kenichan I dived many times for the ball. Man...          0           18\n",
              "3    my whole body feels itchy and like its on fire           0           10\n",
              "4  @nationwideclass no, it's not behaving at all....          0           21"
            ],
            "text/html": [
              "\n",
              "  <div id=\"df-3c252d2c-08a7-44a6-a52f-3a26f0d4f997\">\n",
              "    <div class=\"colab-df-container\">\n",
              "      <div>\n",
              "<style scoped>\n",
              "    .dataframe tbody tr th:only-of-type {\n",
              "        vertical-align: middle;\n",
              "    }\n",
              "\n",
              "    .dataframe tbody tr th {\n",
              "        vertical-align: top;\n",
              "    }\n",
              "\n",
              "    .dataframe thead th {\n",
              "        text-align: right;\n",
              "    }\n",
              "</style>\n",
              "<table border=\"1\" class=\"dataframe\">\n",
              "  <thead>\n",
              "    <tr style=\"text-align: right;\">\n",
              "      <th></th>\n",
              "      <th>tweets</th>\n",
              "      <th>sentiment</th>\n",
              "      <th>word_counts</th>\n",
              "    </tr>\n",
              "  </thead>\n",
              "  <tbody>\n",
              "    <tr>\n",
              "      <th>0</th>\n",
              "      <td>@switchfoot http://twitpic.com/2y1zl - Awww, t...</td>\n",
              "      <td>0</td>\n",
              "      <td>19</td>\n",
              "    </tr>\n",
              "    <tr>\n",
              "      <th>1</th>\n",
              "      <td>is upset that he can't update his Facebook by ...</td>\n",
              "      <td>0</td>\n",
              "      <td>21</td>\n",
              "    </tr>\n",
              "    <tr>\n",
              "      <th>2</th>\n",
              "      <td>@Kenichan I dived many times for the ball. Man...</td>\n",
              "      <td>0</td>\n",
              "      <td>18</td>\n",
              "    </tr>\n",
              "    <tr>\n",
              "      <th>3</th>\n",
              "      <td>my whole body feels itchy and like its on fire</td>\n",
              "      <td>0</td>\n",
              "      <td>10</td>\n",
              "    </tr>\n",
              "    <tr>\n",
              "      <th>4</th>\n",
              "      <td>@nationwideclass no, it's not behaving at all....</td>\n",
              "      <td>0</td>\n",
              "      <td>21</td>\n",
              "    </tr>\n",
              "  </tbody>\n",
              "</table>\n",
              "</div>\n",
              "      <button class=\"colab-df-convert\" onclick=\"convertToInteractive('df-3c252d2c-08a7-44a6-a52f-3a26f0d4f997')\"\n",
              "              title=\"Convert this dataframe to an interactive table.\"\n",
              "              style=\"display:none;\">\n",
              "        \n",
              "  <svg xmlns=\"http://www.w3.org/2000/svg\" height=\"24px\"viewBox=\"0 0 24 24\"\n",
              "       width=\"24px\">\n",
              "    <path d=\"M0 0h24v24H0V0z\" fill=\"none\"/>\n",
              "    <path d=\"M18.56 5.44l.94 2.06.94-2.06 2.06-.94-2.06-.94-.94-2.06-.94 2.06-2.06.94zm-11 1L8.5 8.5l.94-2.06 2.06-.94-2.06-.94L8.5 2.5l-.94 2.06-2.06.94zm10 10l.94 2.06.94-2.06 2.06-.94-2.06-.94-.94-2.06-.94 2.06-2.06.94z\"/><path d=\"M17.41 7.96l-1.37-1.37c-.4-.4-.92-.59-1.43-.59-.52 0-1.04.2-1.43.59L10.3 9.45l-7.72 7.72c-.78.78-.78 2.05 0 2.83L4 21.41c.39.39.9.59 1.41.59.51 0 1.02-.2 1.41-.59l7.78-7.78 2.81-2.81c.8-.78.8-2.07 0-2.86zM5.41 20L4 18.59l7.72-7.72 1.47 1.35L5.41 20z\"/>\n",
              "  </svg>\n",
              "      </button>\n",
              "      \n",
              "  <style>\n",
              "    .colab-df-container {\n",
              "      display:flex;\n",
              "      flex-wrap:wrap;\n",
              "      gap: 12px;\n",
              "    }\n",
              "\n",
              "    .colab-df-convert {\n",
              "      background-color: #E8F0FE;\n",
              "      border: none;\n",
              "      border-radius: 50%;\n",
              "      cursor: pointer;\n",
              "      display: none;\n",
              "      fill: #1967D2;\n",
              "      height: 32px;\n",
              "      padding: 0 0 0 0;\n",
              "      width: 32px;\n",
              "    }\n",
              "\n",
              "    .colab-df-convert:hover {\n",
              "      background-color: #E2EBFA;\n",
              "      box-shadow: 0px 1px 2px rgba(60, 64, 67, 0.3), 0px 1px 3px 1px rgba(60, 64, 67, 0.15);\n",
              "      fill: #174EA6;\n",
              "    }\n",
              "\n",
              "    [theme=dark] .colab-df-convert {\n",
              "      background-color: #3B4455;\n",
              "      fill: #D2E3FC;\n",
              "    }\n",
              "\n",
              "    [theme=dark] .colab-df-convert:hover {\n",
              "      background-color: #434B5C;\n",
              "      box-shadow: 0px 1px 3px 1px rgba(0, 0, 0, 0.15);\n",
              "      filter: drop-shadow(0px 1px 2px rgba(0, 0, 0, 0.3));\n",
              "      fill: #FFFFFF;\n",
              "    }\n",
              "  </style>\n",
              "\n",
              "      <script>\n",
              "        const buttonEl =\n",
              "          document.querySelector('#df-3c252d2c-08a7-44a6-a52f-3a26f0d4f997 button.colab-df-convert');\n",
              "        buttonEl.style.display =\n",
              "          google.colab.kernel.accessAllowed ? 'block' : 'none';\n",
              "\n",
              "        async function convertToInteractive(key) {\n",
              "          const element = document.querySelector('#df-3c252d2c-08a7-44a6-a52f-3a26f0d4f997');\n",
              "          const dataTable =\n",
              "            await google.colab.kernel.invokeFunction('convertToInteractive',\n",
              "                                                     [key], {});\n",
              "          if (!dataTable) return;\n",
              "\n",
              "          const docLinkHtml = 'Like what you see? Visit the ' +\n",
              "            '<a target=\"_blank\" href=https://colab.research.google.com/notebooks/data_table.ipynb>data table notebook</a>'\n",
              "            + ' to learn more about interactive tables.';\n",
              "          element.innerHTML = '';\n",
              "          dataTable['output_type'] = 'display_data';\n",
              "          await google.colab.output.renderOutput(dataTable, element);\n",
              "          const docLink = document.createElement('div');\n",
              "          docLink.innerHTML = docLinkHtml;\n",
              "          element.appendChild(docLink);\n",
              "        }\n",
              "      </script>\n",
              "    </div>\n",
              "  </div>\n",
              "  "
            ]
          },
          "metadata": {},
          "execution_count": 20
        }
      ],
      "source": [
        "df.head(5)"
      ]
    },
    {
      "cell_type": "markdown",
      "id": "84b44c92",
      "metadata": {
        "id": "84b44c92"
      },
      "source": [
        "## Character Counts"
      ]
    },
    {
      "cell_type": "code",
      "execution_count": 21,
      "id": "28051716",
      "metadata": {
        "id": "28051716"
      },
      "outputs": [],
      "source": [
        "# Creating a column for character counts\n",
        "df['char_counts']= df['tweets'].apply(lambda x: len(x))"
      ]
    },
    {
      "cell_type": "code",
      "execution_count": 22,
      "id": "5a9a16d1",
      "metadata": {
        "id": "5a9a16d1",
        "outputId": "bc283ae2-6d2d-4767-c45d-82d77151f62c",
        "colab": {
          "base_uri": "https://localhost:8080/",
          "height": 112
        }
      },
      "outputs": [
        {
          "output_type": "execute_result",
          "data": {
            "text/plain": [
              "                                              tweets  sentiment  word_counts  \\\n",
              "0  @switchfoot http://twitpic.com/2y1zl - Awww, t...          0           19   \n",
              "1  is upset that he can't update his Facebook by ...          0           21   \n",
              "\n",
              "   char_counts  \n",
              "0          115  \n",
              "1          111  "
            ],
            "text/html": [
              "\n",
              "  <div id=\"df-65b14b07-df38-4e56-91c2-8232f56094fb\">\n",
              "    <div class=\"colab-df-container\">\n",
              "      <div>\n",
              "<style scoped>\n",
              "    .dataframe tbody tr th:only-of-type {\n",
              "        vertical-align: middle;\n",
              "    }\n",
              "\n",
              "    .dataframe tbody tr th {\n",
              "        vertical-align: top;\n",
              "    }\n",
              "\n",
              "    .dataframe thead th {\n",
              "        text-align: right;\n",
              "    }\n",
              "</style>\n",
              "<table border=\"1\" class=\"dataframe\">\n",
              "  <thead>\n",
              "    <tr style=\"text-align: right;\">\n",
              "      <th></th>\n",
              "      <th>tweets</th>\n",
              "      <th>sentiment</th>\n",
              "      <th>word_counts</th>\n",
              "      <th>char_counts</th>\n",
              "    </tr>\n",
              "  </thead>\n",
              "  <tbody>\n",
              "    <tr>\n",
              "      <th>0</th>\n",
              "      <td>@switchfoot http://twitpic.com/2y1zl - Awww, t...</td>\n",
              "      <td>0</td>\n",
              "      <td>19</td>\n",
              "      <td>115</td>\n",
              "    </tr>\n",
              "    <tr>\n",
              "      <th>1</th>\n",
              "      <td>is upset that he can't update his Facebook by ...</td>\n",
              "      <td>0</td>\n",
              "      <td>21</td>\n",
              "      <td>111</td>\n",
              "    </tr>\n",
              "  </tbody>\n",
              "</table>\n",
              "</div>\n",
              "      <button class=\"colab-df-convert\" onclick=\"convertToInteractive('df-65b14b07-df38-4e56-91c2-8232f56094fb')\"\n",
              "              title=\"Convert this dataframe to an interactive table.\"\n",
              "              style=\"display:none;\">\n",
              "        \n",
              "  <svg xmlns=\"http://www.w3.org/2000/svg\" height=\"24px\"viewBox=\"0 0 24 24\"\n",
              "       width=\"24px\">\n",
              "    <path d=\"M0 0h24v24H0V0z\" fill=\"none\"/>\n",
              "    <path d=\"M18.56 5.44l.94 2.06.94-2.06 2.06-.94-2.06-.94-.94-2.06-.94 2.06-2.06.94zm-11 1L8.5 8.5l.94-2.06 2.06-.94-2.06-.94L8.5 2.5l-.94 2.06-2.06.94zm10 10l.94 2.06.94-2.06 2.06-.94-2.06-.94-.94-2.06-.94 2.06-2.06.94z\"/><path d=\"M17.41 7.96l-1.37-1.37c-.4-.4-.92-.59-1.43-.59-.52 0-1.04.2-1.43.59L10.3 9.45l-7.72 7.72c-.78.78-.78 2.05 0 2.83L4 21.41c.39.39.9.59 1.41.59.51 0 1.02-.2 1.41-.59l7.78-7.78 2.81-2.81c.8-.78.8-2.07 0-2.86zM5.41 20L4 18.59l7.72-7.72 1.47 1.35L5.41 20z\"/>\n",
              "  </svg>\n",
              "      </button>\n",
              "      \n",
              "  <style>\n",
              "    .colab-df-container {\n",
              "      display:flex;\n",
              "      flex-wrap:wrap;\n",
              "      gap: 12px;\n",
              "    }\n",
              "\n",
              "    .colab-df-convert {\n",
              "      background-color: #E8F0FE;\n",
              "      border: none;\n",
              "      border-radius: 50%;\n",
              "      cursor: pointer;\n",
              "      display: none;\n",
              "      fill: #1967D2;\n",
              "      height: 32px;\n",
              "      padding: 0 0 0 0;\n",
              "      width: 32px;\n",
              "    }\n",
              "\n",
              "    .colab-df-convert:hover {\n",
              "      background-color: #E2EBFA;\n",
              "      box-shadow: 0px 1px 2px rgba(60, 64, 67, 0.3), 0px 1px 3px 1px rgba(60, 64, 67, 0.15);\n",
              "      fill: #174EA6;\n",
              "    }\n",
              "\n",
              "    [theme=dark] .colab-df-convert {\n",
              "      background-color: #3B4455;\n",
              "      fill: #D2E3FC;\n",
              "    }\n",
              "\n",
              "    [theme=dark] .colab-df-convert:hover {\n",
              "      background-color: #434B5C;\n",
              "      box-shadow: 0px 1px 3px 1px rgba(0, 0, 0, 0.15);\n",
              "      filter: drop-shadow(0px 1px 2px rgba(0, 0, 0, 0.3));\n",
              "      fill: #FFFFFF;\n",
              "    }\n",
              "  </style>\n",
              "\n",
              "      <script>\n",
              "        const buttonEl =\n",
              "          document.querySelector('#df-65b14b07-df38-4e56-91c2-8232f56094fb button.colab-df-convert');\n",
              "        buttonEl.style.display =\n",
              "          google.colab.kernel.accessAllowed ? 'block' : 'none';\n",
              "\n",
              "        async function convertToInteractive(key) {\n",
              "          const element = document.querySelector('#df-65b14b07-df38-4e56-91c2-8232f56094fb');\n",
              "          const dataTable =\n",
              "            await google.colab.kernel.invokeFunction('convertToInteractive',\n",
              "                                                     [key], {});\n",
              "          if (!dataTable) return;\n",
              "\n",
              "          const docLinkHtml = 'Like what you see? Visit the ' +\n",
              "            '<a target=\"_blank\" href=https://colab.research.google.com/notebooks/data_table.ipynb>data table notebook</a>'\n",
              "            + ' to learn more about interactive tables.';\n",
              "          element.innerHTML = '';\n",
              "          dataTable['output_type'] = 'display_data';\n",
              "          await google.colab.output.renderOutput(dataTable, element);\n",
              "          const docLink = document.createElement('div');\n",
              "          docLink.innerHTML = docLinkHtml;\n",
              "          element.appendChild(docLink);\n",
              "        }\n",
              "      </script>\n",
              "    </div>\n",
              "  </div>\n",
              "  "
            ]
          },
          "metadata": {},
          "execution_count": 22
        }
      ],
      "source": [
        "df.head(2)"
      ]
    },
    {
      "cell_type": "markdown",
      "id": "6d4cfb05",
      "metadata": {
        "id": "6d4cfb05"
      },
      "source": [
        "## Average Word Length"
      ]
    },
    {
      "cell_type": "code",
      "execution_count": 23,
      "id": "d317616b",
      "metadata": {
        "id": "d317616b"
      },
      "outputs": [],
      "source": [
        "def get_avg_word_len(x):\n",
        "    words= x.split()\n",
        "    word_len=0\n",
        "    for word in words:\n",
        "        word_len=word_len + len(word)\n",
        "    return word_len/len(words)  # != len(x)/len(words)"
      ]
    },
    {
      "cell_type": "code",
      "execution_count": 24,
      "id": "147d1130",
      "metadata": {
        "id": "147d1130"
      },
      "outputs": [],
      "source": [
        "df['avg_word_len']= df['tweets'].apply(lambda x: get_avg_word_len(x))"
      ]
    },
    {
      "cell_type": "code",
      "execution_count": 25,
      "id": "4b88978a",
      "metadata": {
        "id": "4b88978a",
        "outputId": "2c6bbcb4-df1e-415e-b9c0-bdd1d0a426fe",
        "colab": {
          "base_uri": "https://localhost:8080/",
          "height": 112
        }
      },
      "outputs": [
        {
          "output_type": "execute_result",
          "data": {
            "text/plain": [
              "                                              tweets  sentiment  word_counts  \\\n",
              "0  @switchfoot http://twitpic.com/2y1zl - Awww, t...          0           19   \n",
              "1  is upset that he can't update his Facebook by ...          0           21   \n",
              "\n",
              "   char_counts  avg_word_len  \n",
              "0          115      5.052632  \n",
              "1          111      4.285714  "
            ],
            "text/html": [
              "\n",
              "  <div id=\"df-484b958b-964e-4b22-9a22-90364e08128c\">\n",
              "    <div class=\"colab-df-container\">\n",
              "      <div>\n",
              "<style scoped>\n",
              "    .dataframe tbody tr th:only-of-type {\n",
              "        vertical-align: middle;\n",
              "    }\n",
              "\n",
              "    .dataframe tbody tr th {\n",
              "        vertical-align: top;\n",
              "    }\n",
              "\n",
              "    .dataframe thead th {\n",
              "        text-align: right;\n",
              "    }\n",
              "</style>\n",
              "<table border=\"1\" class=\"dataframe\">\n",
              "  <thead>\n",
              "    <tr style=\"text-align: right;\">\n",
              "      <th></th>\n",
              "      <th>tweets</th>\n",
              "      <th>sentiment</th>\n",
              "      <th>word_counts</th>\n",
              "      <th>char_counts</th>\n",
              "      <th>avg_word_len</th>\n",
              "    </tr>\n",
              "  </thead>\n",
              "  <tbody>\n",
              "    <tr>\n",
              "      <th>0</th>\n",
              "      <td>@switchfoot http://twitpic.com/2y1zl - Awww, t...</td>\n",
              "      <td>0</td>\n",
              "      <td>19</td>\n",
              "      <td>115</td>\n",
              "      <td>5.052632</td>\n",
              "    </tr>\n",
              "    <tr>\n",
              "      <th>1</th>\n",
              "      <td>is upset that he can't update his Facebook by ...</td>\n",
              "      <td>0</td>\n",
              "      <td>21</td>\n",
              "      <td>111</td>\n",
              "      <td>4.285714</td>\n",
              "    </tr>\n",
              "  </tbody>\n",
              "</table>\n",
              "</div>\n",
              "      <button class=\"colab-df-convert\" onclick=\"convertToInteractive('df-484b958b-964e-4b22-9a22-90364e08128c')\"\n",
              "              title=\"Convert this dataframe to an interactive table.\"\n",
              "              style=\"display:none;\">\n",
              "        \n",
              "  <svg xmlns=\"http://www.w3.org/2000/svg\" height=\"24px\"viewBox=\"0 0 24 24\"\n",
              "       width=\"24px\">\n",
              "    <path d=\"M0 0h24v24H0V0z\" fill=\"none\"/>\n",
              "    <path d=\"M18.56 5.44l.94 2.06.94-2.06 2.06-.94-2.06-.94-.94-2.06-.94 2.06-2.06.94zm-11 1L8.5 8.5l.94-2.06 2.06-.94-2.06-.94L8.5 2.5l-.94 2.06-2.06.94zm10 10l.94 2.06.94-2.06 2.06-.94-2.06-.94-.94-2.06-.94 2.06-2.06.94z\"/><path d=\"M17.41 7.96l-1.37-1.37c-.4-.4-.92-.59-1.43-.59-.52 0-1.04.2-1.43.59L10.3 9.45l-7.72 7.72c-.78.78-.78 2.05 0 2.83L4 21.41c.39.39.9.59 1.41.59.51 0 1.02-.2 1.41-.59l7.78-7.78 2.81-2.81c.8-.78.8-2.07 0-2.86zM5.41 20L4 18.59l7.72-7.72 1.47 1.35L5.41 20z\"/>\n",
              "  </svg>\n",
              "      </button>\n",
              "      \n",
              "  <style>\n",
              "    .colab-df-container {\n",
              "      display:flex;\n",
              "      flex-wrap:wrap;\n",
              "      gap: 12px;\n",
              "    }\n",
              "\n",
              "    .colab-df-convert {\n",
              "      background-color: #E8F0FE;\n",
              "      border: none;\n",
              "      border-radius: 50%;\n",
              "      cursor: pointer;\n",
              "      display: none;\n",
              "      fill: #1967D2;\n",
              "      height: 32px;\n",
              "      padding: 0 0 0 0;\n",
              "      width: 32px;\n",
              "    }\n",
              "\n",
              "    .colab-df-convert:hover {\n",
              "      background-color: #E2EBFA;\n",
              "      box-shadow: 0px 1px 2px rgba(60, 64, 67, 0.3), 0px 1px 3px 1px rgba(60, 64, 67, 0.15);\n",
              "      fill: #174EA6;\n",
              "    }\n",
              "\n",
              "    [theme=dark] .colab-df-convert {\n",
              "      background-color: #3B4455;\n",
              "      fill: #D2E3FC;\n",
              "    }\n",
              "\n",
              "    [theme=dark] .colab-df-convert:hover {\n",
              "      background-color: #434B5C;\n",
              "      box-shadow: 0px 1px 3px 1px rgba(0, 0, 0, 0.15);\n",
              "      filter: drop-shadow(0px 1px 2px rgba(0, 0, 0, 0.3));\n",
              "      fill: #FFFFFF;\n",
              "    }\n",
              "  </style>\n",
              "\n",
              "      <script>\n",
              "        const buttonEl =\n",
              "          document.querySelector('#df-484b958b-964e-4b22-9a22-90364e08128c button.colab-df-convert');\n",
              "        buttonEl.style.display =\n",
              "          google.colab.kernel.accessAllowed ? 'block' : 'none';\n",
              "\n",
              "        async function convertToInteractive(key) {\n",
              "          const element = document.querySelector('#df-484b958b-964e-4b22-9a22-90364e08128c');\n",
              "          const dataTable =\n",
              "            await google.colab.kernel.invokeFunction('convertToInteractive',\n",
              "                                                     [key], {});\n",
              "          if (!dataTable) return;\n",
              "\n",
              "          const docLinkHtml = 'Like what you see? Visit the ' +\n",
              "            '<a target=\"_blank\" href=https://colab.research.google.com/notebooks/data_table.ipynb>data table notebook</a>'\n",
              "            + ' to learn more about interactive tables.';\n",
              "          element.innerHTML = '';\n",
              "          dataTable['output_type'] = 'display_data';\n",
              "          await google.colab.output.renderOutput(dataTable, element);\n",
              "          const docLink = document.createElement('div');\n",
              "          docLink.innerHTML = docLinkHtml;\n",
              "          element.appendChild(docLink);\n",
              "        }\n",
              "      </script>\n",
              "    </div>\n",
              "  </div>\n",
              "  "
            ]
          },
          "metadata": {},
          "execution_count": 25
        }
      ],
      "source": [
        "df.head(2)"
      ]
    },
    {
      "cell_type": "markdown",
      "id": "2de029d3",
      "metadata": {
        "id": "2de029d3"
      },
      "source": [
        "## STOP WORDS"
      ]
    },
    {
      "cell_type": "code",
      "execution_count": 26,
      "id": "6cfb37f7",
      "metadata": {
        "id": "6cfb37f7",
        "outputId": "57c285aa-34a6-4cb8-8ad7-73b8288e80f8",
        "colab": {
          "base_uri": "https://localhost:8080/"
        }
      },
      "outputs": [
        {
          "output_type": "stream",
          "name": "stdout",
          "text": [
            "{'then', 'n’t', 'whom', 'her', 'if', 'latterly', 'until', 'please', 'already', 'indeed', 'take', 'around', 'will', 'always', 'perhaps', 'least', 'whence', 'again', 'with', 'hence', 'forty', 'nowhere', 'himself', 'herein', 'above', 'towards', 'almost', 'wherever', 'him', 'yet', 'another', 'to', 'hereby', 'everywhere', 'between', 'yourselves', 'therefore', 'whereupon', 'most', 'these', 'keep', 'anyhow', 'or', 'made', 'quite', 'by', 'whenever', 'mine', 'call', 'become', 'noone', 'therein', 'would', 'full', 'has', 'except', 'together', 'nor', 'being', 'afterwards', 'through', 'everyone', 'which', 'every', 'i', '‘m', '‘ll', 'besides', 'a', 'thru', 'whither', 'nevertheless', 'eleven', 'could', 'fifty', 'twelve', 'within', 'cannot', 'nobody', 'an', 'from', \"'d\", 'over', \"'m\", 'less', 'on', 'but', 'four', 'many', 'only', 'my', 'give', 'just', 'now', 'even', 'along', 'anything', 'first', 'who', 'someone', 'front', 'are', 'must', 'been', 'some', 'of', 'there', 'no', 'none', 'because', 'before', 'after', 'seeming', 'third', 'does', 'somewhere', 'sometime', 'show', 'elsewhere', 'two', 'done', 'upon', 'may', 'go', 'never', 'very', 'should', 'one', 'when', 'doing', 'do', 'ourselves', 'latter', '‘s', 'several', 'beforehand', 'for', 'eight', '‘re', '’d', 'any', 'had', 'same', 'more', 'below', 'its', 'during', 'still', 'thereby', 'seem', 'amongst', 'really', 'hundred', 'moreover', \"'s\", 'ours', 'throughout', 'be', 'too', 'either', 'beyond', 'whole', 'somehow', 'hers', 'whereas', 'empty', '‘d', 'yourself', 'onto', 'out', 'about', 'than', \"'re\", 'say', 'behind', 'anywhere', 'mostly', 'per', 'those', 'herself', 'whatever', 'others', 'wherein', 'everything', 'once', 'you', '’ll', 'formerly', 'thence', 'n‘t', 'various', 'six', 'is', 'your', \"'ll\", 'ever', 'themselves', 'was', 'without', 'hereafter', 'enough', 'among', 'used', 'am', 're', 'under', 'up', 'rather', 'part', 'such', 'whose', 'it', 'us', '’re', \"n't\", \"'ve\", 'fifteen', 'thereafter', 'did', 'have', 'seemed', 'nothing', 'whereby', 'often', 'though', 'regarding', 'bottom', 'see', '’s', 'since', 'myself', 'he', 'itself', 'via', 'thus', 'this', 'at', 'so', 'each', 'back', 'might', 'unless', 'how', 'anyway', 'their', 'me', 'against', 'using', 'due', 'hereupon', 'few', 'next', 'while', 'five', 'neither', 'other', 'side', 'thereupon', 'meanwhile', 'were', 'they', 'twenty', 'last', 'ten', 'where', 'although', '‘ve', 'as', 'else', '’ve', '’m', 'we', 'that', 'whereafter', 'yours', 'seems', 'get', 'make', 'in', 'down', 'all', 'whoever', 'why', 'former', 'serious', 'namely', 'his', 'beside', 'the', 'anyone', 'amount', 'well', 'name', 'becomes', 'also', 'much', 'put', 'top', 'what', 'otherwise', 'across', 'becoming', 'can', 'further', 'alone', 'both', 'became', 'three', 'here', 'however', 'sixty', 'and', 'off', 'into', 'sometimes', 'toward', 'nine', 'not', 'move', 'she', 'our', 'them', 'ca', 'own', 'something', 'whether'}\n"
          ]
        }
      ],
      "source": [
        "print(STOP_WORDS)"
      ]
    },
    {
      "cell_type": "code",
      "execution_count": 27,
      "id": "64d8e1d0",
      "metadata": {
        "id": "64d8e1d0"
      },
      "outputs": [],
      "source": [
        "# Just for understanding the next code that how many stop words included in tweets\n",
        "x= \"this is text data\""
      ]
    },
    {
      "cell_type": "code",
      "execution_count": 28,
      "id": "8f400894",
      "metadata": {
        "id": "8f400894",
        "outputId": "bc3cef41-af34-4b9c-bdbe-b4dff486a7d1",
        "colab": {
          "base_uri": "https://localhost:8080/"
        }
      },
      "outputs": [
        {
          "output_type": "execute_result",
          "data": {
            "text/plain": [
              "['this', 'is', 'text', 'data']"
            ]
          },
          "metadata": {},
          "execution_count": 28
        }
      ],
      "source": [
        "x.split()"
      ]
    },
    {
      "cell_type": "code",
      "execution_count": 29,
      "id": "92805330",
      "metadata": {
        "id": "92805330",
        "outputId": "3c2b9851-ba22-461b-bc8f-719991c16a49",
        "colab": {
          "base_uri": "https://localhost:8080/"
        }
      },
      "outputs": [
        {
          "output_type": "execute_result",
          "data": {
            "text/plain": [
              "['this', 'is']"
            ]
          },
          "metadata": {},
          "execution_count": 29
        }
      ],
      "source": [
        "[t for t in x.split() if t in STOP_WORDS]"
      ]
    },
    {
      "cell_type": "code",
      "execution_count": 30,
      "id": "b43bb875",
      "metadata": {
        "id": "b43bb875",
        "outputId": "7f43b280-d0a2-47bf-9e28-cb649187d4a1",
        "colab": {
          "base_uri": "https://localhost:8080/"
        }
      },
      "outputs": [
        {
          "output_type": "execute_result",
          "data": {
            "text/plain": [
              "2"
            ]
          },
          "metadata": {},
          "execution_count": 30
        }
      ],
      "source": [
        "len([t for t in x.split() if t in STOP_WORDS])"
      ]
    },
    {
      "cell_type": "code",
      "execution_count": 31,
      "id": "6f4db142",
      "metadata": {
        "id": "6f4db142"
      },
      "outputs": [],
      "source": [
        "df['stop_words_len']=df['tweets'].apply(lambda x: len([t for t in x.split() if t in STOP_WORDS]))"
      ]
    },
    {
      "cell_type": "code",
      "execution_count": 32,
      "id": "8e1fbeb0",
      "metadata": {
        "id": "8e1fbeb0",
        "outputId": "a721641b-1593-4d73-9770-416c9f6e6c8b",
        "colab": {
          "base_uri": "https://localhost:8080/",
          "height": 112
        }
      },
      "outputs": [
        {
          "output_type": "execute_result",
          "data": {
            "text/plain": [
              "                                              tweets  sentiment  word_counts  \\\n",
              "0  @switchfoot http://twitpic.com/2y1zl - Awww, t...          0           19   \n",
              "1  is upset that he can't update his Facebook by ...          0           21   \n",
              "\n",
              "   char_counts  avg_word_len  stop_words_len  \n",
              "0          115      5.052632               4  \n",
              "1          111      4.285714               9  "
            ],
            "text/html": [
              "\n",
              "  <div id=\"df-34513b96-d019-44ba-8177-0e101142d030\">\n",
              "    <div class=\"colab-df-container\">\n",
              "      <div>\n",
              "<style scoped>\n",
              "    .dataframe tbody tr th:only-of-type {\n",
              "        vertical-align: middle;\n",
              "    }\n",
              "\n",
              "    .dataframe tbody tr th {\n",
              "        vertical-align: top;\n",
              "    }\n",
              "\n",
              "    .dataframe thead th {\n",
              "        text-align: right;\n",
              "    }\n",
              "</style>\n",
              "<table border=\"1\" class=\"dataframe\">\n",
              "  <thead>\n",
              "    <tr style=\"text-align: right;\">\n",
              "      <th></th>\n",
              "      <th>tweets</th>\n",
              "      <th>sentiment</th>\n",
              "      <th>word_counts</th>\n",
              "      <th>char_counts</th>\n",
              "      <th>avg_word_len</th>\n",
              "      <th>stop_words_len</th>\n",
              "    </tr>\n",
              "  </thead>\n",
              "  <tbody>\n",
              "    <tr>\n",
              "      <th>0</th>\n",
              "      <td>@switchfoot http://twitpic.com/2y1zl - Awww, t...</td>\n",
              "      <td>0</td>\n",
              "      <td>19</td>\n",
              "      <td>115</td>\n",
              "      <td>5.052632</td>\n",
              "      <td>4</td>\n",
              "    </tr>\n",
              "    <tr>\n",
              "      <th>1</th>\n",
              "      <td>is upset that he can't update his Facebook by ...</td>\n",
              "      <td>0</td>\n",
              "      <td>21</td>\n",
              "      <td>111</td>\n",
              "      <td>4.285714</td>\n",
              "      <td>9</td>\n",
              "    </tr>\n",
              "  </tbody>\n",
              "</table>\n",
              "</div>\n",
              "      <button class=\"colab-df-convert\" onclick=\"convertToInteractive('df-34513b96-d019-44ba-8177-0e101142d030')\"\n",
              "              title=\"Convert this dataframe to an interactive table.\"\n",
              "              style=\"display:none;\">\n",
              "        \n",
              "  <svg xmlns=\"http://www.w3.org/2000/svg\" height=\"24px\"viewBox=\"0 0 24 24\"\n",
              "       width=\"24px\">\n",
              "    <path d=\"M0 0h24v24H0V0z\" fill=\"none\"/>\n",
              "    <path d=\"M18.56 5.44l.94 2.06.94-2.06 2.06-.94-2.06-.94-.94-2.06-.94 2.06-2.06.94zm-11 1L8.5 8.5l.94-2.06 2.06-.94-2.06-.94L8.5 2.5l-.94 2.06-2.06.94zm10 10l.94 2.06.94-2.06 2.06-.94-2.06-.94-.94-2.06-.94 2.06-2.06.94z\"/><path d=\"M17.41 7.96l-1.37-1.37c-.4-.4-.92-.59-1.43-.59-.52 0-1.04.2-1.43.59L10.3 9.45l-7.72 7.72c-.78.78-.78 2.05 0 2.83L4 21.41c.39.39.9.59 1.41.59.51 0 1.02-.2 1.41-.59l7.78-7.78 2.81-2.81c.8-.78.8-2.07 0-2.86zM5.41 20L4 18.59l7.72-7.72 1.47 1.35L5.41 20z\"/>\n",
              "  </svg>\n",
              "      </button>\n",
              "      \n",
              "  <style>\n",
              "    .colab-df-container {\n",
              "      display:flex;\n",
              "      flex-wrap:wrap;\n",
              "      gap: 12px;\n",
              "    }\n",
              "\n",
              "    .colab-df-convert {\n",
              "      background-color: #E8F0FE;\n",
              "      border: none;\n",
              "      border-radius: 50%;\n",
              "      cursor: pointer;\n",
              "      display: none;\n",
              "      fill: #1967D2;\n",
              "      height: 32px;\n",
              "      padding: 0 0 0 0;\n",
              "      width: 32px;\n",
              "    }\n",
              "\n",
              "    .colab-df-convert:hover {\n",
              "      background-color: #E2EBFA;\n",
              "      box-shadow: 0px 1px 2px rgba(60, 64, 67, 0.3), 0px 1px 3px 1px rgba(60, 64, 67, 0.15);\n",
              "      fill: #174EA6;\n",
              "    }\n",
              "\n",
              "    [theme=dark] .colab-df-convert {\n",
              "      background-color: #3B4455;\n",
              "      fill: #D2E3FC;\n",
              "    }\n",
              "\n",
              "    [theme=dark] .colab-df-convert:hover {\n",
              "      background-color: #434B5C;\n",
              "      box-shadow: 0px 1px 3px 1px rgba(0, 0, 0, 0.15);\n",
              "      filter: drop-shadow(0px 1px 2px rgba(0, 0, 0, 0.3));\n",
              "      fill: #FFFFFF;\n",
              "    }\n",
              "  </style>\n",
              "\n",
              "      <script>\n",
              "        const buttonEl =\n",
              "          document.querySelector('#df-34513b96-d019-44ba-8177-0e101142d030 button.colab-df-convert');\n",
              "        buttonEl.style.display =\n",
              "          google.colab.kernel.accessAllowed ? 'block' : 'none';\n",
              "\n",
              "        async function convertToInteractive(key) {\n",
              "          const element = document.querySelector('#df-34513b96-d019-44ba-8177-0e101142d030');\n",
              "          const dataTable =\n",
              "            await google.colab.kernel.invokeFunction('convertToInteractive',\n",
              "                                                     [key], {});\n",
              "          if (!dataTable) return;\n",
              "\n",
              "          const docLinkHtml = 'Like what you see? Visit the ' +\n",
              "            '<a target=\"_blank\" href=https://colab.research.google.com/notebooks/data_table.ipynb>data table notebook</a>'\n",
              "            + ' to learn more about interactive tables.';\n",
              "          element.innerHTML = '';\n",
              "          dataTable['output_type'] = 'display_data';\n",
              "          await google.colab.output.renderOutput(dataTable, element);\n",
              "          const docLink = document.createElement('div');\n",
              "          docLink.innerHTML = docLinkHtml;\n",
              "          element.appendChild(docLink);\n",
              "        }\n",
              "      </script>\n",
              "    </div>\n",
              "  </div>\n",
              "  "
            ]
          },
          "metadata": {},
          "execution_count": 32
        }
      ],
      "source": [
        "df.head(2)"
      ]
    },
    {
      "cell_type": "markdown",
      "id": "46363167",
      "metadata": {
        "id": "46363167"
      },
      "source": [
        "## Count #Hashtags and @Mention"
      ]
    },
    {
      "cell_type": "code",
      "execution_count": 33,
      "id": "f3446418",
      "metadata": {
        "id": "f3446418"
      },
      "outputs": [],
      "source": [
        "x= \"This #hashtag and this is @mention\""
      ]
    },
    {
      "cell_type": "code",
      "execution_count": 34,
      "id": "efd5ca43",
      "metadata": {
        "id": "efd5ca43",
        "outputId": "3a88cf02-0aac-40aa-a4a5-a66baec7725a",
        "colab": {
          "base_uri": "https://localhost:8080/"
        }
      },
      "outputs": [
        {
          "output_type": "execute_result",
          "data": {
            "text/plain": [
              "['#hashtag']"
            ]
          },
          "metadata": {},
          "execution_count": 34
        }
      ],
      "source": [
        "[t for t in x.split() if t.startswith('#')]"
      ]
    },
    {
      "cell_type": "code",
      "execution_count": 35,
      "id": "c8788eda",
      "metadata": {
        "id": "c8788eda"
      },
      "outputs": [],
      "source": [
        "df['hashtags_counts']= df['tweets'].apply(lambda x: len([t for t in x.split() if t.startswith('#')]))\n",
        "df['mentions_counts']= df['tweets'].apply(lambda x: len([t for t in x.split() if t.startswith('@')]))"
      ]
    },
    {
      "cell_type": "code",
      "execution_count": 36,
      "id": "704fd323",
      "metadata": {
        "id": "704fd323",
        "outputId": "15f13194-fc97-4a8d-f652-52e282f33626",
        "colab": {
          "base_uri": "https://localhost:8080/",
          "height": 112
        }
      },
      "outputs": [
        {
          "output_type": "execute_result",
          "data": {
            "text/plain": [
              "                                              tweets  sentiment  word_counts  \\\n",
              "0  @switchfoot http://twitpic.com/2y1zl - Awww, t...          0           19   \n",
              "1  is upset that he can't update his Facebook by ...          0           21   \n",
              "\n",
              "   char_counts  avg_word_len  stop_words_len  hashtags_counts  mentions_counts  \n",
              "0          115      5.052632               4                0                1  \n",
              "1          111      4.285714               9                0                0  "
            ],
            "text/html": [
              "\n",
              "  <div id=\"df-d73203c9-40ce-4d77-b4e0-c04e6b9402ea\">\n",
              "    <div class=\"colab-df-container\">\n",
              "      <div>\n",
              "<style scoped>\n",
              "    .dataframe tbody tr th:only-of-type {\n",
              "        vertical-align: middle;\n",
              "    }\n",
              "\n",
              "    .dataframe tbody tr th {\n",
              "        vertical-align: top;\n",
              "    }\n",
              "\n",
              "    .dataframe thead th {\n",
              "        text-align: right;\n",
              "    }\n",
              "</style>\n",
              "<table border=\"1\" class=\"dataframe\">\n",
              "  <thead>\n",
              "    <tr style=\"text-align: right;\">\n",
              "      <th></th>\n",
              "      <th>tweets</th>\n",
              "      <th>sentiment</th>\n",
              "      <th>word_counts</th>\n",
              "      <th>char_counts</th>\n",
              "      <th>avg_word_len</th>\n",
              "      <th>stop_words_len</th>\n",
              "      <th>hashtags_counts</th>\n",
              "      <th>mentions_counts</th>\n",
              "    </tr>\n",
              "  </thead>\n",
              "  <tbody>\n",
              "    <tr>\n",
              "      <th>0</th>\n",
              "      <td>@switchfoot http://twitpic.com/2y1zl - Awww, t...</td>\n",
              "      <td>0</td>\n",
              "      <td>19</td>\n",
              "      <td>115</td>\n",
              "      <td>5.052632</td>\n",
              "      <td>4</td>\n",
              "      <td>0</td>\n",
              "      <td>1</td>\n",
              "    </tr>\n",
              "    <tr>\n",
              "      <th>1</th>\n",
              "      <td>is upset that he can't update his Facebook by ...</td>\n",
              "      <td>0</td>\n",
              "      <td>21</td>\n",
              "      <td>111</td>\n",
              "      <td>4.285714</td>\n",
              "      <td>9</td>\n",
              "      <td>0</td>\n",
              "      <td>0</td>\n",
              "    </tr>\n",
              "  </tbody>\n",
              "</table>\n",
              "</div>\n",
              "      <button class=\"colab-df-convert\" onclick=\"convertToInteractive('df-d73203c9-40ce-4d77-b4e0-c04e6b9402ea')\"\n",
              "              title=\"Convert this dataframe to an interactive table.\"\n",
              "              style=\"display:none;\">\n",
              "        \n",
              "  <svg xmlns=\"http://www.w3.org/2000/svg\" height=\"24px\"viewBox=\"0 0 24 24\"\n",
              "       width=\"24px\">\n",
              "    <path d=\"M0 0h24v24H0V0z\" fill=\"none\"/>\n",
              "    <path d=\"M18.56 5.44l.94 2.06.94-2.06 2.06-.94-2.06-.94-.94-2.06-.94 2.06-2.06.94zm-11 1L8.5 8.5l.94-2.06 2.06-.94-2.06-.94L8.5 2.5l-.94 2.06-2.06.94zm10 10l.94 2.06.94-2.06 2.06-.94-2.06-.94-.94-2.06-.94 2.06-2.06.94z\"/><path d=\"M17.41 7.96l-1.37-1.37c-.4-.4-.92-.59-1.43-.59-.52 0-1.04.2-1.43.59L10.3 9.45l-7.72 7.72c-.78.78-.78 2.05 0 2.83L4 21.41c.39.39.9.59 1.41.59.51 0 1.02-.2 1.41-.59l7.78-7.78 2.81-2.81c.8-.78.8-2.07 0-2.86zM5.41 20L4 18.59l7.72-7.72 1.47 1.35L5.41 20z\"/>\n",
              "  </svg>\n",
              "      </button>\n",
              "      \n",
              "  <style>\n",
              "    .colab-df-container {\n",
              "      display:flex;\n",
              "      flex-wrap:wrap;\n",
              "      gap: 12px;\n",
              "    }\n",
              "\n",
              "    .colab-df-convert {\n",
              "      background-color: #E8F0FE;\n",
              "      border: none;\n",
              "      border-radius: 50%;\n",
              "      cursor: pointer;\n",
              "      display: none;\n",
              "      fill: #1967D2;\n",
              "      height: 32px;\n",
              "      padding: 0 0 0 0;\n",
              "      width: 32px;\n",
              "    }\n",
              "\n",
              "    .colab-df-convert:hover {\n",
              "      background-color: #E2EBFA;\n",
              "      box-shadow: 0px 1px 2px rgba(60, 64, 67, 0.3), 0px 1px 3px 1px rgba(60, 64, 67, 0.15);\n",
              "      fill: #174EA6;\n",
              "    }\n",
              "\n",
              "    [theme=dark] .colab-df-convert {\n",
              "      background-color: #3B4455;\n",
              "      fill: #D2E3FC;\n",
              "    }\n",
              "\n",
              "    [theme=dark] .colab-df-convert:hover {\n",
              "      background-color: #434B5C;\n",
              "      box-shadow: 0px 1px 3px 1px rgba(0, 0, 0, 0.15);\n",
              "      filter: drop-shadow(0px 1px 2px rgba(0, 0, 0, 0.3));\n",
              "      fill: #FFFFFF;\n",
              "    }\n",
              "  </style>\n",
              "\n",
              "      <script>\n",
              "        const buttonEl =\n",
              "          document.querySelector('#df-d73203c9-40ce-4d77-b4e0-c04e6b9402ea button.colab-df-convert');\n",
              "        buttonEl.style.display =\n",
              "          google.colab.kernel.accessAllowed ? 'block' : 'none';\n",
              "\n",
              "        async function convertToInteractive(key) {\n",
              "          const element = document.querySelector('#df-d73203c9-40ce-4d77-b4e0-c04e6b9402ea');\n",
              "          const dataTable =\n",
              "            await google.colab.kernel.invokeFunction('convertToInteractive',\n",
              "                                                     [key], {});\n",
              "          if (!dataTable) return;\n",
              "\n",
              "          const docLinkHtml = 'Like what you see? Visit the ' +\n",
              "            '<a target=\"_blank\" href=https://colab.research.google.com/notebooks/data_table.ipynb>data table notebook</a>'\n",
              "            + ' to learn more about interactive tables.';\n",
              "          element.innerHTML = '';\n",
              "          dataTable['output_type'] = 'display_data';\n",
              "          await google.colab.output.renderOutput(dataTable, element);\n",
              "          const docLink = document.createElement('div');\n",
              "          docLink.innerHTML = docLinkHtml;\n",
              "          element.appendChild(docLink);\n",
              "        }\n",
              "      </script>\n",
              "    </div>\n",
              "  </div>\n",
              "  "
            ]
          },
          "metadata": {},
          "execution_count": 36
        }
      ],
      "source": [
        "df.head(2)"
      ]
    },
    {
      "cell_type": "markdown",
      "id": "94299359",
      "metadata": {
        "id": "94299359"
      },
      "source": [
        "## If Numeric digits are present in tweets"
      ]
    },
    {
      "cell_type": "code",
      "execution_count": 37,
      "id": "c16e2102",
      "metadata": {
        "id": "c16e2102"
      },
      "outputs": [],
      "source": [
        "df['numerics_count']=df['tweets'].apply(lambda x: len([t for t in x.split() if t.isdigit()]))"
      ]
    },
    {
      "cell_type": "code",
      "execution_count": 38,
      "id": "a5517a8c",
      "metadata": {
        "id": "a5517a8c",
        "outputId": "3f1bf63e-70ea-4da5-bdd0-edca54edaabd",
        "colab": {
          "base_uri": "https://localhost:8080/",
          "height": 156
        }
      },
      "outputs": [
        {
          "output_type": "execute_result",
          "data": {
            "text/plain": [
              "                                              tweets  sentiment  word_counts  \\\n",
              "0  @switchfoot http://twitpic.com/2y1zl - Awww, t...          0           19   \n",
              "1  is upset that he can't update his Facebook by ...          0           21   \n",
              "\n",
              "   char_counts  avg_word_len  stop_words_len  hashtags_counts  \\\n",
              "0          115      5.052632               4                0   \n",
              "1          111      4.285714               9                0   \n",
              "\n",
              "   mentions_counts  numerics_count  \n",
              "0                1               0  \n",
              "1                0               0  "
            ],
            "text/html": [
              "\n",
              "  <div id=\"df-f71c65d8-6d35-45f6-8070-be69762e9a8d\">\n",
              "    <div class=\"colab-df-container\">\n",
              "      <div>\n",
              "<style scoped>\n",
              "    .dataframe tbody tr th:only-of-type {\n",
              "        vertical-align: middle;\n",
              "    }\n",
              "\n",
              "    .dataframe tbody tr th {\n",
              "        vertical-align: top;\n",
              "    }\n",
              "\n",
              "    .dataframe thead th {\n",
              "        text-align: right;\n",
              "    }\n",
              "</style>\n",
              "<table border=\"1\" class=\"dataframe\">\n",
              "  <thead>\n",
              "    <tr style=\"text-align: right;\">\n",
              "      <th></th>\n",
              "      <th>tweets</th>\n",
              "      <th>sentiment</th>\n",
              "      <th>word_counts</th>\n",
              "      <th>char_counts</th>\n",
              "      <th>avg_word_len</th>\n",
              "      <th>stop_words_len</th>\n",
              "      <th>hashtags_counts</th>\n",
              "      <th>mentions_counts</th>\n",
              "      <th>numerics_count</th>\n",
              "    </tr>\n",
              "  </thead>\n",
              "  <tbody>\n",
              "    <tr>\n",
              "      <th>0</th>\n",
              "      <td>@switchfoot http://twitpic.com/2y1zl - Awww, t...</td>\n",
              "      <td>0</td>\n",
              "      <td>19</td>\n",
              "      <td>115</td>\n",
              "      <td>5.052632</td>\n",
              "      <td>4</td>\n",
              "      <td>0</td>\n",
              "      <td>1</td>\n",
              "      <td>0</td>\n",
              "    </tr>\n",
              "    <tr>\n",
              "      <th>1</th>\n",
              "      <td>is upset that he can't update his Facebook by ...</td>\n",
              "      <td>0</td>\n",
              "      <td>21</td>\n",
              "      <td>111</td>\n",
              "      <td>4.285714</td>\n",
              "      <td>9</td>\n",
              "      <td>0</td>\n",
              "      <td>0</td>\n",
              "      <td>0</td>\n",
              "    </tr>\n",
              "  </tbody>\n",
              "</table>\n",
              "</div>\n",
              "      <button class=\"colab-df-convert\" onclick=\"convertToInteractive('df-f71c65d8-6d35-45f6-8070-be69762e9a8d')\"\n",
              "              title=\"Convert this dataframe to an interactive table.\"\n",
              "              style=\"display:none;\">\n",
              "        \n",
              "  <svg xmlns=\"http://www.w3.org/2000/svg\" height=\"24px\"viewBox=\"0 0 24 24\"\n",
              "       width=\"24px\">\n",
              "    <path d=\"M0 0h24v24H0V0z\" fill=\"none\"/>\n",
              "    <path d=\"M18.56 5.44l.94 2.06.94-2.06 2.06-.94-2.06-.94-.94-2.06-.94 2.06-2.06.94zm-11 1L8.5 8.5l.94-2.06 2.06-.94-2.06-.94L8.5 2.5l-.94 2.06-2.06.94zm10 10l.94 2.06.94-2.06 2.06-.94-2.06-.94-.94-2.06-.94 2.06-2.06.94z\"/><path d=\"M17.41 7.96l-1.37-1.37c-.4-.4-.92-.59-1.43-.59-.52 0-1.04.2-1.43.59L10.3 9.45l-7.72 7.72c-.78.78-.78 2.05 0 2.83L4 21.41c.39.39.9.59 1.41.59.51 0 1.02-.2 1.41-.59l7.78-7.78 2.81-2.81c.8-.78.8-2.07 0-2.86zM5.41 20L4 18.59l7.72-7.72 1.47 1.35L5.41 20z\"/>\n",
              "  </svg>\n",
              "      </button>\n",
              "      \n",
              "  <style>\n",
              "    .colab-df-container {\n",
              "      display:flex;\n",
              "      flex-wrap:wrap;\n",
              "      gap: 12px;\n",
              "    }\n",
              "\n",
              "    .colab-df-convert {\n",
              "      background-color: #E8F0FE;\n",
              "      border: none;\n",
              "      border-radius: 50%;\n",
              "      cursor: pointer;\n",
              "      display: none;\n",
              "      fill: #1967D2;\n",
              "      height: 32px;\n",
              "      padding: 0 0 0 0;\n",
              "      width: 32px;\n",
              "    }\n",
              "\n",
              "    .colab-df-convert:hover {\n",
              "      background-color: #E2EBFA;\n",
              "      box-shadow: 0px 1px 2px rgba(60, 64, 67, 0.3), 0px 1px 3px 1px rgba(60, 64, 67, 0.15);\n",
              "      fill: #174EA6;\n",
              "    }\n",
              "\n",
              "    [theme=dark] .colab-df-convert {\n",
              "      background-color: #3B4455;\n",
              "      fill: #D2E3FC;\n",
              "    }\n",
              "\n",
              "    [theme=dark] .colab-df-convert:hover {\n",
              "      background-color: #434B5C;\n",
              "      box-shadow: 0px 1px 3px 1px rgba(0, 0, 0, 0.15);\n",
              "      filter: drop-shadow(0px 1px 2px rgba(0, 0, 0, 0.3));\n",
              "      fill: #FFFFFF;\n",
              "    }\n",
              "  </style>\n",
              "\n",
              "      <script>\n",
              "        const buttonEl =\n",
              "          document.querySelector('#df-f71c65d8-6d35-45f6-8070-be69762e9a8d button.colab-df-convert');\n",
              "        buttonEl.style.display =\n",
              "          google.colab.kernel.accessAllowed ? 'block' : 'none';\n",
              "\n",
              "        async function convertToInteractive(key) {\n",
              "          const element = document.querySelector('#df-f71c65d8-6d35-45f6-8070-be69762e9a8d');\n",
              "          const dataTable =\n",
              "            await google.colab.kernel.invokeFunction('convertToInteractive',\n",
              "                                                     [key], {});\n",
              "          if (!dataTable) return;\n",
              "\n",
              "          const docLinkHtml = 'Like what you see? Visit the ' +\n",
              "            '<a target=\"_blank\" href=https://colab.research.google.com/notebooks/data_table.ipynb>data table notebook</a>'\n",
              "            + ' to learn more about interactive tables.';\n",
              "          element.innerHTML = '';\n",
              "          dataTable['output_type'] = 'display_data';\n",
              "          await google.colab.output.renderOutput(dataTable, element);\n",
              "          const docLink = document.createElement('div');\n",
              "          docLink.innerHTML = docLinkHtml;\n",
              "          element.appendChild(docLink);\n",
              "        }\n",
              "      </script>\n",
              "    </div>\n",
              "  </div>\n",
              "  "
            ]
          },
          "metadata": {},
          "execution_count": 38
        }
      ],
      "source": [
        "df.head(2)"
      ]
    },
    {
      "cell_type": "markdown",
      "id": "2156df67",
      "metadata": {
        "id": "2156df67"
      },
      "source": [
        "## Upper Case Word Count"
      ]
    },
    {
      "cell_type": "code",
      "execution_count": 39,
      "id": "50d563ec",
      "metadata": {
        "id": "50d563ec"
      },
      "outputs": [],
      "source": [
        "df['upper_counts']= df['tweets'].apply(lambda x: len([t for t in x.split() if t.isupper() and len(x)>3]))"
      ]
    },
    {
      "cell_type": "code",
      "execution_count": 40,
      "id": "5d86c378",
      "metadata": {
        "id": "5d86c378",
        "outputId": "01f6146c-a4bc-494b-b6a9-c4d7e11bbdba",
        "colab": {
          "base_uri": "https://localhost:8080/",
          "height": 208
        }
      },
      "outputs": [
        {
          "output_type": "execute_result",
          "data": {
            "text/plain": [
              "                                              tweets  sentiment  word_counts  \\\n",
              "0  @switchfoot http://twitpic.com/2y1zl - Awww, t...          0           19   \n",
              "1  is upset that he can't update his Facebook by ...          0           21   \n",
              "\n",
              "   char_counts  avg_word_len  stop_words_len  hashtags_counts  \\\n",
              "0          115      5.052632               4                0   \n",
              "1          111      4.285714               9                0   \n",
              "\n",
              "   mentions_counts  numerics_count  upper_counts  \n",
              "0                1               0             1  \n",
              "1                0               0             0  "
            ],
            "text/html": [
              "\n",
              "  <div id=\"df-2aa72d37-8cd7-4485-9618-3d916cebfefd\">\n",
              "    <div class=\"colab-df-container\">\n",
              "      <div>\n",
              "<style scoped>\n",
              "    .dataframe tbody tr th:only-of-type {\n",
              "        vertical-align: middle;\n",
              "    }\n",
              "\n",
              "    .dataframe tbody tr th {\n",
              "        vertical-align: top;\n",
              "    }\n",
              "\n",
              "    .dataframe thead th {\n",
              "        text-align: right;\n",
              "    }\n",
              "</style>\n",
              "<table border=\"1\" class=\"dataframe\">\n",
              "  <thead>\n",
              "    <tr style=\"text-align: right;\">\n",
              "      <th></th>\n",
              "      <th>tweets</th>\n",
              "      <th>sentiment</th>\n",
              "      <th>word_counts</th>\n",
              "      <th>char_counts</th>\n",
              "      <th>avg_word_len</th>\n",
              "      <th>stop_words_len</th>\n",
              "      <th>hashtags_counts</th>\n",
              "      <th>mentions_counts</th>\n",
              "      <th>numerics_count</th>\n",
              "      <th>upper_counts</th>\n",
              "    </tr>\n",
              "  </thead>\n",
              "  <tbody>\n",
              "    <tr>\n",
              "      <th>0</th>\n",
              "      <td>@switchfoot http://twitpic.com/2y1zl - Awww, t...</td>\n",
              "      <td>0</td>\n",
              "      <td>19</td>\n",
              "      <td>115</td>\n",
              "      <td>5.052632</td>\n",
              "      <td>4</td>\n",
              "      <td>0</td>\n",
              "      <td>1</td>\n",
              "      <td>0</td>\n",
              "      <td>1</td>\n",
              "    </tr>\n",
              "    <tr>\n",
              "      <th>1</th>\n",
              "      <td>is upset that he can't update his Facebook by ...</td>\n",
              "      <td>0</td>\n",
              "      <td>21</td>\n",
              "      <td>111</td>\n",
              "      <td>4.285714</td>\n",
              "      <td>9</td>\n",
              "      <td>0</td>\n",
              "      <td>0</td>\n",
              "      <td>0</td>\n",
              "      <td>0</td>\n",
              "    </tr>\n",
              "  </tbody>\n",
              "</table>\n",
              "</div>\n",
              "      <button class=\"colab-df-convert\" onclick=\"convertToInteractive('df-2aa72d37-8cd7-4485-9618-3d916cebfefd')\"\n",
              "              title=\"Convert this dataframe to an interactive table.\"\n",
              "              style=\"display:none;\">\n",
              "        \n",
              "  <svg xmlns=\"http://www.w3.org/2000/svg\" height=\"24px\"viewBox=\"0 0 24 24\"\n",
              "       width=\"24px\">\n",
              "    <path d=\"M0 0h24v24H0V0z\" fill=\"none\"/>\n",
              "    <path d=\"M18.56 5.44l.94 2.06.94-2.06 2.06-.94-2.06-.94-.94-2.06-.94 2.06-2.06.94zm-11 1L8.5 8.5l.94-2.06 2.06-.94-2.06-.94L8.5 2.5l-.94 2.06-2.06.94zm10 10l.94 2.06.94-2.06 2.06-.94-2.06-.94-.94-2.06-.94 2.06-2.06.94z\"/><path d=\"M17.41 7.96l-1.37-1.37c-.4-.4-.92-.59-1.43-.59-.52 0-1.04.2-1.43.59L10.3 9.45l-7.72 7.72c-.78.78-.78 2.05 0 2.83L4 21.41c.39.39.9.59 1.41.59.51 0 1.02-.2 1.41-.59l7.78-7.78 2.81-2.81c.8-.78.8-2.07 0-2.86zM5.41 20L4 18.59l7.72-7.72 1.47 1.35L5.41 20z\"/>\n",
              "  </svg>\n",
              "      </button>\n",
              "      \n",
              "  <style>\n",
              "    .colab-df-container {\n",
              "      display:flex;\n",
              "      flex-wrap:wrap;\n",
              "      gap: 12px;\n",
              "    }\n",
              "\n",
              "    .colab-df-convert {\n",
              "      background-color: #E8F0FE;\n",
              "      border: none;\n",
              "      border-radius: 50%;\n",
              "      cursor: pointer;\n",
              "      display: none;\n",
              "      fill: #1967D2;\n",
              "      height: 32px;\n",
              "      padding: 0 0 0 0;\n",
              "      width: 32px;\n",
              "    }\n",
              "\n",
              "    .colab-df-convert:hover {\n",
              "      background-color: #E2EBFA;\n",
              "      box-shadow: 0px 1px 2px rgba(60, 64, 67, 0.3), 0px 1px 3px 1px rgba(60, 64, 67, 0.15);\n",
              "      fill: #174EA6;\n",
              "    }\n",
              "\n",
              "    [theme=dark] .colab-df-convert {\n",
              "      background-color: #3B4455;\n",
              "      fill: #D2E3FC;\n",
              "    }\n",
              "\n",
              "    [theme=dark] .colab-df-convert:hover {\n",
              "      background-color: #434B5C;\n",
              "      box-shadow: 0px 1px 3px 1px rgba(0, 0, 0, 0.15);\n",
              "      filter: drop-shadow(0px 1px 2px rgba(0, 0, 0, 0.3));\n",
              "      fill: #FFFFFF;\n",
              "    }\n",
              "  </style>\n",
              "\n",
              "      <script>\n",
              "        const buttonEl =\n",
              "          document.querySelector('#df-2aa72d37-8cd7-4485-9618-3d916cebfefd button.colab-df-convert');\n",
              "        buttonEl.style.display =\n",
              "          google.colab.kernel.accessAllowed ? 'block' : 'none';\n",
              "\n",
              "        async function convertToInteractive(key) {\n",
              "          const element = document.querySelector('#df-2aa72d37-8cd7-4485-9618-3d916cebfefd');\n",
              "          const dataTable =\n",
              "            await google.colab.kernel.invokeFunction('convertToInteractive',\n",
              "                                                     [key], {});\n",
              "          if (!dataTable) return;\n",
              "\n",
              "          const docLinkHtml = 'Like what you see? Visit the ' +\n",
              "            '<a target=\"_blank\" href=https://colab.research.google.com/notebooks/data_table.ipynb>data table notebook</a>'\n",
              "            + ' to learn more about interactive tables.';\n",
              "          element.innerHTML = '';\n",
              "          dataTable['output_type'] = 'display_data';\n",
              "          await google.colab.output.renderOutput(dataTable, element);\n",
              "          const docLink = document.createElement('div');\n",
              "          docLink.innerHTML = docLinkHtml;\n",
              "          element.appendChild(docLink);\n",
              "        }\n",
              "      </script>\n",
              "    </div>\n",
              "  </div>\n",
              "  "
            ]
          },
          "metadata": {},
          "execution_count": 40
        }
      ],
      "source": [
        "df.head(2)"
      ]
    },
    {
      "cell_type": "code",
      "execution_count": 41,
      "id": "25e91704",
      "metadata": {
        "id": "25e91704",
        "outputId": "b049c70e-64e1-4bb9-c343-bf1105b1b700",
        "colab": {
          "base_uri": "https://localhost:8080/",
          "height": 35
        }
      },
      "outputs": [
        {
          "output_type": "execute_result",
          "data": {
            "text/plain": [
              "\"so rylee,grace...wana go steve's party or not?? SADLY SINCE ITS EASTER I WNT B ABLE 2 DO MUCH  BUT OHH WELL.....\""
            ],
            "application/vnd.google.colaboratory.intrinsic+json": {
              "type": "string"
            }
          },
          "metadata": {},
          "execution_count": 41
        }
      ],
      "source": [
        "df.loc[96]['tweets']"
      ]
    },
    {
      "cell_type": "markdown",
      "id": "37d9515a",
      "metadata": {
        "id": "37d9515a"
      },
      "source": [
        "## Preprocessing and Cleaning Data"
      ]
    },
    {
      "cell_type": "code",
      "execution_count": 42,
      "id": "cc0805d7",
      "metadata": {
        "id": "cc0805d7"
      },
      "outputs": [],
      "source": [
        "df['tweets']= df['tweets'].apply(lambda x: x.lower())"
      ]
    },
    {
      "cell_type": "code",
      "execution_count": 43,
      "id": "e0412461",
      "metadata": {
        "id": "e0412461",
        "outputId": "17703785-815a-4c13-d9bf-d7ba24201a00",
        "colab": {
          "base_uri": "https://localhost:8080/",
          "height": 354
        }
      },
      "outputs": [
        {
          "output_type": "execute_result",
          "data": {
            "text/plain": [
              "                                              tweets  sentiment  word_counts  \\\n",
              "0  @switchfoot http://twitpic.com/2y1zl - awww, t...          0           19   \n",
              "1  is upset that he can't update his facebook by ...          0           21   \n",
              "2  @kenichan i dived many times for the ball. man...          0           18   \n",
              "3    my whole body feels itchy and like its on fire           0           10   \n",
              "4  @nationwideclass no, it's not behaving at all....          0           21   \n",
              "\n",
              "   char_counts  avg_word_len  stop_words_len  hashtags_counts  \\\n",
              "0          115      5.052632               4                0   \n",
              "1          111      4.285714               9                0   \n",
              "2           89      3.944444               7                0   \n",
              "3           47      3.700000               5                0   \n",
              "4          111      4.285714              10                0   \n",
              "\n",
              "   mentions_counts  numerics_count  upper_counts  \n",
              "0                1               0             1  \n",
              "1                0               0             0  \n",
              "2                1               0             1  \n",
              "3                0               0             0  \n",
              "4                1               0             1  "
            ],
            "text/html": [
              "\n",
              "  <div id=\"df-62c14dc8-eb84-4ecd-b95d-3682958f17ce\">\n",
              "    <div class=\"colab-df-container\">\n",
              "      <div>\n",
              "<style scoped>\n",
              "    .dataframe tbody tr th:only-of-type {\n",
              "        vertical-align: middle;\n",
              "    }\n",
              "\n",
              "    .dataframe tbody tr th {\n",
              "        vertical-align: top;\n",
              "    }\n",
              "\n",
              "    .dataframe thead th {\n",
              "        text-align: right;\n",
              "    }\n",
              "</style>\n",
              "<table border=\"1\" class=\"dataframe\">\n",
              "  <thead>\n",
              "    <tr style=\"text-align: right;\">\n",
              "      <th></th>\n",
              "      <th>tweets</th>\n",
              "      <th>sentiment</th>\n",
              "      <th>word_counts</th>\n",
              "      <th>char_counts</th>\n",
              "      <th>avg_word_len</th>\n",
              "      <th>stop_words_len</th>\n",
              "      <th>hashtags_counts</th>\n",
              "      <th>mentions_counts</th>\n",
              "      <th>numerics_count</th>\n",
              "      <th>upper_counts</th>\n",
              "    </tr>\n",
              "  </thead>\n",
              "  <tbody>\n",
              "    <tr>\n",
              "      <th>0</th>\n",
              "      <td>@switchfoot http://twitpic.com/2y1zl - awww, t...</td>\n",
              "      <td>0</td>\n",
              "      <td>19</td>\n",
              "      <td>115</td>\n",
              "      <td>5.052632</td>\n",
              "      <td>4</td>\n",
              "      <td>0</td>\n",
              "      <td>1</td>\n",
              "      <td>0</td>\n",
              "      <td>1</td>\n",
              "    </tr>\n",
              "    <tr>\n",
              "      <th>1</th>\n",
              "      <td>is upset that he can't update his facebook by ...</td>\n",
              "      <td>0</td>\n",
              "      <td>21</td>\n",
              "      <td>111</td>\n",
              "      <td>4.285714</td>\n",
              "      <td>9</td>\n",
              "      <td>0</td>\n",
              "      <td>0</td>\n",
              "      <td>0</td>\n",
              "      <td>0</td>\n",
              "    </tr>\n",
              "    <tr>\n",
              "      <th>2</th>\n",
              "      <td>@kenichan i dived many times for the ball. man...</td>\n",
              "      <td>0</td>\n",
              "      <td>18</td>\n",
              "      <td>89</td>\n",
              "      <td>3.944444</td>\n",
              "      <td>7</td>\n",
              "      <td>0</td>\n",
              "      <td>1</td>\n",
              "      <td>0</td>\n",
              "      <td>1</td>\n",
              "    </tr>\n",
              "    <tr>\n",
              "      <th>3</th>\n",
              "      <td>my whole body feels itchy and like its on fire</td>\n",
              "      <td>0</td>\n",
              "      <td>10</td>\n",
              "      <td>47</td>\n",
              "      <td>3.700000</td>\n",
              "      <td>5</td>\n",
              "      <td>0</td>\n",
              "      <td>0</td>\n",
              "      <td>0</td>\n",
              "      <td>0</td>\n",
              "    </tr>\n",
              "    <tr>\n",
              "      <th>4</th>\n",
              "      <td>@nationwideclass no, it's not behaving at all....</td>\n",
              "      <td>0</td>\n",
              "      <td>21</td>\n",
              "      <td>111</td>\n",
              "      <td>4.285714</td>\n",
              "      <td>10</td>\n",
              "      <td>0</td>\n",
              "      <td>1</td>\n",
              "      <td>0</td>\n",
              "      <td>1</td>\n",
              "    </tr>\n",
              "  </tbody>\n",
              "</table>\n",
              "</div>\n",
              "      <button class=\"colab-df-convert\" onclick=\"convertToInteractive('df-62c14dc8-eb84-4ecd-b95d-3682958f17ce')\"\n",
              "              title=\"Convert this dataframe to an interactive table.\"\n",
              "              style=\"display:none;\">\n",
              "        \n",
              "  <svg xmlns=\"http://www.w3.org/2000/svg\" height=\"24px\"viewBox=\"0 0 24 24\"\n",
              "       width=\"24px\">\n",
              "    <path d=\"M0 0h24v24H0V0z\" fill=\"none\"/>\n",
              "    <path d=\"M18.56 5.44l.94 2.06.94-2.06 2.06-.94-2.06-.94-.94-2.06-.94 2.06-2.06.94zm-11 1L8.5 8.5l.94-2.06 2.06-.94-2.06-.94L8.5 2.5l-.94 2.06-2.06.94zm10 10l.94 2.06.94-2.06 2.06-.94-2.06-.94-.94-2.06-.94 2.06-2.06.94z\"/><path d=\"M17.41 7.96l-1.37-1.37c-.4-.4-.92-.59-1.43-.59-.52 0-1.04.2-1.43.59L10.3 9.45l-7.72 7.72c-.78.78-.78 2.05 0 2.83L4 21.41c.39.39.9.59 1.41.59.51 0 1.02-.2 1.41-.59l7.78-7.78 2.81-2.81c.8-.78.8-2.07 0-2.86zM5.41 20L4 18.59l7.72-7.72 1.47 1.35L5.41 20z\"/>\n",
              "  </svg>\n",
              "      </button>\n",
              "      \n",
              "  <style>\n",
              "    .colab-df-container {\n",
              "      display:flex;\n",
              "      flex-wrap:wrap;\n",
              "      gap: 12px;\n",
              "    }\n",
              "\n",
              "    .colab-df-convert {\n",
              "      background-color: #E8F0FE;\n",
              "      border: none;\n",
              "      border-radius: 50%;\n",
              "      cursor: pointer;\n",
              "      display: none;\n",
              "      fill: #1967D2;\n",
              "      height: 32px;\n",
              "      padding: 0 0 0 0;\n",
              "      width: 32px;\n",
              "    }\n",
              "\n",
              "    .colab-df-convert:hover {\n",
              "      background-color: #E2EBFA;\n",
              "      box-shadow: 0px 1px 2px rgba(60, 64, 67, 0.3), 0px 1px 3px 1px rgba(60, 64, 67, 0.15);\n",
              "      fill: #174EA6;\n",
              "    }\n",
              "\n",
              "    [theme=dark] .colab-df-convert {\n",
              "      background-color: #3B4455;\n",
              "      fill: #D2E3FC;\n",
              "    }\n",
              "\n",
              "    [theme=dark] .colab-df-convert:hover {\n",
              "      background-color: #434B5C;\n",
              "      box-shadow: 0px 1px 3px 1px rgba(0, 0, 0, 0.15);\n",
              "      filter: drop-shadow(0px 1px 2px rgba(0, 0, 0, 0.3));\n",
              "      fill: #FFFFFF;\n",
              "    }\n",
              "  </style>\n",
              "\n",
              "      <script>\n",
              "        const buttonEl =\n",
              "          document.querySelector('#df-62c14dc8-eb84-4ecd-b95d-3682958f17ce button.colab-df-convert');\n",
              "        buttonEl.style.display =\n",
              "          google.colab.kernel.accessAllowed ? 'block' : 'none';\n",
              "\n",
              "        async function convertToInteractive(key) {\n",
              "          const element = document.querySelector('#df-62c14dc8-eb84-4ecd-b95d-3682958f17ce');\n",
              "          const dataTable =\n",
              "            await google.colab.kernel.invokeFunction('convertToInteractive',\n",
              "                                                     [key], {});\n",
              "          if (!dataTable) return;\n",
              "\n",
              "          const docLinkHtml = 'Like what you see? Visit the ' +\n",
              "            '<a target=\"_blank\" href=https://colab.research.google.com/notebooks/data_table.ipynb>data table notebook</a>'\n",
              "            + ' to learn more about interactive tables.';\n",
              "          element.innerHTML = '';\n",
              "          dataTable['output_type'] = 'display_data';\n",
              "          await google.colab.output.renderOutput(dataTable, element);\n",
              "          const docLink = document.createElement('div');\n",
              "          docLink.innerHTML = docLinkHtml;\n",
              "          element.appendChild(docLink);\n",
              "        }\n",
              "      </script>\n",
              "    </div>\n",
              "  </div>\n",
              "  "
            ]
          },
          "metadata": {},
          "execution_count": 43
        }
      ],
      "source": [
        "df.head(5)"
      ]
    },
    {
      "cell_type": "markdown",
      "id": "0ea1ce71",
      "metadata": {
        "id": "0ea1ce71"
      },
      "source": [
        "## Contraction To Expansion"
      ]
    },
    {
      "cell_type": "code",
      "execution_count": 44,
      "id": "86b4a8e5",
      "metadata": {
        "id": "86b4a8e5"
      },
      "outputs": [],
      "source": [
        "# don't to do not , i n u, I and You ,etc"
      ]
    },
    {
      "cell_type": "code",
      "execution_count": 45,
      "id": "0d77384f",
      "metadata": {
        "id": "0d77384f",
        "outputId": "bdd917d5-11d3-455b-b43a-644abd671a3e",
        "colab": {
          "base_uri": "https://localhost:8080/",
          "height": 87
        }
      },
      "outputs": [
        {
          "output_type": "execute_result",
          "data": {
            "text/plain": [
              "\"\\n# For contraction, there is a library, we can use this code\\n# import library\\nimport contractions\\n# contracted text\\ntext = 'I'll be there within 5 min. Shouldn't you be there too?\\nI'd love to see u there my dear. It's awesome to meet new friends.\\nWe've been waiting for this day for so long.'\\n\\n# creating an empty list\\nexpanded_words = []\\nfor word in text.split():\\n# using contractions.fix to expand the shortened words\\nexpanded_words.append(contractions.fix(word))\\n\\nexpanded_text = ' '.join(expanded_words)\\nprint('Original text: ' + text)\\nprint('Expanded_text: ' + expanded_text)\\n\""
            ],
            "application/vnd.google.colaboratory.intrinsic+json": {
              "type": "string"
            }
          },
          "metadata": {},
          "execution_count": 45
        }
      ],
      "source": [
        "'''\n",
        "# For contraction, there is a library, we can use this code\n",
        "# import library\n",
        "import contractions\n",
        "# contracted text\n",
        "text = 'I'll be there within 5 min. Shouldn't you be there too?\n",
        "I'd love to see u there my dear. It's awesome to meet new friends.\n",
        "We've been waiting for this day for so long.'\n",
        "\n",
        "# creating an empty list\n",
        "expanded_words = []\n",
        "for word in text.split():\n",
        "# using contractions.fix to expand the shortened words\n",
        "expanded_words.append(contractions.fix(word))\n",
        "\n",
        "expanded_text = ' '.join(expanded_words)\n",
        "print('Original text: ' + text)\n",
        "print('Expanded_text: ' + expanded_text)\n",
        "'''"
      ]
    },
    {
      "cell_type": "code",
      "execution_count": 46,
      "id": "a4dc1554",
      "metadata": {
        "id": "a4dc1554"
      },
      "outputs": [],
      "source": [
        "contractions= {\n",
        "  \"ain't\": \"am not\",\n",
        "  \"aren't\": \"are not\",\n",
        "  \"can't\": \"cannot\",\n",
        "  \"can't've\": \"cannot have\",\n",
        "  \"'cause\": \"because\",\n",
        "  \"could've\": \"could have\",\n",
        "  \"couldn't\": \"could not\",\n",
        "  \"couldn't've\": \"could not have\",\n",
        "  \"didn't\": \"did not\",\n",
        "  \"doesn't\": \"does not\",\n",
        "  \"don't\": \"do not\",\n",
        "  \"hadn't\": \"had not\",\n",
        "  \"hadn't've\": \"had not have\",\n",
        "  \"hasn't\": \"has not\",\n",
        "  \"haven't\": \"have not\",\n",
        "  \"he'd\": \"he would\",\n",
        "  \"he'd've\": \"he would have\",\n",
        "  \"he'll\": \"he will\",\n",
        "  \"he'll've\": \"he will have\",\n",
        "  \"he's\": \"he is\",\n",
        "  \"how'd\": \"how did\",\n",
        "  \"how'd'y\": \"how do you\",\n",
        "  \"how'll\": \"how will\",\n",
        "  \"how's\": \"how is\",\n",
        "  \"i'd\": \"i would\",\n",
        "  \"i'd've\": \"i would have\",\n",
        "  \"i'll\": \"i will\",\n",
        "  \"i'll've\": \"i will have\",\n",
        "  \"i'm\": \"i am\",\n",
        "  \"i've\": \"i have\",\n",
        "  \"isn't\": \"is not\",\n",
        "  \"it'd\": \"it had\",\n",
        "  \"it'd've\": \"it would have\",\n",
        "  \"it'll\": \"it will\",\n",
        "  \"it'll've\": \"it will have\",\n",
        "  \"it's\": \"it is\",\n",
        "  \"let's\": \"let us\",\n",
        "  \"ma'am\": \"madam\",\n",
        "  \"mayn't\": \"may not\",\n",
        "  \"might've\": \"might have\",\n",
        "  \"mightn't\": \"might not\",\n",
        "  \"mightn't've\": \"might not have\",\n",
        "  \"must've\": \"must have\",\n",
        "  \"mustn't\": \"must not\",\n",
        "  \"mustn't've\": \"must not have\",\n",
        "  \"needn't\": \"need not\",\n",
        "  \"needn't've\": \"need not have\",\n",
        "  \"o'clock\": \"of the clock\",\n",
        "  \"oughtn't\": \"ought not\",\n",
        "  \"oughtn't've\": \"ought not have\",\n",
        "  \"shan't\": \"shall not\",\n",
        "  \"sha'n't\": \"shall not\",\n",
        "  \"shan't've\": \"shall not have\",\n",
        "  \"she'd\": \"she would\",\n",
        "  \"she'd've\": \"she would have\",\n",
        "  \"she'll\": \"she will\",\n",
        "  \"she'll've\": \"she will have\",\n",
        "  \"she's\": \"she is\",\n",
        "  \"should've\": \"should have\",\n",
        "  \"shouldn't\": \"should not\",\n",
        "  \"shouldn't've\": \"should not have\",\n",
        "  \"so've\": \"so have\",\n",
        "  \"so's\": \"so is\",\n",
        "  \"that'd\": \"that would\",\n",
        "  \"that'd've\": \"that would have\",\n",
        "  \"that's\": \"that is\",\n",
        "  \"there'd\": \"there had\",\n",
        "  \"there'd've\": \"there would have\",\n",
        "  \"there's\": \"there is\",\n",
        "  \"they'd\": \"they would\",\n",
        "  \"they'd've\": \"they would have\",\n",
        "  \"they'll\": \"they will\",\n",
        "  \"they'll've\": \"they will have\",\n",
        "  \"they're\": \"they are\",\n",
        "  \"they've\": \"they have\",\n",
        "  \"to've\": \"to have\",\n",
        "  \"wasn't\": \"was not\",\n",
        "  \"we'd\": \"we had\",\n",
        "  \"we'd've\": \"we would have\",\n",
        "  \"we'll\": \"we will\",\n",
        "  \"we'll've\": \"we will have\",\n",
        "  \"we're\": \"we are\",\n",
        "  \"we've\": \"we have\",\n",
        "  \"weren't\": \"were not\",\n",
        "  \"what'll\": \"what will\",\n",
        "  \"what'll've\": \"what will have\",\n",
        "  \"what're\": \"what are\",\n",
        "  \"what's\": \"what is\",\n",
        "  \"what've\": \"what have\",\n",
        "  \"when's\": \"when is\",\n",
        "  \"when've\": \"when have\",\n",
        "  \"where'd\": \"where did\",\n",
        "  \"where's\": \"where is\",\n",
        "  \"where've\": \"where have\",\n",
        "  \"who'll\": \"who will\",\n",
        "  \"who'll've\": \"who will have\",\n",
        "  \"who's\": \"who is\",\n",
        "  \"who've\": \"who have\",\n",
        "  \"why's\": \"why is\",\n",
        "  \"why've\": \"why have\",\n",
        "  \"will've\": \"will have\",\n",
        "  \"won't\": \"will not\",\n",
        "  \"won't've\": \"will not have\",\n",
        "  \"would've\": \"would have\",\n",
        "  \"wouldn't\": \"would not\",\n",
        "  \"wouldn't've\": \"would not have\",\n",
        "  \"y'all\": \"you all\",\n",
        "  \"y'alls\": \"you alls\",\n",
        "  \"y'all'd\": \"you all would\",\n",
        "  \"y'all'd've\": \"you all would have\",\n",
        "  \"y'all're\": \"you all are\",\n",
        "  \"y'all've\": \"you all have\",\n",
        "  \"you'd\": \"you had\",\n",
        "  \"you'd've\": \"you would have\",\n",
        "  \"you'll\": \"you you will\",\n",
        "  \"you'll've\": \"you you will have\",\n",
        "  \"you're\": \"you are\",\n",
        "  \"you've\": \"you have\"\n",
        "}"
      ]
    },
    {
      "cell_type": "code",
      "execution_count": 47,
      "id": "4b6423aa",
      "metadata": {
        "id": "4b6423aa"
      },
      "outputs": [],
      "source": [
        "def cont_to_exp(x):\n",
        "    if type(x) is str:\n",
        "        for key in contractions:\n",
        "            value= contractions[key]\n",
        "            x=x.replace(key,value)\n",
        "        return x\n",
        "    else:\n",
        "        return x"
      ]
    },
    {
      "cell_type": "code",
      "execution_count": 48,
      "id": "875bb474",
      "metadata": {
        "id": "875bb474"
      },
      "outputs": [],
      "source": [
        "x= \"hi, i'd be happy\""
      ]
    },
    {
      "cell_type": "code",
      "execution_count": 49,
      "id": "1dd574d1",
      "metadata": {
        "id": "1dd574d1",
        "outputId": "b62abf00-e7e0-4519-abb5-fb0548ab0de8",
        "colab": {
          "base_uri": "https://localhost:8080/",
          "height": 35
        }
      },
      "outputs": [
        {
          "output_type": "execute_result",
          "data": {
            "text/plain": [
              "'hi, i would be happy'"
            ],
            "application/vnd.google.colaboratory.intrinsic+json": {
              "type": "string"
            }
          },
          "metadata": {},
          "execution_count": 49
        }
      ],
      "source": [
        "cont_to_exp(x)"
      ]
    },
    {
      "cell_type": "code",
      "execution_count": 50,
      "id": "49213278",
      "metadata": {
        "id": "49213278",
        "outputId": "719ed85e-859b-4871-ab4b-934ebe4f6ca2",
        "colab": {
          "base_uri": "https://localhost:8080/"
        }
      },
      "outputs": [
        {
          "output_type": "stream",
          "name": "stdout",
          "text": [
            "CPU times: user 49.1 s, sys: 109 ms, total: 49.2 s\n",
            "Wall time: 49.1 s\n"
          ]
        }
      ],
      "source": [
        "%%time\n",
        "df['tweets']= df['tweets'].apply(lambda x: cont_to_exp(x))"
      ]
    },
    {
      "cell_type": "code",
      "execution_count": 51,
      "id": "d60ae8dc",
      "metadata": {
        "id": "d60ae8dc",
        "outputId": "06a233a4-aaff-446e-e6b3-6e05ef5506ae",
        "colab": {
          "base_uri": "https://localhost:8080/",
          "height": 257
        }
      },
      "outputs": [
        {
          "output_type": "execute_result",
          "data": {
            "text/plain": [
              "                                              tweets  sentiment  word_counts  \\\n",
              "0  @switchfoot http://twitpic.com/2y1zl - awww, t...          0           19   \n",
              "1  is upset that he cannot update his facebook by...          0           21   \n",
              "2  @kenichan i dived many times for the ball. man...          0           18   \n",
              "\n",
              "   char_counts  avg_word_len  stop_words_len  hashtags_counts  \\\n",
              "0          115      5.052632               4                0   \n",
              "1          111      4.285714               9                0   \n",
              "2           89      3.944444               7                0   \n",
              "\n",
              "   mentions_counts  numerics_count  upper_counts  \n",
              "0                1               0             1  \n",
              "1                0               0             0  \n",
              "2                1               0             1  "
            ],
            "text/html": [
              "\n",
              "  <div id=\"df-8d200f1a-0ceb-44f2-8ffc-d6ceede75900\">\n",
              "    <div class=\"colab-df-container\">\n",
              "      <div>\n",
              "<style scoped>\n",
              "    .dataframe tbody tr th:only-of-type {\n",
              "        vertical-align: middle;\n",
              "    }\n",
              "\n",
              "    .dataframe tbody tr th {\n",
              "        vertical-align: top;\n",
              "    }\n",
              "\n",
              "    .dataframe thead th {\n",
              "        text-align: right;\n",
              "    }\n",
              "</style>\n",
              "<table border=\"1\" class=\"dataframe\">\n",
              "  <thead>\n",
              "    <tr style=\"text-align: right;\">\n",
              "      <th></th>\n",
              "      <th>tweets</th>\n",
              "      <th>sentiment</th>\n",
              "      <th>word_counts</th>\n",
              "      <th>char_counts</th>\n",
              "      <th>avg_word_len</th>\n",
              "      <th>stop_words_len</th>\n",
              "      <th>hashtags_counts</th>\n",
              "      <th>mentions_counts</th>\n",
              "      <th>numerics_count</th>\n",
              "      <th>upper_counts</th>\n",
              "    </tr>\n",
              "  </thead>\n",
              "  <tbody>\n",
              "    <tr>\n",
              "      <th>0</th>\n",
              "      <td>@switchfoot http://twitpic.com/2y1zl - awww, t...</td>\n",
              "      <td>0</td>\n",
              "      <td>19</td>\n",
              "      <td>115</td>\n",
              "      <td>5.052632</td>\n",
              "      <td>4</td>\n",
              "      <td>0</td>\n",
              "      <td>1</td>\n",
              "      <td>0</td>\n",
              "      <td>1</td>\n",
              "    </tr>\n",
              "    <tr>\n",
              "      <th>1</th>\n",
              "      <td>is upset that he cannot update his facebook by...</td>\n",
              "      <td>0</td>\n",
              "      <td>21</td>\n",
              "      <td>111</td>\n",
              "      <td>4.285714</td>\n",
              "      <td>9</td>\n",
              "      <td>0</td>\n",
              "      <td>0</td>\n",
              "      <td>0</td>\n",
              "      <td>0</td>\n",
              "    </tr>\n",
              "    <tr>\n",
              "      <th>2</th>\n",
              "      <td>@kenichan i dived many times for the ball. man...</td>\n",
              "      <td>0</td>\n",
              "      <td>18</td>\n",
              "      <td>89</td>\n",
              "      <td>3.944444</td>\n",
              "      <td>7</td>\n",
              "      <td>0</td>\n",
              "      <td>1</td>\n",
              "      <td>0</td>\n",
              "      <td>1</td>\n",
              "    </tr>\n",
              "  </tbody>\n",
              "</table>\n",
              "</div>\n",
              "      <button class=\"colab-df-convert\" onclick=\"convertToInteractive('df-8d200f1a-0ceb-44f2-8ffc-d6ceede75900')\"\n",
              "              title=\"Convert this dataframe to an interactive table.\"\n",
              "              style=\"display:none;\">\n",
              "        \n",
              "  <svg xmlns=\"http://www.w3.org/2000/svg\" height=\"24px\"viewBox=\"0 0 24 24\"\n",
              "       width=\"24px\">\n",
              "    <path d=\"M0 0h24v24H0V0z\" fill=\"none\"/>\n",
              "    <path d=\"M18.56 5.44l.94 2.06.94-2.06 2.06-.94-2.06-.94-.94-2.06-.94 2.06-2.06.94zm-11 1L8.5 8.5l.94-2.06 2.06-.94-2.06-.94L8.5 2.5l-.94 2.06-2.06.94zm10 10l.94 2.06.94-2.06 2.06-.94-2.06-.94-.94-2.06-.94 2.06-2.06.94z\"/><path d=\"M17.41 7.96l-1.37-1.37c-.4-.4-.92-.59-1.43-.59-.52 0-1.04.2-1.43.59L10.3 9.45l-7.72 7.72c-.78.78-.78 2.05 0 2.83L4 21.41c.39.39.9.59 1.41.59.51 0 1.02-.2 1.41-.59l7.78-7.78 2.81-2.81c.8-.78.8-2.07 0-2.86zM5.41 20L4 18.59l7.72-7.72 1.47 1.35L5.41 20z\"/>\n",
              "  </svg>\n",
              "      </button>\n",
              "      \n",
              "  <style>\n",
              "    .colab-df-container {\n",
              "      display:flex;\n",
              "      flex-wrap:wrap;\n",
              "      gap: 12px;\n",
              "    }\n",
              "\n",
              "    .colab-df-convert {\n",
              "      background-color: #E8F0FE;\n",
              "      border: none;\n",
              "      border-radius: 50%;\n",
              "      cursor: pointer;\n",
              "      display: none;\n",
              "      fill: #1967D2;\n",
              "      height: 32px;\n",
              "      padding: 0 0 0 0;\n",
              "      width: 32px;\n",
              "    }\n",
              "\n",
              "    .colab-df-convert:hover {\n",
              "      background-color: #E2EBFA;\n",
              "      box-shadow: 0px 1px 2px rgba(60, 64, 67, 0.3), 0px 1px 3px 1px rgba(60, 64, 67, 0.15);\n",
              "      fill: #174EA6;\n",
              "    }\n",
              "\n",
              "    [theme=dark] .colab-df-convert {\n",
              "      background-color: #3B4455;\n",
              "      fill: #D2E3FC;\n",
              "    }\n",
              "\n",
              "    [theme=dark] .colab-df-convert:hover {\n",
              "      background-color: #434B5C;\n",
              "      box-shadow: 0px 1px 3px 1px rgba(0, 0, 0, 0.15);\n",
              "      filter: drop-shadow(0px 1px 2px rgba(0, 0, 0, 0.3));\n",
              "      fill: #FFFFFF;\n",
              "    }\n",
              "  </style>\n",
              "\n",
              "      <script>\n",
              "        const buttonEl =\n",
              "          document.querySelector('#df-8d200f1a-0ceb-44f2-8ffc-d6ceede75900 button.colab-df-convert');\n",
              "        buttonEl.style.display =\n",
              "          google.colab.kernel.accessAllowed ? 'block' : 'none';\n",
              "\n",
              "        async function convertToInteractive(key) {\n",
              "          const element = document.querySelector('#df-8d200f1a-0ceb-44f2-8ffc-d6ceede75900');\n",
              "          const dataTable =\n",
              "            await google.colab.kernel.invokeFunction('convertToInteractive',\n",
              "                                                     [key], {});\n",
              "          if (!dataTable) return;\n",
              "\n",
              "          const docLinkHtml = 'Like what you see? Visit the ' +\n",
              "            '<a target=\"_blank\" href=https://colab.research.google.com/notebooks/data_table.ipynb>data table notebook</a>'\n",
              "            + ' to learn more about interactive tables.';\n",
              "          element.innerHTML = '';\n",
              "          dataTable['output_type'] = 'display_data';\n",
              "          await google.colab.output.renderOutput(dataTable, element);\n",
              "          const docLink = document.createElement('div');\n",
              "          docLink.innerHTML = docLinkHtml;\n",
              "          element.appendChild(docLink);\n",
              "        }\n",
              "      </script>\n",
              "    </div>\n",
              "  </div>\n",
              "  "
            ]
          },
          "metadata": {},
          "execution_count": 51
        }
      ],
      "source": [
        "df.head(3)"
      ]
    },
    {
      "cell_type": "markdown",
      "id": "a3aeadb5",
      "metadata": {
        "id": "a3aeadb5"
      },
      "source": [
        "## Count and Remove emails"
      ]
    },
    {
      "cell_type": "code",
      "execution_count": 52,
      "id": "83a5f0e0",
      "metadata": {
        "id": "83a5f0e0"
      },
      "outputs": [],
      "source": [
        "import re"
      ]
    },
    {
      "cell_type": "code",
      "execution_count": 53,
      "id": "f8d382a5",
      "metadata": {
        "id": "f8d382a5"
      },
      "outputs": [],
      "source": [
        "x= 'hi my email is abdulbasit@yahoo.com'"
      ]
    },
    {
      "cell_type": "code",
      "execution_count": 54,
      "id": "e9142819",
      "metadata": {
        "id": "e9142819",
        "outputId": "9c58f9b9-2351-4606-e545-ebe279b2ec9c",
        "colab": {
          "base_uri": "https://localhost:8080/"
        }
      },
      "outputs": [
        {
          "output_type": "execute_result",
          "data": {
            "text/plain": [
              "['abdulbasit@yahoo.com']"
            ]
          },
          "metadata": {},
          "execution_count": 54
        }
      ],
      "source": [
        "re.findall(r'([a-zA-Z0-9+._-]+@[a-zA-Z0-9._-]+\\.[a-zA-Z0-9_-]+)',x)"
      ]
    },
    {
      "cell_type": "code",
      "execution_count": 55,
      "id": "7a62f7c9",
      "metadata": {
        "id": "7a62f7c9"
      },
      "outputs": [],
      "source": [
        "df['emails']=df['tweets'].apply(lambda x: re.findall(r'([a-zA-Z0-9+._-]+@[a-zA-Z0-9._-]+\\.[a-zA-Z0-9_-]+)',x))"
      ]
    },
    {
      "cell_type": "code",
      "execution_count": 56,
      "id": "90170727",
      "metadata": {
        "id": "90170727"
      },
      "outputs": [],
      "source": [
        "df['emails_count']=df['emails'].apply(lambda x: len(x))"
      ]
    },
    {
      "cell_type": "code",
      "execution_count": 57,
      "id": "701f542c",
      "metadata": {
        "id": "701f542c",
        "outputId": "eaac377e-bf01-4c6a-a03a-7fd91acb0c7b",
        "colab": {
          "base_uri": "https://localhost:8080/",
          "height": 679
        }
      },
      "outputs": [
        {
          "output_type": "execute_result",
          "data": {
            "text/plain": [
              "                                                    tweets  sentiment  \\\n",
              "4054     i want a new laptop.  hp tx2000 is the bomb. :...          0   \n",
              "7917                       who stole elledell@gmail.com?            0   \n",
              "8496     @alexistehpom  really? did you send out all th...          0   \n",
              "10290    @laureystack awh...that is kinda sad  lol add ...          0   \n",
              "16413    @jilliancyork  got 2 bottom of it, human error...          0   \n",
              "...                                                    ...        ...   \n",
              "1588338  @boudoirsextoys do not forget to shoot me an e...          4   \n",
              "1589132  hi there , anybody got a job for me  oil &amp;...          4   \n",
              "1590489  @clericaaron yes, lbruton@tulsalanparty.com is...          4   \n",
              "1591675  @miss_ellen good morning!!!!   congrats!    se...          4   \n",
              "1599053  @thejoshlynn you are! btw send me an email. wa...          4   \n",
              "\n",
              "         word_counts  char_counts  avg_word_len  stop_words_len  \\\n",
              "4054              20          103      4.150000               6   \n",
              "7917               3           31      9.000000               1   \n",
              "8496              20          130      5.500000              11   \n",
              "10290              8           76      8.500000               0   \n",
              "16413             21          137      5.428571               7   \n",
              "...              ...          ...           ...             ...   \n",
              "1588338           21          127      5.047619              10   \n",
              "1589132           15           98      5.533333               4   \n",
              "1590489           14           95      5.785714               6   \n",
              "1591675            9           77      7.111111               2   \n",
              "1599053           19          145      6.631579               7   \n",
              "\n",
              "         hashtags_counts  mentions_counts  numerics_count  upper_counts  \\\n",
              "4054                   0                0               0             4   \n",
              "7917                   0                0               0             0   \n",
              "8496                   0                1               0             0   \n",
              "10290                  0                1               0             0   \n",
              "16413                  0                1               1             0   \n",
              "...                  ...              ...             ...           ...   \n",
              "1588338                0                1               0             1   \n",
              "1589132                0                0               0             0   \n",
              "1590489                0                1               0             1   \n",
              "1591675                0                1               0             0   \n",
              "1599053                0                1               0             1   \n",
              "\n",
              "                                      emails  emails_count  \n",
              "4054                [gabbehhramos@yahoo.com]             1  \n",
              "7917                    [elledell@gmail.com]             1  \n",
              "8496                  [missataari@gmail.com]             1  \n",
              "10290           [hello.kitty.65@hotmail.com]             1  \n",
              "16413                   [press@linkedin.com]             1  \n",
              "...                                      ...           ...  \n",
              "1588338          [hello@tastelikekisses.com]             1  \n",
              "1589132            [aadvanspijk@yahoo.co.uk]             1  \n",
              "1590489          [lbruton@tulsalanparty.com]             1  \n",
              "1591675                    [jill@q985fm.com]             1  \n",
              "1599053  [marni@creativecustomcardboxes.com]             1  \n",
              "\n",
              "[564 rows x 12 columns]"
            ],
            "text/html": [
              "\n",
              "  <div id=\"df-8ecfbcea-7d29-47f9-98bd-7b6ae0f892cf\">\n",
              "    <div class=\"colab-df-container\">\n",
              "      <div>\n",
              "<style scoped>\n",
              "    .dataframe tbody tr th:only-of-type {\n",
              "        vertical-align: middle;\n",
              "    }\n",
              "\n",
              "    .dataframe tbody tr th {\n",
              "        vertical-align: top;\n",
              "    }\n",
              "\n",
              "    .dataframe thead th {\n",
              "        text-align: right;\n",
              "    }\n",
              "</style>\n",
              "<table border=\"1\" class=\"dataframe\">\n",
              "  <thead>\n",
              "    <tr style=\"text-align: right;\">\n",
              "      <th></th>\n",
              "      <th>tweets</th>\n",
              "      <th>sentiment</th>\n",
              "      <th>word_counts</th>\n",
              "      <th>char_counts</th>\n",
              "      <th>avg_word_len</th>\n",
              "      <th>stop_words_len</th>\n",
              "      <th>hashtags_counts</th>\n",
              "      <th>mentions_counts</th>\n",
              "      <th>numerics_count</th>\n",
              "      <th>upper_counts</th>\n",
              "      <th>emails</th>\n",
              "      <th>emails_count</th>\n",
              "    </tr>\n",
              "  </thead>\n",
              "  <tbody>\n",
              "    <tr>\n",
              "      <th>4054</th>\n",
              "      <td>i want a new laptop.  hp tx2000 is the bomb. :...</td>\n",
              "      <td>0</td>\n",
              "      <td>20</td>\n",
              "      <td>103</td>\n",
              "      <td>4.150000</td>\n",
              "      <td>6</td>\n",
              "      <td>0</td>\n",
              "      <td>0</td>\n",
              "      <td>0</td>\n",
              "      <td>4</td>\n",
              "      <td>[gabbehhramos@yahoo.com]</td>\n",
              "      <td>1</td>\n",
              "    </tr>\n",
              "    <tr>\n",
              "      <th>7917</th>\n",
              "      <td>who stole elledell@gmail.com?</td>\n",
              "      <td>0</td>\n",
              "      <td>3</td>\n",
              "      <td>31</td>\n",
              "      <td>9.000000</td>\n",
              "      <td>1</td>\n",
              "      <td>0</td>\n",
              "      <td>0</td>\n",
              "      <td>0</td>\n",
              "      <td>0</td>\n",
              "      <td>[elledell@gmail.com]</td>\n",
              "      <td>1</td>\n",
              "    </tr>\n",
              "    <tr>\n",
              "      <th>8496</th>\n",
              "      <td>@alexistehpom  really? did you send out all th...</td>\n",
              "      <td>0</td>\n",
              "      <td>20</td>\n",
              "      <td>130</td>\n",
              "      <td>5.500000</td>\n",
              "      <td>11</td>\n",
              "      <td>0</td>\n",
              "      <td>1</td>\n",
              "      <td>0</td>\n",
              "      <td>0</td>\n",
              "      <td>[missataari@gmail.com]</td>\n",
              "      <td>1</td>\n",
              "    </tr>\n",
              "    <tr>\n",
              "      <th>10290</th>\n",
              "      <td>@laureystack awh...that is kinda sad  lol add ...</td>\n",
              "      <td>0</td>\n",
              "      <td>8</td>\n",
              "      <td>76</td>\n",
              "      <td>8.500000</td>\n",
              "      <td>0</td>\n",
              "      <td>0</td>\n",
              "      <td>1</td>\n",
              "      <td>0</td>\n",
              "      <td>0</td>\n",
              "      <td>[hello.kitty.65@hotmail.com]</td>\n",
              "      <td>1</td>\n",
              "    </tr>\n",
              "    <tr>\n",
              "      <th>16413</th>\n",
              "      <td>@jilliancyork  got 2 bottom of it, human error...</td>\n",
              "      <td>0</td>\n",
              "      <td>21</td>\n",
              "      <td>137</td>\n",
              "      <td>5.428571</td>\n",
              "      <td>7</td>\n",
              "      <td>0</td>\n",
              "      <td>1</td>\n",
              "      <td>1</td>\n",
              "      <td>0</td>\n",
              "      <td>[press@linkedin.com]</td>\n",
              "      <td>1</td>\n",
              "    </tr>\n",
              "    <tr>\n",
              "      <th>...</th>\n",
              "      <td>...</td>\n",
              "      <td>...</td>\n",
              "      <td>...</td>\n",
              "      <td>...</td>\n",
              "      <td>...</td>\n",
              "      <td>...</td>\n",
              "      <td>...</td>\n",
              "      <td>...</td>\n",
              "      <td>...</td>\n",
              "      <td>...</td>\n",
              "      <td>...</td>\n",
              "      <td>...</td>\n",
              "    </tr>\n",
              "    <tr>\n",
              "      <th>1588338</th>\n",
              "      <td>@boudoirsextoys do not forget to shoot me an e...</td>\n",
              "      <td>4</td>\n",
              "      <td>21</td>\n",
              "      <td>127</td>\n",
              "      <td>5.047619</td>\n",
              "      <td>10</td>\n",
              "      <td>0</td>\n",
              "      <td>1</td>\n",
              "      <td>0</td>\n",
              "      <td>1</td>\n",
              "      <td>[hello@tastelikekisses.com]</td>\n",
              "      <td>1</td>\n",
              "    </tr>\n",
              "    <tr>\n",
              "      <th>1589132</th>\n",
              "      <td>hi there , anybody got a job for me  oil &amp;amp;...</td>\n",
              "      <td>4</td>\n",
              "      <td>15</td>\n",
              "      <td>98</td>\n",
              "      <td>5.533333</td>\n",
              "      <td>4</td>\n",
              "      <td>0</td>\n",
              "      <td>0</td>\n",
              "      <td>0</td>\n",
              "      <td>0</td>\n",
              "      <td>[aadvanspijk@yahoo.co.uk]</td>\n",
              "      <td>1</td>\n",
              "    </tr>\n",
              "    <tr>\n",
              "      <th>1590489</th>\n",
              "      <td>@clericaaron yes, lbruton@tulsalanparty.com is...</td>\n",
              "      <td>4</td>\n",
              "      <td>14</td>\n",
              "      <td>95</td>\n",
              "      <td>5.785714</td>\n",
              "      <td>6</td>\n",
              "      <td>0</td>\n",
              "      <td>1</td>\n",
              "      <td>0</td>\n",
              "      <td>1</td>\n",
              "      <td>[lbruton@tulsalanparty.com]</td>\n",
              "      <td>1</td>\n",
              "    </tr>\n",
              "    <tr>\n",
              "      <th>1591675</th>\n",
              "      <td>@miss_ellen good morning!!!!   congrats!    se...</td>\n",
              "      <td>4</td>\n",
              "      <td>9</td>\n",
              "      <td>77</td>\n",
              "      <td>7.111111</td>\n",
              "      <td>2</td>\n",
              "      <td>0</td>\n",
              "      <td>1</td>\n",
              "      <td>0</td>\n",
              "      <td>0</td>\n",
              "      <td>[jill@q985fm.com]</td>\n",
              "      <td>1</td>\n",
              "    </tr>\n",
              "    <tr>\n",
              "      <th>1599053</th>\n",
              "      <td>@thejoshlynn you are! btw send me an email. wa...</td>\n",
              "      <td>4</td>\n",
              "      <td>19</td>\n",
              "      <td>145</td>\n",
              "      <td>6.631579</td>\n",
              "      <td>7</td>\n",
              "      <td>0</td>\n",
              "      <td>1</td>\n",
              "      <td>0</td>\n",
              "      <td>1</td>\n",
              "      <td>[marni@creativecustomcardboxes.com]</td>\n",
              "      <td>1</td>\n",
              "    </tr>\n",
              "  </tbody>\n",
              "</table>\n",
              "<p>564 rows × 12 columns</p>\n",
              "</div>\n",
              "      <button class=\"colab-df-convert\" onclick=\"convertToInteractive('df-8ecfbcea-7d29-47f9-98bd-7b6ae0f892cf')\"\n",
              "              title=\"Convert this dataframe to an interactive table.\"\n",
              "              style=\"display:none;\">\n",
              "        \n",
              "  <svg xmlns=\"http://www.w3.org/2000/svg\" height=\"24px\"viewBox=\"0 0 24 24\"\n",
              "       width=\"24px\">\n",
              "    <path d=\"M0 0h24v24H0V0z\" fill=\"none\"/>\n",
              "    <path d=\"M18.56 5.44l.94 2.06.94-2.06 2.06-.94-2.06-.94-.94-2.06-.94 2.06-2.06.94zm-11 1L8.5 8.5l.94-2.06 2.06-.94-2.06-.94L8.5 2.5l-.94 2.06-2.06.94zm10 10l.94 2.06.94-2.06 2.06-.94-2.06-.94-.94-2.06-.94 2.06-2.06.94z\"/><path d=\"M17.41 7.96l-1.37-1.37c-.4-.4-.92-.59-1.43-.59-.52 0-1.04.2-1.43.59L10.3 9.45l-7.72 7.72c-.78.78-.78 2.05 0 2.83L4 21.41c.39.39.9.59 1.41.59.51 0 1.02-.2 1.41-.59l7.78-7.78 2.81-2.81c.8-.78.8-2.07 0-2.86zM5.41 20L4 18.59l7.72-7.72 1.47 1.35L5.41 20z\"/>\n",
              "  </svg>\n",
              "      </button>\n",
              "      \n",
              "  <style>\n",
              "    .colab-df-container {\n",
              "      display:flex;\n",
              "      flex-wrap:wrap;\n",
              "      gap: 12px;\n",
              "    }\n",
              "\n",
              "    .colab-df-convert {\n",
              "      background-color: #E8F0FE;\n",
              "      border: none;\n",
              "      border-radius: 50%;\n",
              "      cursor: pointer;\n",
              "      display: none;\n",
              "      fill: #1967D2;\n",
              "      height: 32px;\n",
              "      padding: 0 0 0 0;\n",
              "      width: 32px;\n",
              "    }\n",
              "\n",
              "    .colab-df-convert:hover {\n",
              "      background-color: #E2EBFA;\n",
              "      box-shadow: 0px 1px 2px rgba(60, 64, 67, 0.3), 0px 1px 3px 1px rgba(60, 64, 67, 0.15);\n",
              "      fill: #174EA6;\n",
              "    }\n",
              "\n",
              "    [theme=dark] .colab-df-convert {\n",
              "      background-color: #3B4455;\n",
              "      fill: #D2E3FC;\n",
              "    }\n",
              "\n",
              "    [theme=dark] .colab-df-convert:hover {\n",
              "      background-color: #434B5C;\n",
              "      box-shadow: 0px 1px 3px 1px rgba(0, 0, 0, 0.15);\n",
              "      filter: drop-shadow(0px 1px 2px rgba(0, 0, 0, 0.3));\n",
              "      fill: #FFFFFF;\n",
              "    }\n",
              "  </style>\n",
              "\n",
              "      <script>\n",
              "        const buttonEl =\n",
              "          document.querySelector('#df-8ecfbcea-7d29-47f9-98bd-7b6ae0f892cf button.colab-df-convert');\n",
              "        buttonEl.style.display =\n",
              "          google.colab.kernel.accessAllowed ? 'block' : 'none';\n",
              "\n",
              "        async function convertToInteractive(key) {\n",
              "          const element = document.querySelector('#df-8ecfbcea-7d29-47f9-98bd-7b6ae0f892cf');\n",
              "          const dataTable =\n",
              "            await google.colab.kernel.invokeFunction('convertToInteractive',\n",
              "                                                     [key], {});\n",
              "          if (!dataTable) return;\n",
              "\n",
              "          const docLinkHtml = 'Like what you see? Visit the ' +\n",
              "            '<a target=\"_blank\" href=https://colab.research.google.com/notebooks/data_table.ipynb>data table notebook</a>'\n",
              "            + ' to learn more about interactive tables.';\n",
              "          element.innerHTML = '';\n",
              "          dataTable['output_type'] = 'display_data';\n",
              "          await google.colab.output.renderOutput(dataTable, element);\n",
              "          const docLink = document.createElement('div');\n",
              "          docLink.innerHTML = docLinkHtml;\n",
              "          element.appendChild(docLink);\n",
              "        }\n",
              "      </script>\n",
              "    </div>\n",
              "  </div>\n",
              "  "
            ]
          },
          "metadata": {},
          "execution_count": 57
        }
      ],
      "source": [
        "df[df['emails_count']>0]"
      ]
    },
    {
      "cell_type": "code",
      "execution_count": 58,
      "id": "469a5a40",
      "metadata": {
        "id": "469a5a40"
      },
      "outputs": [],
      "source": [
        "# Remove email from tweets\n",
        "df['tweets']=df['tweets'].apply(lambda x: re.sub(r'([a-zA-Z0-9+._-]+@[a-zA-Z0-9._-]+\\.[a-zA-Z0-9_-]+)', '',x))"
      ]
    },
    {
      "cell_type": "code",
      "execution_count": 59,
      "id": "8c75e193",
      "metadata": {
        "id": "8c75e193",
        "outputId": "78123e65-31bf-4837-944c-0e0edd83ed25",
        "colab": {
          "base_uri": "https://localhost:8080/",
          "height": 444
        }
      },
      "outputs": [
        {
          "output_type": "execute_result",
          "data": {
            "text/plain": [
              "                                              tweets  sentiment  word_counts  \\\n",
              "0  @switchfoot http://twitpic.com/2y1zl - awww, t...          0           19   \n",
              "1  is upset that he cannot update his facebook by...          0           21   \n",
              "2  @kenichan i dived many times for the ball. man...          0           18   \n",
              "3    my whole body feels itchy and like its on fire           0           10   \n",
              "4  @nationwideclass no, it is not behaving at all...          0           21   \n",
              "\n",
              "   char_counts  avg_word_len  stop_words_len  hashtags_counts  \\\n",
              "0          115      5.052632               4                0   \n",
              "1          111      4.285714               9                0   \n",
              "2           89      3.944444               7                0   \n",
              "3           47      3.700000               5                0   \n",
              "4          111      4.285714              10                0   \n",
              "\n",
              "   mentions_counts  numerics_count  upper_counts emails  emails_count  \n",
              "0                1               0             1     []             0  \n",
              "1                0               0             0     []             0  \n",
              "2                1               0             1     []             0  \n",
              "3                0               0             0     []             0  \n",
              "4                1               0             1     []             0  "
            ],
            "text/html": [
              "\n",
              "  <div id=\"df-16e24406-a262-42b6-a360-5b66955cab67\">\n",
              "    <div class=\"colab-df-container\">\n",
              "      <div>\n",
              "<style scoped>\n",
              "    .dataframe tbody tr th:only-of-type {\n",
              "        vertical-align: middle;\n",
              "    }\n",
              "\n",
              "    .dataframe tbody tr th {\n",
              "        vertical-align: top;\n",
              "    }\n",
              "\n",
              "    .dataframe thead th {\n",
              "        text-align: right;\n",
              "    }\n",
              "</style>\n",
              "<table border=\"1\" class=\"dataframe\">\n",
              "  <thead>\n",
              "    <tr style=\"text-align: right;\">\n",
              "      <th></th>\n",
              "      <th>tweets</th>\n",
              "      <th>sentiment</th>\n",
              "      <th>word_counts</th>\n",
              "      <th>char_counts</th>\n",
              "      <th>avg_word_len</th>\n",
              "      <th>stop_words_len</th>\n",
              "      <th>hashtags_counts</th>\n",
              "      <th>mentions_counts</th>\n",
              "      <th>numerics_count</th>\n",
              "      <th>upper_counts</th>\n",
              "      <th>emails</th>\n",
              "      <th>emails_count</th>\n",
              "    </tr>\n",
              "  </thead>\n",
              "  <tbody>\n",
              "    <tr>\n",
              "      <th>0</th>\n",
              "      <td>@switchfoot http://twitpic.com/2y1zl - awww, t...</td>\n",
              "      <td>0</td>\n",
              "      <td>19</td>\n",
              "      <td>115</td>\n",
              "      <td>5.052632</td>\n",
              "      <td>4</td>\n",
              "      <td>0</td>\n",
              "      <td>1</td>\n",
              "      <td>0</td>\n",
              "      <td>1</td>\n",
              "      <td>[]</td>\n",
              "      <td>0</td>\n",
              "    </tr>\n",
              "    <tr>\n",
              "      <th>1</th>\n",
              "      <td>is upset that he cannot update his facebook by...</td>\n",
              "      <td>0</td>\n",
              "      <td>21</td>\n",
              "      <td>111</td>\n",
              "      <td>4.285714</td>\n",
              "      <td>9</td>\n",
              "      <td>0</td>\n",
              "      <td>0</td>\n",
              "      <td>0</td>\n",
              "      <td>0</td>\n",
              "      <td>[]</td>\n",
              "      <td>0</td>\n",
              "    </tr>\n",
              "    <tr>\n",
              "      <th>2</th>\n",
              "      <td>@kenichan i dived many times for the ball. man...</td>\n",
              "      <td>0</td>\n",
              "      <td>18</td>\n",
              "      <td>89</td>\n",
              "      <td>3.944444</td>\n",
              "      <td>7</td>\n",
              "      <td>0</td>\n",
              "      <td>1</td>\n",
              "      <td>0</td>\n",
              "      <td>1</td>\n",
              "      <td>[]</td>\n",
              "      <td>0</td>\n",
              "    </tr>\n",
              "    <tr>\n",
              "      <th>3</th>\n",
              "      <td>my whole body feels itchy and like its on fire</td>\n",
              "      <td>0</td>\n",
              "      <td>10</td>\n",
              "      <td>47</td>\n",
              "      <td>3.700000</td>\n",
              "      <td>5</td>\n",
              "      <td>0</td>\n",
              "      <td>0</td>\n",
              "      <td>0</td>\n",
              "      <td>0</td>\n",
              "      <td>[]</td>\n",
              "      <td>0</td>\n",
              "    </tr>\n",
              "    <tr>\n",
              "      <th>4</th>\n",
              "      <td>@nationwideclass no, it is not behaving at all...</td>\n",
              "      <td>0</td>\n",
              "      <td>21</td>\n",
              "      <td>111</td>\n",
              "      <td>4.285714</td>\n",
              "      <td>10</td>\n",
              "      <td>0</td>\n",
              "      <td>1</td>\n",
              "      <td>0</td>\n",
              "      <td>1</td>\n",
              "      <td>[]</td>\n",
              "      <td>0</td>\n",
              "    </tr>\n",
              "  </tbody>\n",
              "</table>\n",
              "</div>\n",
              "      <button class=\"colab-df-convert\" onclick=\"convertToInteractive('df-16e24406-a262-42b6-a360-5b66955cab67')\"\n",
              "              title=\"Convert this dataframe to an interactive table.\"\n",
              "              style=\"display:none;\">\n",
              "        \n",
              "  <svg xmlns=\"http://www.w3.org/2000/svg\" height=\"24px\"viewBox=\"0 0 24 24\"\n",
              "       width=\"24px\">\n",
              "    <path d=\"M0 0h24v24H0V0z\" fill=\"none\"/>\n",
              "    <path d=\"M18.56 5.44l.94 2.06.94-2.06 2.06-.94-2.06-.94-.94-2.06-.94 2.06-2.06.94zm-11 1L8.5 8.5l.94-2.06 2.06-.94-2.06-.94L8.5 2.5l-.94 2.06-2.06.94zm10 10l.94 2.06.94-2.06 2.06-.94-2.06-.94-.94-2.06-.94 2.06-2.06.94z\"/><path d=\"M17.41 7.96l-1.37-1.37c-.4-.4-.92-.59-1.43-.59-.52 0-1.04.2-1.43.59L10.3 9.45l-7.72 7.72c-.78.78-.78 2.05 0 2.83L4 21.41c.39.39.9.59 1.41.59.51 0 1.02-.2 1.41-.59l7.78-7.78 2.81-2.81c.8-.78.8-2.07 0-2.86zM5.41 20L4 18.59l7.72-7.72 1.47 1.35L5.41 20z\"/>\n",
              "  </svg>\n",
              "      </button>\n",
              "      \n",
              "  <style>\n",
              "    .colab-df-container {\n",
              "      display:flex;\n",
              "      flex-wrap:wrap;\n",
              "      gap: 12px;\n",
              "    }\n",
              "\n",
              "    .colab-df-convert {\n",
              "      background-color: #E8F0FE;\n",
              "      border: none;\n",
              "      border-radius: 50%;\n",
              "      cursor: pointer;\n",
              "      display: none;\n",
              "      fill: #1967D2;\n",
              "      height: 32px;\n",
              "      padding: 0 0 0 0;\n",
              "      width: 32px;\n",
              "    }\n",
              "\n",
              "    .colab-df-convert:hover {\n",
              "      background-color: #E2EBFA;\n",
              "      box-shadow: 0px 1px 2px rgba(60, 64, 67, 0.3), 0px 1px 3px 1px rgba(60, 64, 67, 0.15);\n",
              "      fill: #174EA6;\n",
              "    }\n",
              "\n",
              "    [theme=dark] .colab-df-convert {\n",
              "      background-color: #3B4455;\n",
              "      fill: #D2E3FC;\n",
              "    }\n",
              "\n",
              "    [theme=dark] .colab-df-convert:hover {\n",
              "      background-color: #434B5C;\n",
              "      box-shadow: 0px 1px 3px 1px rgba(0, 0, 0, 0.15);\n",
              "      filter: drop-shadow(0px 1px 2px rgba(0, 0, 0, 0.3));\n",
              "      fill: #FFFFFF;\n",
              "    }\n",
              "  </style>\n",
              "\n",
              "      <script>\n",
              "        const buttonEl =\n",
              "          document.querySelector('#df-16e24406-a262-42b6-a360-5b66955cab67 button.colab-df-convert');\n",
              "        buttonEl.style.display =\n",
              "          google.colab.kernel.accessAllowed ? 'block' : 'none';\n",
              "\n",
              "        async function convertToInteractive(key) {\n",
              "          const element = document.querySelector('#df-16e24406-a262-42b6-a360-5b66955cab67');\n",
              "          const dataTable =\n",
              "            await google.colab.kernel.invokeFunction('convertToInteractive',\n",
              "                                                     [key], {});\n",
              "          if (!dataTable) return;\n",
              "\n",
              "          const docLinkHtml = 'Like what you see? Visit the ' +\n",
              "            '<a target=\"_blank\" href=https://colab.research.google.com/notebooks/data_table.ipynb>data table notebook</a>'\n",
              "            + ' to learn more about interactive tables.';\n",
              "          element.innerHTML = '';\n",
              "          dataTable['output_type'] = 'display_data';\n",
              "          await google.colab.output.renderOutput(dataTable, element);\n",
              "          const docLink = document.createElement('div');\n",
              "          docLink.innerHTML = docLinkHtml;\n",
              "          element.appendChild(docLink);\n",
              "        }\n",
              "      </script>\n",
              "    </div>\n",
              "  </div>\n",
              "  "
            ]
          },
          "metadata": {},
          "execution_count": 59
        }
      ],
      "source": [
        "df.head()"
      ]
    },
    {
      "cell_type": "code",
      "execution_count": 60,
      "id": "131c882d",
      "metadata": {
        "id": "131c882d",
        "outputId": "b9f7d7ca-61c6-429a-d375-426802cb3fd5",
        "colab": {
          "base_uri": "https://localhost:8080/",
          "height": 478
        }
      },
      "outputs": [
        {
          "output_type": "execute_result",
          "data": {
            "text/plain": [
              "                                                  tweets  sentiment  \\\n",
              "4054   i want a new laptop.  hp tx2000 is the bomb. :...          0   \n",
              "7917                                       who stole ?            0   \n",
              "8496   @alexistehpom  really? did you send out all th...          0   \n",
              "10290  @laureystack awh...that is kinda sad  lol add ...          0   \n",
              "16413  @jilliancyork  got 2 bottom of it, human error...          0   \n",
              "\n",
              "       word_counts  char_counts  avg_word_len  stop_words_len  \\\n",
              "4054            20          103      4.150000               6   \n",
              "7917             3           31      9.000000               1   \n",
              "8496            20          130      5.500000              11   \n",
              "10290            8           76      8.500000               0   \n",
              "16413           21          137      5.428571               7   \n",
              "\n",
              "       hashtags_counts  mentions_counts  numerics_count  upper_counts  \\\n",
              "4054                 0                0               0             4   \n",
              "7917                 0                0               0             0   \n",
              "8496                 0                1               0             0   \n",
              "10290                0                1               0             0   \n",
              "16413                0                1               1             0   \n",
              "\n",
              "                             emails  emails_count  \n",
              "4054       [gabbehhramos@yahoo.com]             1  \n",
              "7917           [elledell@gmail.com]             1  \n",
              "8496         [missataari@gmail.com]             1  \n",
              "10290  [hello.kitty.65@hotmail.com]             1  \n",
              "16413          [press@linkedin.com]             1  "
            ],
            "text/html": [
              "\n",
              "  <div id=\"df-050c4f0b-b8c5-4010-8225-306f9f263637\">\n",
              "    <div class=\"colab-df-container\">\n",
              "      <div>\n",
              "<style scoped>\n",
              "    .dataframe tbody tr th:only-of-type {\n",
              "        vertical-align: middle;\n",
              "    }\n",
              "\n",
              "    .dataframe tbody tr th {\n",
              "        vertical-align: top;\n",
              "    }\n",
              "\n",
              "    .dataframe thead th {\n",
              "        text-align: right;\n",
              "    }\n",
              "</style>\n",
              "<table border=\"1\" class=\"dataframe\">\n",
              "  <thead>\n",
              "    <tr style=\"text-align: right;\">\n",
              "      <th></th>\n",
              "      <th>tweets</th>\n",
              "      <th>sentiment</th>\n",
              "      <th>word_counts</th>\n",
              "      <th>char_counts</th>\n",
              "      <th>avg_word_len</th>\n",
              "      <th>stop_words_len</th>\n",
              "      <th>hashtags_counts</th>\n",
              "      <th>mentions_counts</th>\n",
              "      <th>numerics_count</th>\n",
              "      <th>upper_counts</th>\n",
              "      <th>emails</th>\n",
              "      <th>emails_count</th>\n",
              "    </tr>\n",
              "  </thead>\n",
              "  <tbody>\n",
              "    <tr>\n",
              "      <th>4054</th>\n",
              "      <td>i want a new laptop.  hp tx2000 is the bomb. :...</td>\n",
              "      <td>0</td>\n",
              "      <td>20</td>\n",
              "      <td>103</td>\n",
              "      <td>4.150000</td>\n",
              "      <td>6</td>\n",
              "      <td>0</td>\n",
              "      <td>0</td>\n",
              "      <td>0</td>\n",
              "      <td>4</td>\n",
              "      <td>[gabbehhramos@yahoo.com]</td>\n",
              "      <td>1</td>\n",
              "    </tr>\n",
              "    <tr>\n",
              "      <th>7917</th>\n",
              "      <td>who stole ?</td>\n",
              "      <td>0</td>\n",
              "      <td>3</td>\n",
              "      <td>31</td>\n",
              "      <td>9.000000</td>\n",
              "      <td>1</td>\n",
              "      <td>0</td>\n",
              "      <td>0</td>\n",
              "      <td>0</td>\n",
              "      <td>0</td>\n",
              "      <td>[elledell@gmail.com]</td>\n",
              "      <td>1</td>\n",
              "    </tr>\n",
              "    <tr>\n",
              "      <th>8496</th>\n",
              "      <td>@alexistehpom  really? did you send out all th...</td>\n",
              "      <td>0</td>\n",
              "      <td>20</td>\n",
              "      <td>130</td>\n",
              "      <td>5.500000</td>\n",
              "      <td>11</td>\n",
              "      <td>0</td>\n",
              "      <td>1</td>\n",
              "      <td>0</td>\n",
              "      <td>0</td>\n",
              "      <td>[missataari@gmail.com]</td>\n",
              "      <td>1</td>\n",
              "    </tr>\n",
              "    <tr>\n",
              "      <th>10290</th>\n",
              "      <td>@laureystack awh...that is kinda sad  lol add ...</td>\n",
              "      <td>0</td>\n",
              "      <td>8</td>\n",
              "      <td>76</td>\n",
              "      <td>8.500000</td>\n",
              "      <td>0</td>\n",
              "      <td>0</td>\n",
              "      <td>1</td>\n",
              "      <td>0</td>\n",
              "      <td>0</td>\n",
              "      <td>[hello.kitty.65@hotmail.com]</td>\n",
              "      <td>1</td>\n",
              "    </tr>\n",
              "    <tr>\n",
              "      <th>16413</th>\n",
              "      <td>@jilliancyork  got 2 bottom of it, human error...</td>\n",
              "      <td>0</td>\n",
              "      <td>21</td>\n",
              "      <td>137</td>\n",
              "      <td>5.428571</td>\n",
              "      <td>7</td>\n",
              "      <td>0</td>\n",
              "      <td>1</td>\n",
              "      <td>1</td>\n",
              "      <td>0</td>\n",
              "      <td>[press@linkedin.com]</td>\n",
              "      <td>1</td>\n",
              "    </tr>\n",
              "  </tbody>\n",
              "</table>\n",
              "</div>\n",
              "      <button class=\"colab-df-convert\" onclick=\"convertToInteractive('df-050c4f0b-b8c5-4010-8225-306f9f263637')\"\n",
              "              title=\"Convert this dataframe to an interactive table.\"\n",
              "              style=\"display:none;\">\n",
              "        \n",
              "  <svg xmlns=\"http://www.w3.org/2000/svg\" height=\"24px\"viewBox=\"0 0 24 24\"\n",
              "       width=\"24px\">\n",
              "    <path d=\"M0 0h24v24H0V0z\" fill=\"none\"/>\n",
              "    <path d=\"M18.56 5.44l.94 2.06.94-2.06 2.06-.94-2.06-.94-.94-2.06-.94 2.06-2.06.94zm-11 1L8.5 8.5l.94-2.06 2.06-.94-2.06-.94L8.5 2.5l-.94 2.06-2.06.94zm10 10l.94 2.06.94-2.06 2.06-.94-2.06-.94-.94-2.06-.94 2.06-2.06.94z\"/><path d=\"M17.41 7.96l-1.37-1.37c-.4-.4-.92-.59-1.43-.59-.52 0-1.04.2-1.43.59L10.3 9.45l-7.72 7.72c-.78.78-.78 2.05 0 2.83L4 21.41c.39.39.9.59 1.41.59.51 0 1.02-.2 1.41-.59l7.78-7.78 2.81-2.81c.8-.78.8-2.07 0-2.86zM5.41 20L4 18.59l7.72-7.72 1.47 1.35L5.41 20z\"/>\n",
              "  </svg>\n",
              "      </button>\n",
              "      \n",
              "  <style>\n",
              "    .colab-df-container {\n",
              "      display:flex;\n",
              "      flex-wrap:wrap;\n",
              "      gap: 12px;\n",
              "    }\n",
              "\n",
              "    .colab-df-convert {\n",
              "      background-color: #E8F0FE;\n",
              "      border: none;\n",
              "      border-radius: 50%;\n",
              "      cursor: pointer;\n",
              "      display: none;\n",
              "      fill: #1967D2;\n",
              "      height: 32px;\n",
              "      padding: 0 0 0 0;\n",
              "      width: 32px;\n",
              "    }\n",
              "\n",
              "    .colab-df-convert:hover {\n",
              "      background-color: #E2EBFA;\n",
              "      box-shadow: 0px 1px 2px rgba(60, 64, 67, 0.3), 0px 1px 3px 1px rgba(60, 64, 67, 0.15);\n",
              "      fill: #174EA6;\n",
              "    }\n",
              "\n",
              "    [theme=dark] .colab-df-convert {\n",
              "      background-color: #3B4455;\n",
              "      fill: #D2E3FC;\n",
              "    }\n",
              "\n",
              "    [theme=dark] .colab-df-convert:hover {\n",
              "      background-color: #434B5C;\n",
              "      box-shadow: 0px 1px 3px 1px rgba(0, 0, 0, 0.15);\n",
              "      filter: drop-shadow(0px 1px 2px rgba(0, 0, 0, 0.3));\n",
              "      fill: #FFFFFF;\n",
              "    }\n",
              "  </style>\n",
              "\n",
              "      <script>\n",
              "        const buttonEl =\n",
              "          document.querySelector('#df-050c4f0b-b8c5-4010-8225-306f9f263637 button.colab-df-convert');\n",
              "        buttonEl.style.display =\n",
              "          google.colab.kernel.accessAllowed ? 'block' : 'none';\n",
              "\n",
              "        async function convertToInteractive(key) {\n",
              "          const element = document.querySelector('#df-050c4f0b-b8c5-4010-8225-306f9f263637');\n",
              "          const dataTable =\n",
              "            await google.colab.kernel.invokeFunction('convertToInteractive',\n",
              "                                                     [key], {});\n",
              "          if (!dataTable) return;\n",
              "\n",
              "          const docLinkHtml = 'Like what you see? Visit the ' +\n",
              "            '<a target=\"_blank\" href=https://colab.research.google.com/notebooks/data_table.ipynb>data table notebook</a>'\n",
              "            + ' to learn more about interactive tables.';\n",
              "          element.innerHTML = '';\n",
              "          dataTable['output_type'] = 'display_data';\n",
              "          await google.colab.output.renderOutput(dataTable, element);\n",
              "          const docLink = document.createElement('div');\n",
              "          docLink.innerHTML = docLinkHtml;\n",
              "          element.appendChild(docLink);\n",
              "        }\n",
              "      </script>\n",
              "    </div>\n",
              "  </div>\n",
              "  "
            ]
          },
          "metadata": {},
          "execution_count": 60
        }
      ],
      "source": [
        "df[df['emails_count']>0].head()"
      ]
    },
    {
      "cell_type": "markdown",
      "id": "946d046e",
      "metadata": {
        "id": "946d046e"
      },
      "source": [
        "## Count URLs and Remove it"
      ]
    },
    {
      "cell_type": "code",
      "execution_count": 61,
      "id": "e6bffaed",
      "metadata": {
        "id": "e6bffaed"
      },
      "outputs": [],
      "source": [
        "x= 'hi, to watch more visit https://youtube.com/gshjskbsk'"
      ]
    },
    {
      "cell_type": "code",
      "execution_count": 62,
      "id": "ff7b8b62",
      "metadata": {
        "id": "ff7b8b62",
        "outputId": "5219935c-4a3a-486a-f1d0-39fbe2d982de",
        "colab": {
          "base_uri": "https://localhost:8080/"
        }
      },
      "outputs": [
        {
          "output_type": "execute_result",
          "data": {
            "text/plain": [
              "[('https', 'youtube.com', '/gshjskbsk')]"
            ]
          },
          "metadata": {},
          "execution_count": 62
        }
      ],
      "source": [
        "re.findall(r'(http|ftp|https)://([\\w_-]+(?:(?:\\.[\\w_-]+)+))([\\w.,@?^=%&:/~+#-]*[\\w@?^=%&/~+#-])?',x)"
      ]
    },
    {
      "cell_type": "code",
      "execution_count": 63,
      "id": "5ac46bc5",
      "metadata": {
        "id": "5ac46bc5"
      },
      "outputs": [],
      "source": [
        "# length of urls in each tweet\n",
        "df['urls_flag']= df['tweets'].apply(lambda x: len(re.findall(r'(http|ftp|https)://([\\w_-]+(?:(?:\\.[\\w_-]+)+))([\\w.,@?^=%&:/~+#-]*[\\w@?^=%&/~+#-])?',x)))"
      ]
    },
    {
      "cell_type": "code",
      "execution_count": 64,
      "id": "37088da5",
      "metadata": {
        "id": "37088da5",
        "outputId": "dc4e23e7-ab1f-4dd2-beb9-8dde8b11418d",
        "colab": {
          "base_uri": "https://localhost:8080/",
          "height": 35
        }
      },
      "outputs": [
        {
          "output_type": "execute_result",
          "data": {
            "text/plain": [
              "'hi, to watch more visit '"
            ],
            "application/vnd.google.colaboratory.intrinsic+json": {
              "type": "string"
            }
          },
          "metadata": {},
          "execution_count": 64
        }
      ],
      "source": [
        "# Testing on our x\n",
        "re.sub(r'(http|ftp|https)://([\\w_-]+(?:(?:\\.[\\w_-]+)+))([\\w.,@?^=%&:/~+#-]*[\\w@?^=%&/~+#-])?','',x)"
      ]
    },
    {
      "cell_type": "code",
      "execution_count": 65,
      "id": "86f041df",
      "metadata": {
        "id": "86f041df"
      },
      "outputs": [],
      "source": [
        "# Now on tweets to remove urls\n",
        "df['tweets']= df['tweets'].apply(lambda x: re.sub(r'(http|ftp|https)://([\\w_-]+(?:(?:\\.[\\w_-]+)+))([\\w.,@?^=%&:/~+#-]*[\\w@?^=%&/~+#-])?','',x))"
      ]
    },
    {
      "cell_type": "code",
      "execution_count": 66,
      "id": "4c473f60",
      "metadata": {
        "id": "4c473f60",
        "outputId": "f96f1b15-2846-4d3c-cfdf-6280c647adbb",
        "colab": {
          "base_uri": "https://localhost:8080/",
          "height": 444
        }
      },
      "outputs": [
        {
          "output_type": "execute_result",
          "data": {
            "text/plain": [
              "                                              tweets  sentiment  word_counts  \\\n",
              "0  @switchfoot  - awww, that is a bummer.  you sh...          0           19   \n",
              "1  is upset that he cannot update his facebook by...          0           21   \n",
              "2  @kenichan i dived many times for the ball. man...          0           18   \n",
              "3    my whole body feels itchy and like its on fire           0           10   \n",
              "4  @nationwideclass no, it is not behaving at all...          0           21   \n",
              "\n",
              "   char_counts  avg_word_len  stop_words_len  hashtags_counts  \\\n",
              "0          115      5.052632               4                0   \n",
              "1          111      4.285714               9                0   \n",
              "2           89      3.944444               7                0   \n",
              "3           47      3.700000               5                0   \n",
              "4          111      4.285714              10                0   \n",
              "\n",
              "   mentions_counts  numerics_count  upper_counts emails  emails_count  \\\n",
              "0                1               0             1     []             0   \n",
              "1                0               0             0     []             0   \n",
              "2                1               0             1     []             0   \n",
              "3                0               0             0     []             0   \n",
              "4                1               0             1     []             0   \n",
              "\n",
              "   urls_flag  \n",
              "0          1  \n",
              "1          0  \n",
              "2          0  \n",
              "3          0  \n",
              "4          0  "
            ],
            "text/html": [
              "\n",
              "  <div id=\"df-4876439d-8016-4088-8ec2-13ff6a8191e6\">\n",
              "    <div class=\"colab-df-container\">\n",
              "      <div>\n",
              "<style scoped>\n",
              "    .dataframe tbody tr th:only-of-type {\n",
              "        vertical-align: middle;\n",
              "    }\n",
              "\n",
              "    .dataframe tbody tr th {\n",
              "        vertical-align: top;\n",
              "    }\n",
              "\n",
              "    .dataframe thead th {\n",
              "        text-align: right;\n",
              "    }\n",
              "</style>\n",
              "<table border=\"1\" class=\"dataframe\">\n",
              "  <thead>\n",
              "    <tr style=\"text-align: right;\">\n",
              "      <th></th>\n",
              "      <th>tweets</th>\n",
              "      <th>sentiment</th>\n",
              "      <th>word_counts</th>\n",
              "      <th>char_counts</th>\n",
              "      <th>avg_word_len</th>\n",
              "      <th>stop_words_len</th>\n",
              "      <th>hashtags_counts</th>\n",
              "      <th>mentions_counts</th>\n",
              "      <th>numerics_count</th>\n",
              "      <th>upper_counts</th>\n",
              "      <th>emails</th>\n",
              "      <th>emails_count</th>\n",
              "      <th>urls_flag</th>\n",
              "    </tr>\n",
              "  </thead>\n",
              "  <tbody>\n",
              "    <tr>\n",
              "      <th>0</th>\n",
              "      <td>@switchfoot  - awww, that is a bummer.  you sh...</td>\n",
              "      <td>0</td>\n",
              "      <td>19</td>\n",
              "      <td>115</td>\n",
              "      <td>5.052632</td>\n",
              "      <td>4</td>\n",
              "      <td>0</td>\n",
              "      <td>1</td>\n",
              "      <td>0</td>\n",
              "      <td>1</td>\n",
              "      <td>[]</td>\n",
              "      <td>0</td>\n",
              "      <td>1</td>\n",
              "    </tr>\n",
              "    <tr>\n",
              "      <th>1</th>\n",
              "      <td>is upset that he cannot update his facebook by...</td>\n",
              "      <td>0</td>\n",
              "      <td>21</td>\n",
              "      <td>111</td>\n",
              "      <td>4.285714</td>\n",
              "      <td>9</td>\n",
              "      <td>0</td>\n",
              "      <td>0</td>\n",
              "      <td>0</td>\n",
              "      <td>0</td>\n",
              "      <td>[]</td>\n",
              "      <td>0</td>\n",
              "      <td>0</td>\n",
              "    </tr>\n",
              "    <tr>\n",
              "      <th>2</th>\n",
              "      <td>@kenichan i dived many times for the ball. man...</td>\n",
              "      <td>0</td>\n",
              "      <td>18</td>\n",
              "      <td>89</td>\n",
              "      <td>3.944444</td>\n",
              "      <td>7</td>\n",
              "      <td>0</td>\n",
              "      <td>1</td>\n",
              "      <td>0</td>\n",
              "      <td>1</td>\n",
              "      <td>[]</td>\n",
              "      <td>0</td>\n",
              "      <td>0</td>\n",
              "    </tr>\n",
              "    <tr>\n",
              "      <th>3</th>\n",
              "      <td>my whole body feels itchy and like its on fire</td>\n",
              "      <td>0</td>\n",
              "      <td>10</td>\n",
              "      <td>47</td>\n",
              "      <td>3.700000</td>\n",
              "      <td>5</td>\n",
              "      <td>0</td>\n",
              "      <td>0</td>\n",
              "      <td>0</td>\n",
              "      <td>0</td>\n",
              "      <td>[]</td>\n",
              "      <td>0</td>\n",
              "      <td>0</td>\n",
              "    </tr>\n",
              "    <tr>\n",
              "      <th>4</th>\n",
              "      <td>@nationwideclass no, it is not behaving at all...</td>\n",
              "      <td>0</td>\n",
              "      <td>21</td>\n",
              "      <td>111</td>\n",
              "      <td>4.285714</td>\n",
              "      <td>10</td>\n",
              "      <td>0</td>\n",
              "      <td>1</td>\n",
              "      <td>0</td>\n",
              "      <td>1</td>\n",
              "      <td>[]</td>\n",
              "      <td>0</td>\n",
              "      <td>0</td>\n",
              "    </tr>\n",
              "  </tbody>\n",
              "</table>\n",
              "</div>\n",
              "      <button class=\"colab-df-convert\" onclick=\"convertToInteractive('df-4876439d-8016-4088-8ec2-13ff6a8191e6')\"\n",
              "              title=\"Convert this dataframe to an interactive table.\"\n",
              "              style=\"display:none;\">\n",
              "        \n",
              "  <svg xmlns=\"http://www.w3.org/2000/svg\" height=\"24px\"viewBox=\"0 0 24 24\"\n",
              "       width=\"24px\">\n",
              "    <path d=\"M0 0h24v24H0V0z\" fill=\"none\"/>\n",
              "    <path d=\"M18.56 5.44l.94 2.06.94-2.06 2.06-.94-2.06-.94-.94-2.06-.94 2.06-2.06.94zm-11 1L8.5 8.5l.94-2.06 2.06-.94-2.06-.94L8.5 2.5l-.94 2.06-2.06.94zm10 10l.94 2.06.94-2.06 2.06-.94-2.06-.94-.94-2.06-.94 2.06-2.06.94z\"/><path d=\"M17.41 7.96l-1.37-1.37c-.4-.4-.92-.59-1.43-.59-.52 0-1.04.2-1.43.59L10.3 9.45l-7.72 7.72c-.78.78-.78 2.05 0 2.83L4 21.41c.39.39.9.59 1.41.59.51 0 1.02-.2 1.41-.59l7.78-7.78 2.81-2.81c.8-.78.8-2.07 0-2.86zM5.41 20L4 18.59l7.72-7.72 1.47 1.35L5.41 20z\"/>\n",
              "  </svg>\n",
              "      </button>\n",
              "      \n",
              "  <style>\n",
              "    .colab-df-container {\n",
              "      display:flex;\n",
              "      flex-wrap:wrap;\n",
              "      gap: 12px;\n",
              "    }\n",
              "\n",
              "    .colab-df-convert {\n",
              "      background-color: #E8F0FE;\n",
              "      border: none;\n",
              "      border-radius: 50%;\n",
              "      cursor: pointer;\n",
              "      display: none;\n",
              "      fill: #1967D2;\n",
              "      height: 32px;\n",
              "      padding: 0 0 0 0;\n",
              "      width: 32px;\n",
              "    }\n",
              "\n",
              "    .colab-df-convert:hover {\n",
              "      background-color: #E2EBFA;\n",
              "      box-shadow: 0px 1px 2px rgba(60, 64, 67, 0.3), 0px 1px 3px 1px rgba(60, 64, 67, 0.15);\n",
              "      fill: #174EA6;\n",
              "    }\n",
              "\n",
              "    [theme=dark] .colab-df-convert {\n",
              "      background-color: #3B4455;\n",
              "      fill: #D2E3FC;\n",
              "    }\n",
              "\n",
              "    [theme=dark] .colab-df-convert:hover {\n",
              "      background-color: #434B5C;\n",
              "      box-shadow: 0px 1px 3px 1px rgba(0, 0, 0, 0.15);\n",
              "      filter: drop-shadow(0px 1px 2px rgba(0, 0, 0, 0.3));\n",
              "      fill: #FFFFFF;\n",
              "    }\n",
              "  </style>\n",
              "\n",
              "      <script>\n",
              "        const buttonEl =\n",
              "          document.querySelector('#df-4876439d-8016-4088-8ec2-13ff6a8191e6 button.colab-df-convert');\n",
              "        buttonEl.style.display =\n",
              "          google.colab.kernel.accessAllowed ? 'block' : 'none';\n",
              "\n",
              "        async function convertToInteractive(key) {\n",
              "          const element = document.querySelector('#df-4876439d-8016-4088-8ec2-13ff6a8191e6');\n",
              "          const dataTable =\n",
              "            await google.colab.kernel.invokeFunction('convertToInteractive',\n",
              "                                                     [key], {});\n",
              "          if (!dataTable) return;\n",
              "\n",
              "          const docLinkHtml = 'Like what you see? Visit the ' +\n",
              "            '<a target=\"_blank\" href=https://colab.research.google.com/notebooks/data_table.ipynb>data table notebook</a>'\n",
              "            + ' to learn more about interactive tables.';\n",
              "          element.innerHTML = '';\n",
              "          dataTable['output_type'] = 'display_data';\n",
              "          await google.colab.output.renderOutput(dataTable, element);\n",
              "          const docLink = document.createElement('div');\n",
              "          docLink.innerHTML = docLinkHtml;\n",
              "          element.appendChild(docLink);\n",
              "        }\n",
              "      </script>\n",
              "    </div>\n",
              "  </div>\n",
              "  "
            ]
          },
          "metadata": {},
          "execution_count": 66
        }
      ],
      "source": [
        "df.head()"
      ]
    },
    {
      "cell_type": "code",
      "execution_count": 67,
      "id": "bf30f595",
      "metadata": {
        "id": "bf30f595",
        "outputId": "38fac503-54db-4925-b77d-9a29adab1165",
        "colab": {
          "base_uri": "https://localhost:8080/",
          "height": 35
        }
      },
      "outputs": [
        {
          "output_type": "execute_result",
          "data": {
            "text/plain": [
              "'@switchfoot  - awww, that is a bummer.  you shoulda got david carr of third day to do it. ;d'"
            ],
            "application/vnd.google.colaboratory.intrinsic+json": {
              "type": "string"
            }
          },
          "metadata": {},
          "execution_count": 67
        }
      ],
      "source": [
        "df.loc[0]['tweets']"
      ]
    },
    {
      "cell_type": "markdown",
      "id": "e1c8c0f7",
      "metadata": {
        "id": "e1c8c0f7"
      },
      "source": [
        "## Remove RT (Re Tweets)"
      ]
    },
    {
      "cell_type": "code",
      "execution_count": 68,
      "id": "fa327b8d",
      "metadata": {
        "id": "fa327b8d"
      },
      "outputs": [],
      "source": [
        "df['tweets']=df['tweets'].apply(lambda x: re.sub('RT', '', x))"
      ]
    },
    {
      "cell_type": "code",
      "execution_count": 69,
      "id": "3fcb7292",
      "metadata": {
        "id": "3fcb7292",
        "outputId": "7db863cb-3c03-496f-b221-cde7830ed56c",
        "colab": {
          "base_uri": "https://localhost:8080/",
          "height": 444
        }
      },
      "outputs": [
        {
          "output_type": "execute_result",
          "data": {
            "text/plain": [
              "                                              tweets  sentiment  word_counts  \\\n",
              "0  @switchfoot  - awww, that is a bummer.  you sh...          0           19   \n",
              "1  is upset that he cannot update his facebook by...          0           21   \n",
              "2  @kenichan i dived many times for the ball. man...          0           18   \n",
              "3    my whole body feels itchy and like its on fire           0           10   \n",
              "4  @nationwideclass no, it is not behaving at all...          0           21   \n",
              "\n",
              "   char_counts  avg_word_len  stop_words_len  hashtags_counts  \\\n",
              "0          115      5.052632               4                0   \n",
              "1          111      4.285714               9                0   \n",
              "2           89      3.944444               7                0   \n",
              "3           47      3.700000               5                0   \n",
              "4          111      4.285714              10                0   \n",
              "\n",
              "   mentions_counts  numerics_count  upper_counts emails  emails_count  \\\n",
              "0                1               0             1     []             0   \n",
              "1                0               0             0     []             0   \n",
              "2                1               0             1     []             0   \n",
              "3                0               0             0     []             0   \n",
              "4                1               0             1     []             0   \n",
              "\n",
              "   urls_flag  \n",
              "0          1  \n",
              "1          0  \n",
              "2          0  \n",
              "3          0  \n",
              "4          0  "
            ],
            "text/html": [
              "\n",
              "  <div id=\"df-1ebdb72f-9ab8-407e-806f-e785f6641347\">\n",
              "    <div class=\"colab-df-container\">\n",
              "      <div>\n",
              "<style scoped>\n",
              "    .dataframe tbody tr th:only-of-type {\n",
              "        vertical-align: middle;\n",
              "    }\n",
              "\n",
              "    .dataframe tbody tr th {\n",
              "        vertical-align: top;\n",
              "    }\n",
              "\n",
              "    .dataframe thead th {\n",
              "        text-align: right;\n",
              "    }\n",
              "</style>\n",
              "<table border=\"1\" class=\"dataframe\">\n",
              "  <thead>\n",
              "    <tr style=\"text-align: right;\">\n",
              "      <th></th>\n",
              "      <th>tweets</th>\n",
              "      <th>sentiment</th>\n",
              "      <th>word_counts</th>\n",
              "      <th>char_counts</th>\n",
              "      <th>avg_word_len</th>\n",
              "      <th>stop_words_len</th>\n",
              "      <th>hashtags_counts</th>\n",
              "      <th>mentions_counts</th>\n",
              "      <th>numerics_count</th>\n",
              "      <th>upper_counts</th>\n",
              "      <th>emails</th>\n",
              "      <th>emails_count</th>\n",
              "      <th>urls_flag</th>\n",
              "    </tr>\n",
              "  </thead>\n",
              "  <tbody>\n",
              "    <tr>\n",
              "      <th>0</th>\n",
              "      <td>@switchfoot  - awww, that is a bummer.  you sh...</td>\n",
              "      <td>0</td>\n",
              "      <td>19</td>\n",
              "      <td>115</td>\n",
              "      <td>5.052632</td>\n",
              "      <td>4</td>\n",
              "      <td>0</td>\n",
              "      <td>1</td>\n",
              "      <td>0</td>\n",
              "      <td>1</td>\n",
              "      <td>[]</td>\n",
              "      <td>0</td>\n",
              "      <td>1</td>\n",
              "    </tr>\n",
              "    <tr>\n",
              "      <th>1</th>\n",
              "      <td>is upset that he cannot update his facebook by...</td>\n",
              "      <td>0</td>\n",
              "      <td>21</td>\n",
              "      <td>111</td>\n",
              "      <td>4.285714</td>\n",
              "      <td>9</td>\n",
              "      <td>0</td>\n",
              "      <td>0</td>\n",
              "      <td>0</td>\n",
              "      <td>0</td>\n",
              "      <td>[]</td>\n",
              "      <td>0</td>\n",
              "      <td>0</td>\n",
              "    </tr>\n",
              "    <tr>\n",
              "      <th>2</th>\n",
              "      <td>@kenichan i dived many times for the ball. man...</td>\n",
              "      <td>0</td>\n",
              "      <td>18</td>\n",
              "      <td>89</td>\n",
              "      <td>3.944444</td>\n",
              "      <td>7</td>\n",
              "      <td>0</td>\n",
              "      <td>1</td>\n",
              "      <td>0</td>\n",
              "      <td>1</td>\n",
              "      <td>[]</td>\n",
              "      <td>0</td>\n",
              "      <td>0</td>\n",
              "    </tr>\n",
              "    <tr>\n",
              "      <th>3</th>\n",
              "      <td>my whole body feels itchy and like its on fire</td>\n",
              "      <td>0</td>\n",
              "      <td>10</td>\n",
              "      <td>47</td>\n",
              "      <td>3.700000</td>\n",
              "      <td>5</td>\n",
              "      <td>0</td>\n",
              "      <td>0</td>\n",
              "      <td>0</td>\n",
              "      <td>0</td>\n",
              "      <td>[]</td>\n",
              "      <td>0</td>\n",
              "      <td>0</td>\n",
              "    </tr>\n",
              "    <tr>\n",
              "      <th>4</th>\n",
              "      <td>@nationwideclass no, it is not behaving at all...</td>\n",
              "      <td>0</td>\n",
              "      <td>21</td>\n",
              "      <td>111</td>\n",
              "      <td>4.285714</td>\n",
              "      <td>10</td>\n",
              "      <td>0</td>\n",
              "      <td>1</td>\n",
              "      <td>0</td>\n",
              "      <td>1</td>\n",
              "      <td>[]</td>\n",
              "      <td>0</td>\n",
              "      <td>0</td>\n",
              "    </tr>\n",
              "  </tbody>\n",
              "</table>\n",
              "</div>\n",
              "      <button class=\"colab-df-convert\" onclick=\"convertToInteractive('df-1ebdb72f-9ab8-407e-806f-e785f6641347')\"\n",
              "              title=\"Convert this dataframe to an interactive table.\"\n",
              "              style=\"display:none;\">\n",
              "        \n",
              "  <svg xmlns=\"http://www.w3.org/2000/svg\" height=\"24px\"viewBox=\"0 0 24 24\"\n",
              "       width=\"24px\">\n",
              "    <path d=\"M0 0h24v24H0V0z\" fill=\"none\"/>\n",
              "    <path d=\"M18.56 5.44l.94 2.06.94-2.06 2.06-.94-2.06-.94-.94-2.06-.94 2.06-2.06.94zm-11 1L8.5 8.5l.94-2.06 2.06-.94-2.06-.94L8.5 2.5l-.94 2.06-2.06.94zm10 10l.94 2.06.94-2.06 2.06-.94-2.06-.94-.94-2.06-.94 2.06-2.06.94z\"/><path d=\"M17.41 7.96l-1.37-1.37c-.4-.4-.92-.59-1.43-.59-.52 0-1.04.2-1.43.59L10.3 9.45l-7.72 7.72c-.78.78-.78 2.05 0 2.83L4 21.41c.39.39.9.59 1.41.59.51 0 1.02-.2 1.41-.59l7.78-7.78 2.81-2.81c.8-.78.8-2.07 0-2.86zM5.41 20L4 18.59l7.72-7.72 1.47 1.35L5.41 20z\"/>\n",
              "  </svg>\n",
              "      </button>\n",
              "      \n",
              "  <style>\n",
              "    .colab-df-container {\n",
              "      display:flex;\n",
              "      flex-wrap:wrap;\n",
              "      gap: 12px;\n",
              "    }\n",
              "\n",
              "    .colab-df-convert {\n",
              "      background-color: #E8F0FE;\n",
              "      border: none;\n",
              "      border-radius: 50%;\n",
              "      cursor: pointer;\n",
              "      display: none;\n",
              "      fill: #1967D2;\n",
              "      height: 32px;\n",
              "      padding: 0 0 0 0;\n",
              "      width: 32px;\n",
              "    }\n",
              "\n",
              "    .colab-df-convert:hover {\n",
              "      background-color: #E2EBFA;\n",
              "      box-shadow: 0px 1px 2px rgba(60, 64, 67, 0.3), 0px 1px 3px 1px rgba(60, 64, 67, 0.15);\n",
              "      fill: #174EA6;\n",
              "    }\n",
              "\n",
              "    [theme=dark] .colab-df-convert {\n",
              "      background-color: #3B4455;\n",
              "      fill: #D2E3FC;\n",
              "    }\n",
              "\n",
              "    [theme=dark] .colab-df-convert:hover {\n",
              "      background-color: #434B5C;\n",
              "      box-shadow: 0px 1px 3px 1px rgba(0, 0, 0, 0.15);\n",
              "      filter: drop-shadow(0px 1px 2px rgba(0, 0, 0, 0.3));\n",
              "      fill: #FFFFFF;\n",
              "    }\n",
              "  </style>\n",
              "\n",
              "      <script>\n",
              "        const buttonEl =\n",
              "          document.querySelector('#df-1ebdb72f-9ab8-407e-806f-e785f6641347 button.colab-df-convert');\n",
              "        buttonEl.style.display =\n",
              "          google.colab.kernel.accessAllowed ? 'block' : 'none';\n",
              "\n",
              "        async function convertToInteractive(key) {\n",
              "          const element = document.querySelector('#df-1ebdb72f-9ab8-407e-806f-e785f6641347');\n",
              "          const dataTable =\n",
              "            await google.colab.kernel.invokeFunction('convertToInteractive',\n",
              "                                                     [key], {});\n",
              "          if (!dataTable) return;\n",
              "\n",
              "          const docLinkHtml = 'Like what you see? Visit the ' +\n",
              "            '<a target=\"_blank\" href=https://colab.research.google.com/notebooks/data_table.ipynb>data table notebook</a>'\n",
              "            + ' to learn more about interactive tables.';\n",
              "          element.innerHTML = '';\n",
              "          dataTable['output_type'] = 'display_data';\n",
              "          await google.colab.output.renderOutput(dataTable, element);\n",
              "          const docLink = document.createElement('div');\n",
              "          docLink.innerHTML = docLinkHtml;\n",
              "          element.appendChild(docLink);\n",
              "        }\n",
              "      </script>\n",
              "    </div>\n",
              "  </div>\n",
              "  "
            ]
          },
          "metadata": {},
          "execution_count": 69
        }
      ],
      "source": [
        "df.head()"
      ]
    },
    {
      "cell_type": "markdown",
      "id": "f227d780",
      "metadata": {
        "id": "f227d780"
      },
      "source": [
        "## Special Characters removal or Punctuation Removal"
      ]
    },
    {
      "cell_type": "code",
      "execution_count": 70,
      "id": "de8e66ef",
      "metadata": {
        "id": "de8e66ef"
      },
      "outputs": [],
      "source": [
        "df['tweets']=df['tweets'].apply(lambda x: re.sub('[^A-Z a-z 0-9-]+', '', x))"
      ]
    },
    {
      "cell_type": "code",
      "execution_count": 71,
      "id": "fd68ffd2",
      "metadata": {
        "id": "fd68ffd2",
        "outputId": "94cfc76b-49e2-432d-9da3-c5c92e6dd067",
        "colab": {
          "base_uri": "https://localhost:8080/",
          "height": 513
        }
      },
      "outputs": [
        {
          "output_type": "execute_result",
          "data": {
            "text/plain": [
              "                                              tweets  sentiment  word_counts  \\\n",
              "0  switchfoot  - awww that is a bummer  you shoul...          0           19   \n",
              "1  is upset that he cannot update his facebook by...          0           21   \n",
              "2  kenichan i dived many times for the ball manag...          0           18   \n",
              "3    my whole body feels itchy and like its on fire           0           10   \n",
              "4  nationwideclass no it is not behaving at all i...          0           21   \n",
              "\n",
              "   char_counts  avg_word_len  stop_words_len  hashtags_counts  \\\n",
              "0          115      5.052632               4                0   \n",
              "1          111      4.285714               9                0   \n",
              "2           89      3.944444               7                0   \n",
              "3           47      3.700000               5                0   \n",
              "4          111      4.285714              10                0   \n",
              "\n",
              "   mentions_counts  numerics_count  upper_counts emails  emails_count  \\\n",
              "0                1               0             1     []             0   \n",
              "1                0               0             0     []             0   \n",
              "2                1               0             1     []             0   \n",
              "3                0               0             0     []             0   \n",
              "4                1               0             1     []             0   \n",
              "\n",
              "   urls_flag  \n",
              "0          1  \n",
              "1          0  \n",
              "2          0  \n",
              "3          0  \n",
              "4          0  "
            ],
            "text/html": [
              "\n",
              "  <div id=\"df-cad57137-5a17-4bdf-8792-d174dd5d5213\">\n",
              "    <div class=\"colab-df-container\">\n",
              "      <div>\n",
              "<style scoped>\n",
              "    .dataframe tbody tr th:only-of-type {\n",
              "        vertical-align: middle;\n",
              "    }\n",
              "\n",
              "    .dataframe tbody tr th {\n",
              "        vertical-align: top;\n",
              "    }\n",
              "\n",
              "    .dataframe thead th {\n",
              "        text-align: right;\n",
              "    }\n",
              "</style>\n",
              "<table border=\"1\" class=\"dataframe\">\n",
              "  <thead>\n",
              "    <tr style=\"text-align: right;\">\n",
              "      <th></th>\n",
              "      <th>tweets</th>\n",
              "      <th>sentiment</th>\n",
              "      <th>word_counts</th>\n",
              "      <th>char_counts</th>\n",
              "      <th>avg_word_len</th>\n",
              "      <th>stop_words_len</th>\n",
              "      <th>hashtags_counts</th>\n",
              "      <th>mentions_counts</th>\n",
              "      <th>numerics_count</th>\n",
              "      <th>upper_counts</th>\n",
              "      <th>emails</th>\n",
              "      <th>emails_count</th>\n",
              "      <th>urls_flag</th>\n",
              "    </tr>\n",
              "  </thead>\n",
              "  <tbody>\n",
              "    <tr>\n",
              "      <th>0</th>\n",
              "      <td>switchfoot  - awww that is a bummer  you shoul...</td>\n",
              "      <td>0</td>\n",
              "      <td>19</td>\n",
              "      <td>115</td>\n",
              "      <td>5.052632</td>\n",
              "      <td>4</td>\n",
              "      <td>0</td>\n",
              "      <td>1</td>\n",
              "      <td>0</td>\n",
              "      <td>1</td>\n",
              "      <td>[]</td>\n",
              "      <td>0</td>\n",
              "      <td>1</td>\n",
              "    </tr>\n",
              "    <tr>\n",
              "      <th>1</th>\n",
              "      <td>is upset that he cannot update his facebook by...</td>\n",
              "      <td>0</td>\n",
              "      <td>21</td>\n",
              "      <td>111</td>\n",
              "      <td>4.285714</td>\n",
              "      <td>9</td>\n",
              "      <td>0</td>\n",
              "      <td>0</td>\n",
              "      <td>0</td>\n",
              "      <td>0</td>\n",
              "      <td>[]</td>\n",
              "      <td>0</td>\n",
              "      <td>0</td>\n",
              "    </tr>\n",
              "    <tr>\n",
              "      <th>2</th>\n",
              "      <td>kenichan i dived many times for the ball manag...</td>\n",
              "      <td>0</td>\n",
              "      <td>18</td>\n",
              "      <td>89</td>\n",
              "      <td>3.944444</td>\n",
              "      <td>7</td>\n",
              "      <td>0</td>\n",
              "      <td>1</td>\n",
              "      <td>0</td>\n",
              "      <td>1</td>\n",
              "      <td>[]</td>\n",
              "      <td>0</td>\n",
              "      <td>0</td>\n",
              "    </tr>\n",
              "    <tr>\n",
              "      <th>3</th>\n",
              "      <td>my whole body feels itchy and like its on fire</td>\n",
              "      <td>0</td>\n",
              "      <td>10</td>\n",
              "      <td>47</td>\n",
              "      <td>3.700000</td>\n",
              "      <td>5</td>\n",
              "      <td>0</td>\n",
              "      <td>0</td>\n",
              "      <td>0</td>\n",
              "      <td>0</td>\n",
              "      <td>[]</td>\n",
              "      <td>0</td>\n",
              "      <td>0</td>\n",
              "    </tr>\n",
              "    <tr>\n",
              "      <th>4</th>\n",
              "      <td>nationwideclass no it is not behaving at all i...</td>\n",
              "      <td>0</td>\n",
              "      <td>21</td>\n",
              "      <td>111</td>\n",
              "      <td>4.285714</td>\n",
              "      <td>10</td>\n",
              "      <td>0</td>\n",
              "      <td>1</td>\n",
              "      <td>0</td>\n",
              "      <td>1</td>\n",
              "      <td>[]</td>\n",
              "      <td>0</td>\n",
              "      <td>0</td>\n",
              "    </tr>\n",
              "  </tbody>\n",
              "</table>\n",
              "</div>\n",
              "      <button class=\"colab-df-convert\" onclick=\"convertToInteractive('df-cad57137-5a17-4bdf-8792-d174dd5d5213')\"\n",
              "              title=\"Convert this dataframe to an interactive table.\"\n",
              "              style=\"display:none;\">\n",
              "        \n",
              "  <svg xmlns=\"http://www.w3.org/2000/svg\" height=\"24px\"viewBox=\"0 0 24 24\"\n",
              "       width=\"24px\">\n",
              "    <path d=\"M0 0h24v24H0V0z\" fill=\"none\"/>\n",
              "    <path d=\"M18.56 5.44l.94 2.06.94-2.06 2.06-.94-2.06-.94-.94-2.06-.94 2.06-2.06.94zm-11 1L8.5 8.5l.94-2.06 2.06-.94-2.06-.94L8.5 2.5l-.94 2.06-2.06.94zm10 10l.94 2.06.94-2.06 2.06-.94-2.06-.94-.94-2.06-.94 2.06-2.06.94z\"/><path d=\"M17.41 7.96l-1.37-1.37c-.4-.4-.92-.59-1.43-.59-.52 0-1.04.2-1.43.59L10.3 9.45l-7.72 7.72c-.78.78-.78 2.05 0 2.83L4 21.41c.39.39.9.59 1.41.59.51 0 1.02-.2 1.41-.59l7.78-7.78 2.81-2.81c.8-.78.8-2.07 0-2.86zM5.41 20L4 18.59l7.72-7.72 1.47 1.35L5.41 20z\"/>\n",
              "  </svg>\n",
              "      </button>\n",
              "      \n",
              "  <style>\n",
              "    .colab-df-container {\n",
              "      display:flex;\n",
              "      flex-wrap:wrap;\n",
              "      gap: 12px;\n",
              "    }\n",
              "\n",
              "    .colab-df-convert {\n",
              "      background-color: #E8F0FE;\n",
              "      border: none;\n",
              "      border-radius: 50%;\n",
              "      cursor: pointer;\n",
              "      display: none;\n",
              "      fill: #1967D2;\n",
              "      height: 32px;\n",
              "      padding: 0 0 0 0;\n",
              "      width: 32px;\n",
              "    }\n",
              "\n",
              "    .colab-df-convert:hover {\n",
              "      background-color: #E2EBFA;\n",
              "      box-shadow: 0px 1px 2px rgba(60, 64, 67, 0.3), 0px 1px 3px 1px rgba(60, 64, 67, 0.15);\n",
              "      fill: #174EA6;\n",
              "    }\n",
              "\n",
              "    [theme=dark] .colab-df-convert {\n",
              "      background-color: #3B4455;\n",
              "      fill: #D2E3FC;\n",
              "    }\n",
              "\n",
              "    [theme=dark] .colab-df-convert:hover {\n",
              "      background-color: #434B5C;\n",
              "      box-shadow: 0px 1px 3px 1px rgba(0, 0, 0, 0.15);\n",
              "      filter: drop-shadow(0px 1px 2px rgba(0, 0, 0, 0.3));\n",
              "      fill: #FFFFFF;\n",
              "    }\n",
              "  </style>\n",
              "\n",
              "      <script>\n",
              "        const buttonEl =\n",
              "          document.querySelector('#df-cad57137-5a17-4bdf-8792-d174dd5d5213 button.colab-df-convert');\n",
              "        buttonEl.style.display =\n",
              "          google.colab.kernel.accessAllowed ? 'block' : 'none';\n",
              "\n",
              "        async function convertToInteractive(key) {\n",
              "          const element = document.querySelector('#df-cad57137-5a17-4bdf-8792-d174dd5d5213');\n",
              "          const dataTable =\n",
              "            await google.colab.kernel.invokeFunction('convertToInteractive',\n",
              "                                                     [key], {});\n",
              "          if (!dataTable) return;\n",
              "\n",
              "          const docLinkHtml = 'Like what you see? Visit the ' +\n",
              "            '<a target=\"_blank\" href=https://colab.research.google.com/notebooks/data_table.ipynb>data table notebook</a>'\n",
              "            + ' to learn more about interactive tables.';\n",
              "          element.innerHTML = '';\n",
              "          dataTable['output_type'] = 'display_data';\n",
              "          await google.colab.output.renderOutput(dataTable, element);\n",
              "          const docLink = document.createElement('div');\n",
              "          docLink.innerHTML = docLinkHtml;\n",
              "          element.appendChild(docLink);\n",
              "        }\n",
              "      </script>\n",
              "    </div>\n",
              "  </div>\n",
              "  "
            ]
          },
          "metadata": {},
          "execution_count": 71
        }
      ],
      "source": [
        "df.head()"
      ]
    },
    {
      "cell_type": "markdown",
      "id": "02b10e58",
      "metadata": {
        "id": "02b10e58"
      },
      "source": [
        "## Remove Multiple Spaces"
      ]
    },
    {
      "cell_type": "code",
      "execution_count": 72,
      "id": "b68de5f2",
      "metadata": {
        "id": "b68de5f2"
      },
      "outputs": [],
      "source": [
        "x= 'Thanks for   watching   video'"
      ]
    },
    {
      "cell_type": "code",
      "execution_count": 73,
      "id": "4155088b",
      "metadata": {
        "id": "4155088b",
        "outputId": "01c655ef-e313-4675-9075-60a6f1b015dc",
        "colab": {
          "base_uri": "https://localhost:8080/",
          "height": 35
        }
      },
      "outputs": [
        {
          "output_type": "execute_result",
          "data": {
            "text/plain": [
              "'Thanks for watching video'"
            ],
            "application/vnd.google.colaboratory.intrinsic+json": {
              "type": "string"
            }
          },
          "metadata": {},
          "execution_count": 73
        }
      ],
      "source": [
        "\" \".join(x.split())"
      ]
    },
    {
      "cell_type": "code",
      "execution_count": 74,
      "id": "d79f18df",
      "metadata": {
        "id": "d79f18df"
      },
      "outputs": [],
      "source": [
        "df['tweets']=df['tweets'].apply(lambda x: \" \".join(x.split()))"
      ]
    },
    {
      "cell_type": "code",
      "execution_count": 75,
      "id": "6d0a8724",
      "metadata": {
        "id": "6d0a8724",
        "outputId": "8c09b91d-5439-4867-a587-d8d4c5af2829",
        "colab": {
          "base_uri": "https://localhost:8080/",
          "height": 367
        }
      },
      "outputs": [
        {
          "output_type": "execute_result",
          "data": {
            "text/plain": [
              "                                              tweets  sentiment  word_counts  \\\n",
              "0  switchfoot - awww that is a bummer you shoulda...          0           19   \n",
              "1  is upset that he cannot update his facebook by...          0           21   \n",
              "\n",
              "   char_counts  avg_word_len  stop_words_len  hashtags_counts  \\\n",
              "0          115      5.052632               4                0   \n",
              "1          111      4.285714               9                0   \n",
              "\n",
              "   mentions_counts  numerics_count  upper_counts emails  emails_count  \\\n",
              "0                1               0             1     []             0   \n",
              "1                0               0             0     []             0   \n",
              "\n",
              "   urls_flag  \n",
              "0          1  \n",
              "1          0  "
            ],
            "text/html": [
              "\n",
              "  <div id=\"df-50c7fa44-1f59-4f28-967a-7658a45a4a3e\">\n",
              "    <div class=\"colab-df-container\">\n",
              "      <div>\n",
              "<style scoped>\n",
              "    .dataframe tbody tr th:only-of-type {\n",
              "        vertical-align: middle;\n",
              "    }\n",
              "\n",
              "    .dataframe tbody tr th {\n",
              "        vertical-align: top;\n",
              "    }\n",
              "\n",
              "    .dataframe thead th {\n",
              "        text-align: right;\n",
              "    }\n",
              "</style>\n",
              "<table border=\"1\" class=\"dataframe\">\n",
              "  <thead>\n",
              "    <tr style=\"text-align: right;\">\n",
              "      <th></th>\n",
              "      <th>tweets</th>\n",
              "      <th>sentiment</th>\n",
              "      <th>word_counts</th>\n",
              "      <th>char_counts</th>\n",
              "      <th>avg_word_len</th>\n",
              "      <th>stop_words_len</th>\n",
              "      <th>hashtags_counts</th>\n",
              "      <th>mentions_counts</th>\n",
              "      <th>numerics_count</th>\n",
              "      <th>upper_counts</th>\n",
              "      <th>emails</th>\n",
              "      <th>emails_count</th>\n",
              "      <th>urls_flag</th>\n",
              "    </tr>\n",
              "  </thead>\n",
              "  <tbody>\n",
              "    <tr>\n",
              "      <th>0</th>\n",
              "      <td>switchfoot - awww that is a bummer you shoulda...</td>\n",
              "      <td>0</td>\n",
              "      <td>19</td>\n",
              "      <td>115</td>\n",
              "      <td>5.052632</td>\n",
              "      <td>4</td>\n",
              "      <td>0</td>\n",
              "      <td>1</td>\n",
              "      <td>0</td>\n",
              "      <td>1</td>\n",
              "      <td>[]</td>\n",
              "      <td>0</td>\n",
              "      <td>1</td>\n",
              "    </tr>\n",
              "    <tr>\n",
              "      <th>1</th>\n",
              "      <td>is upset that he cannot update his facebook by...</td>\n",
              "      <td>0</td>\n",
              "      <td>21</td>\n",
              "      <td>111</td>\n",
              "      <td>4.285714</td>\n",
              "      <td>9</td>\n",
              "      <td>0</td>\n",
              "      <td>0</td>\n",
              "      <td>0</td>\n",
              "      <td>0</td>\n",
              "      <td>[]</td>\n",
              "      <td>0</td>\n",
              "      <td>0</td>\n",
              "    </tr>\n",
              "  </tbody>\n",
              "</table>\n",
              "</div>\n",
              "      <button class=\"colab-df-convert\" onclick=\"convertToInteractive('df-50c7fa44-1f59-4f28-967a-7658a45a4a3e')\"\n",
              "              title=\"Convert this dataframe to an interactive table.\"\n",
              "              style=\"display:none;\">\n",
              "        \n",
              "  <svg xmlns=\"http://www.w3.org/2000/svg\" height=\"24px\"viewBox=\"0 0 24 24\"\n",
              "       width=\"24px\">\n",
              "    <path d=\"M0 0h24v24H0V0z\" fill=\"none\"/>\n",
              "    <path d=\"M18.56 5.44l.94 2.06.94-2.06 2.06-.94-2.06-.94-.94-2.06-.94 2.06-2.06.94zm-11 1L8.5 8.5l.94-2.06 2.06-.94-2.06-.94L8.5 2.5l-.94 2.06-2.06.94zm10 10l.94 2.06.94-2.06 2.06-.94-2.06-.94-.94-2.06-.94 2.06-2.06.94z\"/><path d=\"M17.41 7.96l-1.37-1.37c-.4-.4-.92-.59-1.43-.59-.52 0-1.04.2-1.43.59L10.3 9.45l-7.72 7.72c-.78.78-.78 2.05 0 2.83L4 21.41c.39.39.9.59 1.41.59.51 0 1.02-.2 1.41-.59l7.78-7.78 2.81-2.81c.8-.78.8-2.07 0-2.86zM5.41 20L4 18.59l7.72-7.72 1.47 1.35L5.41 20z\"/>\n",
              "  </svg>\n",
              "      </button>\n",
              "      \n",
              "  <style>\n",
              "    .colab-df-container {\n",
              "      display:flex;\n",
              "      flex-wrap:wrap;\n",
              "      gap: 12px;\n",
              "    }\n",
              "\n",
              "    .colab-df-convert {\n",
              "      background-color: #E8F0FE;\n",
              "      border: none;\n",
              "      border-radius: 50%;\n",
              "      cursor: pointer;\n",
              "      display: none;\n",
              "      fill: #1967D2;\n",
              "      height: 32px;\n",
              "      padding: 0 0 0 0;\n",
              "      width: 32px;\n",
              "    }\n",
              "\n",
              "    .colab-df-convert:hover {\n",
              "      background-color: #E2EBFA;\n",
              "      box-shadow: 0px 1px 2px rgba(60, 64, 67, 0.3), 0px 1px 3px 1px rgba(60, 64, 67, 0.15);\n",
              "      fill: #174EA6;\n",
              "    }\n",
              "\n",
              "    [theme=dark] .colab-df-convert {\n",
              "      background-color: #3B4455;\n",
              "      fill: #D2E3FC;\n",
              "    }\n",
              "\n",
              "    [theme=dark] .colab-df-convert:hover {\n",
              "      background-color: #434B5C;\n",
              "      box-shadow: 0px 1px 3px 1px rgba(0, 0, 0, 0.15);\n",
              "      filter: drop-shadow(0px 1px 2px rgba(0, 0, 0, 0.3));\n",
              "      fill: #FFFFFF;\n",
              "    }\n",
              "  </style>\n",
              "\n",
              "      <script>\n",
              "        const buttonEl =\n",
              "          document.querySelector('#df-50c7fa44-1f59-4f28-967a-7658a45a4a3e button.colab-df-convert');\n",
              "        buttonEl.style.display =\n",
              "          google.colab.kernel.accessAllowed ? 'block' : 'none';\n",
              "\n",
              "        async function convertToInteractive(key) {\n",
              "          const element = document.querySelector('#df-50c7fa44-1f59-4f28-967a-7658a45a4a3e');\n",
              "          const dataTable =\n",
              "            await google.colab.kernel.invokeFunction('convertToInteractive',\n",
              "                                                     [key], {});\n",
              "          if (!dataTable) return;\n",
              "\n",
              "          const docLinkHtml = 'Like what you see? Visit the ' +\n",
              "            '<a target=\"_blank\" href=https://colab.research.google.com/notebooks/data_table.ipynb>data table notebook</a>'\n",
              "            + ' to learn more about interactive tables.';\n",
              "          element.innerHTML = '';\n",
              "          dataTable['output_type'] = 'display_data';\n",
              "          await google.colab.output.renderOutput(dataTable, element);\n",
              "          const docLink = document.createElement('div');\n",
              "          docLink.innerHTML = docLinkHtml;\n",
              "          element.appendChild(docLink);\n",
              "        }\n",
              "      </script>\n",
              "    </div>\n",
              "  </div>\n",
              "  "
            ]
          },
          "metadata": {},
          "execution_count": 75
        }
      ],
      "source": [
        "df.head(2)"
      ]
    },
    {
      "cell_type": "markdown",
      "id": "aa31f197",
      "metadata": {
        "id": "aa31f197"
      },
      "source": [
        "## Remove HTML tags"
      ]
    },
    {
      "cell_type": "code",
      "execution_count": 76,
      "id": "f3b81939",
      "metadata": {
        "id": "f3b81939"
      },
      "outputs": [],
      "source": [
        "from bs4 import BeautifulSoup"
      ]
    },
    {
      "cell_type": "code",
      "execution_count": 77,
      "id": "7423550d",
      "metadata": {
        "id": "7423550d"
      },
      "outputs": [],
      "source": [
        "x='<html><h2>Thanks for watching</h2></html>'"
      ]
    },
    {
      "cell_type": "code",
      "execution_count": 78,
      "id": "eb18460f",
      "metadata": {
        "id": "eb18460f",
        "outputId": "308a8490-818f-45a5-95a7-ae255d40007a",
        "colab": {
          "base_uri": "https://localhost:8080/",
          "height": 35
        }
      },
      "outputs": [
        {
          "output_type": "execute_result",
          "data": {
            "text/plain": [
              "'Thanks for watching'"
            ],
            "application/vnd.google.colaboratory.intrinsic+json": {
              "type": "string"
            }
          },
          "metadata": {},
          "execution_count": 78
        }
      ],
      "source": [
        "BeautifulSoup(x,'lxml').get_text()"
      ]
    },
    {
      "cell_type": "code",
      "execution_count": 79,
      "id": "2f810c9a",
      "metadata": {
        "id": "2f810c9a",
        "outputId": "b8507893-b576-4b8a-f7a6-42a71454867d",
        "colab": {
          "base_uri": "https://localhost:8080/"
        }
      },
      "outputs": [
        {
          "output_type": "stream",
          "name": "stdout",
          "text": [
            "CPU times: user 6min 40s, sys: 31.4 s, total: 7min 12s\n",
            "Wall time: 7min 8s\n"
          ]
        }
      ],
      "source": [
        "%%time\n",
        "df['tweets']=df['tweets'].apply(lambda x: BeautifulSoup(x,'lxml').get_text())"
      ]
    },
    {
      "cell_type": "markdown",
      "id": "b98f5ce1",
      "metadata": {
        "id": "b98f5ce1"
      },
      "source": [
        "## Remove Accented Characters"
      ]
    },
    {
      "cell_type": "code",
      "execution_count": 80,
      "id": "33b2d170",
      "metadata": {
        "id": "33b2d170"
      },
      "outputs": [],
      "source": [
        "import unicodedata"
      ]
    },
    {
      "cell_type": "code",
      "execution_count": 81,
      "id": "297eeea3",
      "metadata": {
        "id": "297eeea3"
      },
      "outputs": [],
      "source": [
        "x= 'èaccent grave'"
      ]
    },
    {
      "cell_type": "code",
      "execution_count": 82,
      "id": "00a521b1",
      "metadata": {
        "id": "00a521b1"
      },
      "outputs": [],
      "source": [
        "def remove_accented_chars(x):\n",
        "    x= unicodedata.normalize(\"NFKD\",x).encode('ascii','ignore').decode('utf-8','ignore')\n",
        "    return x"
      ]
    },
    {
      "cell_type": "code",
      "execution_count": 83,
      "id": "51c91b82",
      "metadata": {
        "id": "51c91b82",
        "outputId": "4e6410cc-63e8-4ea1-b1b7-21eab4a399b6",
        "colab": {
          "base_uri": "https://localhost:8080/",
          "height": 35
        }
      },
      "outputs": [
        {
          "output_type": "execute_result",
          "data": {
            "text/plain": [
              "'eaccent grave'"
            ],
            "application/vnd.google.colaboratory.intrinsic+json": {
              "type": "string"
            }
          },
          "metadata": {},
          "execution_count": 83
        }
      ],
      "source": [
        "remove_accented_chars(x)"
      ]
    },
    {
      "cell_type": "code",
      "execution_count": 84,
      "id": "80abaf39",
      "metadata": {
        "id": "80abaf39"
      },
      "outputs": [],
      "source": [
        "df['tweets']=df['tweets'].apply(lambda x: remove_accented_chars(x))\n"
      ]
    },
    {
      "cell_type": "markdown",
      "id": "72535897",
      "metadata": {
        "id": "72535897"
      },
      "source": [
        "# SPACY and NLP"
      ]
    },
    {
      "cell_type": "markdown",
      "id": "9a7f0492",
      "metadata": {
        "id": "9a7f0492"
      },
      "source": [
        "## Remove Stop Words"
      ]
    },
    {
      "cell_type": "code",
      "execution_count": 85,
      "id": "3fb471ce",
      "metadata": {
        "id": "3fb471ce"
      },
      "outputs": [],
      "source": [
        "import spacy"
      ]
    },
    {
      "cell_type": "code",
      "execution_count": 86,
      "id": "f6079711",
      "metadata": {
        "id": "f6079711"
      },
      "outputs": [],
      "source": [
        "x= 'this is stop words removal code'"
      ]
    },
    {
      "cell_type": "code",
      "execution_count": 87,
      "id": "2c4ef4d3",
      "metadata": {
        "id": "2c4ef4d3",
        "outputId": "9621b9b8-d0e0-4a6c-8a06-dfecc75a25ad",
        "colab": {
          "base_uri": "https://localhost:8080/",
          "height": 35
        }
      },
      "outputs": [
        {
          "output_type": "execute_result",
          "data": {
            "text/plain": [
              "'stop words removal code'"
            ],
            "application/vnd.google.colaboratory.intrinsic+json": {
              "type": "string"
            }
          },
          "metadata": {},
          "execution_count": 87
        }
      ],
      "source": [
        "\" \".join([t for t in x.split() if t not in STOP_WORDS])"
      ]
    },
    {
      "cell_type": "code",
      "execution_count": 88,
      "id": "07dd16fa",
      "metadata": {
        "id": "07dd16fa"
      },
      "outputs": [],
      "source": [
        "df['tweets']=df['tweets'].apply(lambda x: \" \".join([t for t in x.split() if t not in STOP_WORDS]))"
      ]
    },
    {
      "cell_type": "code",
      "execution_count": 89,
      "id": "db6a69b8",
      "metadata": {
        "id": "db6a69b8",
        "outputId": "87d9d9b2-107e-4863-c04b-8980acfbcd35",
        "colab": {
          "base_uri": "https://localhost:8080/",
          "height": 461
        }
      },
      "outputs": [
        {
          "output_type": "execute_result",
          "data": {
            "text/plain": [
              "                                              tweets  sentiment  word_counts  \\\n",
              "0  switchfoot - awww bummer shoulda got david car...          0           19   \n",
              "1  upset update facebook texting cry result schoo...          0           21   \n",
              "2  kenichan dived times ball managed save 50 rest...          0           18   \n",
              "3                         body feels itchy like fire          0           10   \n",
              "4                       nationwideclass behaving mad          0           21   \n",
              "\n",
              "   char_counts  avg_word_len  stop_words_len  hashtags_counts  \\\n",
              "0          115      5.052632               4                0   \n",
              "1          111      4.285714               9                0   \n",
              "2           89      3.944444               7                0   \n",
              "3           47      3.700000               5                0   \n",
              "4          111      4.285714              10                0   \n",
              "\n",
              "   mentions_counts  numerics_count  upper_counts emails  emails_count  \\\n",
              "0                1               0             1     []             0   \n",
              "1                0               0             0     []             0   \n",
              "2                1               0             1     []             0   \n",
              "3                0               0             0     []             0   \n",
              "4                1               0             1     []             0   \n",
              "\n",
              "   urls_flag  \n",
              "0          1  \n",
              "1          0  \n",
              "2          0  \n",
              "3          0  \n",
              "4          0  "
            ],
            "text/html": [
              "\n",
              "  <div id=\"df-048060f8-c932-4501-b5fd-8d08dd66bf3a\">\n",
              "    <div class=\"colab-df-container\">\n",
              "      <div>\n",
              "<style scoped>\n",
              "    .dataframe tbody tr th:only-of-type {\n",
              "        vertical-align: middle;\n",
              "    }\n",
              "\n",
              "    .dataframe tbody tr th {\n",
              "        vertical-align: top;\n",
              "    }\n",
              "\n",
              "    .dataframe thead th {\n",
              "        text-align: right;\n",
              "    }\n",
              "</style>\n",
              "<table border=\"1\" class=\"dataframe\">\n",
              "  <thead>\n",
              "    <tr style=\"text-align: right;\">\n",
              "      <th></th>\n",
              "      <th>tweets</th>\n",
              "      <th>sentiment</th>\n",
              "      <th>word_counts</th>\n",
              "      <th>char_counts</th>\n",
              "      <th>avg_word_len</th>\n",
              "      <th>stop_words_len</th>\n",
              "      <th>hashtags_counts</th>\n",
              "      <th>mentions_counts</th>\n",
              "      <th>numerics_count</th>\n",
              "      <th>upper_counts</th>\n",
              "      <th>emails</th>\n",
              "      <th>emails_count</th>\n",
              "      <th>urls_flag</th>\n",
              "    </tr>\n",
              "  </thead>\n",
              "  <tbody>\n",
              "    <tr>\n",
              "      <th>0</th>\n",
              "      <td>switchfoot - awww bummer shoulda got david car...</td>\n",
              "      <td>0</td>\n",
              "      <td>19</td>\n",
              "      <td>115</td>\n",
              "      <td>5.052632</td>\n",
              "      <td>4</td>\n",
              "      <td>0</td>\n",
              "      <td>1</td>\n",
              "      <td>0</td>\n",
              "      <td>1</td>\n",
              "      <td>[]</td>\n",
              "      <td>0</td>\n",
              "      <td>1</td>\n",
              "    </tr>\n",
              "    <tr>\n",
              "      <th>1</th>\n",
              "      <td>upset update facebook texting cry result schoo...</td>\n",
              "      <td>0</td>\n",
              "      <td>21</td>\n",
              "      <td>111</td>\n",
              "      <td>4.285714</td>\n",
              "      <td>9</td>\n",
              "      <td>0</td>\n",
              "      <td>0</td>\n",
              "      <td>0</td>\n",
              "      <td>0</td>\n",
              "      <td>[]</td>\n",
              "      <td>0</td>\n",
              "      <td>0</td>\n",
              "    </tr>\n",
              "    <tr>\n",
              "      <th>2</th>\n",
              "      <td>kenichan dived times ball managed save 50 rest...</td>\n",
              "      <td>0</td>\n",
              "      <td>18</td>\n",
              "      <td>89</td>\n",
              "      <td>3.944444</td>\n",
              "      <td>7</td>\n",
              "      <td>0</td>\n",
              "      <td>1</td>\n",
              "      <td>0</td>\n",
              "      <td>1</td>\n",
              "      <td>[]</td>\n",
              "      <td>0</td>\n",
              "      <td>0</td>\n",
              "    </tr>\n",
              "    <tr>\n",
              "      <th>3</th>\n",
              "      <td>body feels itchy like fire</td>\n",
              "      <td>0</td>\n",
              "      <td>10</td>\n",
              "      <td>47</td>\n",
              "      <td>3.700000</td>\n",
              "      <td>5</td>\n",
              "      <td>0</td>\n",
              "      <td>0</td>\n",
              "      <td>0</td>\n",
              "      <td>0</td>\n",
              "      <td>[]</td>\n",
              "      <td>0</td>\n",
              "      <td>0</td>\n",
              "    </tr>\n",
              "    <tr>\n",
              "      <th>4</th>\n",
              "      <td>nationwideclass behaving mad</td>\n",
              "      <td>0</td>\n",
              "      <td>21</td>\n",
              "      <td>111</td>\n",
              "      <td>4.285714</td>\n",
              "      <td>10</td>\n",
              "      <td>0</td>\n",
              "      <td>1</td>\n",
              "      <td>0</td>\n",
              "      <td>1</td>\n",
              "      <td>[]</td>\n",
              "      <td>0</td>\n",
              "      <td>0</td>\n",
              "    </tr>\n",
              "  </tbody>\n",
              "</table>\n",
              "</div>\n",
              "      <button class=\"colab-df-convert\" onclick=\"convertToInteractive('df-048060f8-c932-4501-b5fd-8d08dd66bf3a')\"\n",
              "              title=\"Convert this dataframe to an interactive table.\"\n",
              "              style=\"display:none;\">\n",
              "        \n",
              "  <svg xmlns=\"http://www.w3.org/2000/svg\" height=\"24px\"viewBox=\"0 0 24 24\"\n",
              "       width=\"24px\">\n",
              "    <path d=\"M0 0h24v24H0V0z\" fill=\"none\"/>\n",
              "    <path d=\"M18.56 5.44l.94 2.06.94-2.06 2.06-.94-2.06-.94-.94-2.06-.94 2.06-2.06.94zm-11 1L8.5 8.5l.94-2.06 2.06-.94-2.06-.94L8.5 2.5l-.94 2.06-2.06.94zm10 10l.94 2.06.94-2.06 2.06-.94-2.06-.94-.94-2.06-.94 2.06-2.06.94z\"/><path d=\"M17.41 7.96l-1.37-1.37c-.4-.4-.92-.59-1.43-.59-.52 0-1.04.2-1.43.59L10.3 9.45l-7.72 7.72c-.78.78-.78 2.05 0 2.83L4 21.41c.39.39.9.59 1.41.59.51 0 1.02-.2 1.41-.59l7.78-7.78 2.81-2.81c.8-.78.8-2.07 0-2.86zM5.41 20L4 18.59l7.72-7.72 1.47 1.35L5.41 20z\"/>\n",
              "  </svg>\n",
              "      </button>\n",
              "      \n",
              "  <style>\n",
              "    .colab-df-container {\n",
              "      display:flex;\n",
              "      flex-wrap:wrap;\n",
              "      gap: 12px;\n",
              "    }\n",
              "\n",
              "    .colab-df-convert {\n",
              "      background-color: #E8F0FE;\n",
              "      border: none;\n",
              "      border-radius: 50%;\n",
              "      cursor: pointer;\n",
              "      display: none;\n",
              "      fill: #1967D2;\n",
              "      height: 32px;\n",
              "      padding: 0 0 0 0;\n",
              "      width: 32px;\n",
              "    }\n",
              "\n",
              "    .colab-df-convert:hover {\n",
              "      background-color: #E2EBFA;\n",
              "      box-shadow: 0px 1px 2px rgba(60, 64, 67, 0.3), 0px 1px 3px 1px rgba(60, 64, 67, 0.15);\n",
              "      fill: #174EA6;\n",
              "    }\n",
              "\n",
              "    [theme=dark] .colab-df-convert {\n",
              "      background-color: #3B4455;\n",
              "      fill: #D2E3FC;\n",
              "    }\n",
              "\n",
              "    [theme=dark] .colab-df-convert:hover {\n",
              "      background-color: #434B5C;\n",
              "      box-shadow: 0px 1px 3px 1px rgba(0, 0, 0, 0.15);\n",
              "      filter: drop-shadow(0px 1px 2px rgba(0, 0, 0, 0.3));\n",
              "      fill: #FFFFFF;\n",
              "    }\n",
              "  </style>\n",
              "\n",
              "      <script>\n",
              "        const buttonEl =\n",
              "          document.querySelector('#df-048060f8-c932-4501-b5fd-8d08dd66bf3a button.colab-df-convert');\n",
              "        buttonEl.style.display =\n",
              "          google.colab.kernel.accessAllowed ? 'block' : 'none';\n",
              "\n",
              "        async function convertToInteractive(key) {\n",
              "          const element = document.querySelector('#df-048060f8-c932-4501-b5fd-8d08dd66bf3a');\n",
              "          const dataTable =\n",
              "            await google.colab.kernel.invokeFunction('convertToInteractive',\n",
              "                                                     [key], {});\n",
              "          if (!dataTable) return;\n",
              "\n",
              "          const docLinkHtml = 'Like what you see? Visit the ' +\n",
              "            '<a target=\"_blank\" href=https://colab.research.google.com/notebooks/data_table.ipynb>data table notebook</a>'\n",
              "            + ' to learn more about interactive tables.';\n",
              "          element.innerHTML = '';\n",
              "          dataTable['output_type'] = 'display_data';\n",
              "          await google.colab.output.renderOutput(dataTable, element);\n",
              "          const docLink = document.createElement('div');\n",
              "          docLink.innerHTML = docLinkHtml;\n",
              "          element.appendChild(docLink);\n",
              "        }\n",
              "      </script>\n",
              "    </div>\n",
              "  </div>\n",
              "  "
            ]
          },
          "metadata": {},
          "execution_count": 89
        }
      ],
      "source": [
        "df.head()"
      ]
    },
    {
      "cell_type": "markdown",
      "id": "f8073cc7",
      "metadata": {
        "id": "f8073cc7"
      },
      "source": [
        "## Convert into base or root form of word"
      ]
    },
    {
      "cell_type": "code",
      "execution_count": 90,
      "id": "9614975b",
      "metadata": {
        "id": "9614975b"
      },
      "outputs": [],
      "source": [
        "nlp= spacy.load('en_core_web_sm')"
      ]
    },
    {
      "cell_type": "code",
      "execution_count": 91,
      "id": "b06d4944",
      "metadata": {
        "id": "b06d4944"
      },
      "outputs": [],
      "source": [
        "x= 'kenichan dived times ball managed save 50 rest'"
      ]
    },
    {
      "cell_type": "code",
      "execution_count": 92,
      "id": "180b28a2",
      "metadata": {
        "id": "180b28a2"
      },
      "outputs": [],
      "source": [
        "# dive= dived, time= times, manage= managed"
      ]
    },
    {
      "cell_type": "code",
      "execution_count": 93,
      "id": "d82b29b8",
      "metadata": {
        "id": "d82b29b8"
      },
      "outputs": [],
      "source": [
        "#x= 'i you he she they is am are'"
      ]
    },
    {
      "cell_type": "code",
      "execution_count": 94,
      "id": "2954d4e9",
      "metadata": {
        "id": "2954d4e9"
      },
      "outputs": [],
      "source": [
        "def make_to_base(x):\n",
        "    x_list=[]\n",
        "    doc=nlp(x)\n",
        "    \n",
        "    for token in doc:\n",
        "        lemma= str(token.lemma_)\n",
        "        if lemma =='-PRON-' or lemma =='be':\n",
        "            lemma= token.text\n",
        "        x_list.append(lemma)\n",
        "    print(\" \".join(x_list))\n",
        "    "
      ]
    },
    {
      "cell_type": "code",
      "execution_count": 95,
      "id": "f9f7c133",
      "metadata": {
        "id": "f9f7c133",
        "outputId": "61bbbeb8-f89e-413e-8658-99092bdaef4f",
        "colab": {
          "base_uri": "https://localhost:8080/"
        }
      },
      "outputs": [
        {
          "output_type": "stream",
          "name": "stdout",
          "text": [
            "kenichan dive time ball manage save 50 rest\n"
          ]
        }
      ],
      "source": [
        "make_to_base(x)"
      ]
    },
    {
      "cell_type": "code",
      "execution_count": 96,
      "id": "bd073fb5",
      "metadata": {
        "id": "bd073fb5"
      },
      "outputs": [],
      "source": [
        "# We can apply this approach to tweets but i will take hours, we are not doing right now"
      ]
    },
    {
      "cell_type": "markdown",
      "id": "f1a000a2",
      "metadata": {
        "id": "f1a000a2"
      },
      "source": [
        "## Common Words Removal"
      ]
    },
    {
      "cell_type": "code",
      "execution_count": 97,
      "id": "78ef8b50",
      "metadata": {
        "id": "78ef8b50"
      },
      "outputs": [],
      "source": [
        "# We are joing all data (onlly head) of tweets in text form"
      ]
    },
    {
      "cell_type": "code",
      "execution_count": 98,
      "id": "8e64e705",
      "metadata": {
        "id": "8e64e705",
        "outputId": "7b02c3f2-f1d7-46f5-e0f2-e75233c00e17",
        "colab": {
          "base_uri": "https://localhost:8080/",
          "height": 53
        }
      },
      "outputs": [
        {
          "output_type": "execute_result",
          "data": {
            "text/plain": [
              "'switchfoot - awww bummer shoulda got david carr day d upset update facebook texting cry result school today blah kenichan dived times ball managed save 50 rest bounds body feels itchy like fire nationwideclass behaving mad'"
            ],
            "application/vnd.google.colaboratory.intrinsic+json": {
              "type": "string"
            }
          },
          "metadata": {},
          "execution_count": 98
        }
      ],
      "source": [
        "\" \".join(df.head()['tweets'])"
      ]
    },
    {
      "cell_type": "code",
      "execution_count": 99,
      "id": "784f554b",
      "metadata": {
        "id": "784f554b"
      },
      "outputs": [],
      "source": [
        "# Now joining all tweets in text\n",
        "text= \" \".join(df['tweets'])"
      ]
    },
    {
      "cell_type": "code",
      "execution_count": 100,
      "id": "ed147bbf",
      "metadata": {
        "id": "ed147bbf"
      },
      "outputs": [],
      "source": [
        "text= text.split()"
      ]
    },
    {
      "cell_type": "code",
      "execution_count": 101,
      "id": "3c38559f",
      "metadata": {
        "id": "3c38559f"
      },
      "outputs": [],
      "source": [
        "# Now extracting frequency of each words\n",
        "freq_comm= pd.Series(text).value_counts()"
      ]
    },
    {
      "cell_type": "code",
      "execution_count": 102,
      "id": "544b615d",
      "metadata": {
        "id": "544b615d",
        "outputId": "bb67e9a2-2f46-46b7-c9d3-ea8b5f989ea3",
        "colab": {
          "base_uri": "https://localhost:8080/"
        }
      },
      "outputs": [
        {
          "output_type": "execute_result",
          "data": {
            "text/plain": [
              "good               89366\n",
              "day                82299\n",
              "like               77735\n",
              "-                  69662\n",
              "today              64512\n",
              "                   ...  \n",
              "kittu                  1\n",
              "cryyyyyyyyyyyyy        1\n",
              "newreporter            1\n",
              "daygta                 1\n",
              "speakinguph4h          1\n",
              "Length: 787042, dtype: int64"
            ]
          },
          "metadata": {},
          "execution_count": 102
        }
      ],
      "source": [
        "freq_comm"
      ]
    },
    {
      "cell_type": "code",
      "execution_count": 103,
      "id": "090552a0",
      "metadata": {
        "id": "090552a0"
      },
      "outputs": [],
      "source": [
        "# First top 20 occuring words\n",
        "f20=freq_comm[:20]"
      ]
    },
    {
      "cell_type": "code",
      "execution_count": 104,
      "id": "a40de0be",
      "metadata": {
        "id": "a40de0be"
      },
      "outputs": [],
      "source": [
        "# We will remove top 20 occuring words\n",
        "df['tweets']=df['tweets'].apply(lambda x: \" \".join([t for t in x.split() if t not in f20]))"
      ]
    },
    {
      "cell_type": "markdown",
      "id": "8ea6626b",
      "metadata": {
        "id": "8ea6626b"
      },
      "source": [
        "## Rare Words Removal"
      ]
    },
    {
      "cell_type": "code",
      "execution_count": 105,
      "id": "4f37ccb9",
      "metadata": {
        "id": "4f37ccb9"
      },
      "outputs": [],
      "source": [
        "rare20= freq_comm[-20:] #20 words having least frequency"
      ]
    },
    {
      "cell_type": "code",
      "execution_count": 106,
      "id": "50121132",
      "metadata": {
        "id": "50121132",
        "outputId": "ea256c2c-f8f1-43a7-8ab9-822ab3704e46",
        "colab": {
          "base_uri": "https://localhost:8080/"
        }
      },
      "outputs": [
        {
          "output_type": "execute_result",
          "data": {
            "text/plain": [
              "andychandleruk           1\n",
              "junealeesia              1\n",
              "fanwalk                  1\n",
              "5859                     1\n",
              "colesaw                  1\n",
              "seattleweekly            1\n",
              "optusquot                1\n",
              "easthampton              1\n",
              "uhohhippos               1\n",
              "tayastorm                1\n",
              "zombiecaptnhook          1\n",
              "anti-rheumatic           1\n",
              "quotinfo-mercialsquot    1\n",
              "movistar                 1\n",
              "mizzdmartin              1\n",
              "kittu                    1\n",
              "cryyyyyyyyyyyyy          1\n",
              "newreporter              1\n",
              "daygta                   1\n",
              "speakinguph4h            1\n",
              "dtype: int64"
            ]
          },
          "metadata": {},
          "execution_count": 106
        }
      ],
      "source": [
        "rare20"
      ]
    },
    {
      "cell_type": "code",
      "execution_count": 107,
      "id": "5a608fc9",
      "metadata": {
        "id": "5a608fc9"
      },
      "outputs": [],
      "source": [
        "rare= freq_comm[freq_comm.values==1]"
      ]
    },
    {
      "cell_type": "code",
      "execution_count": 108,
      "id": "5bc96974",
      "metadata": {
        "id": "5bc96974",
        "outputId": "ee0eb58d-0ae5-491a-c6ad-11ab434cac64",
        "colab": {
          "base_uri": "https://localhost:8080/"
        }
      },
      "outputs": [
        {
          "output_type": "execute_result",
          "data": {
            "text/plain": [
              "jennciv            1\n",
              "darrinuser         1\n",
              "clamatis           1\n",
              "cacos              1\n",
              "monthsyup          1\n",
              "                  ..\n",
              "kittu              1\n",
              "cryyyyyyyyyyyyy    1\n",
              "newreporter        1\n",
              "daygta             1\n",
              "speakinguph4h      1\n",
              "Length: 535890, dtype: int64"
            ]
          },
          "metadata": {},
          "execution_count": 108
        }
      ],
      "source": [
        "rare"
      ]
    },
    {
      "cell_type": "code",
      "execution_count": 109,
      "id": "724f4cc3",
      "metadata": {
        "id": "724f4cc3"
      },
      "outputs": [],
      "source": [
        "# there are 535890 least frequency (1) words, we will not processed them, it will take huge time"
      ]
    },
    {
      "cell_type": "code",
      "execution_count": 110,
      "id": "a8fbc6ac",
      "metadata": {
        "id": "a8fbc6ac"
      },
      "outputs": [],
      "source": [
        "# We will remove top 20 least occuring words\n",
        "df['tweets']=df['tweets'].apply(lambda x: \" \".join([t for t in x.split() if t not in rare20]))"
      ]
    },
    {
      "cell_type": "markdown",
      "id": "4133298f",
      "metadata": {
        "id": "4133298f"
      },
      "source": [
        "## WORLD CLOUD VISUALIZATION"
      ]
    },
    {
      "cell_type": "code",
      "execution_count": 111,
      "id": "12e378b2",
      "metadata": {
        "id": "12e378b2",
        "outputId": "f938e313-ae18-4aa6-d634-b44c1069b116",
        "colab": {
          "base_uri": "https://localhost:8080/"
        }
      },
      "outputs": [
        {
          "output_type": "stream",
          "name": "stdout",
          "text": [
            "Requirement already satisfied: wordcloud in /usr/local/lib/python3.7/dist-packages (1.5.0)\n",
            "Requirement already satisfied: pillow in /usr/local/lib/python3.7/dist-packages (from wordcloud) (7.1.2)\n",
            "Requirement already satisfied: numpy>=1.6.1 in /usr/local/lib/python3.7/dist-packages (from wordcloud) (1.21.5)\n"
          ]
        }
      ],
      "source": [
        "!pip install wordcloud"
      ]
    },
    {
      "cell_type": "code",
      "execution_count": 112,
      "id": "8354b4bf",
      "metadata": {
        "id": "8354b4bf"
      },
      "outputs": [],
      "source": [
        "import matplotlib.pyplot as plt\n",
        "%matplotlib inline\n",
        "from wordcloud import WordCloud"
      ]
    },
    {
      "cell_type": "code",
      "execution_count": 113,
      "id": "ad11f33c",
      "metadata": {
        "id": "ad11f33c"
      },
      "outputs": [],
      "source": [
        "# We take 20000 words\n",
        "x=' '.join(text[:2000])"
      ]
    },
    {
      "cell_type": "code",
      "execution_count": null,
      "id": "902e5985",
      "metadata": {
        "id": "902e5985"
      },
      "outputs": [],
      "source": [
        ""
      ]
    },
    {
      "cell_type": "code",
      "execution_count": 114,
      "id": "550aefcb",
      "metadata": {
        "id": "550aefcb",
        "outputId": "ac9952fb-76c6-472e-d528-74037e3e02a2",
        "colab": {
          "base_uri": "https://localhost:8080/"
        }
      },
      "outputs": [
        {
          "output_type": "execute_result",
          "data": {
            "text/plain": [
              "10853591"
            ]
          },
          "metadata": {},
          "execution_count": 114
        }
      ],
      "source": [
        "len(text)"
      ]
    },
    {
      "cell_type": "code",
      "execution_count": 115,
      "id": "86d43308",
      "metadata": {
        "id": "86d43308",
        "outputId": "2c2a80a5-b5ca-4055-add4-754f469138cd",
        "colab": {
          "base_uri": "https://localhost:8080/",
          "height": 198
        }
      },
      "outputs": [
        {
          "output_type": "display_data",
          "data": {
            "text/plain": [
              "<Figure size 432x288 with 1 Axes>"
            ],
            "image/png": "[encoded data removed]"
          },
          "metadata": {
            "needs_background": "light"
          }
        }
      ],
      "source": [
        "wc= WordCloud(width=800, height=400).generate(x)\n",
        "plt.imshow(wc)\n",
        "plt.axis('off')\n",
        "plt.show()"
      ]
    },
    {
      "cell_type": "code",
      "execution_count": 116,
      "id": "0ecf89b3",
      "metadata": {
        "id": "0ecf89b3",
        "colab": {
          "base_uri": "https://localhost:8080/",
          "height": 140
        },
        "outputId": "d2b720ae-a48d-4c7a-d162-5fcb4f31c216"
      },
      "outputs": [
        {
          "output_type": "execute_result",
          "data": {
            "text/plain": [
              "'switchfoot - awww bummer shoulda got david carr day d upset update facebook texting cry result school today blah kenichan dived times ball managed save 50 rest bounds body feels itchy like fire nationwideclass behaving mad kwesidei crew need hug loltrish hey long time yes rains bit bit lol fine thanks tatianak nope twittera que muera spring break plain city snowing re-pierced ears caregiving bear watch thought ua loss embarrassing octolinz16 counts idk talk anymore smarrison gun zac snyders doucheclown iamjazzyfizzle wish got watch miss iamlilnicki premiere hollis death scene hurt severely watch film wry directors cut file taxes lettya ahh ive wanted rent love soundtrack fakerpattypattz oh dear drinking forgotten table drinks alydesigns day friend called asked meet mid valley todaybut time sigh angrybarista baked cake ated week going hoped blagh class 8 tomorrow hate wake people going cry sleep watching marley im sad misslilly ooooh lol leslie ok leslie mad meh lover exception track gets depressed time some1 hacked account aim new alielayus want promote gear groove unfornately ride b going anaheim thought sleeping option tomorrow realizing evaluations morning work afternoon julieebaby awe love 1 miss humpninja cry asian eyes sleep night ok sick spent hour sitting shower cause sick stand held puke like champ bed cocomix04 ill tell ya story later good day ill workin like hours missxu sorry bed time came gmt1 fleurylis depressing think want know kids suitcases bed class 8-12 work 12-3 gym 3-5 6 class 6-10 day gonna fly miss girlfriend feel like getting today got study tomorrows practical exam reason teardrops guitar break heart sad sad sad know hate feeling wanna sleep jonathanrknight awww soo wish finally comfortable im sad missed falling asleep heard tracy girls body found sad heart breaks family viennah yay happy job means time checked user timeline blackberry looks like twanking happening ppl having probs w bgs uids oh manwas ironing jeancjumbes fave wear meeting burnt strangely sad lilo samro breaking tea oh sorry think retweeting broadband plan massive broken promise wwwdiigocomtautao waiting broadband localtweeps wow tons replies unfollow friends tweets scrolling feed lot duck chicken taking wayyy long hatch vacation photos online yrs ago pc crashed forget site need hug andywana sure pos want dont think trade away company assets sorry andy oanhlove hate happens sad feeling dallas going gotta think shows use music game mmm ugh92 degrees tomorrow u thought u sd hmmm random u found glad hear yer batmanyng miss ps3 commission wutcha playing copped blood sand leaving parking lot work life cool sadly gotten experience post coitus cigarette nice day bad rain comes tomorrow 5am starrbby bad lost job pay phone bill lmao aw shucks damm school tomorrow mo jobs money hell min wage 4 fn clams hour katortiz forever soon ltalgonquin agreed saw failwhale allllll day today jdarter oh haha dude dont look em says hey added sorry terrible need pop ninjen sure right need start working nikster jared hate people diss bands trace clearly ugly gym attire today puma singlet adidas shortsand black business socks leather shoes lucky run cute girls location picnic phone smells like citrus ashleyac donkey sensitive comments med glad mug asap charger awol new csi tonight fml think arms sore tennis wonders u like unhappy split seccond depressed sleep soon hate saying bye tomorrow night statravelau got ur newsletter fares unbelievable shame booked paid missin boo markhardy1974 itm damn chalk chalkboard useless blast getty villa hates sore throat day getting worse msdrama hey missed ya meeting sup mama tummy hurts wonder hypnosis working stop smoking fat ones januarycrimson sorry babe fam annoys thankfully asleep right muahaha evil laugh hollywoodheat paid attention covered photoshop webpage design class undergrad wednesday b-day know 2 poor cameron hills pray ex threatening start sh myour babies 1st birthday party jerk headache makeherfamous hmm u enjoy problems constants u think things find ulike strider sick little puppy ryleegracewana steves party sadly easter wnt b able 2 ohh hey actually won bracket pools bad money stark follow work bad nite favorite teams astros spartans lose nite tw good body missing northern calif girl found police found remains missing northern california girl mangaaa hope increase capacity fast yesterday pain got fail whale 15 times 2 hours classes work watching quothousequot kpreyes remember bum leg strikes time paradisej cool kinds complaints laptop online overheating recalls emily glad mommy training new job misses party send bad messages 3rd party send mixed ones sophmore year henkuyinepu overrated marykatherineq know heard afternoon wondered thing moscow times laying bed voice sooo sad killed kutner house whyyyyyyyy jacobsummers sorry tell mea culpa sorry alliana07 sense suicide thing refuse believe actually happened salancaster hope ok mercedesashley damn grind inspirational saddening time want stop cuz like u love hibanick yeah aw know wudnt stand chance ugh cant sleep 130am hanging crooners wanna sing sucks erresc aaw miss ya im leaving bh tomorrow quotmorningquot think aww wanna beach w u girls pissed asbas radio station wednesday b-day n know 2 know life flipped upside thought head ramen sounds good pain sides hurt mention crying fail late night snack glass oj bc quotdown sicknessquot sleepugh hate getting sick allyheman big fan camilla belle grum wah clip el-stupido work filters wait till puter 2 blame ex 4 broke week longer longer terms need actually going cold thecoolestout ehhh weathers gonna turn ugly tomorrow chelserlynn haha cooooold d incredible stuff hoping tummy rumbles away soon knights notice told working tomorrow called agency follow said bedtime missing babe long alive happy yawwwnn tired love imma try sleep hopefully headstart aghsnow miss kenny powers bridgetsbeaches thank letting people know sad direct message got actually bridget india missed 100th test victory n 10th consecutive win loss jonathanrknight guess sadly going bed ozesteph1992 shame hear stephan mrsaintnick hey leavin morning intending finish editing 536-page novel manuscript tonight probably happen 12 pages left laid today head hurts twista202 read 9thamp10th princess diaries saving francesca cry end hmm easy books nokia 1110 died mom breast cancer find like week worried going sleep hoping tomorrow better day rumblepurr lol wish understood daylight savings ended breakfast hour later waking kids onemoreproject lame understand heroes season living downtown sure fun jonathanchard calorie wise wish junk food calorie free ate thing sour skittles big ass cherry coke man work hard getting sick time hot tea studying sleeeep getting eyebrows waxed pain phantasy star yesterday going work oh - got macheist 30 apps - sweet espresso serial said sent - oh picked mich st win feeling pretty good pick way untiltonight lost downstairsworking feel bad ryanseacrest hates anoop mean seriously kinda mean pinkserendipity yes sprint 4g baltimore chicago far stuck awake middle night second day row felt terrible yesterday thanks bursting bubble going school soon find wear gosh hard marieclr lol naughtyhaughty page sooooo long got deleted sad day history crazy wind today birding currently work grrr ipods acting weird jai ho thinking playing songs ughh penndbad send dvd cos missed heaps happy big deal website machineplay sorry having therapyfail colindemar far way rail tips swear losing gaining losing gaining tweeps heart wrenching today realized good hiding things find staying friends househouse sitting neighbors loud-having party dannyvegasbaby danny im upset wasnt watch live chat car 3 hours trip im soooo upset check mug borders closed 10 downloading nins new album quotthe slipquot - hell come times days woke written e-mail early university today teach 830 watching hill making sad channels boring lazy day find hobby supersport miss buddy ill ny 25th robluketic love french tell people south qtr french snarl french beautiful people opps said got day remain problem come activated selfcontrol block early meaning check new qc regularizing internal clock difficult fb hillydop oh spencer good guy goodlaura reese dying ttsc season finale week 24 boring madame president crazy woman jonathanrknight hate limited letterstoohope guys finei pray dogshes shit today screwed wanttss going sleep tonite worried tired post tonight shit today screwed job interview cardiff today wish luck got 3 hours sleep stustone whack way worse whack wiggety-whack djalizay think people choose way think chose accept familys help dead eloquentembrace going kill seen ds9 waiting till solid week sitting cheechbud think ur right hahaha 45 hrs hate spartans sad mind body severely protesting quotgetting upquot thing nightmares boot mysteezradio goin follow u u lol angels mandayyy twista202 think want read books library nap interrupted times today going japanese rents kind longs bus shows end ghost world right ugh gurumn canada canada weird supposed snow wednesday ugh awwh babs look sad underneith shop entrance quotyesterdays musikquot o- like look new transformer movie sad feet macbook fell gonna late tomorrow 132am gonna tipsy lonesome isthat sad sweating forthcoming trip e3 find crash screwed gotten somebody read tweets cant account infinitydefines omgawd couldnt handle cat heat time d d donniewahlberg hope auburn looking good davidhenrie thats people mag haha couldnt fit dont think pictures magazine tho haha breadandbadger congrats totally forgot submit photos paulaabdul awww good luck paula work hard hope fun new album gonna amazing xxx imaginarypeach leaving -gets sad- miss twitter phone broke stupid nokia phone ughhh miss advance phone shooting outside house o kidding scared tuesdayll start reflection n lecture stress reducing techniques sure useful accompaniers tragedy disaster news week yes yes trying find picture upload correclty oh red sox game rained looking forward opening day find keys charlietm know right dunno going twitter getting sore throat labelsnotlove home town mammy called depressd pls explain y parent let 8yr old child walk hello 2009 ircmaxell - think need find better anti-depressants think paxilwellbutrin combo losing efficacy myconnecticut restaurant called woodntap competitive eating tourney round tourney time place 2nd bathroom wake lakin caitlinoconnor want tacos margarhitas telll gay hellolt3 im lonely company 22 female california bad day betfair office miss wait celebrate tar heel win weekend cold want sleep kristencampisi 4 u officially 4 round monkeys found twin wont write heartbroken missom aww know felt like yesterday work sarahreedsc treaty defined missed brent praise band fun lead guitarist ltpoutgt jpfurry poor john happens play fruit microwave seriously seen doctor xxx missing bff watching home away reminds lt3 shout u courts mandayyy new video card doa feeling lost naked confused jk sort ofno iphone damn late filling appraisal form people sent occupied work missed brent praise band fun lead guitarist ltpoutgt think past cant change deserved wat got thinking gah lost ring no-where seen burgaw ooooooh sealclap download shitloads zip folders 4chan internet moneys fuck yeah alicia amp mikey nursing nile glad feeling better hate baby sick fucked ic brandizzzle08 yoyoyo internet rude tonight reconnected bed jemcam uni stuff netball netbal uni stuff kissability poor help forget 8th april amp 13th july dierks bentley comin columbus oh wanna bad sidekick chriscantore congrats totally jealous wish xm working gr8t face itchy poor socks luvvvvv golden retriever want sighhhh saw found tracy girl piece luggage fucking terrible aaaaand nausea donniewahlberg ooh im excited going 2 long love youtube spent 1 hour reach axis bank find today holiday mahavir jayanti contd mathewsmichael agree jobros dont update theres fishmouse hilarious linked clip lj time ago went dead link diannepulham oooooooo im thats need study tweeted nearly day posted website tonight hopefully goes night time bostongarden miss bentley seriously needs finish job applications son vincas sick stay home tense days work holiday kids whinging clientampboss understand english rewrote text unreadable written v good writerampreviewed correctly huntermoore want punch sooo sick snow ughh itsnemesis ------- lovemeagan work fan upset like apologize repeated video games live related tweets going stern discussion koodo soon stern zaydia cant figure pay hotel etc fml seniority bc technological ineptness quotregisterquot classes feels like slept day away looking forward bouts gallbladder pills pain thastevieg want old bass mad tired today callin early tonight nighty night twittas levenrambin easy good afraid bad code think going bed goodniight hate riancurtis friend love kariajay time notice gonejust needed db2 aaronrva bathroom pee ashleyskyy wanted margarita kourtneykardash yup night workouts r worst unfortunetly work schedule allows night tough called hillsong - said tell waiting list -'"
            ],
            "application/vnd.google.colaboratory.intrinsic+json": {
              "type": "string"
            }
          },
          "metadata": {},
          "execution_count": 116
        }
      ],
      "source": [
        "x"
      ]
    },
    {
      "cell_type": "markdown",
      "id": "69d03105",
      "metadata": {
        "id": "69d03105"
      },
      "source": [
        "## Spelling Corrections"
      ]
    },
    {
      "cell_type": "code",
      "execution_count": 117,
      "id": "782ab591",
      "metadata": {
        "id": "782ab591",
        "colab": {
          "base_uri": "https://localhost:8080/"
        },
        "outputId": "82cc4834-aed9-4c8b-d672-b8edda2cf370"
      },
      "outputs": [
        {
          "output_type": "stream",
          "name": "stdout",
          "text": [
            "Requirement already satisfied: textblob in /usr/local/lib/python3.7/dist-packages (0.15.3)\n",
            "Collecting textblob\n",
            "  Downloading textblob-0.17.1-py2.py3-none-any.whl (636 kB)\n",
            "\u001b[K     |████████████████████████████████| 636 kB 5.2 MB/s \n",
            "\u001b[?25hRequirement already satisfied: nltk>=3.1 in /usr/local/lib/python3.7/dist-packages (from textblob) (3.2.5)\n",
            "Requirement already satisfied: six in /usr/local/lib/python3.7/dist-packages (from nltk>=3.1->textblob) (1.15.0)\n",
            "Installing collected packages: textblob\n",
            "  Attempting uninstall: textblob\n",
            "    Found existing installation: textblob 0.15.3\n",
            "    Uninstalling textblob-0.15.3:\n",
            "      Successfully uninstalled textblob-0.15.3\n",
            "Successfully installed textblob-0.17.1\n"
          ]
        }
      ],
      "source": [
        "!pip install -U textblob"
      ]
    },
    {
      "cell_type": "code",
      "execution_count": 118,
      "id": "f7e29af2",
      "metadata": {
        "id": "f7e29af2",
        "colab": {
          "base_uri": "https://localhost:8080/"
        },
        "outputId": "801ccf09-8780-4a78-b80c-03c7fb9d5912"
      },
      "outputs": [
        {
          "output_type": "stream",
          "name": "stdout",
          "text": [
            "[nltk_data] Downloading package brown to /root/nltk_data...\n",
            "[nltk_data]   Unzipping corpora/brown.zip.\n",
            "[nltk_data] Downloading package punkt to /root/nltk_data...\n",
            "[nltk_data]   Unzipping tokenizers/punkt.zip.\n",
            "[nltk_data] Downloading package wordnet to /root/nltk_data...\n",
            "[nltk_data]   Unzipping corpora/wordnet.zip.\n",
            "[nltk_data] Downloading package averaged_perceptron_tagger to\n",
            "[nltk_data]     /root/nltk_data...\n",
            "[nltk_data]   Unzipping taggers/averaged_perceptron_tagger.zip.\n",
            "[nltk_data] Downloading package conll2000 to /root/nltk_data...\n",
            "[nltk_data]   Unzipping corpora/conll2000.zip.\n",
            "[nltk_data] Downloading package movie_reviews to /root/nltk_data...\n",
            "[nltk_data]   Unzipping corpora/movie_reviews.zip.\n",
            "Finished.\n"
          ]
        }
      ],
      "source": [
        "!python -m textblob.download_corpora"
      ]
    },
    {
      "cell_type": "code",
      "execution_count": 119,
      "id": "2caf0734",
      "metadata": {
        "id": "2caf0734"
      },
      "outputs": [],
      "source": [
        "from textblob import TextBlob"
      ]
    },
    {
      "cell_type": "code",
      "execution_count": 120,
      "id": "a7cc782e",
      "metadata": {
        "id": "a7cc782e"
      },
      "outputs": [],
      "source": [
        "x= 'thank forr waching this vidio carri'"
      ]
    },
    {
      "cell_type": "code",
      "execution_count": 121,
      "id": "996d601e",
      "metadata": {
        "id": "996d601e"
      },
      "outputs": [],
      "source": [
        "x= TextBlob(x).correct()"
      ]
    },
    {
      "cell_type": "code",
      "execution_count": 122,
      "id": "b4c358eb",
      "metadata": {
        "id": "b4c358eb",
        "colab": {
          "base_uri": "https://localhost:8080/"
        },
        "outputId": "be940558-4215-4a6d-c27e-f876327a66dc"
      },
      "outputs": [
        {
          "output_type": "execute_result",
          "data": {
            "text/plain": [
              "TextBlob(\"thank for watching this video carry\")"
            ]
          },
          "metadata": {},
          "execution_count": 122
        }
      ],
      "source": [
        "x"
      ]
    },
    {
      "cell_type": "markdown",
      "id": "c3844ce6",
      "metadata": {
        "id": "c3844ce6"
      },
      "source": [
        "## TOKENIZATION"
      ]
    },
    {
      "cell_type": "code",
      "execution_count": 123,
      "id": "38d3b2ea",
      "metadata": {
        "id": "38d3b2ea"
      },
      "outputs": [],
      "source": [
        "x= 'thanks4watching this video. please like it'"
      ]
    },
    {
      "cell_type": "code",
      "execution_count": 124,
      "id": "251023ff",
      "metadata": {
        "id": "251023ff",
        "colab": {
          "base_uri": "https://localhost:8080/"
        },
        "outputId": "6a200213-0832-46ec-b614-f0684cd72980"
      },
      "outputs": [
        {
          "output_type": "execute_result",
          "data": {
            "text/plain": [
              "WordList(['thanks4watching', 'this', 'video', 'please', 'like', 'it'])"
            ]
          },
          "metadata": {},
          "execution_count": 124
        }
      ],
      "source": [
        "TextBlob(x).words"
      ]
    },
    {
      "cell_type": "code",
      "execution_count": 125,
      "id": "aad12a0b",
      "metadata": {
        "id": "aad12a0b",
        "colab": {
          "base_uri": "https://localhost:8080/"
        },
        "outputId": "405ce81e-9705-4a07-9a99-d044bfca01ee"
      },
      "outputs": [
        {
          "output_type": "stream",
          "name": "stdout",
          "text": [
            "thanks4watching\n",
            "this\n",
            "video\n",
            ".\n",
            "please\n",
            "like\n",
            "it\n"
          ]
        }
      ],
      "source": [
        "doc= nlp(x)\n",
        "for token in doc:\n",
        "    print(token)"
      ]
    },
    {
      "cell_type": "markdown",
      "id": "4f1c0522",
      "metadata": {
        "id": "4f1c0522"
      },
      "source": [
        "## LEMMATIZATION"
      ]
    },
    {
      "cell_type": "code",
      "execution_count": 126,
      "id": "97b32112",
      "metadata": {
        "id": "97b32112"
      },
      "outputs": [],
      "source": [
        "x='runs run running ran'"
      ]
    },
    {
      "cell_type": "code",
      "execution_count": 127,
      "id": "30885b93",
      "metadata": {
        "id": "30885b93"
      },
      "outputs": [],
      "source": [
        "from textblob import Word"
      ]
    },
    {
      "cell_type": "code",
      "execution_count": 128,
      "id": "7deaa13c",
      "metadata": {
        "id": "7deaa13c",
        "colab": {
          "base_uri": "https://localhost:8080/"
        },
        "outputId": "ea420d99-4d58-4248-abdb-019a331c6d15"
      },
      "outputs": [
        {
          "output_type": "stream",
          "name": "stdout",
          "text": [
            "run\n",
            "run\n",
            "running\n",
            "ran\n"
          ]
        }
      ],
      "source": [
        "for token in x.split():\n",
        "    print(Word(token).lemmatize())"
      ]
    },
    {
      "cell_type": "code",
      "execution_count": 129,
      "id": "8540cce4",
      "metadata": {
        "id": "8540cce4",
        "colab": {
          "base_uri": "https://localhost:8080/"
        },
        "outputId": "b8af81a7-3131-496b-d735-dbf61dea145a"
      },
      "outputs": [
        {
          "output_type": "stream",
          "name": "stdout",
          "text": [
            "run\n",
            "run\n",
            "run\n",
            "run\n"
          ]
        }
      ],
      "source": [
        "doc= nlp(x)\n",
        "for token in doc:\n",
        "    print(token.lemma_)"
      ]
    },
    {
      "cell_type": "markdown",
      "id": "3529840e",
      "metadata": {
        "id": "3529840e"
      },
      "source": [
        "## Detect Entities using NER of Spacy"
      ]
    },
    {
      "cell_type": "code",
      "execution_count": 130,
      "id": "6790d256",
      "metadata": {
        "id": "6790d256"
      },
      "outputs": [],
      "source": [
        "x='Breaking News: Donald Trump, the president of the USA is looking to sign a deal to mine the moon'"
      ]
    },
    {
      "cell_type": "code",
      "execution_count": 131,
      "id": "2df3f94b",
      "metadata": {
        "id": "2df3f94b",
        "colab": {
          "base_uri": "https://localhost:8080/"
        },
        "outputId": "ce17d582-6751-483c-a811-d1d0aa95d583"
      },
      "outputs": [
        {
          "output_type": "stream",
          "name": "stdout",
          "text": [
            "Donald Trump - PERSON - People, including fictional\n",
            "USA - GPE - Countries, cities, states\n"
          ]
        }
      ],
      "source": [
        "doc= nlp(x)\n",
        "for ent in doc.ents:\n",
        "    print(ent.text + ' - ' + ent.label_ + ' - ' + str(spacy.explain(ent.label_)))"
      ]
    },
    {
      "cell_type": "code",
      "execution_count": 132,
      "id": "a3ce55b0",
      "metadata": {
        "id": "a3ce55b0"
      },
      "outputs": [],
      "source": [
        "from spacy import displacy"
      ]
    },
    {
      "cell_type": "code",
      "execution_count": 133,
      "id": "8868b710",
      "metadata": {
        "id": "8868b710",
        "colab": {
          "base_uri": "https://localhost:8080/",
          "height": 122
        },
        "outputId": "5be267d0-fee2-45ae-ecb2-aa88d7c53572"
      },
      "outputs": [
        {
          "output_type": "execute_result",
          "data": {
            "text/plain": [
              "'<div class=\"entities\" style=\"line-height: 2.5; direction: ltr\">Breaking News: \\n<mark class=\"entity\" style=\"background: #aa9cfc; padding: 0.45em 0.6em; margin: 0 0.25em; line-height: 1; border-radius: 0.35em;\">\\n    Donald Trump\\n    <span style=\"font-size: 0.8em; font-weight: bold; line-height: 1; border-radius: 0.35em; text-transform: uppercase; vertical-align: middle; margin-left: 0.5rem\">PERSON</span>\\n</mark>\\n, the president of the \\n<mark class=\"entity\" style=\"background: #feca74; padding: 0.45em 0.6em; margin: 0 0.25em; line-height: 1; border-radius: 0.35em;\">\\n    USA\\n    <span style=\"font-size: 0.8em; font-weight: bold; line-height: 1; border-radius: 0.35em; text-transform: uppercase; vertical-align: middle; margin-left: 0.5rem\">GPE</span>\\n</mark>\\n is looking to sign a deal to mine the moon</div>'"
            ],
            "application/vnd.google.colaboratory.intrinsic+json": {
              "type": "string"
            }
          },
          "metadata": {},
          "execution_count": 133
        }
      ],
      "source": [
        "displacy.render(doc, style='ent')"
      ]
    },
    {
      "cell_type": "markdown",
      "id": "aac6aca0",
      "metadata": {
        "id": "aac6aca0"
      },
      "source": [
        "## Detecting Nouns"
      ]
    },
    {
      "cell_type": "code",
      "execution_count": 134,
      "id": "f60acce5",
      "metadata": {
        "id": "f60acce5",
        "colab": {
          "base_uri": "https://localhost:8080/",
          "height": 35
        },
        "outputId": "ac26d4dd-fea9-4498-9d73-4800b83c7c2f"
      },
      "outputs": [
        {
          "output_type": "execute_result",
          "data": {
            "text/plain": [
              "'Breaking News: Donald Trump, the president of the USA is looking to sign a deal to mine the moon'"
            ],
            "application/vnd.google.colaboratory.intrinsic+json": {
              "type": "string"
            }
          },
          "metadata": {},
          "execution_count": 134
        }
      ],
      "source": [
        "x"
      ]
    },
    {
      "cell_type": "code",
      "execution_count": 135,
      "id": "964067f0",
      "metadata": {
        "id": "964067f0",
        "colab": {
          "base_uri": "https://localhost:8080/"
        },
        "outputId": "06918496-9609-43af-b134-6a9493f0a29a"
      },
      "outputs": [
        {
          "output_type": "stream",
          "name": "stdout",
          "text": [
            "Breaking News\n",
            "Donald Trump\n",
            "the president\n",
            "the USA\n",
            "a deal\n",
            "the moon\n"
          ]
        }
      ],
      "source": [
        "for noun in doc.noun_chunks:\n",
        "    print(noun)"
      ]
    },
    {
      "cell_type": "markdown",
      "id": "9ab81e55",
      "metadata": {
        "id": "9ab81e55"
      },
      "source": [
        "## Translation and Language Detection"
      ]
    },
    {
      "cell_type": "code",
      "execution_count": null,
      "id": "ebfac18e",
      "metadata": {
        "id": "ebfac18e"
      },
      "outputs": [],
      "source": [
        "Language Code: https://www.loc.gov/standards/iso639-2/php/code_list.php"
      ]
    },
    {
      "cell_type": "code",
      "execution_count": 136,
      "id": "0377ef29",
      "metadata": {
        "id": "0377ef29",
        "colab": {
          "base_uri": "https://localhost:8080/",
          "height": 35
        },
        "outputId": "0d4a043d-9a77-4902-b6bd-dac67033cbb3"
      },
      "outputs": [
        {
          "output_type": "execute_result",
          "data": {
            "text/plain": [
              "'Breaking News: Donald Trump, the president of the USA is looking to sign a deal to mine the moon'"
            ],
            "application/vnd.google.colaboratory.intrinsic+json": {
              "type": "string"
            }
          },
          "metadata": {},
          "execution_count": 136
        }
      ],
      "source": [
        "x"
      ]
    },
    {
      "cell_type": "code",
      "execution_count": 137,
      "id": "0ef8bc47",
      "metadata": {
        "id": "0ef8bc47"
      },
      "outputs": [],
      "source": [
        "tb= TextBlob(x)"
      ]
    },
    {
      "cell_type": "code",
      "execution_count": 138,
      "id": "ccc5134e",
      "metadata": {
        "id": "ccc5134e",
        "colab": {
          "base_uri": "https://localhost:8080/",
          "height": 311
        },
        "outputId": "07a3aab5-0b1d-4652-c022-89637cdf2d92"
      },
      "outputs": [
        {
          "output_type": "error",
          "ename": "HTTPError",
          "evalue": "ignored",
          "traceback": [
            "\u001b[0;31m---------------------------------------------------------------------------\u001b[0m",
            "\u001b[0;31mHTTPError\u001b[0m                                 Traceback (most recent call last)",
            "\u001b[0;32m<ipython-input-138-df94d7ed2b17>\u001b[0m in \u001b[0;36m<module>\u001b[0;34m()\u001b[0m\n\u001b[0;32m----> 1\u001b[0;31m \u001b[0mtb\u001b[0m\u001b[0;34m.\u001b[0m\u001b[0mdetect_language\u001b[0m\u001b[0;34m(\u001b[0m\u001b[0;34m)\u001b[0m\u001b[0;34m\u001b[0m\u001b[0;34m\u001b[0m\u001b[0m\n\u001b[0m",
            "\u001b[0;32m/usr/local/lib/python3.7/dist-packages/textblob/blob.py\u001b[0m in \u001b[0;36mdetect_language\u001b[0;34m(self)\u001b[0m\n\u001b[1;32m    595\u001b[0m             \u001b[0mDeprecationWarning\u001b[0m\u001b[0;34m\u001b[0m\u001b[0;34m\u001b[0m\u001b[0m\n\u001b[1;32m    596\u001b[0m         )\n\u001b[0;32m--> 597\u001b[0;31m         \u001b[0;32mreturn\u001b[0m \u001b[0mself\u001b[0m\u001b[0;34m.\u001b[0m\u001b[0mtranslator\u001b[0m\u001b[0;34m.\u001b[0m\u001b[0mdetect\u001b[0m\u001b[0;34m(\u001b[0m\u001b[0mself\u001b[0m\u001b[0;34m.\u001b[0m\u001b[0mraw\u001b[0m\u001b[0;34m)\u001b[0m\u001b[0;34m\u001b[0m\u001b[0;34m\u001b[0m\u001b[0m\n\u001b[0m\u001b[1;32m    598\u001b[0m \u001b[0;34m\u001b[0m\u001b[0m\n\u001b[1;32m    599\u001b[0m     \u001b[0;32mdef\u001b[0m \u001b[0mcorrect\u001b[0m\u001b[0;34m(\u001b[0m\u001b[0mself\u001b[0m\u001b[0;34m)\u001b[0m\u001b[0;34m:\u001b[0m\u001b[0;34m\u001b[0m\u001b[0;34m\u001b[0m\u001b[0m\n",
            "\u001b[0;32m/usr/local/lib/python3.7/dist-packages/textblob/translate.py\u001b[0m in \u001b[0;36mdetect\u001b[0;34m(self, source, host, type_)\u001b[0m\n\u001b[1;32m     74\u001b[0m             \u001b[0mclient\u001b[0m\u001b[0;34m=\u001b[0m\u001b[0;34m\"te\"\u001b[0m\u001b[0;34m,\u001b[0m\u001b[0;34m\u001b[0m\u001b[0;34m\u001b[0m\u001b[0m\n\u001b[1;32m     75\u001b[0m         )\n\u001b[0;32m---> 76\u001b[0;31m         \u001b[0mresponse\u001b[0m \u001b[0;34m=\u001b[0m \u001b[0mself\u001b[0m\u001b[0;34m.\u001b[0m\u001b[0m_request\u001b[0m\u001b[0;34m(\u001b[0m\u001b[0murl\u001b[0m\u001b[0;34m,\u001b[0m \u001b[0mhost\u001b[0m\u001b[0;34m=\u001b[0m\u001b[0mhost\u001b[0m\u001b[0;34m,\u001b[0m \u001b[0mtype_\u001b[0m\u001b[0;34m=\u001b[0m\u001b[0mtype_\u001b[0m\u001b[0;34m,\u001b[0m \u001b[0mdata\u001b[0m\u001b[0;34m=\u001b[0m\u001b[0mdata\u001b[0m\u001b[0;34m)\u001b[0m\u001b[0;34m\u001b[0m\u001b[0;34m\u001b[0m\u001b[0m\n\u001b[0m\u001b[1;32m     77\u001b[0m         \u001b[0mresult\u001b[0m\u001b[0;34m,\u001b[0m \u001b[0mlanguage\u001b[0m \u001b[0;34m=\u001b[0m \u001b[0mjson\u001b[0m\u001b[0;34m.\u001b[0m\u001b[0mloads\u001b[0m\u001b[0;34m(\u001b[0m\u001b[0mresponse\u001b[0m\u001b[0;34m)\u001b[0m\u001b[0;34m\u001b[0m\u001b[0;34m\u001b[0m\u001b[0m\n\u001b[1;32m     78\u001b[0m         \u001b[0;32mreturn\u001b[0m \u001b[0mlanguage\u001b[0m\u001b[0;34m\u001b[0m\u001b[0;34m\u001b[0m\u001b[0m\n",
            "\u001b[0;32m/usr/local/lib/python3.7/dist-packages/textblob/translate.py\u001b[0m in \u001b[0;36m_request\u001b[0;34m(self, url, host, type_, data)\u001b[0m\n\u001b[1;32m     94\u001b[0m         \u001b[0;32mif\u001b[0m \u001b[0mhost\u001b[0m \u001b[0;32mor\u001b[0m \u001b[0mtype_\u001b[0m\u001b[0;34m:\u001b[0m\u001b[0;34m\u001b[0m\u001b[0;34m\u001b[0m\u001b[0m\n\u001b[1;32m     95\u001b[0m             \u001b[0mreq\u001b[0m\u001b[0;34m.\u001b[0m\u001b[0mset_proxy\u001b[0m\u001b[0;34m(\u001b[0m\u001b[0mhost\u001b[0m\u001b[0;34m=\u001b[0m\u001b[0mhost\u001b[0m\u001b[0;34m,\u001b[0m \u001b[0mtype\u001b[0m\u001b[0;34m=\u001b[0m\u001b[0mtype_\u001b[0m\u001b[0;34m)\u001b[0m\u001b[0;34m\u001b[0m\u001b[0;34m\u001b[0m\u001b[0m\n\u001b[0;32m---> 96\u001b[0;31m         \u001b[0mresp\u001b[0m \u001b[0;34m=\u001b[0m \u001b[0mrequest\u001b[0m\u001b[0;34m.\u001b[0m\u001b[0murlopen\u001b[0m\u001b[0;34m(\u001b[0m\u001b[0mreq\u001b[0m\u001b[0;34m)\u001b[0m\u001b[0;34m\u001b[0m\u001b[0;34m\u001b[0m\u001b[0m\n\u001b[0m\u001b[1;32m     97\u001b[0m         \u001b[0mcontent\u001b[0m \u001b[0;34m=\u001b[0m \u001b[0mresp\u001b[0m\u001b[0;34m.\u001b[0m\u001b[0mread\u001b[0m\u001b[0;34m(\u001b[0m\u001b[0;34m)\u001b[0m\u001b[0;34m\u001b[0m\u001b[0;34m\u001b[0m\u001b[0m\n\u001b[1;32m     98\u001b[0m         \u001b[0;32mreturn\u001b[0m \u001b[0mcontent\u001b[0m\u001b[0;34m.\u001b[0m\u001b[0mdecode\u001b[0m\u001b[0;34m(\u001b[0m\u001b[0;34m'utf-8'\u001b[0m\u001b[0;34m)\u001b[0m\u001b[0;34m\u001b[0m\u001b[0;34m\u001b[0m\u001b[0m\n",
            "\u001b[0;32m/usr/lib/python3.7/urllib/request.py\u001b[0m in \u001b[0;36murlopen\u001b[0;34m(url, data, timeout, cafile, capath, cadefault, context)\u001b[0m\n\u001b[1;32m    220\u001b[0m     \u001b[0;32melse\u001b[0m\u001b[0;34m:\u001b[0m\u001b[0;34m\u001b[0m\u001b[0;34m\u001b[0m\u001b[0m\n\u001b[1;32m    221\u001b[0m         \u001b[0mopener\u001b[0m \u001b[0;34m=\u001b[0m \u001b[0m_opener\u001b[0m\u001b[0;34m\u001b[0m\u001b[0;34m\u001b[0m\u001b[0m\n\u001b[0;32m--> 222\u001b[0;31m     \u001b[0;32mreturn\u001b[0m \u001b[0mopener\u001b[0m\u001b[0;34m.\u001b[0m\u001b[0mopen\u001b[0m\u001b[0;34m(\u001b[0m\u001b[0murl\u001b[0m\u001b[0;34m,\u001b[0m \u001b[0mdata\u001b[0m\u001b[0;34m,\u001b[0m \u001b[0mtimeout\u001b[0m\u001b[0;34m)\u001b[0m\u001b[0;34m\u001b[0m\u001b[0;34m\u001b[0m\u001b[0m\n\u001b[0m\u001b[1;32m    223\u001b[0m \u001b[0;34m\u001b[0m\u001b[0m\n\u001b[1;32m    224\u001b[0m \u001b[0;32mdef\u001b[0m \u001b[0minstall_opener\u001b[0m\u001b[0;34m(\u001b[0m\u001b[0mopener\u001b[0m\u001b[0;34m)\u001b[0m\u001b[0;34m:\u001b[0m\u001b[0;34m\u001b[0m\u001b[0;34m\u001b[0m\u001b[0m\n",
            "\u001b[0;32m/usr/lib/python3.7/urllib/request.py\u001b[0m in \u001b[0;36mopen\u001b[0;34m(self, fullurl, data, timeout)\u001b[0m\n\u001b[1;32m    529\u001b[0m         \u001b[0;32mfor\u001b[0m \u001b[0mprocessor\u001b[0m \u001b[0;32min\u001b[0m \u001b[0mself\u001b[0m\u001b[0;34m.\u001b[0m\u001b[0mprocess_response\u001b[0m\u001b[0;34m.\u001b[0m\u001b[0mget\u001b[0m\u001b[0;34m(\u001b[0m\u001b[0mprotocol\u001b[0m\u001b[0;34m,\u001b[0m \u001b[0;34m[\u001b[0m\u001b[0;34m]\u001b[0m\u001b[0;34m)\u001b[0m\u001b[0;34m:\u001b[0m\u001b[0;34m\u001b[0m\u001b[0;34m\u001b[0m\u001b[0m\n\u001b[1;32m    530\u001b[0m             \u001b[0mmeth\u001b[0m \u001b[0;34m=\u001b[0m \u001b[0mgetattr\u001b[0m\u001b[0;34m(\u001b[0m\u001b[0mprocessor\u001b[0m\u001b[0;34m,\u001b[0m \u001b[0mmeth_name\u001b[0m\u001b[0;34m)\u001b[0m\u001b[0;34m\u001b[0m\u001b[0;34m\u001b[0m\u001b[0m\n\u001b[0;32m--> 531\u001b[0;31m             \u001b[0mresponse\u001b[0m \u001b[0;34m=\u001b[0m \u001b[0mmeth\u001b[0m\u001b[0;34m(\u001b[0m\u001b[0mreq\u001b[0m\u001b[0;34m,\u001b[0m \u001b[0mresponse\u001b[0m\u001b[0;34m)\u001b[0m\u001b[0;34m\u001b[0m\u001b[0;34m\u001b[0m\u001b[0m\n\u001b[0m\u001b[1;32m    532\u001b[0m \u001b[0;34m\u001b[0m\u001b[0m\n\u001b[1;32m    533\u001b[0m         \u001b[0;32mreturn\u001b[0m \u001b[0mresponse\u001b[0m\u001b[0;34m\u001b[0m\u001b[0;34m\u001b[0m\u001b[0m\n",
            "\u001b[0;32m/usr/lib/python3.7/urllib/request.py\u001b[0m in \u001b[0;36mhttp_response\u001b[0;34m(self, request, response)\u001b[0m\n\u001b[1;32m    639\u001b[0m         \u001b[0;32mif\u001b[0m \u001b[0;32mnot\u001b[0m \u001b[0;34m(\u001b[0m\u001b[0;36m200\u001b[0m \u001b[0;34m<=\u001b[0m \u001b[0mcode\u001b[0m \u001b[0;34m<\u001b[0m \u001b[0;36m300\u001b[0m\u001b[0;34m)\u001b[0m\u001b[0;34m:\u001b[0m\u001b[0;34m\u001b[0m\u001b[0;34m\u001b[0m\u001b[0m\n\u001b[1;32m    640\u001b[0m             response = self.parent.error(\n\u001b[0;32m--> 641\u001b[0;31m                 'http', request, response, code, msg, hdrs)\n\u001b[0m\u001b[1;32m    642\u001b[0m \u001b[0;34m\u001b[0m\u001b[0m\n\u001b[1;32m    643\u001b[0m         \u001b[0;32mreturn\u001b[0m \u001b[0mresponse\u001b[0m\u001b[0;34m\u001b[0m\u001b[0;34m\u001b[0m\u001b[0m\n",
            "\u001b[0;32m/usr/lib/python3.7/urllib/request.py\u001b[0m in \u001b[0;36merror\u001b[0;34m(self, proto, *args)\u001b[0m\n\u001b[1;32m    567\u001b[0m         \u001b[0;32mif\u001b[0m \u001b[0mhttp_err\u001b[0m\u001b[0;34m:\u001b[0m\u001b[0;34m\u001b[0m\u001b[0;34m\u001b[0m\u001b[0m\n\u001b[1;32m    568\u001b[0m             \u001b[0margs\u001b[0m \u001b[0;34m=\u001b[0m \u001b[0;34m(\u001b[0m\u001b[0mdict\u001b[0m\u001b[0;34m,\u001b[0m \u001b[0;34m'default'\u001b[0m\u001b[0;34m,\u001b[0m \u001b[0;34m'http_error_default'\u001b[0m\u001b[0;34m)\u001b[0m \u001b[0;34m+\u001b[0m \u001b[0morig_args\u001b[0m\u001b[0;34m\u001b[0m\u001b[0;34m\u001b[0m\u001b[0m\n\u001b[0;32m--> 569\u001b[0;31m             \u001b[0;32mreturn\u001b[0m \u001b[0mself\u001b[0m\u001b[0;34m.\u001b[0m\u001b[0m_call_chain\u001b[0m\u001b[0;34m(\u001b[0m\u001b[0;34m*\u001b[0m\u001b[0margs\u001b[0m\u001b[0;34m)\u001b[0m\u001b[0;34m\u001b[0m\u001b[0;34m\u001b[0m\u001b[0m\n\u001b[0m\u001b[1;32m    570\u001b[0m \u001b[0;34m\u001b[0m\u001b[0m\n\u001b[1;32m    571\u001b[0m \u001b[0;31m# XXX probably also want an abstract factory that knows when it makes\u001b[0m\u001b[0;34m\u001b[0m\u001b[0;34m\u001b[0m\u001b[0;34m\u001b[0m\u001b[0m\n",
            "\u001b[0;32m/usr/lib/python3.7/urllib/request.py\u001b[0m in \u001b[0;36m_call_chain\u001b[0;34m(self, chain, kind, meth_name, *args)\u001b[0m\n\u001b[1;32m    501\u001b[0m         \u001b[0;32mfor\u001b[0m \u001b[0mhandler\u001b[0m \u001b[0;32min\u001b[0m \u001b[0mhandlers\u001b[0m\u001b[0;34m:\u001b[0m\u001b[0;34m\u001b[0m\u001b[0;34m\u001b[0m\u001b[0m\n\u001b[1;32m    502\u001b[0m             \u001b[0mfunc\u001b[0m \u001b[0;34m=\u001b[0m \u001b[0mgetattr\u001b[0m\u001b[0;34m(\u001b[0m\u001b[0mhandler\u001b[0m\u001b[0;34m,\u001b[0m \u001b[0mmeth_name\u001b[0m\u001b[0;34m)\u001b[0m\u001b[0;34m\u001b[0m\u001b[0;34m\u001b[0m\u001b[0m\n\u001b[0;32m--> 503\u001b[0;31m             \u001b[0mresult\u001b[0m \u001b[0;34m=\u001b[0m \u001b[0mfunc\u001b[0m\u001b[0;34m(\u001b[0m\u001b[0;34m*\u001b[0m\u001b[0margs\u001b[0m\u001b[0;34m)\u001b[0m\u001b[0;34m\u001b[0m\u001b[0;34m\u001b[0m\u001b[0m\n\u001b[0m\u001b[1;32m    504\u001b[0m             \u001b[0;32mif\u001b[0m \u001b[0mresult\u001b[0m \u001b[0;32mis\u001b[0m \u001b[0;32mnot\u001b[0m \u001b[0;32mNone\u001b[0m\u001b[0;34m:\u001b[0m\u001b[0;34m\u001b[0m\u001b[0;34m\u001b[0m\u001b[0m\n\u001b[1;32m    505\u001b[0m                 \u001b[0;32mreturn\u001b[0m \u001b[0mresult\u001b[0m\u001b[0;34m\u001b[0m\u001b[0;34m\u001b[0m\u001b[0m\n",
            "\u001b[0;32m/usr/lib/python3.7/urllib/request.py\u001b[0m in \u001b[0;36mhttp_error_default\u001b[0;34m(self, req, fp, code, msg, hdrs)\u001b[0m\n\u001b[1;32m    647\u001b[0m \u001b[0;32mclass\u001b[0m \u001b[0mHTTPDefaultErrorHandler\u001b[0m\u001b[0;34m(\u001b[0m\u001b[0mBaseHandler\u001b[0m\u001b[0;34m)\u001b[0m\u001b[0;34m:\u001b[0m\u001b[0;34m\u001b[0m\u001b[0;34m\u001b[0m\u001b[0m\n\u001b[1;32m    648\u001b[0m     \u001b[0;32mdef\u001b[0m \u001b[0mhttp_error_default\u001b[0m\u001b[0;34m(\u001b[0m\u001b[0mself\u001b[0m\u001b[0;34m,\u001b[0m \u001b[0mreq\u001b[0m\u001b[0;34m,\u001b[0m \u001b[0mfp\u001b[0m\u001b[0;34m,\u001b[0m \u001b[0mcode\u001b[0m\u001b[0;34m,\u001b[0m \u001b[0mmsg\u001b[0m\u001b[0;34m,\u001b[0m \u001b[0mhdrs\u001b[0m\u001b[0;34m)\u001b[0m\u001b[0;34m:\u001b[0m\u001b[0;34m\u001b[0m\u001b[0;34m\u001b[0m\u001b[0m\n\u001b[0;32m--> 649\u001b[0;31m         \u001b[0;32mraise\u001b[0m \u001b[0mHTTPError\u001b[0m\u001b[0;34m(\u001b[0m\u001b[0mreq\u001b[0m\u001b[0;34m.\u001b[0m\u001b[0mfull_url\u001b[0m\u001b[0;34m,\u001b[0m \u001b[0mcode\u001b[0m\u001b[0;34m,\u001b[0m \u001b[0mmsg\u001b[0m\u001b[0;34m,\u001b[0m \u001b[0mhdrs\u001b[0m\u001b[0;34m,\u001b[0m \u001b[0mfp\u001b[0m\u001b[0;34m)\u001b[0m\u001b[0;34m\u001b[0m\u001b[0;34m\u001b[0m\u001b[0m\n\u001b[0m\u001b[1;32m    650\u001b[0m \u001b[0;34m\u001b[0m\u001b[0m\n\u001b[1;32m    651\u001b[0m \u001b[0;32mclass\u001b[0m \u001b[0mHTTPRedirectHandler\u001b[0m\u001b[0;34m(\u001b[0m\u001b[0mBaseHandler\u001b[0m\u001b[0;34m)\u001b[0m\u001b[0;34m:\u001b[0m\u001b[0;34m\u001b[0m\u001b[0;34m\u001b[0m\u001b[0m\n",
            "\u001b[0;31mHTTPError\u001b[0m: HTTP Error 400: Bad Request"
          ]
        }
      ],
      "source": [
        "tb.detect_language()"
      ]
    },
    {
      "cell_type": "code",
      "execution_count": 139,
      "id": "14d868d1",
      "metadata": {
        "id": "14d868d1",
        "colab": {
          "base_uri": "https://localhost:8080/"
        },
        "outputId": "2e135417-cc44-4381-a60f-867c3cd4209e"
      },
      "outputs": [
        {
          "output_type": "execute_result",
          "data": {
            "text/plain": [
              "TextBlob(\"الأخبار العاجلة: يتطلع دونالد ترامب، رئيس الولايات المتحدة الأمريكية إلى توقيع صفقة لي\")"
            ]
          },
          "metadata": {},
          "execution_count": 139
        }
      ],
      "source": [
        "# change in to Arabic\n",
        "tb.translate(to='ar')"
      ]
    },
    {
      "cell_type": "markdown",
      "id": "dfc99c87",
      "metadata": {
        "id": "dfc99c87"
      },
      "source": [
        "## Use Inbuilt Sentiment Classifier"
      ]
    },
    {
      "cell_type": "code",
      "execution_count": 140,
      "id": "70acffe3",
      "metadata": {
        "id": "70acffe3"
      },
      "outputs": [],
      "source": [
        "from textblob.sentiments import NaiveBayesAnalyzer"
      ]
    },
    {
      "cell_type": "code",
      "execution_count": 141,
      "id": "fec9b988",
      "metadata": {
        "id": "fec9b988"
      },
      "outputs": [],
      "source": [
        "x= 'we all stands together to fight with corona virus. we will win together'"
      ]
    },
    {
      "cell_type": "code",
      "execution_count": 142,
      "id": "5c387f03",
      "metadata": {
        "id": "5c387f03"
      },
      "outputs": [],
      "source": [
        "tb= TextBlob(x, analyzer=NaiveBayesAnalyzer())"
      ]
    },
    {
      "cell_type": "code",
      "execution_count": 143,
      "id": "327f283d",
      "metadata": {
        "id": "327f283d",
        "colab": {
          "base_uri": "https://localhost:8080/"
        },
        "outputId": "45a8a111-1c4e-4678-8622-a87a29870610"
      },
      "outputs": [
        {
          "output_type": "execute_result",
          "data": {
            "text/plain": [
              "Sentiment(classification='pos', p_pos=0.8259779151942094, p_neg=0.17402208480578962)"
            ]
          },
          "metadata": {},
          "execution_count": 143
        }
      ],
      "source": [
        "tb.sentiment"
      ]
    },
    {
      "cell_type": "code",
      "execution_count": 144,
      "id": "bb4f31cc",
      "metadata": {
        "id": "bb4f31cc"
      },
      "outputs": [],
      "source": [
        "x= 'we all are suffering from corona'"
      ]
    },
    {
      "cell_type": "code",
      "execution_count": 145,
      "id": "807480b3",
      "metadata": {
        "id": "807480b3"
      },
      "outputs": [],
      "source": [
        "tb= TextBlob(x, analyzer=NaiveBayesAnalyzer())"
      ]
    },
    {
      "cell_type": "code",
      "execution_count": 146,
      "id": "3cef7a48",
      "metadata": {
        "id": "3cef7a48",
        "colab": {
          "base_uri": "https://localhost:8080/"
        },
        "outputId": "de730dde-8b14-45bb-9c90-f6ffa5d2589a"
      },
      "outputs": [
        {
          "output_type": "execute_result",
          "data": {
            "text/plain": [
              "Sentiment(classification='pos', p_pos=0.8530393643704917, p_neg=0.1469606356295085)"
            ]
          },
          "metadata": {},
          "execution_count": 146
        }
      ],
      "source": [
        "tb.sentiment"
      ]
    },
    {
      "cell_type": "markdown",
      "id": "34922142",
      "metadata": {
        "id": "34922142"
      },
      "source": [
        "# Advanced Text Processing"
      ]
    },
    {
      "cell_type": "markdown",
      "id": "02af0688",
      "metadata": {
        "id": "02af0688"
      },
      "source": [
        "## N-Grams"
      ]
    },
    {
      "cell_type": "code",
      "execution_count": 147,
      "id": "df7ab2d0",
      "metadata": {
        "id": "df7ab2d0"
      },
      "outputs": [],
      "source": [
        "x= 'thanks for watching'"
      ]
    },
    {
      "cell_type": "code",
      "execution_count": 148,
      "id": "6cd4bc57",
      "metadata": {
        "id": "6cd4bc57"
      },
      "outputs": [],
      "source": [
        "tb= TextBlob(x)"
      ]
    },
    {
      "cell_type": "code",
      "execution_count": 149,
      "id": "8498d871",
      "metadata": {
        "id": "8498d871",
        "colab": {
          "base_uri": "https://localhost:8080/"
        },
        "outputId": "869a6e66-d092-4c06-f03e-a709d5ea6a41"
      },
      "outputs": [
        {
          "output_type": "execute_result",
          "data": {
            "text/plain": [
              "[WordList(['thanks', 'for']), WordList(['for', 'watching'])]"
            ]
          },
          "metadata": {},
          "execution_count": 149
        }
      ],
      "source": [
        "tb.ngrams(2)"
      ]
    },
    {
      "cell_type": "code",
      "execution_count": 150,
      "id": "48efe96d",
      "metadata": {
        "id": "48efe96d",
        "colab": {
          "base_uri": "https://localhost:8080/"
        },
        "outputId": "ab1fdcc3-e8d8-4ba6-ba55-2a63b61b619d"
      },
      "outputs": [
        {
          "output_type": "execute_result",
          "data": {
            "text/plain": [
              "[WordList(['thanks', 'for', 'watching'])]"
            ]
          },
          "metadata": {},
          "execution_count": 150
        }
      ],
      "source": [
        "tb.ngrams(3)"
      ]
    },
    {
      "cell_type": "markdown",
      "id": "7ca56bba",
      "metadata": {
        "id": "7ca56bba"
      },
      "source": [
        "## Bag of Words"
      ]
    },
    {
      "cell_type": "code",
      "execution_count": 151,
      "id": "d8644ed6",
      "metadata": {
        "id": "d8644ed6"
      },
      "outputs": [],
      "source": [
        "x= ['this is first sentence', 'this is second','this is last']"
      ]
    },
    {
      "cell_type": "code",
      "execution_count": 152,
      "id": "e1231b14",
      "metadata": {
        "id": "e1231b14"
      },
      "outputs": [],
      "source": [
        "from sklearn.feature_extraction.text import CountVectorizer"
      ]
    },
    {
      "cell_type": "code",
      "execution_count": 153,
      "id": "577266a8",
      "metadata": {
        "id": "577266a8"
      },
      "outputs": [],
      "source": [
        "cv= CountVectorizer(ngram_range=(1,1))\n",
        "text_counts= cv.fit_transform(x)"
      ]
    },
    {
      "cell_type": "code",
      "execution_count": 154,
      "id": "16e4fa1a",
      "metadata": {
        "id": "16e4fa1a",
        "colab": {
          "base_uri": "https://localhost:8080/"
        },
        "outputId": "c777ca31-4b80-4b85-9b77-08abde7cef00"
      },
      "outputs": [
        {
          "output_type": "execute_result",
          "data": {
            "text/plain": [
              "array([[1, 1, 0, 0, 1, 1],\n",
              "       [0, 1, 0, 1, 0, 1],\n",
              "       [0, 1, 1, 0, 0, 1]])"
            ]
          },
          "metadata": {},
          "execution_count": 154
        }
      ],
      "source": [
        "text_counts.toarray()"
      ]
    },
    {
      "cell_type": "code",
      "execution_count": 155,
      "id": "c7577d19",
      "metadata": {
        "id": "c7577d19",
        "colab": {
          "base_uri": "https://localhost:8080/"
        },
        "outputId": "6b197c0a-5152-451b-c62c-a56decaa3a09"
      },
      "outputs": [
        {
          "output_type": "stream",
          "name": "stderr",
          "text": [
            "/usr/local/lib/python3.7/dist-packages/sklearn/utils/deprecation.py:87: FutureWarning: Function get_feature_names is deprecated; get_feature_names is deprecated in 1.0 and will be removed in 1.2. Please use get_feature_names_out instead.\n",
            "  warnings.warn(msg, category=FutureWarning)\n"
          ]
        },
        {
          "output_type": "execute_result",
          "data": {
            "text/plain": [
              "['first', 'is', 'last', 'second', 'sentence', 'this']"
            ]
          },
          "metadata": {},
          "execution_count": 155
        }
      ],
      "source": [
        "cv.get_feature_names()"
      ]
    },
    {
      "cell_type": "code",
      "execution_count": 156,
      "id": "90a043f3",
      "metadata": {
        "id": "90a043f3",
        "colab": {
          "base_uri": "https://localhost:8080/"
        },
        "outputId": "309d7677-8dbb-454a-aa76-defafc2034da"
      },
      "outputs": [
        {
          "output_type": "stream",
          "name": "stderr",
          "text": [
            "/usr/local/lib/python3.7/dist-packages/sklearn/utils/deprecation.py:87: FutureWarning: Function get_feature_names is deprecated; get_feature_names is deprecated in 1.0 and will be removed in 1.2. Please use get_feature_names_out instead.\n",
            "  warnings.warn(msg, category=FutureWarning)\n"
          ]
        }
      ],
      "source": [
        "bow= pd.DataFrame(text_counts.toarray(), columns=cv.get_feature_names())"
      ]
    },
    {
      "cell_type": "code",
      "execution_count": 157,
      "id": "7d933366",
      "metadata": {
        "id": "7d933366",
        "colab": {
          "base_uri": "https://localhost:8080/",
          "height": 143
        },
        "outputId": "e455bfa0-df93-41ec-a7be-c02d69632b12"
      },
      "outputs": [
        {
          "output_type": "execute_result",
          "data": {
            "text/plain": [
              "   first  is  last  second  sentence  this\n",
              "0      1   1     0       0         1     1\n",
              "1      0   1     0       1         0     1\n",
              "2      0   1     1       0         0     1"
            ],
            "text/html": [
              "\n",
              "  <div id=\"df-681b8232-2501-4beb-9330-0c1536c769f7\">\n",
              "    <div class=\"colab-df-container\">\n",
              "      <div>\n",
              "<style scoped>\n",
              "    .dataframe tbody tr th:only-of-type {\n",
              "        vertical-align: middle;\n",
              "    }\n",
              "\n",
              "    .dataframe tbody tr th {\n",
              "        vertical-align: top;\n",
              "    }\n",
              "\n",
              "    .dataframe thead th {\n",
              "        text-align: right;\n",
              "    }\n",
              "</style>\n",
              "<table border=\"1\" class=\"dataframe\">\n",
              "  <thead>\n",
              "    <tr style=\"text-align: right;\">\n",
              "      <th></th>\n",
              "      <th>first</th>\n",
              "      <th>is</th>\n",
              "      <th>last</th>\n",
              "      <th>second</th>\n",
              "      <th>sentence</th>\n",
              "      <th>this</th>\n",
              "    </tr>\n",
              "  </thead>\n",
              "  <tbody>\n",
              "    <tr>\n",
              "      <th>0</th>\n",
              "      <td>1</td>\n",
              "      <td>1</td>\n",
              "      <td>0</td>\n",
              "      <td>0</td>\n",
              "      <td>1</td>\n",
              "      <td>1</td>\n",
              "    </tr>\n",
              "    <tr>\n",
              "      <th>1</th>\n",
              "      <td>0</td>\n",
              "      <td>1</td>\n",
              "      <td>0</td>\n",
              "      <td>1</td>\n",
              "      <td>0</td>\n",
              "      <td>1</td>\n",
              "    </tr>\n",
              "    <tr>\n",
              "      <th>2</th>\n",
              "      <td>0</td>\n",
              "      <td>1</td>\n",
              "      <td>1</td>\n",
              "      <td>0</td>\n",
              "      <td>0</td>\n",
              "      <td>1</td>\n",
              "    </tr>\n",
              "  </tbody>\n",
              "</table>\n",
              "</div>\n",
              "      <button class=\"colab-df-convert\" onclick=\"convertToInteractive('df-681b8232-2501-4beb-9330-0c1536c769f7')\"\n",
              "              title=\"Convert this dataframe to an interactive table.\"\n",
              "              style=\"display:none;\">\n",
              "        \n",
              "  <svg xmlns=\"http://www.w3.org/2000/svg\" height=\"24px\"viewBox=\"0 0 24 24\"\n",
              "       width=\"24px\">\n",
              "    <path d=\"M0 0h24v24H0V0z\" fill=\"none\"/>\n",
              "    <path d=\"M18.56 5.44l.94 2.06.94-2.06 2.06-.94-2.06-.94-.94-2.06-.94 2.06-2.06.94zm-11 1L8.5 8.5l.94-2.06 2.06-.94-2.06-.94L8.5 2.5l-.94 2.06-2.06.94zm10 10l.94 2.06.94-2.06 2.06-.94-2.06-.94-.94-2.06-.94 2.06-2.06.94z\"/><path d=\"M17.41 7.96l-1.37-1.37c-.4-.4-.92-.59-1.43-.59-.52 0-1.04.2-1.43.59L10.3 9.45l-7.72 7.72c-.78.78-.78 2.05 0 2.83L4 21.41c.39.39.9.59 1.41.59.51 0 1.02-.2 1.41-.59l7.78-7.78 2.81-2.81c.8-.78.8-2.07 0-2.86zM5.41 20L4 18.59l7.72-7.72 1.47 1.35L5.41 20z\"/>\n",
              "  </svg>\n",
              "      </button>\n",
              "      \n",
              "  <style>\n",
              "    .colab-df-container {\n",
              "      display:flex;\n",
              "      flex-wrap:wrap;\n",
              "      gap: 12px;\n",
              "    }\n",
              "\n",
              "    .colab-df-convert {\n",
              "      background-color: #E8F0FE;\n",
              "      border: none;\n",
              "      border-radius: 50%;\n",
              "      cursor: pointer;\n",
              "      display: none;\n",
              "      fill: #1967D2;\n",
              "      height: 32px;\n",
              "      padding: 0 0 0 0;\n",
              "      width: 32px;\n",
              "    }\n",
              "\n",
              "    .colab-df-convert:hover {\n",
              "      background-color: #E2EBFA;\n",
              "      box-shadow: 0px 1px 2px rgba(60, 64, 67, 0.3), 0px 1px 3px 1px rgba(60, 64, 67, 0.15);\n",
              "      fill: #174EA6;\n",
              "    }\n",
              "\n",
              "    [theme=dark] .colab-df-convert {\n",
              "      background-color: #3B4455;\n",
              "      fill: #D2E3FC;\n",
              "    }\n",
              "\n",
              "    [theme=dark] .colab-df-convert:hover {\n",
              "      background-color: #434B5C;\n",
              "      box-shadow: 0px 1px 3px 1px rgba(0, 0, 0, 0.15);\n",
              "      filter: drop-shadow(0px 1px 2px rgba(0, 0, 0, 0.3));\n",
              "      fill: #FFFFFF;\n",
              "    }\n",
              "  </style>\n",
              "\n",
              "      <script>\n",
              "        const buttonEl =\n",
              "          document.querySelector('#df-681b8232-2501-4beb-9330-0c1536c769f7 button.colab-df-convert');\n",
              "        buttonEl.style.display =\n",
              "          google.colab.kernel.accessAllowed ? 'block' : 'none';\n",
              "\n",
              "        async function convertToInteractive(key) {\n",
              "          const element = document.querySelector('#df-681b8232-2501-4beb-9330-0c1536c769f7');\n",
              "          const dataTable =\n",
              "            await google.colab.kernel.invokeFunction('convertToInteractive',\n",
              "                                                     [key], {});\n",
              "          if (!dataTable) return;\n",
              "\n",
              "          const docLinkHtml = 'Like what you see? Visit the ' +\n",
              "            '<a target=\"_blank\" href=https://colab.research.google.com/notebooks/data_table.ipynb>data table notebook</a>'\n",
              "            + ' to learn more about interactive tables.';\n",
              "          element.innerHTML = '';\n",
              "          dataTable['output_type'] = 'display_data';\n",
              "          await google.colab.output.renderOutput(dataTable, element);\n",
              "          const docLink = document.createElement('div');\n",
              "          docLink.innerHTML = docLinkHtml;\n",
              "          element.appendChild(docLink);\n",
              "        }\n",
              "      </script>\n",
              "    </div>\n",
              "  </div>\n",
              "  "
            ]
          },
          "metadata": {},
          "execution_count": 157
        }
      ],
      "source": [
        "bow"
      ]
    },
    {
      "cell_type": "code",
      "execution_count": 158,
      "id": "90c298df",
      "metadata": {
        "id": "90c298df",
        "colab": {
          "base_uri": "https://localhost:8080/"
        },
        "outputId": "bd9cd127-6c6f-46cf-925f-0bf34e36dc32"
      },
      "outputs": [
        {
          "output_type": "execute_result",
          "data": {
            "text/plain": [
              "['this is first sentence', 'this is second', 'this is last']"
            ]
          },
          "metadata": {},
          "execution_count": 158
        }
      ],
      "source": [
        "x"
      ]
    },
    {
      "cell_type": "markdown",
      "id": "020fda97",
      "metadata": {
        "id": "020fda97"
      },
      "source": [
        "## Term Frequency"
      ]
    },
    {
      "cell_type": "code",
      "execution_count": 159,
      "id": "618c6a09",
      "metadata": {
        "id": "618c6a09",
        "colab": {
          "base_uri": "https://localhost:8080/"
        },
        "outputId": "3c0a26f8-8a7a-4c0d-f778-ab7e9670c155"
      },
      "outputs": [
        {
          "output_type": "execute_result",
          "data": {
            "text/plain": [
              "['this is first sentence', 'this is second', 'this is last']"
            ]
          },
          "metadata": {},
          "execution_count": 159
        }
      ],
      "source": [
        "x"
      ]
    },
    {
      "cell_type": "code",
      "execution_count": 160,
      "id": "ed4e2bc7",
      "metadata": {
        "id": "ed4e2bc7",
        "colab": {
          "base_uri": "https://localhost:8080/",
          "height": 143
        },
        "outputId": "1b71c4e7-6a5e-4846-ed47-f52ad87c7a19"
      },
      "outputs": [
        {
          "output_type": "execute_result",
          "data": {
            "text/plain": [
              "   first  is  last  second  sentence  this\n",
              "0      1   1     0       0         1     1\n",
              "1      0   1     0       1         0     1\n",
              "2      0   1     1       0         0     1"
            ],
            "text/html": [
              "\n",
              "  <div id=\"df-b98a9875-5984-4505-aeed-9e052c60a341\">\n",
              "    <div class=\"colab-df-container\">\n",
              "      <div>\n",
              "<style scoped>\n",
              "    .dataframe tbody tr th:only-of-type {\n",
              "        vertical-align: middle;\n",
              "    }\n",
              "\n",
              "    .dataframe tbody tr th {\n",
              "        vertical-align: top;\n",
              "    }\n",
              "\n",
              "    .dataframe thead th {\n",
              "        text-align: right;\n",
              "    }\n",
              "</style>\n",
              "<table border=\"1\" class=\"dataframe\">\n",
              "  <thead>\n",
              "    <tr style=\"text-align: right;\">\n",
              "      <th></th>\n",
              "      <th>first</th>\n",
              "      <th>is</th>\n",
              "      <th>last</th>\n",
              "      <th>second</th>\n",
              "      <th>sentence</th>\n",
              "      <th>this</th>\n",
              "    </tr>\n",
              "  </thead>\n",
              "  <tbody>\n",
              "    <tr>\n",
              "      <th>0</th>\n",
              "      <td>1</td>\n",
              "      <td>1</td>\n",
              "      <td>0</td>\n",
              "      <td>0</td>\n",
              "      <td>1</td>\n",
              "      <td>1</td>\n",
              "    </tr>\n",
              "    <tr>\n",
              "      <th>1</th>\n",
              "      <td>0</td>\n",
              "      <td>1</td>\n",
              "      <td>0</td>\n",
              "      <td>1</td>\n",
              "      <td>0</td>\n",
              "      <td>1</td>\n",
              "    </tr>\n",
              "    <tr>\n",
              "      <th>2</th>\n",
              "      <td>0</td>\n",
              "      <td>1</td>\n",
              "      <td>1</td>\n",
              "      <td>0</td>\n",
              "      <td>0</td>\n",
              "      <td>1</td>\n",
              "    </tr>\n",
              "  </tbody>\n",
              "</table>\n",
              "</div>\n",
              "      <button class=\"colab-df-convert\" onclick=\"convertToInteractive('df-b98a9875-5984-4505-aeed-9e052c60a341')\"\n",
              "              title=\"Convert this dataframe to an interactive table.\"\n",
              "              style=\"display:none;\">\n",
              "        \n",
              "  <svg xmlns=\"http://www.w3.org/2000/svg\" height=\"24px\"viewBox=\"0 0 24 24\"\n",
              "       width=\"24px\">\n",
              "    <path d=\"M0 0h24v24H0V0z\" fill=\"none\"/>\n",
              "    <path d=\"M18.56 5.44l.94 2.06.94-2.06 2.06-.94-2.06-.94-.94-2.06-.94 2.06-2.06.94zm-11 1L8.5 8.5l.94-2.06 2.06-.94-2.06-.94L8.5 2.5l-.94 2.06-2.06.94zm10 10l.94 2.06.94-2.06 2.06-.94-2.06-.94-.94-2.06-.94 2.06-2.06.94z\"/><path d=\"M17.41 7.96l-1.37-1.37c-.4-.4-.92-.59-1.43-.59-.52 0-1.04.2-1.43.59L10.3 9.45l-7.72 7.72c-.78.78-.78 2.05 0 2.83L4 21.41c.39.39.9.59 1.41.59.51 0 1.02-.2 1.41-.59l7.78-7.78 2.81-2.81c.8-.78.8-2.07 0-2.86zM5.41 20L4 18.59l7.72-7.72 1.47 1.35L5.41 20z\"/>\n",
              "  </svg>\n",
              "      </button>\n",
              "      \n",
              "  <style>\n",
              "    .colab-df-container {\n",
              "      display:flex;\n",
              "      flex-wrap:wrap;\n",
              "      gap: 12px;\n",
              "    }\n",
              "\n",
              "    .colab-df-convert {\n",
              "      background-color: #E8F0FE;\n",
              "      border: none;\n",
              "      border-radius: 50%;\n",
              "      cursor: pointer;\n",
              "      display: none;\n",
              "      fill: #1967D2;\n",
              "      height: 32px;\n",
              "      padding: 0 0 0 0;\n",
              "      width: 32px;\n",
              "    }\n",
              "\n",
              "    .colab-df-convert:hover {\n",
              "      background-color: #E2EBFA;\n",
              "      box-shadow: 0px 1px 2px rgba(60, 64, 67, 0.3), 0px 1px 3px 1px rgba(60, 64, 67, 0.15);\n",
              "      fill: #174EA6;\n",
              "    }\n",
              "\n",
              "    [theme=dark] .colab-df-convert {\n",
              "      background-color: #3B4455;\n",
              "      fill: #D2E3FC;\n",
              "    }\n",
              "\n",
              "    [theme=dark] .colab-df-convert:hover {\n",
              "      background-color: #434B5C;\n",
              "      box-shadow: 0px 1px 3px 1px rgba(0, 0, 0, 0.15);\n",
              "      filter: drop-shadow(0px 1px 2px rgba(0, 0, 0, 0.3));\n",
              "      fill: #FFFFFF;\n",
              "    }\n",
              "  </style>\n",
              "\n",
              "      <script>\n",
              "        const buttonEl =\n",
              "          document.querySelector('#df-b98a9875-5984-4505-aeed-9e052c60a341 button.colab-df-convert');\n",
              "        buttonEl.style.display =\n",
              "          google.colab.kernel.accessAllowed ? 'block' : 'none';\n",
              "\n",
              "        async function convertToInteractive(key) {\n",
              "          const element = document.querySelector('#df-b98a9875-5984-4505-aeed-9e052c60a341');\n",
              "          const dataTable =\n",
              "            await google.colab.kernel.invokeFunction('convertToInteractive',\n",
              "                                                     [key], {});\n",
              "          if (!dataTable) return;\n",
              "\n",
              "          const docLinkHtml = 'Like what you see? Visit the ' +\n",
              "            '<a target=\"_blank\" href=https://colab.research.google.com/notebooks/data_table.ipynb>data table notebook</a>'\n",
              "            + ' to learn more about interactive tables.';\n",
              "          element.innerHTML = '';\n",
              "          dataTable['output_type'] = 'display_data';\n",
              "          await google.colab.output.renderOutput(dataTable, element);\n",
              "          const docLink = document.createElement('div');\n",
              "          docLink.innerHTML = docLinkHtml;\n",
              "          element.appendChild(docLink);\n",
              "        }\n",
              "      </script>\n",
              "    </div>\n",
              "  </div>\n",
              "  "
            ]
          },
          "metadata": {},
          "execution_count": 160
        }
      ],
      "source": [
        "bow"
      ]
    },
    {
      "cell_type": "code",
      "execution_count": 161,
      "id": "655ecc14",
      "metadata": {
        "id": "655ecc14",
        "colab": {
          "base_uri": "https://localhost:8080/"
        },
        "outputId": "4e70e96c-f905-4132-b6be-076e00688c07"
      },
      "outputs": [
        {
          "output_type": "execute_result",
          "data": {
            "text/plain": [
              "(3, 6)"
            ]
          },
          "metadata": {},
          "execution_count": 161
        }
      ],
      "source": [
        "bow.shape"
      ]
    },
    {
      "cell_type": "code",
      "execution_count": 162,
      "id": "6230d65b",
      "metadata": {
        "id": "6230d65b"
      },
      "outputs": [],
      "source": [
        "tf= bow.copy()"
      ]
    },
    {
      "cell_type": "code",
      "execution_count": 164,
      "id": "831619f3",
      "metadata": {
        "id": "831619f3"
      },
      "outputs": [],
      "source": [
        "for index, row in enumerate(tf.iterrows()):\n",
        "    for col in row[1].index:\n",
        "        tf.loc[index,col]=tf.loc[index, col]/sum(row[1].values)"
      ]
    },
    {
      "cell_type": "code",
      "execution_count": 165,
      "id": "ffcd7cd1",
      "metadata": {
        "id": "ffcd7cd1",
        "colab": {
          "base_uri": "https://localhost:8080/",
          "height": 143
        },
        "outputId": "d6a99bf5-bf25-42f6-b20b-a866f15442ed"
      },
      "outputs": [
        {
          "output_type": "execute_result",
          "data": {
            "text/plain": [
              "   first        is      last    second  sentence      this\n",
              "0   0.25  0.250000  0.000000  0.000000      0.25  0.250000\n",
              "1   0.00  0.333333  0.000000  0.333333      0.00  0.333333\n",
              "2   0.00  0.333333  0.333333  0.000000      0.00  0.333333"
            ],
            "text/html": [
              "\n",
              "  <div id=\"df-c4a3609a-619e-47be-ad56-2b060cbaad0b\">\n",
              "    <div class=\"colab-df-container\">\n",
              "      <div>\n",
              "<style scoped>\n",
              "    .dataframe tbody tr th:only-of-type {\n",
              "        vertical-align: middle;\n",
              "    }\n",
              "\n",
              "    .dataframe tbody tr th {\n",
              "        vertical-align: top;\n",
              "    }\n",
              "\n",
              "    .dataframe thead th {\n",
              "        text-align: right;\n",
              "    }\n",
              "</style>\n",
              "<table border=\"1\" class=\"dataframe\">\n",
              "  <thead>\n",
              "    <tr style=\"text-align: right;\">\n",
              "      <th></th>\n",
              "      <th>first</th>\n",
              "      <th>is</th>\n",
              "      <th>last</th>\n",
              "      <th>second</th>\n",
              "      <th>sentence</th>\n",
              "      <th>this</th>\n",
              "    </tr>\n",
              "  </thead>\n",
              "  <tbody>\n",
              "    <tr>\n",
              "      <th>0</th>\n",
              "      <td>0.25</td>\n",
              "      <td>0.250000</td>\n",
              "      <td>0.000000</td>\n",
              "      <td>0.000000</td>\n",
              "      <td>0.25</td>\n",
              "      <td>0.250000</td>\n",
              "    </tr>\n",
              "    <tr>\n",
              "      <th>1</th>\n",
              "      <td>0.00</td>\n",
              "      <td>0.333333</td>\n",
              "      <td>0.000000</td>\n",
              "      <td>0.333333</td>\n",
              "      <td>0.00</td>\n",
              "      <td>0.333333</td>\n",
              "    </tr>\n",
              "    <tr>\n",
              "      <th>2</th>\n",
              "      <td>0.00</td>\n",
              "      <td>0.333333</td>\n",
              "      <td>0.333333</td>\n",
              "      <td>0.000000</td>\n",
              "      <td>0.00</td>\n",
              "      <td>0.333333</td>\n",
              "    </tr>\n",
              "  </tbody>\n",
              "</table>\n",
              "</div>\n",
              "      <button class=\"colab-df-convert\" onclick=\"convertToInteractive('df-c4a3609a-619e-47be-ad56-2b060cbaad0b')\"\n",
              "              title=\"Convert this dataframe to an interactive table.\"\n",
              "              style=\"display:none;\">\n",
              "        \n",
              "  <svg xmlns=\"http://www.w3.org/2000/svg\" height=\"24px\"viewBox=\"0 0 24 24\"\n",
              "       width=\"24px\">\n",
              "    <path d=\"M0 0h24v24H0V0z\" fill=\"none\"/>\n",
              "    <path d=\"M18.56 5.44l.94 2.06.94-2.06 2.06-.94-2.06-.94-.94-2.06-.94 2.06-2.06.94zm-11 1L8.5 8.5l.94-2.06 2.06-.94-2.06-.94L8.5 2.5l-.94 2.06-2.06.94zm10 10l.94 2.06.94-2.06 2.06-.94-2.06-.94-.94-2.06-.94 2.06-2.06.94z\"/><path d=\"M17.41 7.96l-1.37-1.37c-.4-.4-.92-.59-1.43-.59-.52 0-1.04.2-1.43.59L10.3 9.45l-7.72 7.72c-.78.78-.78 2.05 0 2.83L4 21.41c.39.39.9.59 1.41.59.51 0 1.02-.2 1.41-.59l7.78-7.78 2.81-2.81c.8-.78.8-2.07 0-2.86zM5.41 20L4 18.59l7.72-7.72 1.47 1.35L5.41 20z\"/>\n",
              "  </svg>\n",
              "      </button>\n",
              "      \n",
              "  <style>\n",
              "    .colab-df-container {\n",
              "      display:flex;\n",
              "      flex-wrap:wrap;\n",
              "      gap: 12px;\n",
              "    }\n",
              "\n",
              "    .colab-df-convert {\n",
              "      background-color: #E8F0FE;\n",
              "      border: none;\n",
              "      border-radius: 50%;\n",
              "      cursor: pointer;\n",
              "      display: none;\n",
              "      fill: #1967D2;\n",
              "      height: 32px;\n",
              "      padding: 0 0 0 0;\n",
              "      width: 32px;\n",
              "    }\n",
              "\n",
              "    .colab-df-convert:hover {\n",
              "      background-color: #E2EBFA;\n",
              "      box-shadow: 0px 1px 2px rgba(60, 64, 67, 0.3), 0px 1px 3px 1px rgba(60, 64, 67, 0.15);\n",
              "      fill: #174EA6;\n",
              "    }\n",
              "\n",
              "    [theme=dark] .colab-df-convert {\n",
              "      background-color: #3B4455;\n",
              "      fill: #D2E3FC;\n",
              "    }\n",
              "\n",
              "    [theme=dark] .colab-df-convert:hover {\n",
              "      background-color: #434B5C;\n",
              "      box-shadow: 0px 1px 3px 1px rgba(0, 0, 0, 0.15);\n",
              "      filter: drop-shadow(0px 1px 2px rgba(0, 0, 0, 0.3));\n",
              "      fill: #FFFFFF;\n",
              "    }\n",
              "  </style>\n",
              "\n",
              "      <script>\n",
              "        const buttonEl =\n",
              "          document.querySelector('#df-c4a3609a-619e-47be-ad56-2b060cbaad0b button.colab-df-convert');\n",
              "        buttonEl.style.display =\n",
              "          google.colab.kernel.accessAllowed ? 'block' : 'none';\n",
              "\n",
              "        async function convertToInteractive(key) {\n",
              "          const element = document.querySelector('#df-c4a3609a-619e-47be-ad56-2b060cbaad0b');\n",
              "          const dataTable =\n",
              "            await google.colab.kernel.invokeFunction('convertToInteractive',\n",
              "                                                     [key], {});\n",
              "          if (!dataTable) return;\n",
              "\n",
              "          const docLinkHtml = 'Like what you see? Visit the ' +\n",
              "            '<a target=\"_blank\" href=https://colab.research.google.com/notebooks/data_table.ipynb>data table notebook</a>'\n",
              "            + ' to learn more about interactive tables.';\n",
              "          element.innerHTML = '';\n",
              "          dataTable['output_type'] = 'display_data';\n",
              "          await google.colab.output.renderOutput(dataTable, element);\n",
              "          const docLink = document.createElement('div');\n",
              "          docLink.innerHTML = docLinkHtml;\n",
              "          element.appendChild(docLink);\n",
              "        }\n",
              "      </script>\n",
              "    </div>\n",
              "  </div>\n",
              "  "
            ]
          },
          "metadata": {},
          "execution_count": 165
        }
      ],
      "source": [
        "tf"
      ]
    },
    {
      "cell_type": "markdown",
      "id": "9016709c",
      "metadata": {
        "id": "9016709c"
      },
      "source": [
        "## Inverse Document Frequency"
      ]
    },
    {
      "cell_type": "code",
      "execution_count": 166,
      "id": "3f650e19",
      "metadata": {
        "id": "3f650e19"
      },
      "outputs": [],
      "source": [
        "import numpy as np"
      ]
    },
    {
      "cell_type": "code",
      "execution_count": 167,
      "id": "be1677ae",
      "metadata": {
        "id": "be1677ae"
      },
      "outputs": [],
      "source": [
        "x_df= pd.DataFrame(x, columns=['words'])"
      ]
    },
    {
      "cell_type": "code",
      "execution_count": 168,
      "id": "d25a49c1",
      "metadata": {
        "id": "d25a49c1",
        "colab": {
          "base_uri": "https://localhost:8080/",
          "height": 143
        },
        "outputId": "171abe52-f055-4b91-d2d2-a035bb757613"
      },
      "outputs": [
        {
          "output_type": "execute_result",
          "data": {
            "text/plain": [
              "                    words\n",
              "0  this is first sentence\n",
              "1          this is second\n",
              "2            this is last"
            ],
            "text/html": [
              "\n",
              "  <div id=\"df-effe0549-12aa-4652-b61d-e82023cdffcf\">\n",
              "    <div class=\"colab-df-container\">\n",
              "      <div>\n",
              "<style scoped>\n",
              "    .dataframe tbody tr th:only-of-type {\n",
              "        vertical-align: middle;\n",
              "    }\n",
              "\n",
              "    .dataframe tbody tr th {\n",
              "        vertical-align: top;\n",
              "    }\n",
              "\n",
              "    .dataframe thead th {\n",
              "        text-align: right;\n",
              "    }\n",
              "</style>\n",
              "<table border=\"1\" class=\"dataframe\">\n",
              "  <thead>\n",
              "    <tr style=\"text-align: right;\">\n",
              "      <th></th>\n",
              "      <th>words</th>\n",
              "    </tr>\n",
              "  </thead>\n",
              "  <tbody>\n",
              "    <tr>\n",
              "      <th>0</th>\n",
              "      <td>this is first sentence</td>\n",
              "    </tr>\n",
              "    <tr>\n",
              "      <th>1</th>\n",
              "      <td>this is second</td>\n",
              "    </tr>\n",
              "    <tr>\n",
              "      <th>2</th>\n",
              "      <td>this is last</td>\n",
              "    </tr>\n",
              "  </tbody>\n",
              "</table>\n",
              "</div>\n",
              "      <button class=\"colab-df-convert\" onclick=\"convertToInteractive('df-effe0549-12aa-4652-b61d-e82023cdffcf')\"\n",
              "              title=\"Convert this dataframe to an interactive table.\"\n",
              "              style=\"display:none;\">\n",
              "        \n",
              "  <svg xmlns=\"http://www.w3.org/2000/svg\" height=\"24px\"viewBox=\"0 0 24 24\"\n",
              "       width=\"24px\">\n",
              "    <path d=\"M0 0h24v24H0V0z\" fill=\"none\"/>\n",
              "    <path d=\"M18.56 5.44l.94 2.06.94-2.06 2.06-.94-2.06-.94-.94-2.06-.94 2.06-2.06.94zm-11 1L8.5 8.5l.94-2.06 2.06-.94-2.06-.94L8.5 2.5l-.94 2.06-2.06.94zm10 10l.94 2.06.94-2.06 2.06-.94-2.06-.94-.94-2.06-.94 2.06-2.06.94z\"/><path d=\"M17.41 7.96l-1.37-1.37c-.4-.4-.92-.59-1.43-.59-.52 0-1.04.2-1.43.59L10.3 9.45l-7.72 7.72c-.78.78-.78 2.05 0 2.83L4 21.41c.39.39.9.59 1.41.59.51 0 1.02-.2 1.41-.59l7.78-7.78 2.81-2.81c.8-.78.8-2.07 0-2.86zM5.41 20L4 18.59l7.72-7.72 1.47 1.35L5.41 20z\"/>\n",
              "  </svg>\n",
              "      </button>\n",
              "      \n",
              "  <style>\n",
              "    .colab-df-container {\n",
              "      display:flex;\n",
              "      flex-wrap:wrap;\n",
              "      gap: 12px;\n",
              "    }\n",
              "\n",
              "    .colab-df-convert {\n",
              "      background-color: #E8F0FE;\n",
              "      border: none;\n",
              "      border-radius: 50%;\n",
              "      cursor: pointer;\n",
              "      display: none;\n",
              "      fill: #1967D2;\n",
              "      height: 32px;\n",
              "      padding: 0 0 0 0;\n",
              "      width: 32px;\n",
              "    }\n",
              "\n",
              "    .colab-df-convert:hover {\n",
              "      background-color: #E2EBFA;\n",
              "      box-shadow: 0px 1px 2px rgba(60, 64, 67, 0.3), 0px 1px 3px 1px rgba(60, 64, 67, 0.15);\n",
              "      fill: #174EA6;\n",
              "    }\n",
              "\n",
              "    [theme=dark] .colab-df-convert {\n",
              "      background-color: #3B4455;\n",
              "      fill: #D2E3FC;\n",
              "    }\n",
              "\n",
              "    [theme=dark] .colab-df-convert:hover {\n",
              "      background-color: #434B5C;\n",
              "      box-shadow: 0px 1px 3px 1px rgba(0, 0, 0, 0.15);\n",
              "      filter: drop-shadow(0px 1px 2px rgba(0, 0, 0, 0.3));\n",
              "      fill: #FFFFFF;\n",
              "    }\n",
              "  </style>\n",
              "\n",
              "      <script>\n",
              "        const buttonEl =\n",
              "          document.querySelector('#df-effe0549-12aa-4652-b61d-e82023cdffcf button.colab-df-convert');\n",
              "        buttonEl.style.display =\n",
              "          google.colab.kernel.accessAllowed ? 'block' : 'none';\n",
              "\n",
              "        async function convertToInteractive(key) {\n",
              "          const element = document.querySelector('#df-effe0549-12aa-4652-b61d-e82023cdffcf');\n",
              "          const dataTable =\n",
              "            await google.colab.kernel.invokeFunction('convertToInteractive',\n",
              "                                                     [key], {});\n",
              "          if (!dataTable) return;\n",
              "\n",
              "          const docLinkHtml = 'Like what you see? Visit the ' +\n",
              "            '<a target=\"_blank\" href=https://colab.research.google.com/notebooks/data_table.ipynb>data table notebook</a>'\n",
              "            + ' to learn more about interactive tables.';\n",
              "          element.innerHTML = '';\n",
              "          dataTable['output_type'] = 'display_data';\n",
              "          await google.colab.output.renderOutput(dataTable, element);\n",
              "          const docLink = document.createElement('div');\n",
              "          docLink.innerHTML = docLinkHtml;\n",
              "          element.appendChild(docLink);\n",
              "        }\n",
              "      </script>\n",
              "    </div>\n",
              "  </div>\n",
              "  "
            ]
          },
          "metadata": {},
          "execution_count": 168
        }
      ],
      "source": [
        "x_df"
      ]
    },
    {
      "cell_type": "code",
      "execution_count": 169,
      "id": "20354c48",
      "metadata": {
        "id": "20354c48",
        "colab": {
          "base_uri": "https://localhost:8080/",
          "height": 143
        },
        "outputId": "ed695ead-bb78-41ca-9ae0-5abc5f4d2168"
      },
      "outputs": [
        {
          "output_type": "execute_result",
          "data": {
            "text/plain": [
              "   first  is  last  second  sentence  this\n",
              "0      1   1     0       0         1     1\n",
              "1      0   1     0       1         0     1\n",
              "2      0   1     1       0         0     1"
            ],
            "text/html": [
              "\n",
              "  <div id=\"df-2be45a8d-cafb-4d0d-8ea0-2e879d5eabda\">\n",
              "    <div class=\"colab-df-container\">\n",
              "      <div>\n",
              "<style scoped>\n",
              "    .dataframe tbody tr th:only-of-type {\n",
              "        vertical-align: middle;\n",
              "    }\n",
              "\n",
              "    .dataframe tbody tr th {\n",
              "        vertical-align: top;\n",
              "    }\n",
              "\n",
              "    .dataframe thead th {\n",
              "        text-align: right;\n",
              "    }\n",
              "</style>\n",
              "<table border=\"1\" class=\"dataframe\">\n",
              "  <thead>\n",
              "    <tr style=\"text-align: right;\">\n",
              "      <th></th>\n",
              "      <th>first</th>\n",
              "      <th>is</th>\n",
              "      <th>last</th>\n",
              "      <th>second</th>\n",
              "      <th>sentence</th>\n",
              "      <th>this</th>\n",
              "    </tr>\n",
              "  </thead>\n",
              "  <tbody>\n",
              "    <tr>\n",
              "      <th>0</th>\n",
              "      <td>1</td>\n",
              "      <td>1</td>\n",
              "      <td>0</td>\n",
              "      <td>0</td>\n",
              "      <td>1</td>\n",
              "      <td>1</td>\n",
              "    </tr>\n",
              "    <tr>\n",
              "      <th>1</th>\n",
              "      <td>0</td>\n",
              "      <td>1</td>\n",
              "      <td>0</td>\n",
              "      <td>1</td>\n",
              "      <td>0</td>\n",
              "      <td>1</td>\n",
              "    </tr>\n",
              "    <tr>\n",
              "      <th>2</th>\n",
              "      <td>0</td>\n",
              "      <td>1</td>\n",
              "      <td>1</td>\n",
              "      <td>0</td>\n",
              "      <td>0</td>\n",
              "      <td>1</td>\n",
              "    </tr>\n",
              "  </tbody>\n",
              "</table>\n",
              "</div>\n",
              "      <button class=\"colab-df-convert\" onclick=\"convertToInteractive('df-2be45a8d-cafb-4d0d-8ea0-2e879d5eabda')\"\n",
              "              title=\"Convert this dataframe to an interactive table.\"\n",
              "              style=\"display:none;\">\n",
              "        \n",
              "  <svg xmlns=\"http://www.w3.org/2000/svg\" height=\"24px\"viewBox=\"0 0 24 24\"\n",
              "       width=\"24px\">\n",
              "    <path d=\"M0 0h24v24H0V0z\" fill=\"none\"/>\n",
              "    <path d=\"M18.56 5.44l.94 2.06.94-2.06 2.06-.94-2.06-.94-.94-2.06-.94 2.06-2.06.94zm-11 1L8.5 8.5l.94-2.06 2.06-.94-2.06-.94L8.5 2.5l-.94 2.06-2.06.94zm10 10l.94 2.06.94-2.06 2.06-.94-2.06-.94-.94-2.06-.94 2.06-2.06.94z\"/><path d=\"M17.41 7.96l-1.37-1.37c-.4-.4-.92-.59-1.43-.59-.52 0-1.04.2-1.43.59L10.3 9.45l-7.72 7.72c-.78.78-.78 2.05 0 2.83L4 21.41c.39.39.9.59 1.41.59.51 0 1.02-.2 1.41-.59l7.78-7.78 2.81-2.81c.8-.78.8-2.07 0-2.86zM5.41 20L4 18.59l7.72-7.72 1.47 1.35L5.41 20z\"/>\n",
              "  </svg>\n",
              "      </button>\n",
              "      \n",
              "  <style>\n",
              "    .colab-df-container {\n",
              "      display:flex;\n",
              "      flex-wrap:wrap;\n",
              "      gap: 12px;\n",
              "    }\n",
              "\n",
              "    .colab-df-convert {\n",
              "      background-color: #E8F0FE;\n",
              "      border: none;\n",
              "      border-radius: 50%;\n",
              "      cursor: pointer;\n",
              "      display: none;\n",
              "      fill: #1967D2;\n",
              "      height: 32px;\n",
              "      padding: 0 0 0 0;\n",
              "      width: 32px;\n",
              "    }\n",
              "\n",
              "    .colab-df-convert:hover {\n",
              "      background-color: #E2EBFA;\n",
              "      box-shadow: 0px 1px 2px rgba(60, 64, 67, 0.3), 0px 1px 3px 1px rgba(60, 64, 67, 0.15);\n",
              "      fill: #174EA6;\n",
              "    }\n",
              "\n",
              "    [theme=dark] .colab-df-convert {\n",
              "      background-color: #3B4455;\n",
              "      fill: #D2E3FC;\n",
              "    }\n",
              "\n",
              "    [theme=dark] .colab-df-convert:hover {\n",
              "      background-color: #434B5C;\n",
              "      box-shadow: 0px 1px 3px 1px rgba(0, 0, 0, 0.15);\n",
              "      filter: drop-shadow(0px 1px 2px rgba(0, 0, 0, 0.3));\n",
              "      fill: #FFFFFF;\n",
              "    }\n",
              "  </style>\n",
              "\n",
              "      <script>\n",
              "        const buttonEl =\n",
              "          document.querySelector('#df-2be45a8d-cafb-4d0d-8ea0-2e879d5eabda button.colab-df-convert');\n",
              "        buttonEl.style.display =\n",
              "          google.colab.kernel.accessAllowed ? 'block' : 'none';\n",
              "\n",
              "        async function convertToInteractive(key) {\n",
              "          const element = document.querySelector('#df-2be45a8d-cafb-4d0d-8ea0-2e879d5eabda');\n",
              "          const dataTable =\n",
              "            await google.colab.kernel.invokeFunction('convertToInteractive',\n",
              "                                                     [key], {});\n",
              "          if (!dataTable) return;\n",
              "\n",
              "          const docLinkHtml = 'Like what you see? Visit the ' +\n",
              "            '<a target=\"_blank\" href=https://colab.research.google.com/notebooks/data_table.ipynb>data table notebook</a>'\n",
              "            + ' to learn more about interactive tables.';\n",
              "          element.innerHTML = '';\n",
              "          dataTable['output_type'] = 'display_data';\n",
              "          await google.colab.output.renderOutput(dataTable, element);\n",
              "          const docLink = document.createElement('div');\n",
              "          docLink.innerHTML = docLinkHtml;\n",
              "          element.appendChild(docLink);\n",
              "        }\n",
              "      </script>\n",
              "    </div>\n",
              "  </div>\n",
              "  "
            ]
          },
          "metadata": {},
          "execution_count": 169
        }
      ],
      "source": [
        "bow"
      ]
    },
    {
      "cell_type": "code",
      "execution_count": 170,
      "id": "ae1a3075",
      "metadata": {
        "id": "ae1a3075",
        "colab": {
          "base_uri": "https://localhost:8080/"
        },
        "outputId": "84b52cae-0e00-4fb9-f3a6-eb383e81f1ae"
      },
      "outputs": [
        {
          "output_type": "execute_result",
          "data": {
            "text/plain": [
              "3"
            ]
          },
          "metadata": {},
          "execution_count": 170
        }
      ],
      "source": [
        "N= bow.shape[0]\n",
        "N"
      ]
    },
    {
      "cell_type": "code",
      "execution_count": 171,
      "id": "a212b9d5",
      "metadata": {
        "id": "a212b9d5",
        "colab": {
          "base_uri": "https://localhost:8080/",
          "height": 143
        },
        "outputId": "48b97102-f995-4387-cec5-274960283eab"
      },
      "outputs": [
        {
          "output_type": "execute_result",
          "data": {
            "text/plain": [
              "   first    is   last  second  sentence  this\n",
              "0   True  True  False   False      True  True\n",
              "1  False  True  False    True     False  True\n",
              "2  False  True   True   False     False  True"
            ],
            "text/html": [
              "\n",
              "  <div id=\"df-9e8e92e2-8566-43c4-bfde-c044afaab3e8\">\n",
              "    <div class=\"colab-df-container\">\n",
              "      <div>\n",
              "<style scoped>\n",
              "    .dataframe tbody tr th:only-of-type {\n",
              "        vertical-align: middle;\n",
              "    }\n",
              "\n",
              "    .dataframe tbody tr th {\n",
              "        vertical-align: top;\n",
              "    }\n",
              "\n",
              "    .dataframe thead th {\n",
              "        text-align: right;\n",
              "    }\n",
              "</style>\n",
              "<table border=\"1\" class=\"dataframe\">\n",
              "  <thead>\n",
              "    <tr style=\"text-align: right;\">\n",
              "      <th></th>\n",
              "      <th>first</th>\n",
              "      <th>is</th>\n",
              "      <th>last</th>\n",
              "      <th>second</th>\n",
              "      <th>sentence</th>\n",
              "      <th>this</th>\n",
              "    </tr>\n",
              "  </thead>\n",
              "  <tbody>\n",
              "    <tr>\n",
              "      <th>0</th>\n",
              "      <td>True</td>\n",
              "      <td>True</td>\n",
              "      <td>False</td>\n",
              "      <td>False</td>\n",
              "      <td>True</td>\n",
              "      <td>True</td>\n",
              "    </tr>\n",
              "    <tr>\n",
              "      <th>1</th>\n",
              "      <td>False</td>\n",
              "      <td>True</td>\n",
              "      <td>False</td>\n",
              "      <td>True</td>\n",
              "      <td>False</td>\n",
              "      <td>True</td>\n",
              "    </tr>\n",
              "    <tr>\n",
              "      <th>2</th>\n",
              "      <td>False</td>\n",
              "      <td>True</td>\n",
              "      <td>True</td>\n",
              "      <td>False</td>\n",
              "      <td>False</td>\n",
              "      <td>True</td>\n",
              "    </tr>\n",
              "  </tbody>\n",
              "</table>\n",
              "</div>\n",
              "      <button class=\"colab-df-convert\" onclick=\"convertToInteractive('df-9e8e92e2-8566-43c4-bfde-c044afaab3e8')\"\n",
              "              title=\"Convert this dataframe to an interactive table.\"\n",
              "              style=\"display:none;\">\n",
              "        \n",
              "  <svg xmlns=\"http://www.w3.org/2000/svg\" height=\"24px\"viewBox=\"0 0 24 24\"\n",
              "       width=\"24px\">\n",
              "    <path d=\"M0 0h24v24H0V0z\" fill=\"none\"/>\n",
              "    <path d=\"M18.56 5.44l.94 2.06.94-2.06 2.06-.94-2.06-.94-.94-2.06-.94 2.06-2.06.94zm-11 1L8.5 8.5l.94-2.06 2.06-.94-2.06-.94L8.5 2.5l-.94 2.06-2.06.94zm10 10l.94 2.06.94-2.06 2.06-.94-2.06-.94-.94-2.06-.94 2.06-2.06.94z\"/><path d=\"M17.41 7.96l-1.37-1.37c-.4-.4-.92-.59-1.43-.59-.52 0-1.04.2-1.43.59L10.3 9.45l-7.72 7.72c-.78.78-.78 2.05 0 2.83L4 21.41c.39.39.9.59 1.41.59.51 0 1.02-.2 1.41-.59l7.78-7.78 2.81-2.81c.8-.78.8-2.07 0-2.86zM5.41 20L4 18.59l7.72-7.72 1.47 1.35L5.41 20z\"/>\n",
              "  </svg>\n",
              "      </button>\n",
              "      \n",
              "  <style>\n",
              "    .colab-df-container {\n",
              "      display:flex;\n",
              "      flex-wrap:wrap;\n",
              "      gap: 12px;\n",
              "    }\n",
              "\n",
              "    .colab-df-convert {\n",
              "      background-color: #E8F0FE;\n",
              "      border: none;\n",
              "      border-radius: 50%;\n",
              "      cursor: pointer;\n",
              "      display: none;\n",
              "      fill: #1967D2;\n",
              "      height: 32px;\n",
              "      padding: 0 0 0 0;\n",
              "      width: 32px;\n",
              "    }\n",
              "\n",
              "    .colab-df-convert:hover {\n",
              "      background-color: #E2EBFA;\n",
              "      box-shadow: 0px 1px 2px rgba(60, 64, 67, 0.3), 0px 1px 3px 1px rgba(60, 64, 67, 0.15);\n",
              "      fill: #174EA6;\n",
              "    }\n",
              "\n",
              "    [theme=dark] .colab-df-convert {\n",
              "      background-color: #3B4455;\n",
              "      fill: #D2E3FC;\n",
              "    }\n",
              "\n",
              "    [theme=dark] .colab-df-convert:hover {\n",
              "      background-color: #434B5C;\n",
              "      box-shadow: 0px 1px 3px 1px rgba(0, 0, 0, 0.15);\n",
              "      filter: drop-shadow(0px 1px 2px rgba(0, 0, 0, 0.3));\n",
              "      fill: #FFFFFF;\n",
              "    }\n",
              "  </style>\n",
              "\n",
              "      <script>\n",
              "        const buttonEl =\n",
              "          document.querySelector('#df-9e8e92e2-8566-43c4-bfde-c044afaab3e8 button.colab-df-convert');\n",
              "        buttonEl.style.display =\n",
              "          google.colab.kernel.accessAllowed ? 'block' : 'none';\n",
              "\n",
              "        async function convertToInteractive(key) {\n",
              "          const element = document.querySelector('#df-9e8e92e2-8566-43c4-bfde-c044afaab3e8');\n",
              "          const dataTable =\n",
              "            await google.colab.kernel.invokeFunction('convertToInteractive',\n",
              "                                                     [key], {});\n",
              "          if (!dataTable) return;\n",
              "\n",
              "          const docLinkHtml = 'Like what you see? Visit the ' +\n",
              "            '<a target=\"_blank\" href=https://colab.research.google.com/notebooks/data_table.ipynb>data table notebook</a>'\n",
              "            + ' to learn more about interactive tables.';\n",
              "          element.innerHTML = '';\n",
              "          dataTable['output_type'] = 'display_data';\n",
              "          await google.colab.output.renderOutput(dataTable, element);\n",
              "          const docLink = document.createElement('div');\n",
              "          docLink.innerHTML = docLinkHtml;\n",
              "          element.appendChild(docLink);\n",
              "        }\n",
              "      </script>\n",
              "    </div>\n",
              "  </div>\n",
              "  "
            ]
          },
          "metadata": {},
          "execution_count": 171
        }
      ],
      "source": [
        "bb= bow.astype('bool')\n",
        "bb"
      ]
    },
    {
      "cell_type": "code",
      "execution_count": 172,
      "id": "b9a941ab",
      "metadata": {
        "id": "b9a941ab",
        "colab": {
          "base_uri": "https://localhost:8080/"
        },
        "outputId": "75764f88-4abe-4bd3-da77-da7dae4fdfe8"
      },
      "outputs": [
        {
          "output_type": "execute_result",
          "data": {
            "text/plain": [
              "3"
            ]
          },
          "metadata": {},
          "execution_count": 172
        }
      ],
      "source": [
        "bb['is'].sum()"
      ]
    },
    {
      "cell_type": "code",
      "execution_count": 173,
      "id": "386acd1b",
      "metadata": {
        "id": "386acd1b",
        "colab": {
          "base_uri": "https://localhost:8080/"
        },
        "outputId": "a98bfaa7-0088-4ae3-9848-f73d1fe06ae3"
      },
      "outputs": [
        {
          "output_type": "execute_result",
          "data": {
            "text/plain": [
              "Index(['first', 'is', 'last', 'second', 'sentence', 'this'], dtype='object')"
            ]
          },
          "metadata": {},
          "execution_count": 173
        }
      ],
      "source": [
        "cols= bb.columns\n",
        "cols"
      ]
    },
    {
      "cell_type": "code",
      "execution_count": 174,
      "id": "60e36bc5",
      "metadata": {
        "id": "60e36bc5"
      },
      "outputs": [],
      "source": [
        "nz= []\n",
        "for col in cols:\n",
        "    nz.append(bb[col].sum())"
      ]
    },
    {
      "cell_type": "code",
      "execution_count": 175,
      "id": "b36e50b7",
      "metadata": {
        "id": "b36e50b7",
        "colab": {
          "base_uri": "https://localhost:8080/"
        },
        "outputId": "64c8a48d-fdb1-4f60-822a-1dd06e7c7082"
      },
      "outputs": [
        {
          "output_type": "execute_result",
          "data": {
            "text/plain": [
              "[1, 3, 1, 1, 1, 3]"
            ]
          },
          "metadata": {},
          "execution_count": 175
        }
      ],
      "source": [
        "nz"
      ]
    },
    {
      "cell_type": "code",
      "execution_count": 176,
      "id": "678109c8",
      "metadata": {
        "id": "678109c8"
      },
      "outputs": [],
      "source": [
        "idf= []\n",
        "for index, col in enumerate(cols):\n",
        "    idf.append(np.log((N+1)/(nz[index]+1))+1)"
      ]
    },
    {
      "cell_type": "code",
      "execution_count": 177,
      "id": "eebf9fc9",
      "metadata": {
        "id": "eebf9fc9",
        "colab": {
          "base_uri": "https://localhost:8080/"
        },
        "outputId": "6b6556e7-2b50-4986-9748-bd0704040f7b"
      },
      "outputs": [
        {
          "output_type": "execute_result",
          "data": {
            "text/plain": [
              "[1.6931471805599454,\n",
              " 1.0,\n",
              " 1.6931471805599454,\n",
              " 1.6931471805599454,\n",
              " 1.6931471805599454,\n",
              " 1.0]"
            ]
          },
          "metadata": {},
          "execution_count": 177
        }
      ],
      "source": [
        "idf"
      ]
    },
    {
      "cell_type": "code",
      "execution_count": 178,
      "id": "3a46add1",
      "metadata": {
        "id": "3a46add1",
        "colab": {
          "base_uri": "https://localhost:8080/",
          "height": 143
        },
        "outputId": "77a88d03-59b1-4d12-95c0-2a5004405692"
      },
      "outputs": [
        {
          "output_type": "execute_result",
          "data": {
            "text/plain": [
              "   first  is  last  second  sentence  this\n",
              "0      1   1     0       0         1     1\n",
              "1      0   1     0       1         0     1\n",
              "2      0   1     1       0         0     1"
            ],
            "text/html": [
              "\n",
              "  <div id=\"df-6dcfa509-b5db-4d3b-a0ee-531e20cf10ff\">\n",
              "    <div class=\"colab-df-container\">\n",
              "      <div>\n",
              "<style scoped>\n",
              "    .dataframe tbody tr th:only-of-type {\n",
              "        vertical-align: middle;\n",
              "    }\n",
              "\n",
              "    .dataframe tbody tr th {\n",
              "        vertical-align: top;\n",
              "    }\n",
              "\n",
              "    .dataframe thead th {\n",
              "        text-align: right;\n",
              "    }\n",
              "</style>\n",
              "<table border=\"1\" class=\"dataframe\">\n",
              "  <thead>\n",
              "    <tr style=\"text-align: right;\">\n",
              "      <th></th>\n",
              "      <th>first</th>\n",
              "      <th>is</th>\n",
              "      <th>last</th>\n",
              "      <th>second</th>\n",
              "      <th>sentence</th>\n",
              "      <th>this</th>\n",
              "    </tr>\n",
              "  </thead>\n",
              "  <tbody>\n",
              "    <tr>\n",
              "      <th>0</th>\n",
              "      <td>1</td>\n",
              "      <td>1</td>\n",
              "      <td>0</td>\n",
              "      <td>0</td>\n",
              "      <td>1</td>\n",
              "      <td>1</td>\n",
              "    </tr>\n",
              "    <tr>\n",
              "      <th>1</th>\n",
              "      <td>0</td>\n",
              "      <td>1</td>\n",
              "      <td>0</td>\n",
              "      <td>1</td>\n",
              "      <td>0</td>\n",
              "      <td>1</td>\n",
              "    </tr>\n",
              "    <tr>\n",
              "      <th>2</th>\n",
              "      <td>0</td>\n",
              "      <td>1</td>\n",
              "      <td>1</td>\n",
              "      <td>0</td>\n",
              "      <td>0</td>\n",
              "      <td>1</td>\n",
              "    </tr>\n",
              "  </tbody>\n",
              "</table>\n",
              "</div>\n",
              "      <button class=\"colab-df-convert\" onclick=\"convertToInteractive('df-6dcfa509-b5db-4d3b-a0ee-531e20cf10ff')\"\n",
              "              title=\"Convert this dataframe to an interactive table.\"\n",
              "              style=\"display:none;\">\n",
              "        \n",
              "  <svg xmlns=\"http://www.w3.org/2000/svg\" height=\"24px\"viewBox=\"0 0 24 24\"\n",
              "       width=\"24px\">\n",
              "    <path d=\"M0 0h24v24H0V0z\" fill=\"none\"/>\n",
              "    <path d=\"M18.56 5.44l.94 2.06.94-2.06 2.06-.94-2.06-.94-.94-2.06-.94 2.06-2.06.94zm-11 1L8.5 8.5l.94-2.06 2.06-.94-2.06-.94L8.5 2.5l-.94 2.06-2.06.94zm10 10l.94 2.06.94-2.06 2.06-.94-2.06-.94-.94-2.06-.94 2.06-2.06.94z\"/><path d=\"M17.41 7.96l-1.37-1.37c-.4-.4-.92-.59-1.43-.59-.52 0-1.04.2-1.43.59L10.3 9.45l-7.72 7.72c-.78.78-.78 2.05 0 2.83L4 21.41c.39.39.9.59 1.41.59.51 0 1.02-.2 1.41-.59l7.78-7.78 2.81-2.81c.8-.78.8-2.07 0-2.86zM5.41 20L4 18.59l7.72-7.72 1.47 1.35L5.41 20z\"/>\n",
              "  </svg>\n",
              "      </button>\n",
              "      \n",
              "  <style>\n",
              "    .colab-df-container {\n",
              "      display:flex;\n",
              "      flex-wrap:wrap;\n",
              "      gap: 12px;\n",
              "    }\n",
              "\n",
              "    .colab-df-convert {\n",
              "      background-color: #E8F0FE;\n",
              "      border: none;\n",
              "      border-radius: 50%;\n",
              "      cursor: pointer;\n",
              "      display: none;\n",
              "      fill: #1967D2;\n",
              "      height: 32px;\n",
              "      padding: 0 0 0 0;\n",
              "      width: 32px;\n",
              "    }\n",
              "\n",
              "    .colab-df-convert:hover {\n",
              "      background-color: #E2EBFA;\n",
              "      box-shadow: 0px 1px 2px rgba(60, 64, 67, 0.3), 0px 1px 3px 1px rgba(60, 64, 67, 0.15);\n",
              "      fill: #174EA6;\n",
              "    }\n",
              "\n",
              "    [theme=dark] .colab-df-convert {\n",
              "      background-color: #3B4455;\n",
              "      fill: #D2E3FC;\n",
              "    }\n",
              "\n",
              "    [theme=dark] .colab-df-convert:hover {\n",
              "      background-color: #434B5C;\n",
              "      box-shadow: 0px 1px 3px 1px rgba(0, 0, 0, 0.15);\n",
              "      filter: drop-shadow(0px 1px 2px rgba(0, 0, 0, 0.3));\n",
              "      fill: #FFFFFF;\n",
              "    }\n",
              "  </style>\n",
              "\n",
              "      <script>\n",
              "        const buttonEl =\n",
              "          document.querySelector('#df-6dcfa509-b5db-4d3b-a0ee-531e20cf10ff button.colab-df-convert');\n",
              "        buttonEl.style.display =\n",
              "          google.colab.kernel.accessAllowed ? 'block' : 'none';\n",
              "\n",
              "        async function convertToInteractive(key) {\n",
              "          const element = document.querySelector('#df-6dcfa509-b5db-4d3b-a0ee-531e20cf10ff');\n",
              "          const dataTable =\n",
              "            await google.colab.kernel.invokeFunction('convertToInteractive',\n",
              "                                                     [key], {});\n",
              "          if (!dataTable) return;\n",
              "\n",
              "          const docLinkHtml = 'Like what you see? Visit the ' +\n",
              "            '<a target=\"_blank\" href=https://colab.research.google.com/notebooks/data_table.ipynb>data table notebook</a>'\n",
              "            + ' to learn more about interactive tables.';\n",
              "          element.innerHTML = '';\n",
              "          dataTable['output_type'] = 'display_data';\n",
              "          await google.colab.output.renderOutput(dataTable, element);\n",
              "          const docLink = document.createElement('div');\n",
              "          docLink.innerHTML = docLinkHtml;\n",
              "          element.appendChild(docLink);\n",
              "        }\n",
              "      </script>\n",
              "    </div>\n",
              "  </div>\n",
              "  "
            ]
          },
          "metadata": {},
          "execution_count": 178
        }
      ],
      "source": [
        "bow"
      ]
    },
    {
      "cell_type": "markdown",
      "id": "20827f80",
      "metadata": {
        "id": "20827f80"
      },
      "source": [
        "## TDIDF"
      ]
    },
    {
      "cell_type": "code",
      "execution_count": 179,
      "id": "e2a96c9d",
      "metadata": {
        "id": "e2a96c9d"
      },
      "outputs": [],
      "source": [
        "from sklearn.feature_extraction.text import TfidfVectorizer"
      ]
    },
    {
      "cell_type": "code",
      "execution_count": 180,
      "id": "5a608444",
      "metadata": {
        "id": "5a608444"
      },
      "outputs": [],
      "source": [
        "tfidf=TfidfVectorizer()\n",
        "x_tfidf= tfidf.fit_transform(x_df['words'])"
      ]
    },
    {
      "cell_type": "code",
      "execution_count": 181,
      "id": "264c08e0",
      "metadata": {
        "id": "264c08e0",
        "colab": {
          "base_uri": "https://localhost:8080/"
        },
        "outputId": "3f066e49-771a-4039-d25d-8f8393ab34c1"
      },
      "outputs": [
        {
          "output_type": "execute_result",
          "data": {
            "text/plain": [
              "array([[0.6088451 , 0.35959372, 0.        , 0.        , 0.6088451 ,\n",
              "        0.35959372],\n",
              "       [0.        , 0.45329466, 0.        , 0.76749457, 0.        ,\n",
              "        0.45329466],\n",
              "       [0.        , 0.45329466, 0.76749457, 0.        , 0.        ,\n",
              "        0.45329466]])"
            ]
          },
          "metadata": {},
          "execution_count": 181
        }
      ],
      "source": [
        "x_tfidf.toarray()"
      ]
    },
    {
      "cell_type": "code",
      "execution_count": 182,
      "id": "5d138bf2",
      "metadata": {
        "id": "5d138bf2",
        "colab": {
          "base_uri": "https://localhost:8080/"
        },
        "outputId": "36c94f98-1acb-4c67-ac33-5a568bc7f7fc"
      },
      "outputs": [
        {
          "output_type": "execute_result",
          "data": {
            "text/plain": [
              "array([1.69314718, 1.        , 1.69314718, 1.69314718, 1.69314718,\n",
              "       1.        ])"
            ]
          },
          "metadata": {},
          "execution_count": 182
        }
      ],
      "source": [
        "tfidf.idf_"
      ]
    },
    {
      "cell_type": "code",
      "execution_count": 183,
      "id": "7d471c9c",
      "metadata": {
        "id": "7d471c9c",
        "colab": {
          "base_uri": "https://localhost:8080/"
        },
        "outputId": "50875c90-7acb-4050-c962-224dfb90597c"
      },
      "outputs": [
        {
          "output_type": "execute_result",
          "data": {
            "text/plain": [
              "[1.6931471805599454,\n",
              " 1.0,\n",
              " 1.6931471805599454,\n",
              " 1.6931471805599454,\n",
              " 1.6931471805599454,\n",
              " 1.0]"
            ]
          },
          "metadata": {},
          "execution_count": 183
        }
      ],
      "source": [
        "idf"
      ]
    },
    {
      "cell_type": "markdown",
      "id": "2079abbb",
      "metadata": {
        "id": "2079abbb"
      },
      "source": [
        "# Word Embedding"
      ]
    },
    {
      "cell_type": "markdown",
      "id": "688f0ae1",
      "metadata": {
        "id": "688f0ae1"
      },
      "source": [
        "## Spacy Word2Vec"
      ]
    },
    {
      "cell_type": "code",
      "execution_count": 184,
      "id": "97ba4876",
      "metadata": {
        "id": "97ba4876",
        "colab": {
          "base_uri": "https://localhost:8080/"
        },
        "outputId": "e78e3328-513c-4f0a-bc1d-cb75f1649072"
      },
      "outputs": [
        {
          "output_type": "stream",
          "name": "stdout",
          "text": [
            "Collecting en_core_web_lg==2.2.5\n",
            "  Downloading https://github.com/explosion/spacy-models/releases/download/en_core_web_lg-2.2.5/en_core_web_lg-2.2.5.tar.gz (827.9 MB)\n",
            "\u001b[K     |████████████████████████████████| 827.9 MB 1.3 MB/s \n",
            "\u001b[?25hRequirement already satisfied: spacy>=2.2.2 in /usr/local/lib/python3.7/dist-packages (from en_core_web_lg==2.2.5) (2.2.4)\n",
            "Requirement already satisfied: requests<3.0.0,>=2.13.0 in /usr/local/lib/python3.7/dist-packages (from spacy>=2.2.2->en_core_web_lg==2.2.5) (2.23.0)\n",
            "Requirement already satisfied: murmurhash<1.1.0,>=0.28.0 in /usr/local/lib/python3.7/dist-packages (from spacy>=2.2.2->en_core_web_lg==2.2.5) (1.0.6)\n",
            "Requirement already satisfied: srsly<1.1.0,>=1.0.2 in /usr/local/lib/python3.7/dist-packages (from spacy>=2.2.2->en_core_web_lg==2.2.5) (1.0.5)\n",
            "Requirement already satisfied: catalogue<1.1.0,>=0.0.7 in /usr/local/lib/python3.7/dist-packages (from spacy>=2.2.2->en_core_web_lg==2.2.5) (1.0.0)\n",
            "Requirement already satisfied: cymem<2.1.0,>=2.0.2 in /usr/local/lib/python3.7/dist-packages (from spacy>=2.2.2->en_core_web_lg==2.2.5) (2.0.6)\n",
            "Requirement already satisfied: wasabi<1.1.0,>=0.4.0 in /usr/local/lib/python3.7/dist-packages (from spacy>=2.2.2->en_core_web_lg==2.2.5) (0.9.0)\n",
            "Requirement already satisfied: numpy>=1.15.0 in /usr/local/lib/python3.7/dist-packages (from spacy>=2.2.2->en_core_web_lg==2.2.5) (1.21.5)\n",
            "Requirement already satisfied: blis<0.5.0,>=0.4.0 in /usr/local/lib/python3.7/dist-packages (from spacy>=2.2.2->en_core_web_lg==2.2.5) (0.4.1)\n",
            "Requirement already satisfied: thinc==7.4.0 in /usr/local/lib/python3.7/dist-packages (from spacy>=2.2.2->en_core_web_lg==2.2.5) (7.4.0)\n",
            "Requirement already satisfied: tqdm<5.0.0,>=4.38.0 in /usr/local/lib/python3.7/dist-packages (from spacy>=2.2.2->en_core_web_lg==2.2.5) (4.63.0)\n",
            "Requirement already satisfied: preshed<3.1.0,>=3.0.2 in /usr/local/lib/python3.7/dist-packages (from spacy>=2.2.2->en_core_web_lg==2.2.5) (3.0.6)\n",
            "Requirement already satisfied: plac<1.2.0,>=0.9.6 in /usr/local/lib/python3.7/dist-packages (from spacy>=2.2.2->en_core_web_lg==2.2.5) (1.1.3)\n",
            "Requirement already satisfied: setuptools in /usr/local/lib/python3.7/dist-packages (from spacy>=2.2.2->en_core_web_lg==2.2.5) (57.4.0)\n",
            "Requirement already satisfied: importlib-metadata>=0.20 in /usr/local/lib/python3.7/dist-packages (from catalogue<1.1.0,>=0.0.7->spacy>=2.2.2->en_core_web_lg==2.2.5) (4.11.2)\n",
            "Requirement already satisfied: zipp>=0.5 in /usr/local/lib/python3.7/dist-packages (from importlib-metadata>=0.20->catalogue<1.1.0,>=0.0.7->spacy>=2.2.2->en_core_web_lg==2.2.5) (3.7.0)\n",
            "Requirement already satisfied: typing-extensions>=3.6.4 in /usr/local/lib/python3.7/dist-packages (from importlib-metadata>=0.20->catalogue<1.1.0,>=0.0.7->spacy>=2.2.2->en_core_web_lg==2.2.5) (3.10.0.2)\n",
            "Requirement already satisfied: idna<3,>=2.5 in /usr/local/lib/python3.7/dist-packages (from requests<3.0.0,>=2.13.0->spacy>=2.2.2->en_core_web_lg==2.2.5) (2.10)\n",
            "Requirement already satisfied: urllib3!=1.25.0,!=1.25.1,<1.26,>=1.21.1 in /usr/local/lib/python3.7/dist-packages (from requests<3.0.0,>=2.13.0->spacy>=2.2.2->en_core_web_lg==2.2.5) (1.24.3)\n",
            "Requirement already satisfied: chardet<4,>=3.0.2 in /usr/local/lib/python3.7/dist-packages (from requests<3.0.0,>=2.13.0->spacy>=2.2.2->en_core_web_lg==2.2.5) (3.0.4)\n",
            "Requirement already satisfied: certifi>=2017.4.17 in /usr/local/lib/python3.7/dist-packages (from requests<3.0.0,>=2.13.0->spacy>=2.2.2->en_core_web_lg==2.2.5) (2021.10.8)\n",
            "Building wheels for collected packages: en-core-web-lg\n",
            "  Building wheel for en-core-web-lg (setup.py) ... \u001b[?25l\u001b[?25hdone\n",
            "  Created wheel for en-core-web-lg: filename=en_core_web_lg-2.2.5-py3-none-any.whl size=829180942 sha256=0f103a92873ea3a46b25a94946f77cb330e3da4b93cc8eff4c8a2e9a81f41eb5\n",
            "  Stored in directory: /tmp/pip-ephem-wheel-cache-jpmezr0s/wheels/11/95/ba/2c36cc368c0bd339b44a791c2c1881a1fb714b78c29a4cb8f5\n",
            "Successfully built en-core-web-lg\n",
            "Installing collected packages: en-core-web-lg\n",
            "Successfully installed en-core-web-lg-2.2.5\n",
            "\u001b[38;5;2m✔ Download and installation successful\u001b[0m\n",
            "You can now load the model via spacy.load('en_core_web_lg')\n"
          ]
        }
      ],
      "source": [
        "!python -m spacy download en_core_web_lg"
      ]
    },
    {
      "cell_type": "code",
      "execution_count": 186,
      "id": "a722d3b8",
      "metadata": {
        "id": "a722d3b8",
        "colab": {
          "base_uri": "https://localhost:8080/",
          "height": 311
        },
        "outputId": "1b77917c-b9d7-4f3f-ca42-c28d449345d2"
      },
      "outputs": [
        {
          "output_type": "error",
          "ename": "OSError",
          "evalue": "ignored",
          "traceback": [
            "\u001b[0;31m---------------------------------------------------------------------------\u001b[0m",
            "\u001b[0;31mOSError\u001b[0m                                   Traceback (most recent call last)",
            "\u001b[0;32m<ipython-input-186-ea507d5421b2>\u001b[0m in \u001b[0;36m<module>\u001b[0;34m()\u001b[0m\n\u001b[0;32m----> 1\u001b[0;31m \u001b[0mnlp\u001b[0m\u001b[0;34m=\u001b[0m \u001b[0mspacy\u001b[0m\u001b[0;34m.\u001b[0m\u001b[0mload\u001b[0m\u001b[0;34m(\u001b[0m\u001b[0;34m'en_core_web_lg'\u001b[0m\u001b[0;34m)\u001b[0m\u001b[0;34m\u001b[0m\u001b[0;34m\u001b[0m\u001b[0m\n\u001b[0m",
            "\u001b[0;32m/usr/local/lib/python3.7/dist-packages/spacy/__init__.py\u001b[0m in \u001b[0;36mload\u001b[0;34m(name, **overrides)\u001b[0m\n\u001b[1;32m     28\u001b[0m     \u001b[0;32mif\u001b[0m \u001b[0mdepr_path\u001b[0m \u001b[0;32mnot\u001b[0m \u001b[0;32min\u001b[0m \u001b[0;34m(\u001b[0m\u001b[0;32mTrue\u001b[0m\u001b[0;34m,\u001b[0m \u001b[0;32mFalse\u001b[0m\u001b[0;34m,\u001b[0m \u001b[0;32mNone\u001b[0m\u001b[0;34m)\u001b[0m\u001b[0;34m:\u001b[0m\u001b[0;34m\u001b[0m\u001b[0;34m\u001b[0m\u001b[0m\n\u001b[1;32m     29\u001b[0m         \u001b[0mdeprecation_warning\u001b[0m\u001b[0;34m(\u001b[0m\u001b[0mWarnings\u001b[0m\u001b[0;34m.\u001b[0m\u001b[0mW001\u001b[0m\u001b[0;34m.\u001b[0m\u001b[0mformat\u001b[0m\u001b[0;34m(\u001b[0m\u001b[0mpath\u001b[0m\u001b[0;34m=\u001b[0m\u001b[0mdepr_path\u001b[0m\u001b[0;34m)\u001b[0m\u001b[0;34m)\u001b[0m\u001b[0;34m\u001b[0m\u001b[0;34m\u001b[0m\u001b[0m\n\u001b[0;32m---> 30\u001b[0;31m     \u001b[0;32mreturn\u001b[0m \u001b[0mutil\u001b[0m\u001b[0;34m.\u001b[0m\u001b[0mload_model\u001b[0m\u001b[0;34m(\u001b[0m\u001b[0mname\u001b[0m\u001b[0;34m,\u001b[0m \u001b[0;34m**\u001b[0m\u001b[0moverrides\u001b[0m\u001b[0;34m)\u001b[0m\u001b[0;34m\u001b[0m\u001b[0;34m\u001b[0m\u001b[0m\n\u001b[0m\u001b[1;32m     31\u001b[0m \u001b[0;34m\u001b[0m\u001b[0m\n\u001b[1;32m     32\u001b[0m \u001b[0;34m\u001b[0m\u001b[0m\n",
            "\u001b[0;32m/usr/local/lib/python3.7/dist-packages/spacy/util.py\u001b[0m in \u001b[0;36mload_model\u001b[0;34m(name, **overrides)\u001b[0m\n\u001b[1;32m    167\u001b[0m     \u001b[0;32melif\u001b[0m \u001b[0mhasattr\u001b[0m\u001b[0;34m(\u001b[0m\u001b[0mname\u001b[0m\u001b[0;34m,\u001b[0m \u001b[0;34m\"exists\"\u001b[0m\u001b[0;34m)\u001b[0m\u001b[0;34m:\u001b[0m  \u001b[0;31m# Path or Path-like to model data\u001b[0m\u001b[0;34m\u001b[0m\u001b[0;34m\u001b[0m\u001b[0m\n\u001b[1;32m    168\u001b[0m         \u001b[0;32mreturn\u001b[0m \u001b[0mload_model_from_path\u001b[0m\u001b[0;34m(\u001b[0m\u001b[0mname\u001b[0m\u001b[0;34m,\u001b[0m \u001b[0;34m**\u001b[0m\u001b[0moverrides\u001b[0m\u001b[0;34m)\u001b[0m\u001b[0;34m\u001b[0m\u001b[0;34m\u001b[0m\u001b[0m\n\u001b[0;32m--> 169\u001b[0;31m     \u001b[0;32mraise\u001b[0m \u001b[0mIOError\u001b[0m\u001b[0;34m(\u001b[0m\u001b[0mErrors\u001b[0m\u001b[0;34m.\u001b[0m\u001b[0mE050\u001b[0m\u001b[0;34m.\u001b[0m\u001b[0mformat\u001b[0m\u001b[0;34m(\u001b[0m\u001b[0mname\u001b[0m\u001b[0;34m=\u001b[0m\u001b[0mname\u001b[0m\u001b[0;34m)\u001b[0m\u001b[0;34m)\u001b[0m\u001b[0;34m\u001b[0m\u001b[0;34m\u001b[0m\u001b[0m\n\u001b[0m\u001b[1;32m    170\u001b[0m \u001b[0;34m\u001b[0m\u001b[0m\n\u001b[1;32m    171\u001b[0m \u001b[0;34m\u001b[0m\u001b[0m\n",
            "\u001b[0;31mOSError\u001b[0m: [E050] Can't find model 'en_core_web_lg'. It doesn't seem to be a shortcut link, a Python package or a valid path to a data directory."
          ]
        }
      ],
      "source": [
        "nlp= spacy.load('en_core_web_lg')"
      ]
    },
    {
      "cell_type": "code",
      "execution_count": null,
      "id": "9c078668",
      "metadata": {
        "id": "9c078668"
      },
      "outputs": [],
      "source": [
        "doc=nlp('thank you! dog cat lion dfasss')"
      ]
    },
    {
      "cell_type": "code",
      "execution_count": null,
      "id": "53621d7c",
      "metadata": {
        "id": "53621d7c"
      },
      "outputs": [],
      "source": [
        "for token in doc:\n",
        "    print(token.text, token.has_vector)"
      ]
    },
    {
      "cell_type": "code",
      "execution_count": null,
      "id": "b8cf1be7",
      "metadata": {
        "id": "b8cf1be7"
      },
      "outputs": [],
      "source": [
        "token.vector"
      ]
    },
    {
      "cell_type": "code",
      "execution_count": null,
      "id": "a2a6b8b5",
      "metadata": {
        "id": "a2a6b8b5"
      },
      "outputs": [],
      "source": [
        "token.vector.shape"
      ]
    },
    {
      "cell_type": "code",
      "execution_count": null,
      "id": "237928a8",
      "metadata": {
        "id": "237928a8"
      },
      "outputs": [],
      "source": [
        "nlp('cat').vector.shape"
      ]
    },
    {
      "cell_type": "code",
      "execution_count": null,
      "id": "afb28a94",
      "metadata": {
        "id": "afb28a94"
      },
      "outputs": [],
      "source": [
        "for token1 in doc:http://localhost:8888/notebooks/Documents/NLP%20from%20Youtube/13-%20Complete%20Text%20Processing/Complete-Text-processing.ipynb#Word-Embedding\n",
        "    for token2 in doc:\n",
        "        print(token1.text, token2.text, token1.similarity(token2))\n",
        "    print()"
      ]
    },
    {
      "cell_type": "code",
      "execution_count": null,
      "id": "5c7c8146",
      "metadata": {
        "id": "5c7c8146"
      },
      "outputs": [],
      "source": [
        ""
      ]
    },
    {
      "cell_type": "markdown",
      "id": "35d94a7f",
      "metadata": {
        "id": "35d94a7f"
      },
      "source": [
        "# Machine Learning Models for Text Classification"
      ]
    },
    {
      "cell_type": "code",
      "execution_count": 187,
      "id": "17e5fe62",
      "metadata": {
        "id": "17e5fe62",
        "colab": {
          "base_uri": "https://localhost:8080/"
        },
        "outputId": "dc908be6-b3da-4a39-a6d2-c62f29af80e7"
      },
      "outputs": [
        {
          "output_type": "execute_result",
          "data": {
            "text/plain": [
              "(1600000, 13)"
            ]
          },
          "metadata": {},
          "execution_count": 187
        }
      ],
      "source": [
        "df.shape"
      ]
    },
    {
      "cell_type": "code",
      "execution_count": 188,
      "id": "7a21687b",
      "metadata": {
        "id": "7a21687b"
      },
      "outputs": [],
      "source": [
        "# Using only 2000 data\n",
        "df0=df[df['sentiment']==0].sample(2000)\n",
        "df4=df[df['sentiment']==4].sample(2000)"
      ]
    },
    {
      "cell_type": "code",
      "execution_count": 189,
      "id": "8d78fc09",
      "metadata": {
        "id": "8d78fc09"
      },
      "outputs": [],
      "source": [
        "# combinig them\n",
        "dfr= df0.append(df4)"
      ]
    },
    {
      "cell_type": "code",
      "execution_count": 190,
      "id": "a9df4d2b",
      "metadata": {
        "id": "a9df4d2b",
        "colab": {
          "base_uri": "https://localhost:8080/"
        },
        "outputId": "a7b1c453-b48f-479f-e498-da1a5917e371"
      },
      "outputs": [
        {
          "output_type": "execute_result",
          "data": {
            "text/plain": [
              "(4000, 13)"
            ]
          },
          "metadata": {},
          "execution_count": 190
        }
      ],
      "source": [
        "dfr.shape"
      ]
    },
    {
      "cell_type": "code",
      "execution_count": 191,
      "id": "f6337fa9",
      "metadata": {
        "id": "f6337fa9",
        "colab": {
          "base_uri": "https://localhost:8080/",
          "height": 800
        },
        "outputId": "1085b388-9012-4fb1-ddc5-ec335c90e080"
      },
      "outputs": [
        {
          "output_type": "execute_result",
          "data": {
            "text/plain": [
              "                                                    tweets  sentiment  \\\n",
              "95104                          broken computertwitter miss          0   \n",
              "778426                                         waht boring          0   \n",
              "217901   imcudi tried coachella party couldnt details m...          0   \n",
              "372597                                      clean bathroom          0   \n",
              "795132   surprised 280 followers gives crp cirvical cancer          0   \n",
              "...                                                    ...        ...   \n",
              "1378256               kellystraycat doi hope tweetshe gets          4   \n",
              "1290051       kissjeanie hey follow look forward ur tweets          4   \n",
              "877147                      cwcelebreporter apart comittee          4   \n",
              "1150745                                follow streetsmusic          4   \n",
              "1330486  fordchik126 thank round 4am morningit shaking ...          4   \n",
              "\n",
              "         word_counts  char_counts  avg_word_len  stop_words_len  \\\n",
              "95104              5           38      6.600000               1   \n",
              "778426             4           18      3.500000               1   \n",
              "217901            24          118      3.916667              15   \n",
              "372597             8           39      3.875000               4   \n",
              "795132            16           91      4.687500               8   \n",
              "...              ...          ...           ...             ...   \n",
              "1378256           11           81      6.090909               5   \n",
              "1290051           13           73      4.615385               3   \n",
              "877147             7           47      5.714286               2   \n",
              "1150745            2           21      9.500000               0   \n",
              "1330486           15           94      5.266667               6   \n",
              "\n",
              "         hashtags_counts  mentions_counts  numerics_count  upper_counts  \\\n",
              "95104                  0                0               0             0   \n",
              "778426                 0                0               0             0   \n",
              "217901                 0                1               0             0   \n",
              "372597                 0                0               0             0   \n",
              "795132                 0                0               1             0   \n",
              "...                  ...              ...             ...           ...   \n",
              "1378256                0                1               0             0   \n",
              "1290051                0                1               0             1   \n",
              "877147                 0                1               0             0   \n",
              "1150745                0                1               0             1   \n",
              "1330486                0                1               0             0   \n",
              "\n",
              "        emails  emails_count  urls_flag  \n",
              "95104       []             0          0  \n",
              "778426      []             0          0  \n",
              "217901      []             0          0  \n",
              "372597      []             0          0  \n",
              "795132      []             0          0  \n",
              "...        ...           ...        ...  \n",
              "1378256     []             0          0  \n",
              "1290051     []             0          0  \n",
              "877147      []             0          0  \n",
              "1150745     []             0          0  \n",
              "1330486     []             0          0  \n",
              "\n",
              "[4000 rows x 13 columns]"
            ],
            "text/html": [
              "\n",
              "  <div id=\"df-a3ee3a17-3f0b-470f-bd19-e5a08180fb5e\">\n",
              "    <div class=\"colab-df-container\">\n",
              "      <div>\n",
              "<style scoped>\n",
              "    .dataframe tbody tr th:only-of-type {\n",
              "        vertical-align: middle;\n",
              "    }\n",
              "\n",
              "    .dataframe tbody tr th {\n",
              "        vertical-align: top;\n",
              "    }\n",
              "\n",
              "    .dataframe thead th {\n",
              "        text-align: right;\n",
              "    }\n",
              "</style>\n",
              "<table border=\"1\" class=\"dataframe\">\n",
              "  <thead>\n",
              "    <tr style=\"text-align: right;\">\n",
              "      <th></th>\n",
              "      <th>tweets</th>\n",
              "      <th>sentiment</th>\n",
              "      <th>word_counts</th>\n",
              "      <th>char_counts</th>\n",
              "      <th>avg_word_len</th>\n",
              "      <th>stop_words_len</th>\n",
              "      <th>hashtags_counts</th>\n",
              "      <th>mentions_counts</th>\n",
              "      <th>numerics_count</th>\n",
              "      <th>upper_counts</th>\n",
              "      <th>emails</th>\n",
              "      <th>emails_count</th>\n",
              "      <th>urls_flag</th>\n",
              "    </tr>\n",
              "  </thead>\n",
              "  <tbody>\n",
              "    <tr>\n",
              "      <th>95104</th>\n",
              "      <td>broken computertwitter miss</td>\n",
              "      <td>0</td>\n",
              "      <td>5</td>\n",
              "      <td>38</td>\n",
              "      <td>6.600000</td>\n",
              "      <td>1</td>\n",
              "      <td>0</td>\n",
              "      <td>0</td>\n",
              "      <td>0</td>\n",
              "      <td>0</td>\n",
              "      <td>[]</td>\n",
              "      <td>0</td>\n",
              "      <td>0</td>\n",
              "    </tr>\n",
              "    <tr>\n",
              "      <th>778426</th>\n",
              "      <td>waht boring</td>\n",
              "      <td>0</td>\n",
              "      <td>4</td>\n",
              "      <td>18</td>\n",
              "      <td>3.500000</td>\n",
              "      <td>1</td>\n",
              "      <td>0</td>\n",
              "      <td>0</td>\n",
              "      <td>0</td>\n",
              "      <td>0</td>\n",
              "      <td>[]</td>\n",
              "      <td>0</td>\n",
              "      <td>0</td>\n",
              "    </tr>\n",
              "    <tr>\n",
              "      <th>217901</th>\n",
              "      <td>imcudi tried coachella party couldnt details m...</td>\n",
              "      <td>0</td>\n",
              "      <td>24</td>\n",
              "      <td>118</td>\n",
              "      <td>3.916667</td>\n",
              "      <td>15</td>\n",
              "      <td>0</td>\n",
              "      <td>1</td>\n",
              "      <td>0</td>\n",
              "      <td>0</td>\n",
              "      <td>[]</td>\n",
              "      <td>0</td>\n",
              "      <td>0</td>\n",
              "    </tr>\n",
              "    <tr>\n",
              "      <th>372597</th>\n",
              "      <td>clean bathroom</td>\n",
              "      <td>0</td>\n",
              "      <td>8</td>\n",
              "      <td>39</td>\n",
              "      <td>3.875000</td>\n",
              "      <td>4</td>\n",
              "      <td>0</td>\n",
              "      <td>0</td>\n",
              "      <td>0</td>\n",
              "      <td>0</td>\n",
              "      <td>[]</td>\n",
              "      <td>0</td>\n",
              "      <td>0</td>\n",
              "    </tr>\n",
              "    <tr>\n",
              "      <th>795132</th>\n",
              "      <td>surprised 280 followers gives crp cirvical cancer</td>\n",
              "      <td>0</td>\n",
              "      <td>16</td>\n",
              "      <td>91</td>\n",
              "      <td>4.687500</td>\n",
              "      <td>8</td>\n",
              "      <td>0</td>\n",
              "      <td>0</td>\n",
              "      <td>1</td>\n",
              "      <td>0</td>\n",
              "      <td>[]</td>\n",
              "      <td>0</td>\n",
              "      <td>0</td>\n",
              "    </tr>\n",
              "    <tr>\n",
              "      <th>...</th>\n",
              "      <td>...</td>\n",
              "      <td>...</td>\n",
              "      <td>...</td>\n",
              "      <td>...</td>\n",
              "      <td>...</td>\n",
              "      <td>...</td>\n",
              "      <td>...</td>\n",
              "      <td>...</td>\n",
              "      <td>...</td>\n",
              "      <td>...</td>\n",
              "      <td>...</td>\n",
              "      <td>...</td>\n",
              "      <td>...</td>\n",
              "    </tr>\n",
              "    <tr>\n",
              "      <th>1378256</th>\n",
              "      <td>kellystraycat doi hope tweetshe gets</td>\n",
              "      <td>4</td>\n",
              "      <td>11</td>\n",
              "      <td>81</td>\n",
              "      <td>6.090909</td>\n",
              "      <td>5</td>\n",
              "      <td>0</td>\n",
              "      <td>1</td>\n",
              "      <td>0</td>\n",
              "      <td>0</td>\n",
              "      <td>[]</td>\n",
              "      <td>0</td>\n",
              "      <td>0</td>\n",
              "    </tr>\n",
              "    <tr>\n",
              "      <th>1290051</th>\n",
              "      <td>kissjeanie hey follow look forward ur tweets</td>\n",
              "      <td>4</td>\n",
              "      <td>13</td>\n",
              "      <td>73</td>\n",
              "      <td>4.615385</td>\n",
              "      <td>3</td>\n",
              "      <td>0</td>\n",
              "      <td>1</td>\n",
              "      <td>0</td>\n",
              "      <td>1</td>\n",
              "      <td>[]</td>\n",
              "      <td>0</td>\n",
              "      <td>0</td>\n",
              "    </tr>\n",
              "    <tr>\n",
              "      <th>877147</th>\n",
              "      <td>cwcelebreporter apart comittee</td>\n",
              "      <td>4</td>\n",
              "      <td>7</td>\n",
              "      <td>47</td>\n",
              "      <td>5.714286</td>\n",
              "      <td>2</td>\n",
              "      <td>0</td>\n",
              "      <td>1</td>\n",
              "      <td>0</td>\n",
              "      <td>0</td>\n",
              "      <td>[]</td>\n",
              "      <td>0</td>\n",
              "      <td>0</td>\n",
              "    </tr>\n",
              "    <tr>\n",
              "      <th>1150745</th>\n",
              "      <td>follow streetsmusic</td>\n",
              "      <td>4</td>\n",
              "      <td>2</td>\n",
              "      <td>21</td>\n",
              "      <td>9.500000</td>\n",
              "      <td>0</td>\n",
              "      <td>0</td>\n",
              "      <td>1</td>\n",
              "      <td>0</td>\n",
              "      <td>1</td>\n",
              "      <td>[]</td>\n",
              "      <td>0</td>\n",
              "      <td>0</td>\n",
              "    </tr>\n",
              "    <tr>\n",
              "      <th>1330486</th>\n",
              "      <td>fordchik126 thank round 4am morningit shaking ...</td>\n",
              "      <td>4</td>\n",
              "      <td>15</td>\n",
              "      <td>94</td>\n",
              "      <td>5.266667</td>\n",
              "      <td>6</td>\n",
              "      <td>0</td>\n",
              "      <td>1</td>\n",
              "      <td>0</td>\n",
              "      <td>0</td>\n",
              "      <td>[]</td>\n",
              "      <td>0</td>\n",
              "      <td>0</td>\n",
              "    </tr>\n",
              "  </tbody>\n",
              "</table>\n",
              "<p>4000 rows × 13 columns</p>\n",
              "</div>\n",
              "      <button class=\"colab-df-convert\" onclick=\"convertToInteractive('df-a3ee3a17-3f0b-470f-bd19-e5a08180fb5e')\"\n",
              "              title=\"Convert this dataframe to an interactive table.\"\n",
              "              style=\"display:none;\">\n",
              "        \n",
              "  <svg xmlns=\"http://www.w3.org/2000/svg\" height=\"24px\"viewBox=\"0 0 24 24\"\n",
              "       width=\"24px\">\n",
              "    <path d=\"M0 0h24v24H0V0z\" fill=\"none\"/>\n",
              "    <path d=\"M18.56 5.44l.94 2.06.94-2.06 2.06-.94-2.06-.94-.94-2.06-.94 2.06-2.06.94zm-11 1L8.5 8.5l.94-2.06 2.06-.94-2.06-.94L8.5 2.5l-.94 2.06-2.06.94zm10 10l.94 2.06.94-2.06 2.06-.94-2.06-.94-.94-2.06-.94 2.06-2.06.94z\"/><path d=\"M17.41 7.96l-1.37-1.37c-.4-.4-.92-.59-1.43-.59-.52 0-1.04.2-1.43.59L10.3 9.45l-7.72 7.72c-.78.78-.78 2.05 0 2.83L4 21.41c.39.39.9.59 1.41.59.51 0 1.02-.2 1.41-.59l7.78-7.78 2.81-2.81c.8-.78.8-2.07 0-2.86zM5.41 20L4 18.59l7.72-7.72 1.47 1.35L5.41 20z\"/>\n",
              "  </svg>\n",
              "      </button>\n",
              "      \n",
              "  <style>\n",
              "    .colab-df-container {\n",
              "      display:flex;\n",
              "      flex-wrap:wrap;\n",
              "      gap: 12px;\n",
              "    }\n",
              "\n",
              "    .colab-df-convert {\n",
              "      background-color: #E8F0FE;\n",
              "      border: none;\n",
              "      border-radius: 50%;\n",
              "      cursor: pointer;\n",
              "      display: none;\n",
              "      fill: #1967D2;\n",
              "      height: 32px;\n",
              "      padding: 0 0 0 0;\n",
              "      width: 32px;\n",
              "    }\n",
              "\n",
              "    .colab-df-convert:hover {\n",
              "      background-color: #E2EBFA;\n",
              "      box-shadow: 0px 1px 2px rgba(60, 64, 67, 0.3), 0px 1px 3px 1px rgba(60, 64, 67, 0.15);\n",
              "      fill: #174EA6;\n",
              "    }\n",
              "\n",
              "    [theme=dark] .colab-df-convert {\n",
              "      background-color: #3B4455;\n",
              "      fill: #D2E3FC;\n",
              "    }\n",
              "\n",
              "    [theme=dark] .colab-df-convert:hover {\n",
              "      background-color: #434B5C;\n",
              "      box-shadow: 0px 1px 3px 1px rgba(0, 0, 0, 0.15);\n",
              "      filter: drop-shadow(0px 1px 2px rgba(0, 0, 0, 0.3));\n",
              "      fill: #FFFFFF;\n",
              "    }\n",
              "  </style>\n",
              "\n",
              "      <script>\n",
              "        const buttonEl =\n",
              "          document.querySelector('#df-a3ee3a17-3f0b-470f-bd19-e5a08180fb5e button.colab-df-convert');\n",
              "        buttonEl.style.display =\n",
              "          google.colab.kernel.accessAllowed ? 'block' : 'none';\n",
              "\n",
              "        async function convertToInteractive(key) {\n",
              "          const element = document.querySelector('#df-a3ee3a17-3f0b-470f-bd19-e5a08180fb5e');\n",
              "          const dataTable =\n",
              "            await google.colab.kernel.invokeFunction('convertToInteractive',\n",
              "                                                     [key], {});\n",
              "          if (!dataTable) return;\n",
              "\n",
              "          const docLinkHtml = 'Like what you see? Visit the ' +\n",
              "            '<a target=\"_blank\" href=https://colab.research.google.com/notebooks/data_table.ipynb>data table notebook</a>'\n",
              "            + ' to learn more about interactive tables.';\n",
              "          element.innerHTML = '';\n",
              "          dataTable['output_type'] = 'display_data';\n",
              "          await google.colab.output.renderOutput(dataTable, element);\n",
              "          const docLink = document.createElement('div');\n",
              "          docLink.innerHTML = docLinkHtml;\n",
              "          element.appendChild(docLink);\n",
              "        }\n",
              "      </script>\n",
              "    </div>\n",
              "  </div>\n",
              "  "
            ]
          },
          "metadata": {},
          "execution_count": 191
        }
      ],
      "source": [
        "dfr"
      ]
    },
    {
      "cell_type": "code",
      "execution_count": 193,
      "id": "70539ab7",
      "metadata": {
        "id": "70539ab7"
      },
      "outputs": [],
      "source": [
        "# dropping tweets, sentiment and emails columns\n",
        "dfr_feat= dfr.drop(labels=['tweets','sentiment','emails'],axis=1).reset_index(drop=True)"
      ]
    },
    {
      "cell_type": "code",
      "execution_count": 194,
      "id": "402d3964",
      "metadata": {
        "id": "402d3964",
        "colab": {
          "base_uri": "https://localhost:8080/",
          "height": 424
        },
        "outputId": "8001954f-4842-4dc6-c5f4-d2a3406232bf"
      },
      "outputs": [
        {
          "output_type": "execute_result",
          "data": {
            "text/plain": [
              "      word_counts  char_counts  avg_word_len  stop_words_len  hashtags_counts  \\\n",
              "0               5           38      6.600000               1                0   \n",
              "1               4           18      3.500000               1                0   \n",
              "2              24          118      3.916667              15                0   \n",
              "3               8           39      3.875000               4                0   \n",
              "4              16           91      4.687500               8                0   \n",
              "...           ...          ...           ...             ...              ...   \n",
              "3995           11           81      6.090909               5                0   \n",
              "3996           13           73      4.615385               3                0   \n",
              "3997            7           47      5.714286               2                0   \n",
              "3998            2           21      9.500000               0                0   \n",
              "3999           15           94      5.266667               6                0   \n",
              "\n",
              "      mentions_counts  numerics_count  upper_counts  emails_count  urls_flag  \n",
              "0                   0               0             0             0          0  \n",
              "1                   0               0             0             0          0  \n",
              "2                   1               0             0             0          0  \n",
              "3                   0               0             0             0          0  \n",
              "4                   0               1             0             0          0  \n",
              "...               ...             ...           ...           ...        ...  \n",
              "3995                1               0             0             0          0  \n",
              "3996                1               0             1             0          0  \n",
              "3997                1               0             0             0          0  \n",
              "3998                1               0             1             0          0  \n",
              "3999                1               0             0             0          0  \n",
              "\n",
              "[4000 rows x 10 columns]"
            ],
            "text/html": [
              "\n",
              "  <div id=\"df-8cf4f33e-a57a-4bb1-9897-2c220ebd6b91\">\n",
              "    <div class=\"colab-df-container\">\n",
              "      <div>\n",
              "<style scoped>\n",
              "    .dataframe tbody tr th:only-of-type {\n",
              "        vertical-align: middle;\n",
              "    }\n",
              "\n",
              "    .dataframe tbody tr th {\n",
              "        vertical-align: top;\n",
              "    }\n",
              "\n",
              "    .dataframe thead th {\n",
              "        text-align: right;\n",
              "    }\n",
              "</style>\n",
              "<table border=\"1\" class=\"dataframe\">\n",
              "  <thead>\n",
              "    <tr style=\"text-align: right;\">\n",
              "      <th></th>\n",
              "      <th>word_counts</th>\n",
              "      <th>char_counts</th>\n",
              "      <th>avg_word_len</th>\n",
              "      <th>stop_words_len</th>\n",
              "      <th>hashtags_counts</th>\n",
              "      <th>mentions_counts</th>\n",
              "      <th>numerics_count</th>\n",
              "      <th>upper_counts</th>\n",
              "      <th>emails_count</th>\n",
              "      <th>urls_flag</th>\n",
              "    </tr>\n",
              "  </thead>\n",
              "  <tbody>\n",
              "    <tr>\n",
              "      <th>0</th>\n",
              "      <td>5</td>\n",
              "      <td>38</td>\n",
              "      <td>6.600000</td>\n",
              "      <td>1</td>\n",
              "      <td>0</td>\n",
              "      <td>0</td>\n",
              "      <td>0</td>\n",
              "      <td>0</td>\n",
              "      <td>0</td>\n",
              "      <td>0</td>\n",
              "    </tr>\n",
              "    <tr>\n",
              "      <th>1</th>\n",
              "      <td>4</td>\n",
              "      <td>18</td>\n",
              "      <td>3.500000</td>\n",
              "      <td>1</td>\n",
              "      <td>0</td>\n",
              "      <td>0</td>\n",
              "      <td>0</td>\n",
              "      <td>0</td>\n",
              "      <td>0</td>\n",
              "      <td>0</td>\n",
              "    </tr>\n",
              "    <tr>\n",
              "      <th>2</th>\n",
              "      <td>24</td>\n",
              "      <td>118</td>\n",
              "      <td>3.916667</td>\n",
              "      <td>15</td>\n",
              "      <td>0</td>\n",
              "      <td>1</td>\n",
              "      <td>0</td>\n",
              "      <td>0</td>\n",
              "      <td>0</td>\n",
              "      <td>0</td>\n",
              "    </tr>\n",
              "    <tr>\n",
              "      <th>3</th>\n",
              "      <td>8</td>\n",
              "      <td>39</td>\n",
              "      <td>3.875000</td>\n",
              "      <td>4</td>\n",
              "      <td>0</td>\n",
              "      <td>0</td>\n",
              "      <td>0</td>\n",
              "      <td>0</td>\n",
              "      <td>0</td>\n",
              "      <td>0</td>\n",
              "    </tr>\n",
              "    <tr>\n",
              "      <th>4</th>\n",
              "      <td>16</td>\n",
              "      <td>91</td>\n",
              "      <td>4.687500</td>\n",
              "      <td>8</td>\n",
              "      <td>0</td>\n",
              "      <td>0</td>\n",
              "      <td>1</td>\n",
              "      <td>0</td>\n",
              "      <td>0</td>\n",
              "      <td>0</td>\n",
              "    </tr>\n",
              "    <tr>\n",
              "      <th>...</th>\n",
              "      <td>...</td>\n",
              "      <td>...</td>\n",
              "      <td>...</td>\n",
              "      <td>...</td>\n",
              "      <td>...</td>\n",
              "      <td>...</td>\n",
              "      <td>...</td>\n",
              "      <td>...</td>\n",
              "      <td>...</td>\n",
              "      <td>...</td>\n",
              "    </tr>\n",
              "    <tr>\n",
              "      <th>3995</th>\n",
              "      <td>11</td>\n",
              "      <td>81</td>\n",
              "      <td>6.090909</td>\n",
              "      <td>5</td>\n",
              "      <td>0</td>\n",
              "      <td>1</td>\n",
              "      <td>0</td>\n",
              "      <td>0</td>\n",
              "      <td>0</td>\n",
              "      <td>0</td>\n",
              "    </tr>\n",
              "    <tr>\n",
              "      <th>3996</th>\n",
              "      <td>13</td>\n",
              "      <td>73</td>\n",
              "      <td>4.615385</td>\n",
              "      <td>3</td>\n",
              "      <td>0</td>\n",
              "      <td>1</td>\n",
              "      <td>0</td>\n",
              "      <td>1</td>\n",
              "      <td>0</td>\n",
              "      <td>0</td>\n",
              "    </tr>\n",
              "    <tr>\n",
              "      <th>3997</th>\n",
              "      <td>7</td>\n",
              "      <td>47</td>\n",
              "      <td>5.714286</td>\n",
              "      <td>2</td>\n",
              "      <td>0</td>\n",
              "      <td>1</td>\n",
              "      <td>0</td>\n",
              "      <td>0</td>\n",
              "      <td>0</td>\n",
              "      <td>0</td>\n",
              "    </tr>\n",
              "    <tr>\n",
              "      <th>3998</th>\n",
              "      <td>2</td>\n",
              "      <td>21</td>\n",
              "      <td>9.500000</td>\n",
              "      <td>0</td>\n",
              "      <td>0</td>\n",
              "      <td>1</td>\n",
              "      <td>0</td>\n",
              "      <td>1</td>\n",
              "      <td>0</td>\n",
              "      <td>0</td>\n",
              "    </tr>\n",
              "    <tr>\n",
              "      <th>3999</th>\n",
              "      <td>15</td>\n",
              "      <td>94</td>\n",
              "      <td>5.266667</td>\n",
              "      <td>6</td>\n",
              "      <td>0</td>\n",
              "      <td>1</td>\n",
              "      <td>0</td>\n",
              "      <td>0</td>\n",
              "      <td>0</td>\n",
              "      <td>0</td>\n",
              "    </tr>\n",
              "  </tbody>\n",
              "</table>\n",
              "<p>4000 rows × 10 columns</p>\n",
              "</div>\n",
              "      <button class=\"colab-df-convert\" onclick=\"convertToInteractive('df-8cf4f33e-a57a-4bb1-9897-2c220ebd6b91')\"\n",
              "              title=\"Convert this dataframe to an interactive table.\"\n",
              "              style=\"display:none;\">\n",
              "        \n",
              "  <svg xmlns=\"http://www.w3.org/2000/svg\" height=\"24px\"viewBox=\"0 0 24 24\"\n",
              "       width=\"24px\">\n",
              "    <path d=\"M0 0h24v24H0V0z\" fill=\"none\"/>\n",
              "    <path d=\"M18.56 5.44l.94 2.06.94-2.06 2.06-.94-2.06-.94-.94-2.06-.94 2.06-2.06.94zm-11 1L8.5 8.5l.94-2.06 2.06-.94-2.06-.94L8.5 2.5l-.94 2.06-2.06.94zm10 10l.94 2.06.94-2.06 2.06-.94-2.06-.94-.94-2.06-.94 2.06-2.06.94z\"/><path d=\"M17.41 7.96l-1.37-1.37c-.4-.4-.92-.59-1.43-.59-.52 0-1.04.2-1.43.59L10.3 9.45l-7.72 7.72c-.78.78-.78 2.05 0 2.83L4 21.41c.39.39.9.59 1.41.59.51 0 1.02-.2 1.41-.59l7.78-7.78 2.81-2.81c.8-.78.8-2.07 0-2.86zM5.41 20L4 18.59l7.72-7.72 1.47 1.35L5.41 20z\"/>\n",
              "  </svg>\n",
              "      </button>\n",
              "      \n",
              "  <style>\n",
              "    .colab-df-container {\n",
              "      display:flex;\n",
              "      flex-wrap:wrap;\n",
              "      gap: 12px;\n",
              "    }\n",
              "\n",
              "    .colab-df-convert {\n",
              "      background-color: #E8F0FE;\n",
              "      border: none;\n",
              "      border-radius: 50%;\n",
              "      cursor: pointer;\n",
              "      display: none;\n",
              "      fill: #1967D2;\n",
              "      height: 32px;\n",
              "      padding: 0 0 0 0;\n",
              "      width: 32px;\n",
              "    }\n",
              "\n",
              "    .colab-df-convert:hover {\n",
              "      background-color: #E2EBFA;\n",
              "      box-shadow: 0px 1px 2px rgba(60, 64, 67, 0.3), 0px 1px 3px 1px rgba(60, 64, 67, 0.15);\n",
              "      fill: #174EA6;\n",
              "    }\n",
              "\n",
              "    [theme=dark] .colab-df-convert {\n",
              "      background-color: #3B4455;\n",
              "      fill: #D2E3FC;\n",
              "    }\n",
              "\n",
              "    [theme=dark] .colab-df-convert:hover {\n",
              "      background-color: #434B5C;\n",
              "      box-shadow: 0px 1px 3px 1px rgba(0, 0, 0, 0.15);\n",
              "      filter: drop-shadow(0px 1px 2px rgba(0, 0, 0, 0.3));\n",
              "      fill: #FFFFFF;\n",
              "    }\n",
              "  </style>\n",
              "\n",
              "      <script>\n",
              "        const buttonEl =\n",
              "          document.querySelector('#df-8cf4f33e-a57a-4bb1-9897-2c220ebd6b91 button.colab-df-convert');\n",
              "        buttonEl.style.display =\n",
              "          google.colab.kernel.accessAllowed ? 'block' : 'none';\n",
              "\n",
              "        async function convertToInteractive(key) {\n",
              "          const element = document.querySelector('#df-8cf4f33e-a57a-4bb1-9897-2c220ebd6b91');\n",
              "          const dataTable =\n",
              "            await google.colab.kernel.invokeFunction('convertToInteractive',\n",
              "                                                     [key], {});\n",
              "          if (!dataTable) return;\n",
              "\n",
              "          const docLinkHtml = 'Like what you see? Visit the ' +\n",
              "            '<a target=\"_blank\" href=https://colab.research.google.com/notebooks/data_table.ipynb>data table notebook</a>'\n",
              "            + ' to learn more about interactive tables.';\n",
              "          element.innerHTML = '';\n",
              "          dataTable['output_type'] = 'display_data';\n",
              "          await google.colab.output.renderOutput(dataTable, element);\n",
              "          const docLink = document.createElement('div');\n",
              "          docLink.innerHTML = docLinkHtml;\n",
              "          element.appendChild(docLink);\n",
              "        }\n",
              "      </script>\n",
              "    </div>\n",
              "  </div>\n",
              "  "
            ]
          },
          "metadata": {},
          "execution_count": 194
        }
      ],
      "source": [
        "dfr_feat"
      ]
    },
    {
      "cell_type": "code",
      "execution_count": 195,
      "id": "d8c41b89",
      "metadata": {
        "id": "d8c41b89"
      },
      "outputs": [],
      "source": [
        "y= dfr['sentiment']"
      ]
    },
    {
      "cell_type": "code",
      "execution_count": 196,
      "id": "c4d65139",
      "metadata": {
        "id": "c4d65139"
      },
      "outputs": [],
      "source": [
        "from sklearn.feature_extraction.text import CountVectorizer"
      ]
    },
    {
      "cell_type": "code",
      "execution_count": 197,
      "id": "f3af8c42",
      "metadata": {
        "id": "f3af8c42"
      },
      "outputs": [],
      "source": [
        "cv= CountVectorizer()\n",
        "text_counts= cv.fit_transform(dfr['tweets'])"
      ]
    },
    {
      "cell_type": "code",
      "execution_count": 198,
      "id": "5edd487a",
      "metadata": {
        "id": "5edd487a",
        "colab": {
          "base_uri": "https://localhost:8080/"
        },
        "outputId": "4098abef-82d1-4a4a-d26b-d4bc01771afa"
      },
      "outputs": [
        {
          "output_type": "execute_result",
          "data": {
            "text/plain": [
              "(4000, 9709)"
            ]
          },
          "metadata": {},
          "execution_count": 198
        }
      ],
      "source": [
        "text_counts.toarray().shape"
      ]
    },
    {
      "cell_type": "code",
      "execution_count": 199,
      "id": "3328ad4b",
      "metadata": {
        "id": "3328ad4b",
        "colab": {
          "base_uri": "https://localhost:8080/"
        },
        "outputId": "9fe13134-d73f-4323-9c34-bf48c72822a3"
      },
      "outputs": [
        {
          "output_type": "stream",
          "name": "stderr",
          "text": [
            "/usr/local/lib/python3.7/dist-packages/sklearn/utils/deprecation.py:87: FutureWarning: Function get_feature_names is deprecated; get_feature_names is deprecated in 1.0 and will be removed in 1.2. Please use get_feature_names_out instead.\n",
            "  warnings.warn(msg, category=FutureWarning)\n"
          ]
        }
      ],
      "source": [
        "dfr_bow= pd.DataFrame(text_counts.toarray(), columns=cv.get_feature_names())"
      ]
    },
    {
      "cell_type": "code",
      "execution_count": 200,
      "id": "b09c3960",
      "metadata": {
        "id": "b09c3960",
        "colab": {
          "base_uri": "https://localhost:8080/",
          "height": 424
        },
        "outputId": "4e933812-a49c-48af-d71e-33d0c70d5a1c"
      },
      "outputs": [
        {
          "output_type": "execute_result",
          "data": {
            "text/plain": [
              "      0630  0708  09  0h  0mgiitzree  0mnislasher  10  100  1000  1000nok  \\\n",
              "0        0     0   0   0           0            0   0    0     0        0   \n",
              "1        0     0   0   0           0            0   0    0     0        0   \n",
              "2        0     0   0   0           0            0   0    0     0        0   \n",
              "3        0     0   0   0           0            0   0    0     0        0   \n",
              "4        0     0   0   0           0            0   0    0     0        0   \n",
              "...    ...   ...  ..  ..         ...          ...  ..  ...   ...      ...   \n",
              "3995     0     0   0   0           0            0   0    0     0        0   \n",
              "3996     0     0   0   0           0            0   0    0     0        0   \n",
              "3997     0     0   0   0           0            0   0    0     0        0   \n",
              "3998     0     0   0   0           0            0   0    0     0        0   \n",
              "3999     0     0   0   0           0            0   0    0     0        0   \n",
              "\n",
              "      ...  zip  zoebakes  zoebeck  zofie  zombie  zombieninja  zone  zoo  \\\n",
              "0     ...    0         0        0      0       0            0     0    0   \n",
              "1     ...    0         0        0      0       0            0     0    0   \n",
              "2     ...    0         0        0      0       0            0     0    0   \n",
              "3     ...    0         0        0      0       0            0     0    0   \n",
              "4     ...    0         0        0      0       0            0     0    0   \n",
              "...   ...  ...       ...      ...    ...     ...          ...   ...  ...   \n",
              "3995  ...    0         0        0      0       0            0     0    0   \n",
              "3996  ...    0         0        0      0       0            0     0    0   \n",
              "3997  ...    0         0        0      0       0            0     0    0   \n",
              "3998  ...    0         0        0      0       0            0     0    0   \n",
              "3999  ...    0         0        0      0       0            0     0    0   \n",
              "\n",
              "      zutradio  zz  \n",
              "0            0   0  \n",
              "1            0   0  \n",
              "2            0   0  \n",
              "3            0   0  \n",
              "4            0   0  \n",
              "...        ...  ..  \n",
              "3995         0   0  \n",
              "3996         0   0  \n",
              "3997         0   0  \n",
              "3998         0   0  \n",
              "3999         0   0  \n",
              "\n",
              "[4000 rows x 9709 columns]"
            ],
            "text/html": [
              "\n",
              "  <div id=\"df-17d2c994-fd89-4f9a-a8c3-845d3f4ec8ce\">\n",
              "    <div class=\"colab-df-container\">\n",
              "      <div>\n",
              "<style scoped>\n",
              "    .dataframe tbody tr th:only-of-type {\n",
              "        vertical-align: middle;\n",
              "    }\n",
              "\n",
              "    .dataframe tbody tr th {\n",
              "        vertical-align: top;\n",
              "    }\n",
              "\n",
              "    .dataframe thead th {\n",
              "        text-align: right;\n",
              "    }\n",
              "</style>\n",
              "<table border=\"1\" class=\"dataframe\">\n",
              "  <thead>\n",
              "    <tr style=\"text-align: right;\">\n",
              "      <th></th>\n",
              "      <th>0630</th>\n",
              "      <th>0708</th>\n",
              "      <th>09</th>\n",
              "      <th>0h</th>\n",
              "      <th>0mgiitzree</th>\n",
              "      <th>0mnislasher</th>\n",
              "      <th>10</th>\n",
              "      <th>100</th>\n",
              "      <th>1000</th>\n",
              "      <th>1000nok</th>\n",
              "      <th>...</th>\n",
              "      <th>zip</th>\n",
              "      <th>zoebakes</th>\n",
              "      <th>zoebeck</th>\n",
              "      <th>zofie</th>\n",
              "      <th>zombie</th>\n",
              "      <th>zombieninja</th>\n",
              "      <th>zone</th>\n",
              "      <th>zoo</th>\n",
              "      <th>zutradio</th>\n",
              "      <th>zz</th>\n",
              "    </tr>\n",
              "  </thead>\n",
              "  <tbody>\n",
              "    <tr>\n",
              "      <th>0</th>\n",
              "      <td>0</td>\n",
              "      <td>0</td>\n",
              "      <td>0</td>\n",
              "      <td>0</td>\n",
              "      <td>0</td>\n",
              "      <td>0</td>\n",
              "      <td>0</td>\n",
              "      <td>0</td>\n",
              "      <td>0</td>\n",
              "      <td>0</td>\n",
              "      <td>...</td>\n",
              "      <td>0</td>\n",
              "      <td>0</td>\n",
              "      <td>0</td>\n",
              "      <td>0</td>\n",
              "      <td>0</td>\n",
              "      <td>0</td>\n",
              "      <td>0</td>\n",
              "      <td>0</td>\n",
              "      <td>0</td>\n",
              "      <td>0</td>\n",
              "    </tr>\n",
              "    <tr>\n",
              "      <th>1</th>\n",
              "      <td>0</td>\n",
              "      <td>0</td>\n",
              "      <td>0</td>\n",
              "      <td>0</td>\n",
              "      <td>0</td>\n",
              "      <td>0</td>\n",
              "      <td>0</td>\n",
              "      <td>0</td>\n",
              "      <td>0</td>\n",
              "      <td>0</td>\n",
              "      <td>...</td>\n",
              "      <td>0</td>\n",
              "      <td>0</td>\n",
              "      <td>0</td>\n",
              "      <td>0</td>\n",
              "      <td>0</td>\n",
              "      <td>0</td>\n",
              "      <td>0</td>\n",
              "      <td>0</td>\n",
              "      <td>0</td>\n",
              "      <td>0</td>\n",
              "    </tr>\n",
              "    <tr>\n",
              "      <th>2</th>\n",
              "      <td>0</td>\n",
              "      <td>0</td>\n",
              "      <td>0</td>\n",
              "      <td>0</td>\n",
              "      <td>0</td>\n",
              "      <td>0</td>\n",
              "      <td>0</td>\n",
              "      <td>0</td>\n",
              "      <td>0</td>\n",
              "      <td>0</td>\n",
              "      <td>...</td>\n",
              "      <td>0</td>\n",
              "      <td>0</td>\n",
              "      <td>0</td>\n",
              "      <td>0</td>\n",
              "      <td>0</td>\n",
              "      <td>0</td>\n",
              "      <td>0</td>\n",
              "      <td>0</td>\n",
              "      <td>0</td>\n",
              "      <td>0</td>\n",
              "    </tr>\n",
              "    <tr>\n",
              "      <th>3</th>\n",
              "      <td>0</td>\n",
              "      <td>0</td>\n",
              "      <td>0</td>\n",
              "      <td>0</td>\n",
              "      <td>0</td>\n",
              "      <td>0</td>\n",
              "      <td>0</td>\n",
              "      <td>0</td>\n",
              "      <td>0</td>\n",
              "      <td>0</td>\n",
              "      <td>...</td>\n",
              "      <td>0</td>\n",
              "      <td>0</td>\n",
              "      <td>0</td>\n",
              "      <td>0</td>\n",
              "      <td>0</td>\n",
              "      <td>0</td>\n",
              "      <td>0</td>\n",
              "      <td>0</td>\n",
              "      <td>0</td>\n",
              "      <td>0</td>\n",
              "    </tr>\n",
              "    <tr>\n",
              "      <th>4</th>\n",
              "      <td>0</td>\n",
              "      <td>0</td>\n",
              "      <td>0</td>\n",
              "      <td>0</td>\n",
              "      <td>0</td>\n",
              "      <td>0</td>\n",
              "      <td>0</td>\n",
              "      <td>0</td>\n",
              "      <td>0</td>\n",
              "      <td>0</td>\n",
              "      <td>...</td>\n",
              "      <td>0</td>\n",
              "      <td>0</td>\n",
              "      <td>0</td>\n",
              "      <td>0</td>\n",
              "      <td>0</td>\n",
              "      <td>0</td>\n",
              "      <td>0</td>\n",
              "      <td>0</td>\n",
              "      <td>0</td>\n",
              "      <td>0</td>\n",
              "    </tr>\n",
              "    <tr>\n",
              "      <th>...</th>\n",
              "      <td>...</td>\n",
              "      <td>...</td>\n",
              "      <td>...</td>\n",
              "      <td>...</td>\n",
              "      <td>...</td>\n",
              "      <td>...</td>\n",
              "      <td>...</td>\n",
              "      <td>...</td>\n",
              "      <td>...</td>\n",
              "      <td>...</td>\n",
              "      <td>...</td>\n",
              "      <td>...</td>\n",
              "      <td>...</td>\n",
              "      <td>...</td>\n",
              "      <td>...</td>\n",
              "      <td>...</td>\n",
              "      <td>...</td>\n",
              "      <td>...</td>\n",
              "      <td>...</td>\n",
              "      <td>...</td>\n",
              "      <td>...</td>\n",
              "    </tr>\n",
              "    <tr>\n",
              "      <th>3995</th>\n",
              "      <td>0</td>\n",
              "      <td>0</td>\n",
              "      <td>0</td>\n",
              "      <td>0</td>\n",
              "      <td>0</td>\n",
              "      <td>0</td>\n",
              "      <td>0</td>\n",
              "      <td>0</td>\n",
              "      <td>0</td>\n",
              "      <td>0</td>\n",
              "      <td>...</td>\n",
              "      <td>0</td>\n",
              "      <td>0</td>\n",
              "      <td>0</td>\n",
              "      <td>0</td>\n",
              "      <td>0</td>\n",
              "      <td>0</td>\n",
              "      <td>0</td>\n",
              "      <td>0</td>\n",
              "      <td>0</td>\n",
              "      <td>0</td>\n",
              "    </tr>\n",
              "    <tr>\n",
              "      <th>3996</th>\n",
              "      <td>0</td>\n",
              "      <td>0</td>\n",
              "      <td>0</td>\n",
              "      <td>0</td>\n",
              "      <td>0</td>\n",
              "      <td>0</td>\n",
              "      <td>0</td>\n",
              "      <td>0</td>\n",
              "      <td>0</td>\n",
              "      <td>0</td>\n",
              "      <td>...</td>\n",
              "      <td>0</td>\n",
              "      <td>0</td>\n",
              "      <td>0</td>\n",
              "      <td>0</td>\n",
              "      <td>0</td>\n",
              "      <td>0</td>\n",
              "      <td>0</td>\n",
              "      <td>0</td>\n",
              "      <td>0</td>\n",
              "      <td>0</td>\n",
              "    </tr>\n",
              "    <tr>\n",
              "      <th>3997</th>\n",
              "      <td>0</td>\n",
              "      <td>0</td>\n",
              "      <td>0</td>\n",
              "      <td>0</td>\n",
              "      <td>0</td>\n",
              "      <td>0</td>\n",
              "      <td>0</td>\n",
              "      <td>0</td>\n",
              "      <td>0</td>\n",
              "      <td>0</td>\n",
              "      <td>...</td>\n",
              "      <td>0</td>\n",
              "      <td>0</td>\n",
              "      <td>0</td>\n",
              "      <td>0</td>\n",
              "      <td>0</td>\n",
              "      <td>0</td>\n",
              "      <td>0</td>\n",
              "      <td>0</td>\n",
              "      <td>0</td>\n",
              "      <td>0</td>\n",
              "    </tr>\n",
              "    <tr>\n",
              "      <th>3998</th>\n",
              "      <td>0</td>\n",
              "      <td>0</td>\n",
              "      <td>0</td>\n",
              "      <td>0</td>\n",
              "      <td>0</td>\n",
              "      <td>0</td>\n",
              "      <td>0</td>\n",
              "      <td>0</td>\n",
              "      <td>0</td>\n",
              "      <td>0</td>\n",
              "      <td>...</td>\n",
              "      <td>0</td>\n",
              "      <td>0</td>\n",
              "      <td>0</td>\n",
              "      <td>0</td>\n",
              "      <td>0</td>\n",
              "      <td>0</td>\n",
              "      <td>0</td>\n",
              "      <td>0</td>\n",
              "      <td>0</td>\n",
              "      <td>0</td>\n",
              "    </tr>\n",
              "    <tr>\n",
              "      <th>3999</th>\n",
              "      <td>0</td>\n",
              "      <td>0</td>\n",
              "      <td>0</td>\n",
              "      <td>0</td>\n",
              "      <td>0</td>\n",
              "      <td>0</td>\n",
              "      <td>0</td>\n",
              "      <td>0</td>\n",
              "      <td>0</td>\n",
              "      <td>0</td>\n",
              "      <td>...</td>\n",
              "      <td>0</td>\n",
              "      <td>0</td>\n",
              "      <td>0</td>\n",
              "      <td>0</td>\n",
              "      <td>0</td>\n",
              "      <td>0</td>\n",
              "      <td>0</td>\n",
              "      <td>0</td>\n",
              "      <td>0</td>\n",
              "      <td>0</td>\n",
              "    </tr>\n",
              "  </tbody>\n",
              "</table>\n",
              "<p>4000 rows × 9709 columns</p>\n",
              "</div>\n",
              "      <button class=\"colab-df-convert\" onclick=\"convertToInteractive('df-17d2c994-fd89-4f9a-a8c3-845d3f4ec8ce')\"\n",
              "              title=\"Convert this dataframe to an interactive table.\"\n",
              "              style=\"display:none;\">\n",
              "        \n",
              "  <svg xmlns=\"http://www.w3.org/2000/svg\" height=\"24px\"viewBox=\"0 0 24 24\"\n",
              "       width=\"24px\">\n",
              "    <path d=\"M0 0h24v24H0V0z\" fill=\"none\"/>\n",
              "    <path d=\"M18.56 5.44l.94 2.06.94-2.06 2.06-.94-2.06-.94-.94-2.06-.94 2.06-2.06.94zm-11 1L8.5 8.5l.94-2.06 2.06-.94-2.06-.94L8.5 2.5l-.94 2.06-2.06.94zm10 10l.94 2.06.94-2.06 2.06-.94-2.06-.94-.94-2.06-.94 2.06-2.06.94z\"/><path d=\"M17.41 7.96l-1.37-1.37c-.4-.4-.92-.59-1.43-.59-.52 0-1.04.2-1.43.59L10.3 9.45l-7.72 7.72c-.78.78-.78 2.05 0 2.83L4 21.41c.39.39.9.59 1.41.59.51 0 1.02-.2 1.41-.59l7.78-7.78 2.81-2.81c.8-.78.8-2.07 0-2.86zM5.41 20L4 18.59l7.72-7.72 1.47 1.35L5.41 20z\"/>\n",
              "  </svg>\n",
              "      </button>\n",
              "      \n",
              "  <style>\n",
              "    .colab-df-container {\n",
              "      display:flex;\n",
              "      flex-wrap:wrap;\n",
              "      gap: 12px;\n",
              "    }\n",
              "\n",
              "    .colab-df-convert {\n",
              "      background-color: #E8F0FE;\n",
              "      border: none;\n",
              "      border-radius: 50%;\n",
              "      cursor: pointer;\n",
              "      display: none;\n",
              "      fill: #1967D2;\n",
              "      height: 32px;\n",
              "      padding: 0 0 0 0;\n",
              "      width: 32px;\n",
              "    }\n",
              "\n",
              "    .colab-df-convert:hover {\n",
              "      background-color: #E2EBFA;\n",
              "      box-shadow: 0px 1px 2px rgba(60, 64, 67, 0.3), 0px 1px 3px 1px rgba(60, 64, 67, 0.15);\n",
              "      fill: #174EA6;\n",
              "    }\n",
              "\n",
              "    [theme=dark] .colab-df-convert {\n",
              "      background-color: #3B4455;\n",
              "      fill: #D2E3FC;\n",
              "    }\n",
              "\n",
              "    [theme=dark] .colab-df-convert:hover {\n",
              "      background-color: #434B5C;\n",
              "      box-shadow: 0px 1px 3px 1px rgba(0, 0, 0, 0.15);\n",
              "      filter: drop-shadow(0px 1px 2px rgba(0, 0, 0, 0.3));\n",
              "      fill: #FFFFFF;\n",
              "    }\n",
              "  </style>\n",
              "\n",
              "      <script>\n",
              "        const buttonEl =\n",
              "          document.querySelector('#df-17d2c994-fd89-4f9a-a8c3-845d3f4ec8ce button.colab-df-convert');\n",
              "        buttonEl.style.display =\n",
              "          google.colab.kernel.accessAllowed ? 'block' : 'none';\n",
              "\n",
              "        async function convertToInteractive(key) {\n",
              "          const element = document.querySelector('#df-17d2c994-fd89-4f9a-a8c3-845d3f4ec8ce');\n",
              "          const dataTable =\n",
              "            await google.colab.kernel.invokeFunction('convertToInteractive',\n",
              "                                                     [key], {});\n",
              "          if (!dataTable) return;\n",
              "\n",
              "          const docLinkHtml = 'Like what you see? Visit the ' +\n",
              "            '<a target=\"_blank\" href=https://colab.research.google.com/notebooks/data_table.ipynb>data table notebook</a>'\n",
              "            + ' to learn more about interactive tables.';\n",
              "          element.innerHTML = '';\n",
              "          dataTable['output_type'] = 'display_data';\n",
              "          await google.colab.output.renderOutput(dataTable, element);\n",
              "          const docLink = document.createElement('div');\n",
              "          docLink.innerHTML = docLinkHtml;\n",
              "          element.appendChild(docLink);\n",
              "        }\n",
              "      </script>\n",
              "    </div>\n",
              "  </div>\n",
              "  "
            ]
          },
          "metadata": {},
          "execution_count": 200
        }
      ],
      "source": [
        "dfr_bow"
      ]
    },
    {
      "cell_type": "markdown",
      "id": "7ae11ff0",
      "metadata": {
        "id": "7ae11ff0"
      },
      "source": [
        "# ML ALGORITHMS"
      ]
    },
    {
      "cell_type": "code",
      "execution_count": 201,
      "id": "fcb79155",
      "metadata": {
        "id": "fcb79155"
      },
      "outputs": [],
      "source": [
        "from sklearn.linear_model import SGDClassifier\n",
        "from sklearn.linear_model import LogisticRegression\n",
        "from sklearn.linear_model import LogisticRegressionCV\n",
        "from sklearn.svm import LinearSVC\n",
        "from sklearn.ensemble import RandomForestClassifier\n",
        "\n",
        "from sklearn.model_selection import train_test_split\n",
        "from sklearn.metrics import confusion_matrix, accuracy_score\n",
        "from sklearn.preprocessing import MinMaxScaler"
      ]
    },
    {
      "cell_type": "code",
      "execution_count": 202,
      "id": "a9afe79d",
      "metadata": {
        "id": "a9afe79d"
      },
      "outputs": [],
      "source": [
        "sgd= SGDClassifier(n_jobs=-1, random_state=42, max_iter=200)\n",
        "lgr= LogisticRegression(random_state=42, max_iter=200)\n",
        "lgrcv= LogisticRegressionCV(cv=2, random_state=42, max_iter=1000)\n",
        "svm= LinearSVC(random_state=42, max_iter=200)\n",
        "rfc= RandomForestClassifier(random_state=42, n_jobs=-1, n_estimators=200)"
      ]
    },
    {
      "cell_type": "code",
      "execution_count": 203,
      "id": "18f3cc7a",
      "metadata": {
        "id": "18f3cc7a"
      },
      "outputs": [],
      "source": [
        "clf= {'SGD':sgd,'LGR':lgr,'LGR-CV':lgrcv,'SVM':svm, 'RFC':rfc}"
      ]
    },
    {
      "cell_type": "code",
      "execution_count": 204,
      "id": "41c1c941",
      "metadata": {
        "id": "41c1c941",
        "colab": {
          "base_uri": "https://localhost:8080/"
        },
        "outputId": "fc6bf836-1f8d-40c3-cfdd-65b98a0c02df"
      },
      "outputs": [
        {
          "output_type": "execute_result",
          "data": {
            "text/plain": [
              "dict_keys(['SGD', 'LGR', 'LGR-CV', 'SVM', 'RFC'])"
            ]
          },
          "metadata": {},
          "execution_count": 204
        }
      ],
      "source": [
        "clf.keys()"
      ]
    },
    {
      "cell_type": "code",
      "execution_count": 207,
      "id": "d8e1acdc",
      "metadata": {
        "id": "d8e1acdc"
      },
      "outputs": [],
      "source": [
        "def classify(X,y):\n",
        "    scaler= MinMaxScaler(feature_range=(0,1))\n",
        "    X=scaler.fit_transform(X)\n",
        "    \n",
        "    X_train, X_test, y_train, y_test= train_test_split(X,y,test_size=0.2, random_state=42, stratify=y)\n",
        "    \n",
        "    for key in clf.keys():\n",
        "        clf[key].fit(X_train, y_train)\n",
        "        y_pred = clf[key].predict(X_test)\n",
        "        ac= accuracy_score(y_test, y_pred)\n",
        "        print(key, \" ---->\", ac)"
      ]
    },
    {
      "cell_type": "code",
      "execution_count": 208,
      "id": "64b8d313",
      "metadata": {
        "id": "64b8d313",
        "colab": {
          "base_uri": "https://localhost:8080/"
        },
        "outputId": "988fe3a5-bd78-474f-9c96-4b9d257b194f"
      },
      "outputs": [
        {
          "output_type": "stream",
          "name": "stdout",
          "text": [
            "SGD  ----> 0.65875\n",
            "LGR  ----> 0.69375\n",
            "LGR-CV  ----> 0.70375\n",
            "SVM  ----> 0.67875\n",
            "RFC  ----> 0.675\n",
            "CPU times: user 7min 59s, sys: 3.9 s, total: 8min 3s\n",
            "Wall time: 4min 16s\n"
          ]
        }
      ],
      "source": [
        "%%time\n",
        "classify(dfr_bow, y)"
      ]
    },
    {
      "cell_type": "markdown",
      "id": "a9717c5a",
      "metadata": {
        "id": "a9717c5a"
      },
      "source": [
        "## Manual Feature"
      ]
    },
    {
      "cell_type": "code",
      "execution_count": 209,
      "id": "05982bda",
      "metadata": {
        "id": "05982bda",
        "colab": {
          "base_uri": "https://localhost:8080/",
          "height": 112
        },
        "outputId": "d79713d9-c7e4-47fa-dc68-5de3c7a9eea0"
      },
      "outputs": [
        {
          "output_type": "execute_result",
          "data": {
            "text/plain": [
              "   word_counts  char_counts  avg_word_len  stop_words_len  hashtags_counts  \\\n",
              "0            5           38           6.6               1                0   \n",
              "1            4           18           3.5               1                0   \n",
              "\n",
              "   mentions_counts  numerics_count  upper_counts  emails_count  urls_flag  \n",
              "0                0               0             0             0          0  \n",
              "1                0               0             0             0          0  "
            ],
            "text/html": [
              "\n",
              "  <div id=\"df-5618cf5d-cb3a-426d-b3aa-99b82b7e3f6b\">\n",
              "    <div class=\"colab-df-container\">\n",
              "      <div>\n",
              "<style scoped>\n",
              "    .dataframe tbody tr th:only-of-type {\n",
              "        vertical-align: middle;\n",
              "    }\n",
              "\n",
              "    .dataframe tbody tr th {\n",
              "        vertical-align: top;\n",
              "    }\n",
              "\n",
              "    .dataframe thead th {\n",
              "        text-align: right;\n",
              "    }\n",
              "</style>\n",
              "<table border=\"1\" class=\"dataframe\">\n",
              "  <thead>\n",
              "    <tr style=\"text-align: right;\">\n",
              "      <th></th>\n",
              "      <th>word_counts</th>\n",
              "      <th>char_counts</th>\n",
              "      <th>avg_word_len</th>\n",
              "      <th>stop_words_len</th>\n",
              "      <th>hashtags_counts</th>\n",
              "      <th>mentions_counts</th>\n",
              "      <th>numerics_count</th>\n",
              "      <th>upper_counts</th>\n",
              "      <th>emails_count</th>\n",
              "      <th>urls_flag</th>\n",
              "    </tr>\n",
              "  </thead>\n",
              "  <tbody>\n",
              "    <tr>\n",
              "      <th>0</th>\n",
              "      <td>5</td>\n",
              "      <td>38</td>\n",
              "      <td>6.6</td>\n",
              "      <td>1</td>\n",
              "      <td>0</td>\n",
              "      <td>0</td>\n",
              "      <td>0</td>\n",
              "      <td>0</td>\n",
              "      <td>0</td>\n",
              "      <td>0</td>\n",
              "    </tr>\n",
              "    <tr>\n",
              "      <th>1</th>\n",
              "      <td>4</td>\n",
              "      <td>18</td>\n",
              "      <td>3.5</td>\n",
              "      <td>1</td>\n",
              "      <td>0</td>\n",
              "      <td>0</td>\n",
              "      <td>0</td>\n",
              "      <td>0</td>\n",
              "      <td>0</td>\n",
              "      <td>0</td>\n",
              "    </tr>\n",
              "  </tbody>\n",
              "</table>\n",
              "</div>\n",
              "      <button class=\"colab-df-convert\" onclick=\"convertToInteractive('df-5618cf5d-cb3a-426d-b3aa-99b82b7e3f6b')\"\n",
              "              title=\"Convert this dataframe to an interactive table.\"\n",
              "              style=\"display:none;\">\n",
              "        \n",
              "  <svg xmlns=\"http://www.w3.org/2000/svg\" height=\"24px\"viewBox=\"0 0 24 24\"\n",
              "       width=\"24px\">\n",
              "    <path d=\"M0 0h24v24H0V0z\" fill=\"none\"/>\n",
              "    <path d=\"M18.56 5.44l.94 2.06.94-2.06 2.06-.94-2.06-.94-.94-2.06-.94 2.06-2.06.94zm-11 1L8.5 8.5l.94-2.06 2.06-.94-2.06-.94L8.5 2.5l-.94 2.06-2.06.94zm10 10l.94 2.06.94-2.06 2.06-.94-2.06-.94-.94-2.06-.94 2.06-2.06.94z\"/><path d=\"M17.41 7.96l-1.37-1.37c-.4-.4-.92-.59-1.43-.59-.52 0-1.04.2-1.43.59L10.3 9.45l-7.72 7.72c-.78.78-.78 2.05 0 2.83L4 21.41c.39.39.9.59 1.41.59.51 0 1.02-.2 1.41-.59l7.78-7.78 2.81-2.81c.8-.78.8-2.07 0-2.86zM5.41 20L4 18.59l7.72-7.72 1.47 1.35L5.41 20z\"/>\n",
              "  </svg>\n",
              "      </button>\n",
              "      \n",
              "  <style>\n",
              "    .colab-df-container {\n",
              "      display:flex;\n",
              "      flex-wrap:wrap;\n",
              "      gap: 12px;\n",
              "    }\n",
              "\n",
              "    .colab-df-convert {\n",
              "      background-color: #E8F0FE;\n",
              "      border: none;\n",
              "      border-radius: 50%;\n",
              "      cursor: pointer;\n",
              "      display: none;\n",
              "      fill: #1967D2;\n",
              "      height: 32px;\n",
              "      padding: 0 0 0 0;\n",
              "      width: 32px;\n",
              "    }\n",
              "\n",
              "    .colab-df-convert:hover {\n",
              "      background-color: #E2EBFA;\n",
              "      box-shadow: 0px 1px 2px rgba(60, 64, 67, 0.3), 0px 1px 3px 1px rgba(60, 64, 67, 0.15);\n",
              "      fill: #174EA6;\n",
              "    }\n",
              "\n",
              "    [theme=dark] .colab-df-convert {\n",
              "      background-color: #3B4455;\n",
              "      fill: #D2E3FC;\n",
              "    }\n",
              "\n",
              "    [theme=dark] .colab-df-convert:hover {\n",
              "      background-color: #434B5C;\n",
              "      box-shadow: 0px 1px 3px 1px rgba(0, 0, 0, 0.15);\n",
              "      filter: drop-shadow(0px 1px 2px rgba(0, 0, 0, 0.3));\n",
              "      fill: #FFFFFF;\n",
              "    }\n",
              "  </style>\n",
              "\n",
              "      <script>\n",
              "        const buttonEl =\n",
              "          document.querySelector('#df-5618cf5d-cb3a-426d-b3aa-99b82b7e3f6b button.colab-df-convert');\n",
              "        buttonEl.style.display =\n",
              "          google.colab.kernel.accessAllowed ? 'block' : 'none';\n",
              "\n",
              "        async function convertToInteractive(key) {\n",
              "          const element = document.querySelector('#df-5618cf5d-cb3a-426d-b3aa-99b82b7e3f6b');\n",
              "          const dataTable =\n",
              "            await google.colab.kernel.invokeFunction('convertToInteractive',\n",
              "                                                     [key], {});\n",
              "          if (!dataTable) return;\n",
              "\n",
              "          const docLinkHtml = 'Like what you see? Visit the ' +\n",
              "            '<a target=\"_blank\" href=https://colab.research.google.com/notebooks/data_table.ipynb>data table notebook</a>'\n",
              "            + ' to learn more about interactive tables.';\n",
              "          element.innerHTML = '';\n",
              "          dataTable['output_type'] = 'display_data';\n",
              "          await google.colab.output.renderOutput(dataTable, element);\n",
              "          const docLink = document.createElement('div');\n",
              "          docLink.innerHTML = docLinkHtml;\n",
              "          element.appendChild(docLink);\n",
              "        }\n",
              "      </script>\n",
              "    </div>\n",
              "  </div>\n",
              "  "
            ]
          },
          "metadata": {},
          "execution_count": 209
        }
      ],
      "source": [
        "dfr_feat.head(2)"
      ]
    },
    {
      "cell_type": "code",
      "execution_count": 210,
      "id": "be601b3a",
      "metadata": {
        "id": "be601b3a",
        "colab": {
          "base_uri": "https://localhost:8080/"
        },
        "outputId": "37915159-1f2f-48da-fda4-8caaf8a082d8"
      },
      "outputs": [
        {
          "output_type": "stream",
          "name": "stdout",
          "text": [
            "SGD  ----> 0.585\n",
            "LGR  ----> 0.59375\n",
            "LGR-CV  ----> 0.59875\n",
            "SVM  ----> 0.6025\n",
            "RFC  ----> 0.535\n",
            "CPU times: user 1.95 s, sys: 535 ms, total: 2.49 s\n",
            "Wall time: 1.54 s\n"
          ]
        }
      ],
      "source": [
        "%%time\n",
        "classify(dfr_feat,y)"
      ]
    },
    {
      "cell_type": "markdown",
      "id": "3548a757",
      "metadata": {
        "id": "3548a757"
      },
      "source": [
        "## Manual + BOW"
      ]
    },
    {
      "cell_type": "code",
      "execution_count": 211,
      "id": "c8a22fc4",
      "metadata": {
        "id": "c8a22fc4",
        "colab": {
          "base_uri": "https://localhost:8080/",
          "height": 488
        },
        "outputId": "62c3aa7c-bbbb-44c0-b12b-88b3d3dadb97"
      },
      "outputs": [
        {
          "output_type": "execute_result",
          "data": {
            "text/plain": [
              "      word_counts  char_counts  avg_word_len  stop_words_len  hashtags_counts  \\\n",
              "0               5           38      6.600000               1                0   \n",
              "1               4           18      3.500000               1                0   \n",
              "2              24          118      3.916667              15                0   \n",
              "3               8           39      3.875000               4                0   \n",
              "4              16           91      4.687500               8                0   \n",
              "...           ...          ...           ...             ...              ...   \n",
              "3995           11           81      6.090909               5                0   \n",
              "3996           13           73      4.615385               3                0   \n",
              "3997            7           47      5.714286               2                0   \n",
              "3998            2           21      9.500000               0                0   \n",
              "3999           15           94      5.266667               6                0   \n",
              "\n",
              "      mentions_counts  numerics_count  upper_counts  emails_count  urls_flag  \\\n",
              "0                   0               0             0             0          0   \n",
              "1                   0               0             0             0          0   \n",
              "2                   1               0             0             0          0   \n",
              "3                   0               0             0             0          0   \n",
              "4                   0               1             0             0          0   \n",
              "...               ...             ...           ...           ...        ...   \n",
              "3995                1               0             0             0          0   \n",
              "3996                1               0             1             0          0   \n",
              "3997                1               0             0             0          0   \n",
              "3998                1               0             1             0          0   \n",
              "3999                1               0             0             0          0   \n",
              "\n",
              "      ...  zip  zoebakes  zoebeck  zofie  zombie  zombieninja  zone  zoo  \\\n",
              "0     ...    0         0        0      0       0            0     0    0   \n",
              "1     ...    0         0        0      0       0            0     0    0   \n",
              "2     ...    0         0        0      0       0            0     0    0   \n",
              "3     ...    0         0        0      0       0            0     0    0   \n",
              "4     ...    0         0        0      0       0            0     0    0   \n",
              "...   ...  ...       ...      ...    ...     ...          ...   ...  ...   \n",
              "3995  ...    0         0        0      0       0            0     0    0   \n",
              "3996  ...    0         0        0      0       0            0     0    0   \n",
              "3997  ...    0         0        0      0       0            0     0    0   \n",
              "3998  ...    0         0        0      0       0            0     0    0   \n",
              "3999  ...    0         0        0      0       0            0     0    0   \n",
              "\n",
              "      zutradio  zz  \n",
              "0            0   0  \n",
              "1            0   0  \n",
              "2            0   0  \n",
              "3            0   0  \n",
              "4            0   0  \n",
              "...        ...  ..  \n",
              "3995         0   0  \n",
              "3996         0   0  \n",
              "3997         0   0  \n",
              "3998         0   0  \n",
              "3999         0   0  \n",
              "\n",
              "[4000 rows x 9719 columns]"
            ],
            "text/html": [
              "\n",
              "  <div id=\"df-bf81bc9f-d13a-415f-993f-48d6a006c620\">\n",
              "    <div class=\"colab-df-container\">\n",
              "      <div>\n",
              "<style scoped>\n",
              "    .dataframe tbody tr th:only-of-type {\n",
              "        vertical-align: middle;\n",
              "    }\n",
              "\n",
              "    .dataframe tbody tr th {\n",
              "        vertical-align: top;\n",
              "    }\n",
              "\n",
              "    .dataframe thead th {\n",
              "        text-align: right;\n",
              "    }\n",
              "</style>\n",
              "<table border=\"1\" class=\"dataframe\">\n",
              "  <thead>\n",
              "    <tr style=\"text-align: right;\">\n",
              "      <th></th>\n",
              "      <th>word_counts</th>\n",
              "      <th>char_counts</th>\n",
              "      <th>avg_word_len</th>\n",
              "      <th>stop_words_len</th>\n",
              "      <th>hashtags_counts</th>\n",
              "      <th>mentions_counts</th>\n",
              "      <th>numerics_count</th>\n",
              "      <th>upper_counts</th>\n",
              "      <th>emails_count</th>\n",
              "      <th>urls_flag</th>\n",
              "      <th>...</th>\n",
              "      <th>zip</th>\n",
              "      <th>zoebakes</th>\n",
              "      <th>zoebeck</th>\n",
              "      <th>zofie</th>\n",
              "      <th>zombie</th>\n",
              "      <th>zombieninja</th>\n",
              "      <th>zone</th>\n",
              "      <th>zoo</th>\n",
              "      <th>zutradio</th>\n",
              "      <th>zz</th>\n",
              "    </tr>\n",
              "  </thead>\n",
              "  <tbody>\n",
              "    <tr>\n",
              "      <th>0</th>\n",
              "      <td>5</td>\n",
              "      <td>38</td>\n",
              "      <td>6.600000</td>\n",
              "      <td>1</td>\n",
              "      <td>0</td>\n",
              "      <td>0</td>\n",
              "      <td>0</td>\n",
              "      <td>0</td>\n",
              "      <td>0</td>\n",
              "      <td>0</td>\n",
              "      <td>...</td>\n",
              "      <td>0</td>\n",
              "      <td>0</td>\n",
              "      <td>0</td>\n",
              "      <td>0</td>\n",
              "      <td>0</td>\n",
              "      <td>0</td>\n",
              "      <td>0</td>\n",
              "      <td>0</td>\n",
              "      <td>0</td>\n",
              "      <td>0</td>\n",
              "    </tr>\n",
              "    <tr>\n",
              "      <th>1</th>\n",
              "      <td>4</td>\n",
              "      <td>18</td>\n",
              "      <td>3.500000</td>\n",
              "      <td>1</td>\n",
              "      <td>0</td>\n",
              "      <td>0</td>\n",
              "      <td>0</td>\n",
              "      <td>0</td>\n",
              "      <td>0</td>\n",
              "      <td>0</td>\n",
              "      <td>...</td>\n",
              "      <td>0</td>\n",
              "      <td>0</td>\n",
              "      <td>0</td>\n",
              "      <td>0</td>\n",
              "      <td>0</td>\n",
              "      <td>0</td>\n",
              "      <td>0</td>\n",
              "      <td>0</td>\n",
              "      <td>0</td>\n",
              "      <td>0</td>\n",
              "    </tr>\n",
              "    <tr>\n",
              "      <th>2</th>\n",
              "      <td>24</td>\n",
              "      <td>118</td>\n",
              "      <td>3.916667</td>\n",
              "      <td>15</td>\n",
              "      <td>0</td>\n",
              "      <td>1</td>\n",
              "      <td>0</td>\n",
              "      <td>0</td>\n",
              "      <td>0</td>\n",
              "      <td>0</td>\n",
              "      <td>...</td>\n",
              "      <td>0</td>\n",
              "      <td>0</td>\n",
              "      <td>0</td>\n",
              "      <td>0</td>\n",
              "      <td>0</td>\n",
              "      <td>0</td>\n",
              "      <td>0</td>\n",
              "      <td>0</td>\n",
              "      <td>0</td>\n",
              "      <td>0</td>\n",
              "    </tr>\n",
              "    <tr>\n",
              "      <th>3</th>\n",
              "      <td>8</td>\n",
              "      <td>39</td>\n",
              "      <td>3.875000</td>\n",
              "      <td>4</td>\n",
              "      <td>0</td>\n",
              "      <td>0</td>\n",
              "      <td>0</td>\n",
              "      <td>0</td>\n",
              "      <td>0</td>\n",
              "      <td>0</td>\n",
              "      <td>...</td>\n",
              "      <td>0</td>\n",
              "      <td>0</td>\n",
              "      <td>0</td>\n",
              "      <td>0</td>\n",
              "      <td>0</td>\n",
              "      <td>0</td>\n",
              "      <td>0</td>\n",
              "      <td>0</td>\n",
              "      <td>0</td>\n",
              "      <td>0</td>\n",
              "    </tr>\n",
              "    <tr>\n",
              "      <th>4</th>\n",
              "      <td>16</td>\n",
              "      <td>91</td>\n",
              "      <td>4.687500</td>\n",
              "      <td>8</td>\n",
              "      <td>0</td>\n",
              "      <td>0</td>\n",
              "      <td>1</td>\n",
              "      <td>0</td>\n",
              "      <td>0</td>\n",
              "      <td>0</td>\n",
              "      <td>...</td>\n",
              "      <td>0</td>\n",
              "      <td>0</td>\n",
              "      <td>0</td>\n",
              "      <td>0</td>\n",
              "      <td>0</td>\n",
              "      <td>0</td>\n",
              "      <td>0</td>\n",
              "      <td>0</td>\n",
              "      <td>0</td>\n",
              "      <td>0</td>\n",
              "    </tr>\n",
              "    <tr>\n",
              "      <th>...</th>\n",
              "      <td>...</td>\n",
              "      <td>...</td>\n",
              "      <td>...</td>\n",
              "      <td>...</td>\n",
              "      <td>...</td>\n",
              "      <td>...</td>\n",
              "      <td>...</td>\n",
              "      <td>...</td>\n",
              "      <td>...</td>\n",
              "      <td>...</td>\n",
              "      <td>...</td>\n",
              "      <td>...</td>\n",
              "      <td>...</td>\n",
              "      <td>...</td>\n",
              "      <td>...</td>\n",
              "      <td>...</td>\n",
              "      <td>...</td>\n",
              "      <td>...</td>\n",
              "      <td>...</td>\n",
              "      <td>...</td>\n",
              "      <td>...</td>\n",
              "    </tr>\n",
              "    <tr>\n",
              "      <th>3995</th>\n",
              "      <td>11</td>\n",
              "      <td>81</td>\n",
              "      <td>6.090909</td>\n",
              "      <td>5</td>\n",
              "      <td>0</td>\n",
              "      <td>1</td>\n",
              "      <td>0</td>\n",
              "      <td>0</td>\n",
              "      <td>0</td>\n",
              "      <td>0</td>\n",
              "      <td>...</td>\n",
              "      <td>0</td>\n",
              "      <td>0</td>\n",
              "      <td>0</td>\n",
              "      <td>0</td>\n",
              "      <td>0</td>\n",
              "      <td>0</td>\n",
              "      <td>0</td>\n",
              "      <td>0</td>\n",
              "      <td>0</td>\n",
              "      <td>0</td>\n",
              "    </tr>\n",
              "    <tr>\n",
              "      <th>3996</th>\n",
              "      <td>13</td>\n",
              "      <td>73</td>\n",
              "      <td>4.615385</td>\n",
              "      <td>3</td>\n",
              "      <td>0</td>\n",
              "      <td>1</td>\n",
              "      <td>0</td>\n",
              "      <td>1</td>\n",
              "      <td>0</td>\n",
              "      <td>0</td>\n",
              "      <td>...</td>\n",
              "      <td>0</td>\n",
              "      <td>0</td>\n",
              "      <td>0</td>\n",
              "      <td>0</td>\n",
              "      <td>0</td>\n",
              "      <td>0</td>\n",
              "      <td>0</td>\n",
              "      <td>0</td>\n",
              "      <td>0</td>\n",
              "      <td>0</td>\n",
              "    </tr>\n",
              "    <tr>\n",
              "      <th>3997</th>\n",
              "      <td>7</td>\n",
              "      <td>47</td>\n",
              "      <td>5.714286</td>\n",
              "      <td>2</td>\n",
              "      <td>0</td>\n",
              "      <td>1</td>\n",
              "      <td>0</td>\n",
              "      <td>0</td>\n",
              "      <td>0</td>\n",
              "      <td>0</td>\n",
              "      <td>...</td>\n",
              "      <td>0</td>\n",
              "      <td>0</td>\n",
              "      <td>0</td>\n",
              "      <td>0</td>\n",
              "      <td>0</td>\n",
              "      <td>0</td>\n",
              "      <td>0</td>\n",
              "      <td>0</td>\n",
              "      <td>0</td>\n",
              "      <td>0</td>\n",
              "    </tr>\n",
              "    <tr>\n",
              "      <th>3998</th>\n",
              "      <td>2</td>\n",
              "      <td>21</td>\n",
              "      <td>9.500000</td>\n",
              "      <td>0</td>\n",
              "      <td>0</td>\n",
              "      <td>1</td>\n",
              "      <td>0</td>\n",
              "      <td>1</td>\n",
              "      <td>0</td>\n",
              "      <td>0</td>\n",
              "      <td>...</td>\n",
              "      <td>0</td>\n",
              "      <td>0</td>\n",
              "      <td>0</td>\n",
              "      <td>0</td>\n",
              "      <td>0</td>\n",
              "      <td>0</td>\n",
              "      <td>0</td>\n",
              "      <td>0</td>\n",
              "      <td>0</td>\n",
              "      <td>0</td>\n",
              "    </tr>\n",
              "    <tr>\n",
              "      <th>3999</th>\n",
              "      <td>15</td>\n",
              "      <td>94</td>\n",
              "      <td>5.266667</td>\n",
              "      <td>6</td>\n",
              "      <td>0</td>\n",
              "      <td>1</td>\n",
              "      <td>0</td>\n",
              "      <td>0</td>\n",
              "      <td>0</td>\n",
              "      <td>0</td>\n",
              "      <td>...</td>\n",
              "      <td>0</td>\n",
              "      <td>0</td>\n",
              "      <td>0</td>\n",
              "      <td>0</td>\n",
              "      <td>0</td>\n",
              "      <td>0</td>\n",
              "      <td>0</td>\n",
              "      <td>0</td>\n",
              "      <td>0</td>\n",
              "      <td>0</td>\n",
              "    </tr>\n",
              "  </tbody>\n",
              "</table>\n",
              "<p>4000 rows × 9719 columns</p>\n",
              "</div>\n",
              "      <button class=\"colab-df-convert\" onclick=\"convertToInteractive('df-bf81bc9f-d13a-415f-993f-48d6a006c620')\"\n",
              "              title=\"Convert this dataframe to an interactive table.\"\n",
              "              style=\"display:none;\">\n",
              "        \n",
              "  <svg xmlns=\"http://www.w3.org/2000/svg\" height=\"24px\"viewBox=\"0 0 24 24\"\n",
              "       width=\"24px\">\n",
              "    <path d=\"M0 0h24v24H0V0z\" fill=\"none\"/>\n",
              "    <path d=\"M18.56 5.44l.94 2.06.94-2.06 2.06-.94-2.06-.94-.94-2.06-.94 2.06-2.06.94zm-11 1L8.5 8.5l.94-2.06 2.06-.94-2.06-.94L8.5 2.5l-.94 2.06-2.06.94zm10 10l.94 2.06.94-2.06 2.06-.94-2.06-.94-.94-2.06-.94 2.06-2.06.94z\"/><path d=\"M17.41 7.96l-1.37-1.37c-.4-.4-.92-.59-1.43-.59-.52 0-1.04.2-1.43.59L10.3 9.45l-7.72 7.72c-.78.78-.78 2.05 0 2.83L4 21.41c.39.39.9.59 1.41.59.51 0 1.02-.2 1.41-.59l7.78-7.78 2.81-2.81c.8-.78.8-2.07 0-2.86zM5.41 20L4 18.59l7.72-7.72 1.47 1.35L5.41 20z\"/>\n",
              "  </svg>\n",
              "      </button>\n",
              "      \n",
              "  <style>\n",
              "    .colab-df-container {\n",
              "      display:flex;\n",
              "      flex-wrap:wrap;\n",
              "      gap: 12px;\n",
              "    }\n",
              "\n",
              "    .colab-df-convert {\n",
              "      background-color: #E8F0FE;\n",
              "      border: none;\n",
              "      border-radius: 50%;\n",
              "      cursor: pointer;\n",
              "      display: none;\n",
              "      fill: #1967D2;\n",
              "      height: 32px;\n",
              "      padding: 0 0 0 0;\n",
              "      width: 32px;\n",
              "    }\n",
              "\n",
              "    .colab-df-convert:hover {\n",
              "      background-color: #E2EBFA;\n",
              "      box-shadow: 0px 1px 2px rgba(60, 64, 67, 0.3), 0px 1px 3px 1px rgba(60, 64, 67, 0.15);\n",
              "      fill: #174EA6;\n",
              "    }\n",
              "\n",
              "    [theme=dark] .colab-df-convert {\n",
              "      background-color: #3B4455;\n",
              "      fill: #D2E3FC;\n",
              "    }\n",
              "\n",
              "    [theme=dark] .colab-df-convert:hover {\n",
              "      background-color: #434B5C;\n",
              "      box-shadow: 0px 1px 3px 1px rgba(0, 0, 0, 0.15);\n",
              "      filter: drop-shadow(0px 1px 2px rgba(0, 0, 0, 0.3));\n",
              "      fill: #FFFFFF;\n",
              "    }\n",
              "  </style>\n",
              "\n",
              "      <script>\n",
              "        const buttonEl =\n",
              "          document.querySelector('#df-bf81bc9f-d13a-415f-993f-48d6a006c620 button.colab-df-convert');\n",
              "        buttonEl.style.display =\n",
              "          google.colab.kernel.accessAllowed ? 'block' : 'none';\n",
              "\n",
              "        async function convertToInteractive(key) {\n",
              "          const element = document.querySelector('#df-bf81bc9f-d13a-415f-993f-48d6a006c620');\n",
              "          const dataTable =\n",
              "            await google.colab.kernel.invokeFunction('convertToInteractive',\n",
              "                                                     [key], {});\n",
              "          if (!dataTable) return;\n",
              "\n",
              "          const docLinkHtml = 'Like what you see? Visit the ' +\n",
              "            '<a target=\"_blank\" href=https://colab.research.google.com/notebooks/data_table.ipynb>data table notebook</a>'\n",
              "            + ' to learn more about interactive tables.';\n",
              "          element.innerHTML = '';\n",
              "          dataTable['output_type'] = 'display_data';\n",
              "          await google.colab.output.renderOutput(dataTable, element);\n",
              "          const docLink = document.createElement('div');\n",
              "          docLink.innerHTML = docLinkHtml;\n",
              "          element.appendChild(docLink);\n",
              "        }\n",
              "      </script>\n",
              "    </div>\n",
              "  </div>\n",
              "  "
            ]
          },
          "metadata": {},
          "execution_count": 211
        }
      ],
      "source": [
        "X= dfr_feat.join(dfr_bow)\n",
        "X"
      ]
    },
    {
      "cell_type": "code",
      "execution_count": 212,
      "id": "0727f158",
      "metadata": {
        "id": "0727f158",
        "colab": {
          "base_uri": "https://localhost:8080/"
        },
        "outputId": "347f0344-1d5c-4b9f-f9d9-f8fcba62d497"
      },
      "outputs": [
        {
          "output_type": "stream",
          "name": "stdout",
          "text": [
            "SGD  ----> 0.67125\n",
            "LGR  ----> 0.69125\n",
            "LGR-CV  ----> 0.68875\n",
            "SVM  ----> 0.67375\n",
            "RFC  ----> 0.66125\n",
            "CPU times: user 2min 14s, sys: 4.74 s, total: 2min 19s\n",
            "Wall time: 1min 13s\n"
          ]
        }
      ],
      "source": [
        "%%time\n",
        "classify(X,y)"
      ]
    },
    {
      "cell_type": "markdown",
      "id": "e9d4922a",
      "metadata": {
        "id": "e9d4922a"
      },
      "source": [
        "## TFIDF"
      ]
    },
    {
      "cell_type": "code",
      "execution_count": 213,
      "id": "1948783d",
      "metadata": {
        "id": "1948783d"
      },
      "outputs": [],
      "source": [
        "from sklearn.feature_extraction.text import TfidfVectorizer"
      ]
    },
    {
      "cell_type": "code",
      "execution_count": 214,
      "id": "e42357f8",
      "metadata": {
        "id": "e42357f8",
        "colab": {
          "base_uri": "https://localhost:8080/"
        },
        "outputId": "6d83a8da-4249-41bc-8b88-96e7576286bf"
      },
      "outputs": [
        {
          "output_type": "execute_result",
          "data": {
            "text/plain": [
              "(4000, 13)"
            ]
          },
          "metadata": {},
          "execution_count": 214
        }
      ],
      "source": [
        "dfr.shape"
      ]
    },
    {
      "cell_type": "code",
      "execution_count": 215,
      "id": "a4b8cbd9",
      "metadata": {
        "id": "a4b8cbd9"
      },
      "outputs": [],
      "source": [
        "tfidf= TfidfVectorizer()\n",
        "X= tfidf.fit_transform(dfr['tweets'])"
      ]
    },
    {
      "cell_type": "code",
      "execution_count": 216,
      "id": "d2460a77",
      "metadata": {
        "id": "d2460a77",
        "colab": {
          "base_uri": "https://localhost:8080/"
        },
        "outputId": "3f9d8cf0-3d43-4b48-a4b4-90761244764d"
      },
      "outputs": [
        {
          "output_type": "stream",
          "name": "stdout",
          "text": [
            "SGD  ----> 0.6525\n",
            "LGR  ----> 0.69875\n",
            "LGR-CV  ----> 0.71\n",
            "SVM  ----> 0.67\n",
            "RFC  ----> 0.685\n",
            "CPU times: user 3min 36s, sys: 2.78 s, total: 3min 38s\n",
            "Wall time: 1min 53s\n"
          ]
        }
      ],
      "source": [
        "%%time\n",
        "classify(pd.DataFrame(X.toarray()),y)"
      ]
    },
    {
      "cell_type": "markdown",
      "id": "9153f6a9",
      "metadata": {
        "id": "9153f6a9"
      },
      "source": [
        "## Word2Vec"
      ]
    },
    {
      "cell_type": "code",
      "execution_count": 217,
      "id": "9ce95b10",
      "metadata": {
        "id": "9ce95b10"
      },
      "outputs": [],
      "source": [
        "def get_vec(x):\n",
        "    doc= nlp(x)\n",
        "    return doc.vector.reshape(1,-1)"
      ]
    },
    {
      "cell_type": "code",
      "execution_count": 218,
      "id": "842a8099",
      "metadata": {
        "id": "842a8099",
        "colab": {
          "base_uri": "https://localhost:8080/"
        },
        "outputId": "18bae399-23dd-4135-a154-1b3d8aa04d43"
      },
      "outputs": [
        {
          "output_type": "stream",
          "name": "stdout",
          "text": [
            "CPU times: user 34.7 s, sys: 204 ms, total: 34.9 s\n",
            "Wall time: 34.7 s\n"
          ]
        }
      ],
      "source": [
        "%%time\n",
        "dfr['vec']= dfr['tweets'].apply(lambda x: get_vec(x))"
      ]
    },
    {
      "cell_type": "code",
      "execution_count": 221,
      "id": "7c591484",
      "metadata": {
        "id": "7c591484",
        "colab": {
          "base_uri": "https://localhost:8080/",
          "height": 217
        },
        "outputId": "374389eb-00db-4b12-9768-7aebdeecadb6"
      },
      "outputs": [
        {
          "output_type": "error",
          "ename": "ValueError",
          "evalue": "ignored",
          "traceback": [
            "\u001b[0;31m---------------------------------------------------------------------------\u001b[0m",
            "\u001b[0;31mValueError\u001b[0m                                Traceback (most recent call last)",
            "\u001b[0;32m<ipython-input-221-27d7585aa92c>\u001b[0m in \u001b[0;36m<module>\u001b[0;34m()\u001b[0m\n\u001b[0;32m----> 1\u001b[0;31m \u001b[0mX\u001b[0m\u001b[0;34m=\u001b[0m \u001b[0mnp\u001b[0m\u001b[0;34m.\u001b[0m\u001b[0mconcatenate\u001b[0m\u001b[0;34m(\u001b[0m\u001b[0mdfr\u001b[0m\u001b[0;34m[\u001b[0m\u001b[0;34m'vec'\u001b[0m\u001b[0;34m]\u001b[0m\u001b[0;34m.\u001b[0m\u001b[0mto_numpy\u001b[0m\u001b[0;34m(\u001b[0m\u001b[0;34m)\u001b[0m\u001b[0;34m,\u001b[0m\u001b[0maxis\u001b[0m\u001b[0;34m=\u001b[0m\u001b[0;36m0\u001b[0m\u001b[0;34m)\u001b[0m\u001b[0;34m\u001b[0m\u001b[0;34m\u001b[0m\u001b[0m\n\u001b[0m",
            "\u001b[0;32m<__array_function__ internals>\u001b[0m in \u001b[0;36mconcatenate\u001b[0;34m(*args, **kwargs)\u001b[0m\n",
            "\u001b[0;31mValueError\u001b[0m: all the input array dimensions for the concatenation axis must match exactly, but along dimension 1, the array at index 0 has size 96 and the array at index 133 has size 0"
          ]
        }
      ],
      "source": [
        "X= np.concatenate(dfr['vec'].to_numpy(),axis=0)"
      ]
    },
    {
      "cell_type": "code",
      "execution_count": null,
      "id": "caf9bcf0",
      "metadata": {
        "id": "caf9bcf0"
      },
      "outputs": [],
      "source": [
        "X.shape"
      ]
    },
    {
      "cell_type": "code",
      "execution_count": null,
      "id": "4aadfbfa",
      "metadata": {
        "id": "4aadfbfa"
      },
      "outputs": [],
      "source": [
        "classify(pd.DataFrame(X),y)"
      ]
    },
    {
      "cell_type": "code",
      "execution_count": null,
      "id": "fa8fd701",
      "metadata": {
        "id": "fa8fd701"
      },
      "outputs": [],
      "source": [
        "# Prediction\n",
        "def predict_w2v(x):\n",
        "    for key in clf.keys():\n",
        "        y_pred= clf[key].predict(get_vec(x))\n",
        "        print(key, \"--->\", y_pred)"
      ]
    },
    {
      "cell_type": "code",
      "execution_count": null,
      "id": "a43dd18e",
      "metadata": {
        "id": "a43dd18e"
      },
      "outputs": [],
      "source": [
        "predict_w2v(\"Hi, thanks for watching this video. please like and subscribe\")"
      ]
    },
    {
      "cell_type": "code",
      "execution_count": null,
      "id": "be118ac7",
      "metadata": {
        "id": "be118ac7"
      },
      "outputs": [],
      "source": [
        "predict_w2v(\"please let me know if you want more videos\")"
      ]
    },
    {
      "cell_type": "code",
      "execution_count": null,
      "id": "5aec1cb1",
      "metadata": {
        "id": "5aec1cb1"
      },
      "outputs": [],
      "source": [
        ""
      ]
    }
  ],
  "metadata": {
    "kernelspec": {
      "display_name": "Python 3 (ipykernel)",
      "language": "python",
      "name": "python3"
    },
    "language_info": {
      "codemirror_mode": {
        "name": "ipython",
        "version": 3
      },
      "file_extension": ".py",
      "mimetype": "text/x-python",
      "name": "python",
      "nbconvert_exporter": "python",
      "pygments_lexer": "ipython3",
      "version": "3.9.7"
    },
    "colab": {
      "name": "Complete-Text-processing.ipynb",
      "provenance": [],
      "collapsed_sections": []
    },
    "accelerator": "GPU"
  },
  "nbformat": 4,
  "nbformat_minor": 5
}