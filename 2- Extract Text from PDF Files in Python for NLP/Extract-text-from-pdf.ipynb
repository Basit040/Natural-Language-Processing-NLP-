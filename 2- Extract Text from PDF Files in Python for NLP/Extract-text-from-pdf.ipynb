{
 "cells": [
  {
   "cell_type": "code",
   "execution_count": 1,
   "id": "ec06457a",
   "metadata": {},
   "outputs": [],
   "source": [
    "import PyPDF2 as pdf"
   ]
  },
  {
   "cell_type": "code",
   "execution_count": 2,
   "id": "9f487f2a",
   "metadata": {},
   "outputs": [],
   "source": [
    "file = open(\"nlp.pdf\", 'rb')\n",
    "# rb= read binary"
   ]
  },
  {
   "cell_type": "code",
   "execution_count": 3,
   "id": "53f2885a",
   "metadata": {},
   "outputs": [
    {
     "data": {
      "text/plain": [
       "<_io.BufferedReader name='nlp.pdf'>"
      ]
     },
     "execution_count": 3,
     "metadata": {},
     "output_type": "execute_result"
    }
   ],
   "source": [
    "file"
   ]
  },
  {
   "cell_type": "code",
   "execution_count": 4,
   "id": "92d4d0ea",
   "metadata": {},
   "outputs": [],
   "source": [
    "pdf_reader= pdf.PdfFileReader(file)"
   ]
  },
  {
   "cell_type": "code",
   "execution_count": 5,
   "id": "aad86e94",
   "metadata": {},
   "outputs": [
    {
     "data": {
      "text/plain": [
       "<PyPDF2.pdf.PdfFileReader at 0x2608e245550>"
      ]
     },
     "execution_count": 5,
     "metadata": {},
     "output_type": "execute_result"
    }
   ],
   "source": [
    "pdf_reader"
   ]
  },
  {
   "cell_type": "code",
   "execution_count": 6,
   "id": "e1c3e2f1",
   "metadata": {},
   "outputs": [
    {
     "data": {
      "text/plain": [
       "False"
      ]
     },
     "execution_count": 6,
     "metadata": {},
     "output_type": "execute_result"
    }
   ],
   "source": [
    "# to know if file is encrpted\n",
    "pdf_reader.getIsEncrypted()"
   ]
  },
  {
   "cell_type": "code",
   "execution_count": 7,
   "id": "75c70f84",
   "metadata": {},
   "outputs": [
    {
     "data": {
      "text/plain": [
       "109"
      ]
     },
     "execution_count": 7,
     "metadata": {},
     "output_type": "execute_result"
    }
   ],
   "source": [
    "# Number of pages\n",
    "pdf_reader.getNumPages()"
   ]
  },
  {
   "cell_type": "code",
   "execution_count": 8,
   "id": "f557a1c8",
   "metadata": {},
   "outputs": [],
   "source": [
    "# Get Page2, as page 1 has an image\n",
    "page2= pdf_reader.getPage(1)\n"
   ]
  },
  {
   "cell_type": "code",
   "execution_count": 9,
   "id": "d053e05a",
   "metadata": {},
   "outputs": [
    {
     "data": {
      "text/plain": [
       "'Natural Language Processing Toolkit       \\n \\n \\n \\n \\nii\\n \\n \\n\\n \\nLanguage is a method of communication with the help of which we can speak, read and \\nwrite. Natural Language Processing (NLP) is the sub field of computer science especially \\nArtificial Intelligence (AI) that is concerned about enabling \\ncomputers to understand and \\nprocess human language. \\nWe have various open\\n-\\nsource NLP tools but \\nNLTK \\n(Natural \\nLanguage Toolkit) \\nscores very high when it comes to the ease of use and explanation of \\nthe concept. The learning curve of Python is very fast and NL\\nTK is written in Python so \\nNLTK is also having very good learning kit. NLTK has incorporated most of the tasks like \\ntokenization, stemming, Lemmatization, Punctuation, Character Count, \\nand \\nWord count. \\nIt is very elegant and easy to work with. \\n \\n \\n\\n \\nTh\\nis tutorial will be useful for graduates, post\\n-\\ngraduates, and research students who either \\nhave an interest \\nin \\nNLP \\nor have this subject as a part of their curriculum. The reader can \\nbe a beginner or an advanced learner. \\n \\n \\n\\n \\nThe reader must have\\n \\nbasic knowledge about artificial intelligence. He/she should also be \\naware \\nof\\n \\nbasic terminologies used in English grammar and Python programming concepts.\\n \\n \\n \\n\\n\\n \\n\\n \\nCopyright 201\\n9\\n \\nby Tutorials Point (I) Pvt. Ltd. \\n \\nAll the content and grap\\nhics published in this e\\n-\\nbook are the property of Tutorials Point (I) \\nPvt. Ltd.  The user of this e\\n-\\nbook is prohibited to reuse, retain, copy, distribute or republish \\nany contents or a part of contents of this e\\n-\\nbook in any manner without written consent \\no\\nf the publisher.  \\n \\nWe strive to update the contents of our website and tutorials as timely and as precisely as \\npossible, however, the contents may contain inaccuracies or errors. Tutorials Point (I) Pvt. \\nLtd. provides no guarantee regarding the accuracy, t\\nimeliness or completeness of our \\nwebsite or its contents including this tutorial. If you discover any errors on our website or \\nin this tutorial, please notify us at \\ncontact@tutorialspoint.com\\n \\n \\n \\n \\n'"
      ]
     },
     "execution_count": 9,
     "metadata": {},
     "output_type": "execute_result"
    }
   ],
   "source": [
    "page2.extractText()"
   ]
  },
  {
   "cell_type": "code",
   "execution_count": 10,
   "id": "ea16e889",
   "metadata": {},
   "outputs": [],
   "source": [
    "page3=pdf_reader.getPage(2)"
   ]
  },
  {
   "cell_type": "code",
   "execution_count": 11,
   "id": "77e7be23",
   "metadata": {},
   "outputs": [
    {
     "data": {
      "text/plain": [
       "'Natural Language Processing Toolkit       \\n \\n \\n \\n \\niii\\n \\n \\n\\n\\n\\n \\nAbout the Tutorial\\n \\n................................\\n................................\\n................................\\n................................\\n...........\\n \\nii\\n \\nAudience\\n \\n................................\\n................................\\n................................\\n................................\\n..........................\\n \\nii\\n \\nPrerequisites\\n \\n................................\\n................................\\n................................\\n................................\\n....................\\n \\nii\\n \\nCopyright & Disclaimer\\n \\n................................\\n................................\\n................................\\n................................\\n....\\n \\nii\\n \\nTable of Contents\\n \\n................................\\n................................\\n................................\\n................................\\n...........\\n \\niii\\n \\n1.\\n \\nNLTK \\n\\n \\nInt\\nroduction\\n................................\\n................................\\n................................\\n................................\\n.\\n \\n1\\n \\nWhat is Natural Language Processing (NLP)?\\n \\n................................\\n................................\\n................................\\n..\\n \\n1\\n \\nHow does it work?\\n \\n................................\\n................................\\n................................\\n................................\\n...........\\n \\n1\\n \\nComponents of NLP\\n \\n................................\\n................................\\n................................\\n................................\\n.........\\n \\n2\\n \\nExamples of NLP Applications\\n \\n................................\\n................................\\n................................\\n.........................\\n \\n3\\n \\nImplementing NLP\\n \\n................................\\n................................\\n................................\\n................................\\n...........\\n \\n4\\n \\nNatural Language Tool Kit (NLTK)\\n \\n................................\\n................................\\n................................\\n....................\\n \\n5\\n \\n2.\\n \\n\\n \\n................................\\n................................\\n................................\\n............................\\n \\n6\\n \\nInstalling NLTK\\n \\n................................\\n................................\\n................................\\n................................\\n.................\\n \\n6\\n \\n\\n \\n................................\\n................................\\n................................\\n....\\n \\n8\\n \\nHow to run NLTK script?\\n \\n................................\\n................................\\n................................\\n................................\\n..\\n \\n9\\n \\n3.\\n \\nNLTK \\n\\n \\nTokenizing Text\\n \\n................................\\n................................\\n................................\\n..........................\\n \\n11\\n \\nWhat is Tokenizing?\\n \\n................................\\n................................\\n................................\\n................................\\n.......\\n \\n11\\n \\nNLTK package\\n \\n................................\\n................................\\n................................\\n................................\\n................\\n \\n11\\n \\nTokenizing text into sentences\\n \\n................................\\n................................\\n................................\\n......................\\n \\n13\\n \\nSentence tokenization using regular expressions\\n \\n................................\\n................................\\n.........................\\n \\n14\\n \\n4.\\n \\nNLTK \\n\\n \\nT\\nraining Tokenizer & Filtering Stopwords\\n \\n................................\\n................................\\n..................\\n \\n16\\n \\nWhy to train own sentence tokenizer?\\n \\n................................\\n................................\\n................................\\n.........\\n \\n16\\n \\nWhat are stopwords?\\n \\n................................\\n................................\\n................................\\n................................\\n....\\n \\n18\\n \\n5.\\n \\n\\n \\n................................\\n................................\\n................................\\n....\\n \\n20\\n \\nWhat is Wordnet?\\n \\n................................\\n................................\\n................................\\n................................\\n.........\\n \\n20\\n \\n'"
      ]
     },
     "execution_count": 11,
     "metadata": {},
     "output_type": "execute_result"
    }
   ],
   "source": [
    "page3.extractText()"
   ]
  },
  {
   "cell_type": "markdown",
   "id": "a92616ff",
   "metadata": {},
   "source": [
    "# Append write or merge PDFs"
   ]
  },
  {
   "cell_type": "code",
   "execution_count": 12,
   "id": "65114562",
   "metadata": {},
   "outputs": [],
   "source": [
    "pdf_writer= pdf.PdfFileWriter()"
   ]
  },
  {
   "cell_type": "code",
   "execution_count": 13,
   "id": "9707667a",
   "metadata": {},
   "outputs": [],
   "source": [
    "pdf_writer.addPage(page2)"
   ]
  },
  {
   "cell_type": "code",
   "execution_count": 14,
   "id": "08c6bea6",
   "metadata": {},
   "outputs": [],
   "source": [
    "output= open(\"Pages.pdf\",'wb')\n",
    "pdf_writer.write(output)\n",
    "output.close()"
   ]
  },
  {
   "cell_type": "code",
   "execution_count": 15,
   "id": "d9db5289",
   "metadata": {},
   "outputs": [],
   "source": [
    "# Merging two or more pages, we can also sort pages according to our choice\n",
    "pdf_writer= pdf.PdfFileWriter()\n",
    "pdf_writer.addPage(page2)\n",
    "pdf_writer.addPage(page3)\n",
    "output= open(\"Pages2.pdf\",'wb')\n",
    "pdf_writer.write(output)\n",
    "output.close()"
   ]
  },
  {
   "cell_type": "code",
   "execution_count": null,
   "id": "cb70a489",
   "metadata": {},
   "outputs": [],
   "source": []
  }
 ],
 "metadata": {
  "kernelspec": {
   "display_name": "Python 3 (ipykernel)",
   "language": "python",
   "name": "python3"
  },
  "language_info": {
   "codemirror_mode": {
    "name": "ipython",
    "version": 3
   },
   "file_extension": ".py",
   "mimetype": "text/x-python",
   "name": "python",
   "nbconvert_exporter": "python",
   "pygments_lexer": "ipython3",
   "version": "3.9.7"
  }
 },
 "nbformat": 4,
 "nbformat_minor": 5
}
