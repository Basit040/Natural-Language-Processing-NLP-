{
 "cells": [
  {
   "cell_type": "code",
   "execution_count": 1,
   "id": "5a7e9b02",
   "metadata": {},
   "outputs": [
    {
     "data": {
      "text/plain": [
       "'\\n^[a-z0-9_-]{3,15}$\\n^ , start of the line\\n$, end of the line\\n{3,15} 3 to 15 characters long\\n'"
      ]
     },
     "execution_count": 1,
     "metadata": {},
     "output_type": "execute_result"
    }
   ],
   "source": [
    "'''\n",
    "^[a-z0-9_-]{3,15}$\n",
    "^ , start of the line\n",
    "$, end of the line\n",
    "{3,15} 3 to 15 characters long\n",
    "'''"
   ]
  },
  {
   "cell_type": "code",
   "execution_count": 2,
   "id": "d3f75466",
   "metadata": {},
   "outputs": [],
   "source": [
    "text= \"My phone number is 1256. Ohh its wrong! Correct one is 1256348790. call me! \""
   ]
  },
  {
   "cell_type": "code",
   "execution_count": 3,
   "id": "de674279",
   "metadata": {},
   "outputs": [],
   "source": [
    "import re"
   ]
  },
  {
   "cell_type": "code",
   "execution_count": 5,
   "id": "6e333f20",
   "metadata": {},
   "outputs": [
    {
     "data": {
      "text/plain": [
       "<re.Match object; span=(55, 65), match='1256348790'>"
      ]
     },
     "execution_count": 5,
     "metadata": {},
     "output_type": "execute_result"
    }
   ],
   "source": [
    "# If we want to extract digit of 10 character\n",
    "re.search(r'\\d{10}',text)"
   ]
  },
  {
   "cell_type": "code",
   "execution_count": 6,
   "id": "368bb0bb",
   "metadata": {},
   "outputs": [
    {
     "data": {
      "text/plain": [
       "<re.Match object; span=(19, 23), match='1256'>"
      ]
     },
     "execution_count": 6,
     "metadata": {},
     "output_type": "execute_result"
    }
   ],
   "source": [
    "# If we want to extract digit of 4 character\n",
    "re.search(r'\\d{4}',text)"
   ]
  },
  {
   "cell_type": "code",
   "execution_count": 7,
   "id": "14420428",
   "metadata": {},
   "outputs": [
    {
     "data": {
      "text/plain": [
       "['1256', '1256348790']"
      ]
     },
     "execution_count": 7,
     "metadata": {},
     "output_type": "execute_result"
    }
   ],
   "source": [
    "# If we want to extract digits of 3-10 character\n",
    "re.findall(r'\\d{3,10}',text)"
   ]
  },
  {
   "cell_type": "code",
   "execution_count": 8,
   "id": "c4a38167",
   "metadata": {},
   "outputs": [
    {
     "data": {
      "text/plain": [
       "['phone', 'number', '1256', 'wrong', 'Correct', '1256348790', 'call']"
      ]
     },
     "execution_count": 8,
     "metadata": {},
     "output_type": "execute_result"
    }
   ],
   "source": [
    "# If we want to extract characters of 4 or more character\n",
    "re.findall(r'\\w{4,}',text)"
   ]
  },
  {
   "cell_type": "markdown",
   "id": "cfb35869",
   "metadata": {},
   "source": [
    "# Wild Card Text"
   ]
  },
  {
   "cell_type": "code",
   "execution_count": 9,
   "id": "fbcadbe4",
   "metadata": {},
   "outputs": [
    {
     "data": {
      "text/plain": [
       "['phone']"
      ]
     },
     "execution_count": 9,
     "metadata": {},
     "output_type": "execute_result"
    }
   ],
   "source": [
    "# Find words that start with p\n",
    "re.findall(r'p....',text)"
   ]
  },
  {
   "cell_type": "code",
   "execution_count": 10,
   "id": "5852880a",
   "metadata": {},
   "outputs": [
    {
     "data": {
      "text/plain": [
       "['cat', 'hat', 'wan', 'hat', ' an', 'cat']"
      ]
     },
     "execution_count": 10,
     "metadata": {},
     "output_type": "execute_result"
    }
   ],
   "source": [
    "# Find words that start with any alphabet but second alphabet is \"a\"\n",
    "text= \"this is cat but not that. i want hat and cat both\"\n",
    "re.findall(r'.a.',text)"
   ]
  },
  {
   "cell_type": "code",
   "execution_count": 11,
   "id": "2d77da3e",
   "metadata": {},
   "outputs": [],
   "source": [
    "text='hi thanks for watching <3'"
   ]
  },
  {
   "cell_type": "code",
   "execution_count": 14,
   "id": "d013c224",
   "metadata": {},
   "outputs": [
    {
     "data": {
      "text/plain": [
       "['3']"
      ]
     },
     "execution_count": 14,
     "metadata": {},
     "output_type": "execute_result"
    }
   ],
   "source": [
    "# Find a string ends with a number\n",
    "re.findall(r'\\d$', text)"
   ]
  },
  {
   "cell_type": "code",
   "execution_count": 15,
   "id": "f547499c",
   "metadata": {},
   "outputs": [
    {
     "data": {
      "text/plain": [
       "[]"
      ]
     },
     "execution_count": 15,
     "metadata": {},
     "output_type": "execute_result"
    }
   ],
   "source": [
    "# Find a string start with a number\n",
    "re.findall(r'^\\d', text)\n",
    "# Found no straing starts with number"
   ]
  },
  {
   "cell_type": "markdown",
   "id": "e50d1117",
   "metadata": {},
   "source": [
    "# EXCLUSION"
   ]
  },
  {
   "cell_type": "code",
   "execution_count": 16,
   "id": "86181972",
   "metadata": {},
   "outputs": [
    {
     "data": {
      "text/plain": [
       "['hi thanks for watching <']"
      ]
     },
     "execution_count": 16,
     "metadata": {},
     "output_type": "execute_result"
    }
   ],
   "source": [
    "# If you want to exclude all numbers\n",
    "re.findall(r'[^\\d]+', text)"
   ]
  },
  {
   "cell_type": "code",
   "execution_count": 17,
   "id": "4ed6f1d6",
   "metadata": {},
   "outputs": [
    {
     "data": {
      "text/plain": [
       "[' ', ' ', ' ', ' <']"
      ]
     },
     "execution_count": 17,
     "metadata": {},
     "output_type": "execute_result"
    }
   ],
   "source": [
    "# If you want to exclude all words\n",
    "re.findall(r'[^\\w]+', text)"
   ]
  },
  {
   "cell_type": "code",
   "execution_count": 18,
   "id": "83c42d4d",
   "metadata": {},
   "outputs": [],
   "source": [
    "text= \"hi 333 thanks for watching <3\""
   ]
  },
  {
   "cell_type": "code",
   "execution_count": 19,
   "id": "5001c48e",
   "metadata": {},
   "outputs": [
    {
     "data": {
      "text/plain": [
       "['333', '3']"
      ]
     },
     "execution_count": 19,
     "metadata": {},
     "output_type": "execute_result"
    }
   ],
   "source": [
    "# If you want to print all the digits\n",
    "re.findall(r'[^\\D]+', text)"
   ]
  },
  {
   "cell_type": "code",
   "execution_count": 20,
   "id": "6229d983",
   "metadata": {},
   "outputs": [],
   "source": [
    "text= \"you can get free-videos on abd-talkies\""
   ]
  },
  {
   "cell_type": "code",
   "execution_count": 21,
   "id": "0f99770e",
   "metadata": {},
   "outputs": [
    {
     "data": {
      "text/plain": [
       "['free-videos', 'abd-talkies']"
      ]
     },
     "execution_count": 21,
     "metadata": {},
     "output_type": "execute_result"
    }
   ],
   "source": [
    "# If you want to extract two words join with \"-\"\n",
    "re.findall(r'[\\w]+-[\\w]+', text)"
   ]
  },
  {
   "cell_type": "markdown",
   "id": "a9c4fa41",
   "metadata": {},
   "source": [
    "# REGULAR EXPRESSION IN SPACY"
   ]
  },
  {
   "cell_type": "code",
   "execution_count": 22,
   "id": "9c554869",
   "metadata": {},
   "outputs": [],
   "source": [
    "text= \"Google announced a new Pixel at Google I/O. Google I/O is a great place to get all updates from Google.\""
   ]
  },
  {
   "cell_type": "code",
   "execution_count": 23,
   "id": "e64e6c3d",
   "metadata": {},
   "outputs": [],
   "source": [
    "# We are using Spacy to fing Google I/O in text"
   ]
  },
  {
   "cell_type": "code",
   "execution_count": 27,
   "id": "55b32f00",
   "metadata": {},
   "outputs": [],
   "source": [
    "import spacy\n",
    "from spacy.matcher import Matcher\n",
    "from spacy.tokens import Span\n",
    "from spacy import displacy"
   ]
  },
  {
   "cell_type": "code",
   "execution_count": 31,
   "id": "83a01f44",
   "metadata": {},
   "outputs": [],
   "source": [
    "nlp= spacy.load(\"en_core_web_sm\")"
   ]
  },
  {
   "cell_type": "code",
   "execution_count": 32,
   "id": "e7596c37",
   "metadata": {},
   "outputs": [],
   "source": [
    "pattern= [{'TEXT':\"Google\"}, {'TEXT':\"I\"}, {'TEXT':\"/\"}, {'TEXT':\"O\"}]"
   ]
  },
  {
   "cell_type": "code",
   "execution_count": 35,
   "id": "caa831f3",
   "metadata": {},
   "outputs": [],
   "source": [
    "'''def callback_method(matcher, doc, i, matches):\n",
    "    match_id, start, end= matches[i]\n",
    "    entity= doc[start:end]\n",
    "    print(entity.text)'''"
   ]
  },
  {
   "cell_type": "code",
   "execution_count": 38,
   "id": "02c1b6b8",
   "metadata": {},
   "outputs": [],
   "source": [
    "matcher= Matcher(nlp.vocab)\n",
    "matcher.add('Google',  [pattern])"
   ]
  },
  {
   "cell_type": "code",
   "execution_count": 39,
   "id": "02b3b5d3",
   "metadata": {},
   "outputs": [],
   "source": [
    "doc= nlp(text)"
   ]
  },
  {
   "cell_type": "code",
   "execution_count": 40,
   "id": "2ddedebd",
   "metadata": {},
   "outputs": [],
   "source": [
    "matches= matcher(doc)"
   ]
  },
  {
   "cell_type": "code",
   "execution_count": 41,
   "id": "57ad513c",
   "metadata": {},
   "outputs": [
    {
     "name": "stdout",
     "output_type": "stream",
     "text": [
      "11578853341595296054 Google 10 14 Google I/O\n"
     ]
    }
   ],
   "source": [
    "for match_id, start, end in matches:\n",
    "    string_id = nlp.vocab.strings[match_id]  # Get string representation\n",
    "    span = doc[start:end]  # The matched span\n",
    "    print(match_id, string_id, start, end, span.text)"
   ]
  },
  {
   "cell_type": "code",
   "execution_count": null,
   "id": "f0aa550f",
   "metadata": {},
   "outputs": [],
   "source": []
  },
  {
   "cell_type": "code",
   "execution_count": null,
   "id": "ef67cb34",
   "metadata": {},
   "outputs": [],
   "source": []
  }
 ],
 "metadata": {
  "kernelspec": {
   "display_name": "Python 3 (ipykernel)",
   "language": "python",
   "name": "python3"
  },
  "language_info": {
   "codemirror_mode": {
    "name": "ipython",
    "version": 3
   },
   "file_extension": ".py",
   "mimetype": "text/x-python",
   "name": "python",
   "nbconvert_exporter": "python",
   "pygments_lexer": "ipython3",
   "version": "3.9.7"
  }
 },
 "nbformat": 4,
 "nbformat_minor": 5
}
