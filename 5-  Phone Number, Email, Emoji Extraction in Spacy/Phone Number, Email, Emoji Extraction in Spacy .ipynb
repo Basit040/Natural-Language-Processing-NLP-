{
 "cells": [
  {
   "cell_type": "code",
   "execution_count": 1,
   "id": "bdd76a47",
   "metadata": {},
   "outputs": [],
   "source": [
    "import spacy\n",
    "from spacy.matcher import Matcher\n",
    "from spacy.tokens import Span\n",
    "from spacy import displacy"
   ]
  },
  {
   "cell_type": "code",
   "execution_count": 2,
   "id": "2f1bcefd",
   "metadata": {},
   "outputs": [],
   "source": [
    "nlp= spacy.load(\"en_core_web_sm\")"
   ]
  },
  {
   "cell_type": "markdown",
   "id": "55a51155",
   "metadata": {},
   "source": [
    "# USING LINGUISTIC ANNOTATIONS"
   ]
  },
  {
   "cell_type": "markdown",
   "id": "3159ac84",
   "metadata": {},
   "source": [
    "Lets say you are analyzing user comment and you want to find out what people are saying about Facebook. You want to start off by finding adjectives following \"Facebook is\" or \"Facebook was\""
   ]
  },
  {
   "cell_type": "code",
   "execution_count": 3,
   "id": "5153cdbf",
   "metadata": {},
   "outputs": [],
   "source": [
    "matcher= Matcher(nlp.vocab)"
   ]
  },
  {
   "cell_type": "code",
   "execution_count": 12,
   "id": "9d14cb50",
   "metadata": {},
   "outputs": [],
   "source": [
    "matched_sents= []"
   ]
  },
  {
   "cell_type": "code",
   "execution_count": 13,
   "id": "4e58f0a9",
   "metadata": {},
   "outputs": [],
   "source": [
    "pattern= [{\"LOWER\": \"facebook\"}, {\"LEMMA\":\"be\"}, {\"POS\": \"ADV\", \"OP\":\"*\"},{\"POS\":\"ADJ\"}]"
   ]
  },
  {
   "cell_type": "code",
   "execution_count": 14,
   "id": "3547be22",
   "metadata": {},
   "outputs": [],
   "source": [
    "def callback_method_fb(matcher, doc, i, matches):\n",
    "    matched_id, start, end= matches[i]\n",
    "    span= doc[start:end]\n",
    "    sent=span.sent\n",
    "    \n",
    "    match_ents=[{\n",
    "        'start':span.start_char - sent.start_char,\n",
    "        'end':span.end_char - sent.start_char,\n",
    "        'label':'MATCH'\n",
    "    }]\n",
    "    \n",
    "    matched_sents.append({'text':sent.text, 'ents':match_ents})"
   ]
  },
  {
   "cell_type": "code",
   "execution_count": 15,
   "id": "16dd383e",
   "metadata": {},
   "outputs": [],
   "source": [
    "matcher.add(\"fb\", [pattern], on_match=callback_method_fb)"
   ]
  },
  {
   "cell_type": "code",
   "execution_count": 16,
   "id": "caa5f303",
   "metadata": {},
   "outputs": [],
   "source": [
    "doc= nlp(\"I'd say that Facebook is evil. - Facebook is pretty coll, right?\")"
   ]
  },
  {
   "cell_type": "code",
   "execution_count": 17,
   "id": "343b926f",
   "metadata": {},
   "outputs": [],
   "source": [
    "matches= matcher(doc)"
   ]
  },
  {
   "cell_type": "code",
   "execution_count": 18,
   "id": "6abe12bf",
   "metadata": {},
   "outputs": [
    {
     "data": {
      "text/plain": [
       "[(8017838677478259815, 4, 7), (8017838677478259815, 9, 12)]"
      ]
     },
     "execution_count": 18,
     "metadata": {},
     "output_type": "execute_result"
    }
   ],
   "source": [
    "matches"
   ]
  },
  {
   "cell_type": "code",
   "execution_count": 19,
   "id": "9f2f136b",
   "metadata": {},
   "outputs": [
    {
     "data": {
      "text/plain": [
       "[{'text': \"I'd say that Facebook is evil.\",\n",
       "  'ents': [{'start': 13, 'end': 29, 'label': 'MATCH'}]},\n",
       " {'text': '- Facebook is pretty coll, right?',\n",
       "  'ents': [{'start': 2, 'end': 20, 'label': 'MATCH'}]}]"
      ]
     },
     "execution_count": 19,
     "metadata": {},
     "output_type": "execute_result"
    }
   ],
   "source": [
    "matched_sents"
   ]
  },
  {
   "cell_type": "code",
   "execution_count": 20,
   "id": "c0150404",
   "metadata": {},
   "outputs": [
    {
     "data": {
      "text/html": [
       "<span class=\"tex2jax_ignore\"><div class=\"entities\" style=\"line-height: 2.5; direction: ltr\">I'd say that \n",
       "<mark class=\"entity\" style=\"background: #ddd; padding: 0.45em 0.6em; margin: 0 0.25em; line-height: 1; border-radius: 0.35em;\">\n",
       "    Facebook is evil\n",
       "    <span style=\"font-size: 0.8em; font-weight: bold; line-height: 1; border-radius: 0.35em; vertical-align: middle; margin-left: 0.5rem\">MATCH</span>\n",
       "</mark>\n",
       ".</div>\n",
       "\n",
       "<div class=\"entities\" style=\"line-height: 2.5; direction: ltr\">- \n",
       "<mark class=\"entity\" style=\"background: #ddd; padding: 0.45em 0.6em; margin: 0 0.25em; line-height: 1; border-radius: 0.35em;\">\n",
       "    Facebook is pretty\n",
       "    <span style=\"font-size: 0.8em; font-weight: bold; line-height: 1; border-radius: 0.35em; vertical-align: middle; margin-left: 0.5rem\">MATCH</span>\n",
       "</mark>\n",
       " coll, right?</div></span>"
      ],
      "text/plain": [
       "<IPython.core.display.HTML object>"
      ]
     },
     "metadata": {},
     "output_type": "display_data"
    }
   ],
   "source": [
    "displacy.render(matched_sents, style='ent',manual=True)"
   ]
  },
  {
   "cell_type": "markdown",
   "id": "8f917386",
   "metadata": {},
   "source": [
    "# PHONE NUMBERS"
   ]
  },
  {
   "cell_type": "code",
   "execution_count": 21,
   "id": "85a19788",
   "metadata": {},
   "outputs": [
    {
     "ename": "SyntaxError",
     "evalue": "invalid syntax (Temp/ipykernel_14608/3019055236.py, line 2)",
     "output_type": "error",
     "traceback": [
      "\u001b[1;36m  File \u001b[1;32m\"C:\\Users\\ABDULB~1\\AppData\\Local\\Temp/ipykernel_14608/3019055236.py\"\u001b[1;36m, line \u001b[1;32m2\u001b[0m\n\u001b[1;33m    (123) 4567 8901 or (123) 4567-8901\u001b[0m\n\u001b[1;37m          ^\u001b[0m\n\u001b[1;31mSyntaxError\u001b[0m\u001b[1;31m:\u001b[0m invalid syntax\n"
     ]
    }
   ],
   "source": [
    "# Here we are matching this pattern\n",
    "(123) 4567 8901 or (123) 4567-8901"
   ]
  },
  {
   "cell_type": "code",
   "execution_count": 22,
   "id": "f0380706",
   "metadata": {},
   "outputs": [],
   "source": [
    "pattern = [{\"ORTH\": \"(\"}, {\"SHAPE\": \"ddd\"}, {\"ORTH\": \")\"}, {\"SHAPE\": \"dddd\"},\n",
    " {\"ORTH\": \"-\", \"OP\": \"?\"}, {\"SHAPE\": \"dddd\"}]"
   ]
  },
  {
   "cell_type": "code",
   "execution_count": 23,
   "id": "3dff7855",
   "metadata": {},
   "outputs": [],
   "source": [
    "matcher= Matcher(nlp.vocab)\n",
    "matcher.add(\"PhoneNumber\",[pattern])"
   ]
  },
  {
   "cell_type": "code",
   "execution_count": 25,
   "id": "b206d017",
   "metadata": {},
   "outputs": [],
   "source": [
    "doc= nlp(\"Call me at (123) 4560 7890\")"
   ]
  },
  {
   "cell_type": "code",
   "execution_count": 26,
   "id": "055467d0",
   "metadata": {},
   "outputs": [
    {
     "name": "stdout",
     "output_type": "stream",
     "text": [
      "['Call', 'me', 'at', '(', '123', ')', '4560', '7890']\n"
     ]
    }
   ],
   "source": [
    "print([t.text for t in doc])"
   ]
  },
  {
   "cell_type": "code",
   "execution_count": 27,
   "id": "74e161e0",
   "metadata": {},
   "outputs": [
    {
     "data": {
      "text/plain": [
       "[(7978097794922043545, 3, 8)]"
      ]
     },
     "execution_count": 27,
     "metadata": {},
     "output_type": "execute_result"
    }
   ],
   "source": [
    "matches= matcher(doc)\n",
    "matches"
   ]
  },
  {
   "cell_type": "code",
   "execution_count": null,
   "id": "62ceb0f0",
   "metadata": {},
   "outputs": [],
   "source": []
  },
  {
   "cell_type": "code",
   "execution_count": 28,
   "id": "d194ec62",
   "metadata": {},
   "outputs": [
    {
     "name": "stdout",
     "output_type": "stream",
     "text": [
      "(123) 4560 7890\n"
     ]
    }
   ],
   "source": [
    "for match_id, start, end in matches:\n",
    "    span=doc[start:end]\n",
    "    print(span.text)"
   ]
  },
  {
   "cell_type": "markdown",
   "id": "d3816909",
   "metadata": {},
   "source": [
    "# Email Address Matching"
   ]
  },
  {
   "cell_type": "code",
   "execution_count": 29,
   "id": "80218394",
   "metadata": {},
   "outputs": [],
   "source": [
    "pattern= [{\"TEXT\":{\"REGEX\": \"[a-zA-Z0-9-_.]+@[a-zA-Z0-9-_.]+\"}}]"
   ]
  },
  {
   "cell_type": "code",
   "execution_count": 30,
   "id": "5e864947",
   "metadata": {},
   "outputs": [],
   "source": [
    "matcher= Matcher(nlp.vocab)\n",
    "matcher.add(\"Email\", [pattern])"
   ]
  },
  {
   "cell_type": "code",
   "execution_count": 31,
   "id": "77f47546",
   "metadata": {},
   "outputs": [],
   "source": [
    "text= \"Email me at abdulbasitnedian@gmail.com and highmoralstatus@yahoo.com\""
   ]
  },
  {
   "cell_type": "code",
   "execution_count": 32,
   "id": "a45d4021",
   "metadata": {},
   "outputs": [],
   "source": [
    "doc= nlp(text)"
   ]
  },
  {
   "cell_type": "code",
   "execution_count": 33,
   "id": "25f17d65",
   "metadata": {},
   "outputs": [],
   "source": [
    "matches= matcher(doc)"
   ]
  },
  {
   "cell_type": "code",
   "execution_count": 34,
   "id": "3c708675",
   "metadata": {},
   "outputs": [
    {
     "data": {
      "text/plain": [
       "[(11010771136823990775, 3, 4), (11010771136823990775, 5, 6)]"
      ]
     },
     "execution_count": 34,
     "metadata": {},
     "output_type": "execute_result"
    }
   ],
   "source": [
    "matches"
   ]
  },
  {
   "cell_type": "code",
   "execution_count": 35,
   "id": "1599d663",
   "metadata": {},
   "outputs": [
    {
     "name": "stdout",
     "output_type": "stream",
     "text": [
      "abdulbasitnedian@gmail.com\n",
      "highmoralstatus@yahoo.com\n"
     ]
    }
   ],
   "source": [
    "for match_id, start, end in matches:\n",
    "    span=doc[start:end]\n",
    "    print(span.text)"
   ]
  },
  {
   "cell_type": "markdown",
   "id": "03135f1a",
   "metadata": {},
   "source": [
    "# EMOJI EXTRACTION"
   ]
  },
  {
   "cell_type": "code",
   "execution_count": 36,
   "id": "a3a67d0d",
   "metadata": {},
   "outputs": [],
   "source": [
    "pos_emoji = [\"😀\", \"😃\", \"😂\", \"🤣\", \"😊\", \"😍\"]  # Positive emoji\n",
    "neg_emoji = [\"😞\", \"😠\", \"😩\", \"😢\", \"😭\", \"😒\"]  # Negative emoji"
   ]
  },
  {
   "cell_type": "code",
   "execution_count": 37,
   "id": "c03b6a01",
   "metadata": {},
   "outputs": [
    {
     "data": {
      "text/plain": [
       "['😀', '😃', '😂', '🤣', '😊', '😍']"
      ]
     },
     "execution_count": 37,
     "metadata": {},
     "output_type": "execute_result"
    }
   ],
   "source": [
    "pos_emoji"
   ]
  },
  {
   "cell_type": "code",
   "execution_count": 38,
   "id": "732cb03d",
   "metadata": {},
   "outputs": [],
   "source": [
    "# Add patterns to match one or more emoji tokens\n",
    "pos_patterns = [[{\"ORTH\": emoji}] for emoji in pos_emoji]\n",
    "neg_patterns = [[{\"ORTH\": emoji}] for emoji in neg_emoji]"
   ]
  },
  {
   "cell_type": "code",
   "execution_count": 39,
   "id": "32a2f482",
   "metadata": {},
   "outputs": [
    {
     "data": {
      "text/plain": [
       "[[{'ORTH': '😀'}],\n",
       " [{'ORTH': '😃'}],\n",
       " [{'ORTH': '😂'}],\n",
       " [{'ORTH': '🤣'}],\n",
       " [{'ORTH': '😊'}],\n",
       " [{'ORTH': '😍'}]]"
      ]
     },
     "execution_count": 39,
     "metadata": {},
     "output_type": "execute_result"
    }
   ],
   "source": [
    "pos_patterns"
   ]
  },
  {
   "cell_type": "code",
   "execution_count": 40,
   "id": "4de6d374",
   "metadata": {},
   "outputs": [
    {
     "data": {
      "text/plain": [
       "[[{'ORTH': '😞'}],\n",
       " [{'ORTH': '😠'}],\n",
       " [{'ORTH': '😩'}],\n",
       " [{'ORTH': '😢'}],\n",
       " [{'ORTH': '😭'}],\n",
       " [{'ORTH': '😒'}]]"
      ]
     },
     "execution_count": 40,
     "metadata": {},
     "output_type": "execute_result"
    }
   ],
   "source": [
    "neg_patterns"
   ]
  },
  {
   "cell_type": "code",
   "execution_count": 41,
   "id": "6f48c962",
   "metadata": {},
   "outputs": [],
   "source": [
    "# Function to label the sentiment\n",
    "def label_sentiment(matcher, doc, i, matches):\n",
    "    match_id, start, end = matches[i]\n",
    "    if doc.vocab.strings[match_id] == \"HAPPY\":  # Don't forget to get string!\n",
    "        doc.sentiment += 0.1  # Add 0.1 for positive sentiment\n",
    "    elif doc.vocab.strings[match_id] == \"SAD\":\n",
    "        doc.sentiment -= 0.1  # Subtract 0.1 for negative sentiment"
   ]
  },
  {
   "cell_type": "code",
   "execution_count": 42,
   "id": "d52b91ab",
   "metadata": {},
   "outputs": [],
   "source": [
    "matcher.add(\"HAPPY\", pos_patterns, on_match=label_sentiment)  # Add positive pattern\n",
    "matcher.add(\"SAD\", neg_patterns, on_match=label_sentiment)  # Add negative pattern\n"
   ]
  },
  {
   "cell_type": "code",
   "execution_count": 43,
   "id": "c3f09ec2",
   "metadata": {},
   "outputs": [],
   "source": [
    "# Add pattern for valid hashtag, i.e. '#' plus any ASCII token\n",
    "matcher.add(\"HASHTAG\", [[{\"ORTH\": \"#\"}, {\"IS_ASCII\": True}]])"
   ]
  },
  {
   "cell_type": "code",
   "execution_count": 44,
   "id": "57ce6826",
   "metadata": {},
   "outputs": [],
   "source": [
    "doc = nlp(\"Hello world 😀 #MondayMotivation\")\n",
    "matches = matcher(doc)"
   ]
  },
  {
   "cell_type": "code",
   "execution_count": 45,
   "id": "f5e3fb52",
   "metadata": {},
   "outputs": [
    {
     "name": "stdout",
     "output_type": "stream",
     "text": [
      "HAPPY 😀\n",
      "HASHTAG #MondayMotivation\n"
     ]
    }
   ],
   "source": [
    "for match_id, start, end in matches:\n",
    "    string_id = doc.vocab.strings[match_id]  # Look up string ID\n",
    "    span = doc[start:end]\n",
    "    print(string_id, span.text)"
   ]
  },
  {
   "cell_type": "markdown",
   "id": "4fc0e7a1",
   "metadata": {},
   "source": [
    "With a library like Emojipedia, we can also retrieve a short description for each emoji – for example, 😍‘s official title is “Smiling Face With Heart-Eyes”. Assigning it to a custom attribute on the emoji span will make it available as span._.emoji_desc."
   ]
  },
  {
   "cell_type": "code",
   "execution_count": null,
   "id": "a43bf144",
   "metadata": {},
   "outputs": [],
   "source": [
    "'''Code is written here\n",
    "from emojipedia import Emojipedia  # Installation: pip install emojipedia\n",
    "from spacy.tokens import Span  # Get the global Span object\n",
    "\n",
    "Span.set_extension(\"emoji_desc\", default=None)  # Register the custom attribute\n",
    "\n",
    "def label_sentiment(matcher, doc, i, matches):\n",
    "    match_id, start, end = matches[i]\n",
    "    if doc.vocab.strings[match_id] == \"HAPPY\":  # Don't forget to get string!\n",
    "        doc.sentiment += 0.1  # Add 0.1 for positive sentiment\n",
    "    elif doc.vocab.strings[match_id] == \"SAD\":\n",
    "        doc.sentiment -= 0.1  # Subtract 0.1 for negative sentiment\n",
    "    span = doc[start:end]\n",
    "    emoji = Emojipedia.search(span[0].text)  # Get data for emoji\n",
    "    span._.emoji_desc = emoji.title  # Assign emoji description\n",
    "    '''"
   ]
  },
  {
   "cell_type": "markdown",
   "id": "d1c89907",
   "metadata": {},
   "source": [
    "# EFFICIENT PHRASE MATCHER"
   ]
  },
  {
   "cell_type": "code",
   "execution_count": 46,
   "id": "b90ba55d",
   "metadata": {},
   "outputs": [],
   "source": [
    "import spacy\n",
    "from spacy.matcher import PhraseMatcher"
   ]
  },
  {
   "cell_type": "code",
   "execution_count": 47,
   "id": "dcac2961",
   "metadata": {},
   "outputs": [],
   "source": [
    "nlp = spacy.load(\"en_core_web_sm\")\n",
    "matcher = PhraseMatcher(nlp.vocab)"
   ]
  },
  {
   "cell_type": "code",
   "execution_count": 48,
   "id": "6d2690be",
   "metadata": {},
   "outputs": [],
   "source": [
    "terms = [\"Barack Obama\", \"Angela Merkel\", \"Washington, D.C.\"]"
   ]
  },
  {
   "cell_type": "code",
   "execution_count": 49,
   "id": "4ec2aa5f",
   "metadata": {},
   "outputs": [],
   "source": [
    "# Only run nlp.make_doc to speed things up\n",
    "patterns = [nlp.make_doc(text) for text in terms]"
   ]
  },
  {
   "cell_type": "code",
   "execution_count": 50,
   "id": "60b1f97d",
   "metadata": {},
   "outputs": [
    {
     "data": {
      "text/plain": [
       "[Barack Obama, Angela Merkel, Washington, D.C.]"
      ]
     },
     "execution_count": 50,
     "metadata": {},
     "output_type": "execute_result"
    }
   ],
   "source": [
    "patterns"
   ]
  },
  {
   "cell_type": "code",
   "execution_count": 51,
   "id": "d4b69c8e",
   "metadata": {},
   "outputs": [],
   "source": [
    "matcher.add(\"TerminologyList\", patterns)"
   ]
  },
  {
   "cell_type": "code",
   "execution_count": 52,
   "id": "8ae394b0",
   "metadata": {},
   "outputs": [],
   "source": [
    "doc = nlp(\"German Chancellor Angela Merkel and US President Barack Obama \"\n",
    "          \"converse in the Oval Office inside the White House in Washington, D.C.\")"
   ]
  },
  {
   "cell_type": "code",
   "execution_count": 53,
   "id": "a00e2df8",
   "metadata": {},
   "outputs": [],
   "source": [
    "matches = matcher(doc)"
   ]
  },
  {
   "cell_type": "code",
   "execution_count": 54,
   "id": "9d826c4a",
   "metadata": {},
   "outputs": [
    {
     "name": "stdout",
     "output_type": "stream",
     "text": [
      "Angela Merkel\n",
      "Barack Obama\n",
      "Washington, D.C.\n"
     ]
    }
   ],
   "source": [
    "for match_id, start, end in matches:\n",
    "    span = doc[start:end]\n",
    "    print(span.text)"
   ]
  },
  {
   "cell_type": "markdown",
   "id": "deea4417",
   "metadata": {},
   "source": [
    "# CUSTOM RULE BASED ENTITY RECOGNITION"
   ]
  },
  {
   "cell_type": "code",
   "execution_count": 55,
   "id": "ca17caa6",
   "metadata": {},
   "outputs": [],
   "source": [
    "from spacy.pipeline import EntityRuler"
   ]
  },
  {
   "cell_type": "code",
   "execution_count": 56,
   "id": "b802b1e8",
   "metadata": {},
   "outputs": [],
   "source": [
    "nlp= spacy.load('en_core_web_sm')"
   ]
  },
  {
   "cell_type": "code",
   "execution_count": 57,
   "id": "b0c6c4ff",
   "metadata": {},
   "outputs": [],
   "source": [
    "ruler= EntityRuler(nlp)"
   ]
  },
  {
   "cell_type": "code",
   "execution_count": 60,
   "id": "09cd2de5",
   "metadata": {},
   "outputs": [],
   "source": [
    "pattern= [{\"label\":\"ORG\", \"pattern\":\"Apple\"},\n",
    "{\"label\":\"GPE\",\"pattern\":[{\"LOWER\": \"san\"}, {\"LOWER\":\"francisco\"}]}]"
   ]
  },
  {
   "cell_type": "code",
   "execution_count": null,
   "id": "dcf2ca7e",
   "metadata": {},
   "outputs": [],
   "source": []
  },
  {
   "cell_type": "code",
   "execution_count": 61,
   "id": "a83f1623",
   "metadata": {},
   "outputs": [
    {
     "data": {
      "text/plain": [
       "[{'label': 'ORG', 'pattern': 'Apple'},\n",
       " {'label': 'GPE', 'pattern': [{'LOWER': 'san'}, {'LOWER': 'francisco'}]}]"
      ]
     },
     "execution_count": 61,
     "metadata": {},
     "output_type": "execute_result"
    }
   ],
   "source": [
    "pattern"
   ]
  },
  {
   "cell_type": "code",
   "execution_count": 63,
   "id": "90de2209",
   "metadata": {},
   "outputs": [],
   "source": [
    "ruler.add_patterns(pattern)"
   ]
  },
  {
   "cell_type": "code",
   "execution_count": 65,
   "id": "8f70ad5a",
   "metadata": {},
   "outputs": [],
   "source": [
    "ruler = nlp.add_pipe(\"entity_ruler\")"
   ]
  },
  {
   "cell_type": "code",
   "execution_count": 66,
   "id": "23db1179",
   "metadata": {},
   "outputs": [
    {
     "name": "stderr",
     "output_type": "stream",
     "text": [
      "C:\\Users\\Abdul Basit\\Anaconda3\\lib\\site-packages\\spacy\\pipeline\\entityruler.py:394: UserWarning: [W036] The component 'entity_ruler' does not have any patterns defined.\n",
      "  warnings.warn(Warnings.W036.format(name=self.name))\n"
     ]
    }
   ],
   "source": [
    "doc= nlp(\"I am opening a new restaurant in San Francisco\")"
   ]
  },
  {
   "cell_type": "code",
   "execution_count": 67,
   "id": "56b703c8",
   "metadata": {},
   "outputs": [
    {
     "data": {
      "text/plain": [
       "I am opening a new restaurant in San Francisco"
      ]
     },
     "execution_count": 67,
     "metadata": {},
     "output_type": "execute_result"
    }
   ],
   "source": [
    "doc"
   ]
  },
  {
   "cell_type": "code",
   "execution_count": 68,
   "id": "0137257a",
   "metadata": {},
   "outputs": [
    {
     "name": "stdout",
     "output_type": "stream",
     "text": [
      "San Francisco GPE\n"
     ]
    }
   ],
   "source": [
    "for ent in doc.ents:\n",
    "    print(ent.text, ent.label_)"
   ]
  },
  {
   "cell_type": "code",
   "execution_count": null,
   "id": "a263ef4c",
   "metadata": {},
   "outputs": [],
   "source": []
  },
  {
   "cell_type": "code",
   "execution_count": null,
   "id": "1dcd1f19",
   "metadata": {},
   "outputs": [],
   "source": []
  },
  {
   "cell_type": "code",
   "execution_count": null,
   "id": "187fc18f",
   "metadata": {},
   "outputs": [],
   "source": []
  }
 ],
 "metadata": {
  "kernelspec": {
   "display_name": "Python 3 (ipykernel)",
   "language": "python",
   "name": "python3"
  },
  "language_info": {
   "codemirror_mode": {
    "name": "ipython",
    "version": 3
   },
   "file_extension": ".py",
   "mimetype": "text/x-python",
   "name": "python",
   "nbconvert_exporter": "python",
   "pygments_lexer": "ipython3",
   "version": "3.9.7"
  }
 },
 "nbformat": 4,
 "nbformat_minor": 5
}
