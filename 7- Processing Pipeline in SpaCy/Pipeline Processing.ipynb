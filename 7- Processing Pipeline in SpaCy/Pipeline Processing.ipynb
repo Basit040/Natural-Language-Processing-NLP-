{
 "cells": [
  {
   "cell_type": "code",
   "execution_count": 1,
   "id": "27a7002d",
   "metadata": {},
   "outputs": [],
   "source": [
    "import spacy\n",
    "from spacy.matcher import Matcher\n",
    "from spacy.tokens import Span\n",
    "from spacy import displacy"
   ]
  },
  {
   "cell_type": "code",
   "execution_count": 2,
   "id": "6d6232b2",
   "metadata": {},
   "outputs": [],
   "source": [
    "nlp= spacy.load(\"en_core_web_sm\")"
   ]
  },
  {
   "cell_type": "code",
   "execution_count": 3,
   "id": "5747cd62",
   "metadata": {},
   "outputs": [],
   "source": [
    "doc= nlp('This raw text')"
   ]
  },
  {
   "cell_type": "raw",
   "id": "bdf19d16",
   "metadata": {},
   "source": [
    "When processing large volumes of text, the statistical models are usually more efficient if you let them work on batches of texts. spaCy’s nlp.pipe method takes an iterable of texts and yields processed Doc objects. The batching is done internally."
   ]
  },
  {
   "cell_type": "code",
   "execution_count": 4,
   "id": "da7dbb16",
   "metadata": {},
   "outputs": [],
   "source": [
    "texts= [\"This is raw text\", \"There is lots of text\"]"
   ]
  },
  {
   "cell_type": "code",
   "execution_count": 5,
   "id": "30392b14",
   "metadata": {},
   "outputs": [],
   "source": [
    "docs= list(nlp.pipe(texts))"
   ]
  },
  {
   "cell_type": "raw",
   "id": "99b82aea",
   "metadata": {},
   "source": [
    "Tips for efficient processing\n",
    "Process the texts as a stream using nlp.pipe and buffer them in batches, instead of one-by-one. This is usually much more efficient.\n",
    "Only apply the pipeline components you need. Getting predictions from the model that you don’t actually need adds up and becomes very inefficient at scale. To prevent this, use the disable keyword argument to disable components you don’t need – either when loading a pipeline, or during processing with nlp.pipe. See the section on disabling pipeline components for more details and examples."
   ]
  },
  {
   "cell_type": "code",
   "execution_count": 6,
   "id": "50dbb24c",
   "metadata": {},
   "outputs": [
    {
     "name": "stdout",
     "output_type": "stream",
     "text": [
      "[('$9.4 million', 'MONEY'), ('the prior year', 'DATE'), ('$2.7 million', 'MONEY')]\n",
      "[('twelve billion dollars', 'MONEY'), ('1b', 'MONEY')]\n"
     ]
    }
   ],
   "source": [
    "import spacy\n",
    "# we diable all other thing but enable ner, as we want extract from ner\n",
    "texts = [\n",
    "    \"Net income was $9.4 million compared to the prior year of $2.7 million.\",\n",
    "    \"Revenue exceeded twelve billion dollars, with a loss of $1b.\",\n",
    "]\n",
    "\n",
    "nlp = spacy.load(\"en_core_web_sm\")\n",
    "for doc in nlp.pipe(texts, disable=[\"tok2vec\", \"tagger\", \"parser\", \"attribute_ruler\", \"lemmatizer\"]):\n",
    "    # Do something with the doc here\n",
    "    print([(ent.text, ent.label_) for ent in doc.ents])"
   ]
  },
  {
   "cell_type": "code",
   "execution_count": null,
   "id": "c85b83d4",
   "metadata": {},
   "outputs": [],
   "source": []
  }
 ],
 "metadata": {
  "kernelspec": {
   "display_name": "Python 3 (ipykernel)",
   "language": "python",
   "name": "python3"
  },
  "language_info": {
   "codemirror_mode": {
    "name": "ipython",
    "version": 3
   },
   "file_extension": ".py",
   "mimetype": "text/x-python",
   "name": "python",
   "nbconvert_exporter": "python",
   "pygments_lexer": "ipython3",
   "version": "3.9.7"
  }
 },
 "nbformat": 4,
 "nbformat_minor": 5
}
