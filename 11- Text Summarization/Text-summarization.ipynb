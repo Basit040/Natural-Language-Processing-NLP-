{
 "cells": [
  {
   "cell_type": "raw",
   "id": "4df660bf",
   "metadata": {},
   "source": [
    "# How to do text smmarization\n",
    "- Text Cleaning\n",
    "- Sentence Tokenization\n",
    "- Word Tokenization\n",
    "- Word Frequency Table\n",
    "- Summarization"
   ]
  },
  {
   "cell_type": "code",
   "execution_count": 1,
   "id": "a4919e92",
   "metadata": {},
   "outputs": [],
   "source": [
    "import spacy\n",
    "from spacy.lang.en.stop_words import STOP_WORDS\n",
    "from string import punctuation"
   ]
  },
  {
   "cell_type": "code",
   "execution_count": 2,
   "id": "1c10b989",
   "metadata": {},
   "outputs": [],
   "source": [
    "stopwords= list(STOP_WORDS)"
   ]
  },
  {
   "cell_type": "code",
   "execution_count": 3,
   "id": "4016be5c",
   "metadata": {},
   "outputs": [],
   "source": [
    "nlp= spacy.load('en_core_web_sm')"
   ]
  },
  {
   "cell_type": "code",
   "execution_count": 4,
   "id": "f7ee7cea",
   "metadata": {},
   "outputs": [],
   "source": [
    "text= '''At the same time, there began to take form a system of numbering, the calendar, hieroglyphic writing, and a technically advanced art, all of which later influenced other peoples. Within the framework of this gradual evolution or cultural\n",
    "progress the Preclassic horizon has been divided into Lower, Middle and Upper periods, to which can be added a transitional or Protoclassic period with several features that would later distinguish the emerging civilizations of Mesoamerica.'''"
   ]
  },
  {
   "cell_type": "code",
   "execution_count": 5,
   "id": "f6657973",
   "metadata": {},
   "outputs": [],
   "source": [
    "doc= nlp(text)"
   ]
  },
  {
   "cell_type": "code",
   "execution_count": 6,
   "id": "0dc2ead0",
   "metadata": {},
   "outputs": [
    {
     "name": "stdout",
     "output_type": "stream",
     "text": [
      "['At', 'the', 'same', 'time', ',', 'there', 'began', 'to', 'take', 'form', 'a', 'system', 'of', 'numbering', ',', 'the', 'calendar', ',', 'hieroglyphic', 'writing', ',', 'and', 'a', 'technically', 'advanced', 'art', ',', 'all', 'of', 'which', 'later', 'influenced', 'other', 'peoples', '.', 'Within', 'the', 'framework', 'of', 'this', 'gradual', 'evolution', 'or', 'cultural', '\\n', 'progress', 'the', 'Preclassic', 'horizon', 'has', 'been', 'divided', 'into', 'Lower', ',', 'Middle', 'and', 'Upper', 'periods', ',', 'to', 'which', 'can', 'be', 'added', 'a', 'transitional', 'or', 'Protoclassic', 'period', 'with', 'several', 'features', 'that', 'would', 'later', 'distinguish', 'the', 'emerging', 'civilizations', 'of', 'Mesoamerica', '.']\n"
     ]
    }
   ],
   "source": [
    "tokens= [token.text for token in doc]\n",
    "print(tokens)"
   ]
  },
  {
   "cell_type": "code",
   "execution_count": 7,
   "id": "3e030fa3",
   "metadata": {},
   "outputs": [
    {
     "data": {
      "text/plain": [
       "'!\"#$%&\\'()*+,-./:;<=>?@[\\\\]^_`{|}~'"
      ]
     },
     "execution_count": 7,
     "metadata": {},
     "output_type": "execute_result"
    }
   ],
   "source": [
    "punctuation"
   ]
  },
  {
   "cell_type": "code",
   "execution_count": 8,
   "id": "fad75bc8",
   "metadata": {},
   "outputs": [],
   "source": [
    "# Now adding new line in punctuation\n",
    "punctuation= punctuation + '/n'"
   ]
  },
  {
   "cell_type": "code",
   "execution_count": 9,
   "id": "090c1ec4",
   "metadata": {},
   "outputs": [],
   "source": [
    "# Words Frequencies\n",
    "word_frequencies={}\n",
    "for word in doc:\n",
    "    if word.text.lower() not in stopwords:\n",
    "        if word.text.lower() not in punctuation:\n",
    "            if word.text not in word_frequencies.keys():\n",
    "                word_frequencies[word.text]=1\n",
    "            else:\n",
    "                word_frequencies[word.text]+=1"
   ]
  },
  {
   "cell_type": "code",
   "execution_count": 11,
   "id": "2d3492dc",
   "metadata": {},
   "outputs": [
    {
     "name": "stdout",
     "output_type": "stream",
     "text": [
      "{'time': 1, 'began': 1, 'form': 1, 'system': 1, 'numbering': 1, 'calendar': 1, 'hieroglyphic': 1, 'writing': 1, 'technically': 1, 'advanced': 1, 'art': 1, 'later': 2, 'influenced': 1, 'peoples': 1, 'framework': 1, 'gradual': 1, 'evolution': 1, 'cultural': 1, '\\n': 1, 'progress': 1, 'Preclassic': 1, 'horizon': 1, 'divided': 1, 'Lower': 1, 'Middle': 1, 'Upper': 1, 'periods': 1, 'added': 1, 'transitional': 1, 'Protoclassic': 1, 'period': 1, 'features': 1, 'distinguish': 1, 'emerging': 1, 'civilizations': 1, 'Mesoamerica': 1}\n"
     ]
    }
   ],
   "source": [
    "print(word_frequencies)"
   ]
  },
  {
   "cell_type": "code",
   "execution_count": 12,
   "id": "641f65af",
   "metadata": {},
   "outputs": [],
   "source": [
    "max_frequency= max(word_frequencies.values())"
   ]
  },
  {
   "cell_type": "code",
   "execution_count": 13,
   "id": "3cb7c810",
   "metadata": {},
   "outputs": [
    {
     "data": {
      "text/plain": [
       "2"
      ]
     },
     "execution_count": 13,
     "metadata": {},
     "output_type": "execute_result"
    }
   ],
   "source": [
    "max_frequency"
   ]
  },
  {
   "cell_type": "code",
   "execution_count": 14,
   "id": "4d98b373",
   "metadata": {},
   "outputs": [],
   "source": [
    "for word in word_frequencies.keys():\n",
    "    word_frequencies[word]= word_frequencies[word]/max_frequency"
   ]
  },
  {
   "cell_type": "code",
   "execution_count": 15,
   "id": "e2db6cd6",
   "metadata": {},
   "outputs": [
    {
     "name": "stdout",
     "output_type": "stream",
     "text": [
      "{'time': 0.5, 'began': 0.5, 'form': 0.5, 'system': 0.5, 'numbering': 0.5, 'calendar': 0.5, 'hieroglyphic': 0.5, 'writing': 0.5, 'technically': 0.5, 'advanced': 0.5, 'art': 0.5, 'later': 1.0, 'influenced': 0.5, 'peoples': 0.5, 'framework': 0.5, 'gradual': 0.5, 'evolution': 0.5, 'cultural': 0.5, '\\n': 0.5, 'progress': 0.5, 'Preclassic': 0.5, 'horizon': 0.5, 'divided': 0.5, 'Lower': 0.5, 'Middle': 0.5, 'Upper': 0.5, 'periods': 0.5, 'added': 0.5, 'transitional': 0.5, 'Protoclassic': 0.5, 'period': 0.5, 'features': 0.5, 'distinguish': 0.5, 'emerging': 0.5, 'civilizations': 0.5, 'Mesoamerica': 0.5}\n"
     ]
    }
   ],
   "source": [
    "print(word_frequencies)"
   ]
  },
  {
   "cell_type": "code",
   "execution_count": 16,
   "id": "a977e3b2",
   "metadata": {},
   "outputs": [
    {
     "name": "stdout",
     "output_type": "stream",
     "text": [
      "[At the same time, there began to take form a system of numbering, the calendar, hieroglyphic writing, and a technically advanced art, all of which later influenced other peoples., Within the framework of this gradual evolution or cultural\n",
      "progress the Preclassic horizon has been divided into Lower, Middle and Upper periods, to which can be added a transitional or Protoclassic period with several features that would later distinguish the emerging civilizations of Mesoamerica.]\n"
     ]
    }
   ],
   "source": [
    "# Sentence Tokenization\n",
    "sentence_tokens= [sent for sent in doc.sents]\n",
    "print(sentence_tokens)"
   ]
  },
  {
   "cell_type": "code",
   "execution_count": 17,
   "id": "2e371e91",
   "metadata": {},
   "outputs": [],
   "source": [
    "sentence_scores={}\n",
    "for sent in sentence_tokens:\n",
    "    for word in sent:\n",
    "        if word.text.lower() in word_frequencies.keys():\n",
    "            if sent not in sentence_scores.keys():\n",
    "                sentence_scores[sent]= word_frequencies[word.text.lower()]\n",
    "            else:\n",
    "                sentence_scores[sent]+= word_frequencies[word.text.lower()]"
   ]
  },
  {
   "cell_type": "code",
   "execution_count": 18,
   "id": "cd563408",
   "metadata": {},
   "outputs": [
    {
     "data": {
      "text/plain": [
       "{At the same time, there began to take form a system of numbering, the calendar, hieroglyphic writing, and a technically advanced art, all of which later influenced other peoples.: 7.5,\n",
       " Within the framework of this gradual evolution or cultural\n",
       " progress the Preclassic horizon has been divided into Lower, Middle and Upper periods, to which can be added a transitional or Protoclassic period with several features that would later distinguish the emerging civilizations of Mesoamerica.: 9.0}"
      ]
     },
     "execution_count": 18,
     "metadata": {},
     "output_type": "execute_result"
    }
   ],
   "source": [
    "sentence_scores"
   ]
  },
  {
   "cell_type": "code",
   "execution_count": 19,
   "id": "03bc049c",
   "metadata": {},
   "outputs": [],
   "source": [
    "from heapq import nlargest"
   ]
  },
  {
   "cell_type": "code",
   "execution_count": 23,
   "id": "21200544",
   "metadata": {},
   "outputs": [
    {
     "data": {
      "text/plain": [
       "1"
      ]
     },
     "execution_count": 23,
     "metadata": {},
     "output_type": "execute_result"
    }
   ],
   "source": [
    "# Select 50% of sentences\n",
    "select_length= int(len(sentence_tokens)*0.5)\n",
    "select_length"
   ]
  },
  {
   "cell_type": "code",
   "execution_count": null,
   "id": "67fbbe15",
   "metadata": {},
   "outputs": [],
   "source": []
  },
  {
   "cell_type": "code",
   "execution_count": 24,
   "id": "697d7295",
   "metadata": {},
   "outputs": [],
   "source": [
    "summary= nlargest(select_length, sentence_scores, key= sentence_scores.get)"
   ]
  },
  {
   "cell_type": "code",
   "execution_count": 25,
   "id": "c66620e9",
   "metadata": {},
   "outputs": [
    {
     "data": {
      "text/plain": [
       "[Within the framework of this gradual evolution or cultural\n",
       " progress the Preclassic horizon has been divided into Lower, Middle and Upper periods, to which can be added a transitional or Protoclassic period with several features that would later distinguish the emerging civilizations of Mesoamerica.]"
      ]
     },
     "execution_count": 25,
     "metadata": {},
     "output_type": "execute_result"
    }
   ],
   "source": [
    "summary"
   ]
  },
  {
   "cell_type": "code",
   "execution_count": 26,
   "id": "f6906af8",
   "metadata": {},
   "outputs": [],
   "source": [
    "# To allign the summary text\n",
    "final_summary= [word.text for word in summary]"
   ]
  },
  {
   "cell_type": "code",
   "execution_count": 27,
   "id": "b636cf30",
   "metadata": {},
   "outputs": [],
   "source": [
    "summary= ' '.join(final_summary)"
   ]
  },
  {
   "cell_type": "code",
   "execution_count": 28,
   "id": "2f58a82c",
   "metadata": {},
   "outputs": [
    {
     "name": "stdout",
     "output_type": "stream",
     "text": [
      "Within the framework of this gradual evolution or cultural\n",
      "progress the Preclassic horizon has been divided into Lower, Middle and Upper periods, to which can be added a transitional or Protoclassic period with several features that would later distinguish the emerging civilizations of Mesoamerica.\n"
     ]
    }
   ],
   "source": [
    "print(summary)"
   ]
  },
  {
   "cell_type": "code",
   "execution_count": 29,
   "id": "ee30f81c",
   "metadata": {},
   "outputs": [
    {
     "data": {
      "text/plain": [
       "478"
      ]
     },
     "execution_count": 29,
     "metadata": {},
     "output_type": "execute_result"
    }
   ],
   "source": [
    "len(text)"
   ]
  },
  {
   "cell_type": "code",
   "execution_count": 30,
   "id": "cbfe8350",
   "metadata": {},
   "outputs": [
    {
     "data": {
      "text/plain": [
       "299"
      ]
     },
     "execution_count": 30,
     "metadata": {},
     "output_type": "execute_result"
    }
   ],
   "source": [
    "len(summary)"
   ]
  },
  {
   "cell_type": "code",
   "execution_count": null,
   "id": "5b023ba5",
   "metadata": {},
   "outputs": [],
   "source": []
  }
 ],
 "metadata": {
  "kernelspec": {
   "display_name": "Python 3 (ipykernel)",
   "language": "python",
   "name": "python3"
  },
  "language_info": {
   "codemirror_mode": {
    "name": "ipython",
    "version": 3
   },
   "file_extension": ".py",
   "mimetype": "text/x-python",
   "name": "python",
   "nbconvert_exporter": "python",
   "pygments_lexer": "ipython3",
   "version": "3.9.7"
  }
 },
 "nbformat": 4,
 "nbformat_minor": 5
}
